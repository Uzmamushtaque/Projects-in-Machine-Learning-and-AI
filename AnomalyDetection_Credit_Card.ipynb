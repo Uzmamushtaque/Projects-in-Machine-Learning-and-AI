{
  "nbformat": 4,
  "nbformat_minor": 0,
  "metadata": {
    "colab": {
      "provenance": [],
      "authorship_tag": "ABX9TyM7Ohjmq9lLMAeRrwqV451z",
      "include_colab_link": true
    },
    "kernelspec": {
      "name": "python3",
      "display_name": "Python 3"
    },
    "language_info": {
      "name": "python"
    }
  },
  "cells": [
    {
      "cell_type": "markdown",
      "metadata": {
        "id": "view-in-github",
        "colab_type": "text"
      },
      "source": [
        "<a href=\"https://colab.research.google.com/github/Uzmamushtaque/Projects-in-Machine-Learning-and-AI/blob/main/AnomalyDetection_Credit_Card.ipynb\" target=\"_parent\"><img src=\"https://colab.research.google.com/assets/colab-badge.svg\" alt=\"Open In Colab\"/></a>"
      ]
    },
    {
      "cell_type": "code",
      "execution_count": 1,
      "metadata": {
        "id": "EA2-N4COy-eF"
      },
      "outputs": [],
      "source": [
        "import numpy as np\n",
        "import pandas as pd\n",
        "from tensorflow import keras\n",
        "from tensorflow.keras import layers"
      ]
    },
    {
      "cell_type": "markdown",
      "source": [
        "In this project we perform anomaly detection in credit card fraud application."
      ],
      "metadata": {
        "id": "Z32byA7DMxlE"
      }
    },
    {
      "cell_type": "code",
      "source": [
        "from google.colab import drive\n",
        "\n",
        "drive.mount('/content/gdrive')\n",
        "data = pd.read_csv('/content/gdrive/My Drive/final_cred_data.csv')"
      ],
      "metadata": {
        "colab": {
          "base_uri": "https://localhost:8080/"
        },
        "id": "eCxZo-6bzcVd",
        "outputId": "470f0ace-e4c1-4437-c1a1-361be94a1ab3"
      },
      "execution_count": 2,
      "outputs": [
        {
          "output_type": "stream",
          "name": "stdout",
          "text": [
            "Mounted at /content/gdrive\n"
          ]
        }
      ]
    },
    {
      "cell_type": "code",
      "source": [
        "data.head()"
      ],
      "metadata": {
        "id": "ABGiGqoo0Kry",
        "outputId": "665258fc-5607-452d-8802-b4bcdb6af724",
        "colab": {
          "base_uri": "https://localhost:8080/",
          "height": 243
        }
      },
      "execution_count": 3,
      "outputs": [
        {
          "output_type": "execute_result",
          "data": {
            "text/plain": [
              "   Unnamed: 0      Timestamp    Value         C1        C2          C3  \\\n",
              "0           0  152212.222222    1.816  13.245219       NaN   16.367516   \n",
              "1           1  159074.444444  163.568   4.401403  0.084682 -313.000000   \n",
              "2           2   43127.777778   24.000  -9.067399  0.762501         NaN   \n",
              "3           3  156042.222222    8.000   8.728304 -0.382673         NaN   \n",
              "4           4  154720.000000   59.496   7.657141  0.150611         NaN   \n",
              "\n",
              "         C4        C5         C6          C7        C8        C9       C10  \\\n",
              "0  0.029326  1.278423   2.748137   -1.331457  0.065879 -0.104518 -0.037517   \n",
              "1  0.001888 -0.103762   1.115678         NaN  0.062966  0.130546 -0.303582   \n",
              "2  0.052481 -0.101681 -88.000000    0.117912       NaN  0.358812 -0.367016   \n",
              "3 -0.116056 -0.122346 -44.000000 -338.000000  0.042154 -0.261259 -0.103974   \n",
              "4 -0.034883  0.826100   0.357556    0.147640       NaN  0.080491 -0.693792   \n",
              "\n",
              "          C11         C12  Class  \n",
              "0 -250.000000   -0.475633      0  \n",
              "1         NaN         NaN      0  \n",
              "2         NaN  361.000000      0  \n",
              "3         NaN   -1.654373      0  \n",
              "4   -0.308631    0.563570      0  "
            ],
            "text/html": [
              "\n",
              "  <div id=\"df-0659c8f5-5568-401d-aae4-e2e4160ebbcd\" class=\"colab-df-container\">\n",
              "    <div>\n",
              "<style scoped>\n",
              "    .dataframe tbody tr th:only-of-type {\n",
              "        vertical-align: middle;\n",
              "    }\n",
              "\n",
              "    .dataframe tbody tr th {\n",
              "        vertical-align: top;\n",
              "    }\n",
              "\n",
              "    .dataframe thead th {\n",
              "        text-align: right;\n",
              "    }\n",
              "</style>\n",
              "<table border=\"1\" class=\"dataframe\">\n",
              "  <thead>\n",
              "    <tr style=\"text-align: right;\">\n",
              "      <th></th>\n",
              "      <th>Unnamed: 0</th>\n",
              "      <th>Timestamp</th>\n",
              "      <th>Value</th>\n",
              "      <th>C1</th>\n",
              "      <th>C2</th>\n",
              "      <th>C3</th>\n",
              "      <th>C4</th>\n",
              "      <th>C5</th>\n",
              "      <th>C6</th>\n",
              "      <th>C7</th>\n",
              "      <th>C8</th>\n",
              "      <th>C9</th>\n",
              "      <th>C10</th>\n",
              "      <th>C11</th>\n",
              "      <th>C12</th>\n",
              "      <th>Class</th>\n",
              "    </tr>\n",
              "  </thead>\n",
              "  <tbody>\n",
              "    <tr>\n",
              "      <th>0</th>\n",
              "      <td>0</td>\n",
              "      <td>152212.222222</td>\n",
              "      <td>1.816</td>\n",
              "      <td>13.245219</td>\n",
              "      <td>NaN</td>\n",
              "      <td>16.367516</td>\n",
              "      <td>0.029326</td>\n",
              "      <td>1.278423</td>\n",
              "      <td>2.748137</td>\n",
              "      <td>-1.331457</td>\n",
              "      <td>0.065879</td>\n",
              "      <td>-0.104518</td>\n",
              "      <td>-0.037517</td>\n",
              "      <td>-250.000000</td>\n",
              "      <td>-0.475633</td>\n",
              "      <td>0</td>\n",
              "    </tr>\n",
              "    <tr>\n",
              "      <th>1</th>\n",
              "      <td>1</td>\n",
              "      <td>159074.444444</td>\n",
              "      <td>163.568</td>\n",
              "      <td>4.401403</td>\n",
              "      <td>0.084682</td>\n",
              "      <td>-313.000000</td>\n",
              "      <td>0.001888</td>\n",
              "      <td>-0.103762</td>\n",
              "      <td>1.115678</td>\n",
              "      <td>NaN</td>\n",
              "      <td>0.062966</td>\n",
              "      <td>0.130546</td>\n",
              "      <td>-0.303582</td>\n",
              "      <td>NaN</td>\n",
              "      <td>NaN</td>\n",
              "      <td>0</td>\n",
              "    </tr>\n",
              "    <tr>\n",
              "      <th>2</th>\n",
              "      <td>2</td>\n",
              "      <td>43127.777778</td>\n",
              "      <td>24.000</td>\n",
              "      <td>-9.067399</td>\n",
              "      <td>0.762501</td>\n",
              "      <td>NaN</td>\n",
              "      <td>0.052481</td>\n",
              "      <td>-0.101681</td>\n",
              "      <td>-88.000000</td>\n",
              "      <td>0.117912</td>\n",
              "      <td>NaN</td>\n",
              "      <td>0.358812</td>\n",
              "      <td>-0.367016</td>\n",
              "      <td>NaN</td>\n",
              "      <td>361.000000</td>\n",
              "      <td>0</td>\n",
              "    </tr>\n",
              "    <tr>\n",
              "      <th>3</th>\n",
              "      <td>3</td>\n",
              "      <td>156042.222222</td>\n",
              "      <td>8.000</td>\n",
              "      <td>8.728304</td>\n",
              "      <td>-0.382673</td>\n",
              "      <td>NaN</td>\n",
              "      <td>-0.116056</td>\n",
              "      <td>-0.122346</td>\n",
              "      <td>-44.000000</td>\n",
              "      <td>-338.000000</td>\n",
              "      <td>0.042154</td>\n",
              "      <td>-0.261259</td>\n",
              "      <td>-0.103974</td>\n",
              "      <td>NaN</td>\n",
              "      <td>-1.654373</td>\n",
              "      <td>0</td>\n",
              "    </tr>\n",
              "    <tr>\n",
              "      <th>4</th>\n",
              "      <td>4</td>\n",
              "      <td>154720.000000</td>\n",
              "      <td>59.496</td>\n",
              "      <td>7.657141</td>\n",
              "      <td>0.150611</td>\n",
              "      <td>NaN</td>\n",
              "      <td>-0.034883</td>\n",
              "      <td>0.826100</td>\n",
              "      <td>0.357556</td>\n",
              "      <td>0.147640</td>\n",
              "      <td>NaN</td>\n",
              "      <td>0.080491</td>\n",
              "      <td>-0.693792</td>\n",
              "      <td>-0.308631</td>\n",
              "      <td>0.563570</td>\n",
              "      <td>0</td>\n",
              "    </tr>\n",
              "  </tbody>\n",
              "</table>\n",
              "</div>\n",
              "    <div class=\"colab-df-buttons\">\n",
              "\n",
              "  <div class=\"colab-df-container\">\n",
              "    <button class=\"colab-df-convert\" onclick=\"convertToInteractive('df-0659c8f5-5568-401d-aae4-e2e4160ebbcd')\"\n",
              "            title=\"Convert this dataframe to an interactive table.\"\n",
              "            style=\"display:none;\">\n",
              "\n",
              "  <svg xmlns=\"http://www.w3.org/2000/svg\" height=\"24px\" viewBox=\"0 -960 960 960\">\n",
              "    <path d=\"M120-120v-720h720v720H120Zm60-500h600v-160H180v160Zm220 220h160v-160H400v160Zm0 220h160v-160H400v160ZM180-400h160v-160H180v160Zm440 0h160v-160H620v160ZM180-180h160v-160H180v160Zm440 0h160v-160H620v160Z\"/>\n",
              "  </svg>\n",
              "    </button>\n",
              "\n",
              "  <style>\n",
              "    .colab-df-container {\n",
              "      display:flex;\n",
              "      gap: 12px;\n",
              "    }\n",
              "\n",
              "    .colab-df-convert {\n",
              "      background-color: #E8F0FE;\n",
              "      border: none;\n",
              "      border-radius: 50%;\n",
              "      cursor: pointer;\n",
              "      display: none;\n",
              "      fill: #1967D2;\n",
              "      height: 32px;\n",
              "      padding: 0 0 0 0;\n",
              "      width: 32px;\n",
              "    }\n",
              "\n",
              "    .colab-df-convert:hover {\n",
              "      background-color: #E2EBFA;\n",
              "      box-shadow: 0px 1px 2px rgba(60, 64, 67, 0.3), 0px 1px 3px 1px rgba(60, 64, 67, 0.15);\n",
              "      fill: #174EA6;\n",
              "    }\n",
              "\n",
              "    .colab-df-buttons div {\n",
              "      margin-bottom: 4px;\n",
              "    }\n",
              "\n",
              "    [theme=dark] .colab-df-convert {\n",
              "      background-color: #3B4455;\n",
              "      fill: #D2E3FC;\n",
              "    }\n",
              "\n",
              "    [theme=dark] .colab-df-convert:hover {\n",
              "      background-color: #434B5C;\n",
              "      box-shadow: 0px 1px 3px 1px rgba(0, 0, 0, 0.15);\n",
              "      filter: drop-shadow(0px 1px 2px rgba(0, 0, 0, 0.3));\n",
              "      fill: #FFFFFF;\n",
              "    }\n",
              "  </style>\n",
              "\n",
              "    <script>\n",
              "      const buttonEl =\n",
              "        document.querySelector('#df-0659c8f5-5568-401d-aae4-e2e4160ebbcd button.colab-df-convert');\n",
              "      buttonEl.style.display =\n",
              "        google.colab.kernel.accessAllowed ? 'block' : 'none';\n",
              "\n",
              "      async function convertToInteractive(key) {\n",
              "        const element = document.querySelector('#df-0659c8f5-5568-401d-aae4-e2e4160ebbcd');\n",
              "        const dataTable =\n",
              "          await google.colab.kernel.invokeFunction('convertToInteractive',\n",
              "                                                    [key], {});\n",
              "        if (!dataTable) return;\n",
              "\n",
              "        const docLinkHtml = 'Like what you see? Visit the ' +\n",
              "          '<a target=\"_blank\" href=https://colab.research.google.com/notebooks/data_table.ipynb>data table notebook</a>'\n",
              "          + ' to learn more about interactive tables.';\n",
              "        element.innerHTML = '';\n",
              "        dataTable['output_type'] = 'display_data';\n",
              "        await google.colab.output.renderOutput(dataTable, element);\n",
              "        const docLink = document.createElement('div');\n",
              "        docLink.innerHTML = docLinkHtml;\n",
              "        element.appendChild(docLink);\n",
              "      }\n",
              "    </script>\n",
              "  </div>\n",
              "\n",
              "\n",
              "<div id=\"df-233f1681-435e-47cd-af58-cb3063a85954\">\n",
              "  <button class=\"colab-df-quickchart\" onclick=\"quickchart('df-233f1681-435e-47cd-af58-cb3063a85954')\"\n",
              "            title=\"Suggest charts.\"\n",
              "            style=\"display:none;\">\n",
              "\n",
              "<svg xmlns=\"http://www.w3.org/2000/svg\" height=\"24px\"viewBox=\"0 0 24 24\"\n",
              "     width=\"24px\">\n",
              "    <g>\n",
              "        <path d=\"M19 3H5c-1.1 0-2 .9-2 2v14c0 1.1.9 2 2 2h14c1.1 0 2-.9 2-2V5c0-1.1-.9-2-2-2zM9 17H7v-7h2v7zm4 0h-2V7h2v10zm4 0h-2v-4h2v4z\"/>\n",
              "    </g>\n",
              "</svg>\n",
              "  </button>\n",
              "\n",
              "<style>\n",
              "  .colab-df-quickchart {\n",
              "      --bg-color: #E8F0FE;\n",
              "      --fill-color: #1967D2;\n",
              "      --hover-bg-color: #E2EBFA;\n",
              "      --hover-fill-color: #174EA6;\n",
              "      --disabled-fill-color: #AAA;\n",
              "      --disabled-bg-color: #DDD;\n",
              "  }\n",
              "\n",
              "  [theme=dark] .colab-df-quickchart {\n",
              "      --bg-color: #3B4455;\n",
              "      --fill-color: #D2E3FC;\n",
              "      --hover-bg-color: #434B5C;\n",
              "      --hover-fill-color: #FFFFFF;\n",
              "      --disabled-bg-color: #3B4455;\n",
              "      --disabled-fill-color: #666;\n",
              "  }\n",
              "\n",
              "  .colab-df-quickchart {\n",
              "    background-color: var(--bg-color);\n",
              "    border: none;\n",
              "    border-radius: 50%;\n",
              "    cursor: pointer;\n",
              "    display: none;\n",
              "    fill: var(--fill-color);\n",
              "    height: 32px;\n",
              "    padding: 0;\n",
              "    width: 32px;\n",
              "  }\n",
              "\n",
              "  .colab-df-quickchart:hover {\n",
              "    background-color: var(--hover-bg-color);\n",
              "    box-shadow: 0 1px 2px rgba(60, 64, 67, 0.3), 0 1px 3px 1px rgba(60, 64, 67, 0.15);\n",
              "    fill: var(--button-hover-fill-color);\n",
              "  }\n",
              "\n",
              "  .colab-df-quickchart-complete:disabled,\n",
              "  .colab-df-quickchart-complete:disabled:hover {\n",
              "    background-color: var(--disabled-bg-color);\n",
              "    fill: var(--disabled-fill-color);\n",
              "    box-shadow: none;\n",
              "  }\n",
              "\n",
              "  .colab-df-spinner {\n",
              "    border: 2px solid var(--fill-color);\n",
              "    border-color: transparent;\n",
              "    border-bottom-color: var(--fill-color);\n",
              "    animation:\n",
              "      spin 1s steps(1) infinite;\n",
              "  }\n",
              "\n",
              "  @keyframes spin {\n",
              "    0% {\n",
              "      border-color: transparent;\n",
              "      border-bottom-color: var(--fill-color);\n",
              "      border-left-color: var(--fill-color);\n",
              "    }\n",
              "    20% {\n",
              "      border-color: transparent;\n",
              "      border-left-color: var(--fill-color);\n",
              "      border-top-color: var(--fill-color);\n",
              "    }\n",
              "    30% {\n",
              "      border-color: transparent;\n",
              "      border-left-color: var(--fill-color);\n",
              "      border-top-color: var(--fill-color);\n",
              "      border-right-color: var(--fill-color);\n",
              "    }\n",
              "    40% {\n",
              "      border-color: transparent;\n",
              "      border-right-color: var(--fill-color);\n",
              "      border-top-color: var(--fill-color);\n",
              "    }\n",
              "    60% {\n",
              "      border-color: transparent;\n",
              "      border-right-color: var(--fill-color);\n",
              "    }\n",
              "    80% {\n",
              "      border-color: transparent;\n",
              "      border-right-color: var(--fill-color);\n",
              "      border-bottom-color: var(--fill-color);\n",
              "    }\n",
              "    90% {\n",
              "      border-color: transparent;\n",
              "      border-bottom-color: var(--fill-color);\n",
              "    }\n",
              "  }\n",
              "</style>\n",
              "\n",
              "  <script>\n",
              "    async function quickchart(key) {\n",
              "      const quickchartButtonEl =\n",
              "        document.querySelector('#' + key + ' button');\n",
              "      quickchartButtonEl.disabled = true;  // To prevent multiple clicks.\n",
              "      quickchartButtonEl.classList.add('colab-df-spinner');\n",
              "      try {\n",
              "        const charts = await google.colab.kernel.invokeFunction(\n",
              "            'suggestCharts', [key], {});\n",
              "      } catch (error) {\n",
              "        console.error('Error during call to suggestCharts:', error);\n",
              "      }\n",
              "      quickchartButtonEl.classList.remove('colab-df-spinner');\n",
              "      quickchartButtonEl.classList.add('colab-df-quickchart-complete');\n",
              "    }\n",
              "    (() => {\n",
              "      let quickchartButtonEl =\n",
              "        document.querySelector('#df-233f1681-435e-47cd-af58-cb3063a85954 button');\n",
              "      quickchartButtonEl.style.display =\n",
              "        google.colab.kernel.accessAllowed ? 'block' : 'none';\n",
              "    })();\n",
              "  </script>\n",
              "</div>\n",
              "    </div>\n",
              "  </div>\n"
            ]
          },
          "metadata": {},
          "execution_count": 3
        }
      ]
    },
    {
      "cell_type": "code",
      "source": [
        "data['Timestamp'].plot.kde()"
      ],
      "metadata": {
        "colab": {
          "base_uri": "https://localhost:8080/",
          "height": 462
        },
        "id": "FMXYKKrzHUcG",
        "outputId": "c55f9356-af45-46bb-8580-0ab219af5d8d"
      },
      "execution_count": 4,
      "outputs": [
        {
          "output_type": "execute_result",
          "data": {
            "text/plain": [
              "<Axes: ylabel='Density'>"
            ]
          },
          "metadata": {},
          "execution_count": 4
        },
        {
          "output_type": "display_data",
          "data": {
            "text/plain": [
              "<Figure size 640x480 with 1 Axes>"
            ],
            "image/png": "[encoded data removed]"
          },
          "metadata": {}
        }
      ]
    },
    {
      "cell_type": "code",
      "source": [
        "data.Class.value_counts()"
      ],
      "metadata": {
        "colab": {
          "base_uri": "https://localhost:8080/"
        },
        "id": "0ZcflHagIL2C",
        "outputId": "4c626f48-6883-4a0d-fe95-e8b71923245a"
      },
      "execution_count": 6,
      "outputs": [
        {
          "output_type": "execute_result",
          "data": {
            "text/plain": [
              "0    139747\n",
              "1       253\n",
              "Name: Class, dtype: int64"
            ]
          },
          "metadata": {},
          "execution_count": 6
        }
      ]
    },
    {
      "cell_type": "markdown",
      "source": [
        "Data is highly imbalanced, therefore its difficult to use any standard ML technique."
      ],
      "metadata": {
        "id": "YlOvUy1UISqG"
      }
    },
    {
      "cell_type": "code",
      "source": [
        "data.isna().sum()"
      ],
      "metadata": {
        "colab": {
          "base_uri": "https://localhost:8080/"
        },
        "id": "qJ09T1y3IRSl",
        "outputId": "b1c3556a-06e1-45ec-dde9-9ba11ec77d8a"
      },
      "execution_count": 7,
      "outputs": [
        {
          "output_type": "execute_result",
          "data": {
            "text/plain": [
              "Unnamed: 0        0\n",
              "Timestamp         0\n",
              "Value             0\n",
              "C1            23768\n",
              "C2            10269\n",
              "C3            10307\n",
              "C4                0\n",
              "C5            10322\n",
              "C6            23471\n",
              "C7            14405\n",
              "C8            10355\n",
              "C9                0\n",
              "C10           10109\n",
              "C11           14305\n",
              "C12           14167\n",
              "Class             0\n",
              "dtype: int64"
            ]
          },
          "metadata": {},
          "execution_count": 7
        }
      ]
    },
    {
      "cell_type": "code",
      "source": [
        "data = data.drop(data.columns[[0]],axis = 1)"
      ],
      "metadata": {
        "id": "_i0bpn96Ieme"
      },
      "execution_count": 14,
      "outputs": []
    },
    {
      "cell_type": "code",
      "source": [
        "for var in data.columns[2:-1]:\n",
        "  data[var].plot.kde()"
      ],
      "metadata": {
        "colab": {
          "base_uri": "https://localhost:8080/",
          "height": 430
        },
        "id": "p08Xt_NfLjI_",
        "outputId": "45eddb1b-5566-42de-b052-8f3ec169a0a6"
      },
      "execution_count": 17,
      "outputs": [
        {
          "output_type": "display_data",
          "data": {
            "text/plain": [
              "<Figure size 640x480 with 1 Axes>"
            ],
            "image/png": "[encoded data removed]"
          },
          "metadata": {}
        }
      ]
    },
    {
      "cell_type": "code",
      "source": [
        "data = data.fillna(data.mean()).drop(\"Timestamp\",axis =1)"
      ],
      "metadata": {
        "id": "70UlIggwModS"
      },
      "execution_count": 18,
      "outputs": []
    },
    {
      "cell_type": "code",
      "source": [
        "from sklearn.preprocessing import MinMaxScaler"
      ],
      "metadata": {
        "id": "7QLWWl49NOrQ"
      },
      "execution_count": 19,
      "outputs": []
    },
    {
      "cell_type": "code",
      "source": [
        "scaler = MinMaxScaler()\n",
        "scaler = scaler.fit(data)\n",
        "normalized_df = scaler.transform(data)\n",
        "normalized_df"
      ],
      "metadata": {
        "colab": {
          "base_uri": "https://localhost:8080/"
        },
        "id": "Qhr9NPfUNhO4",
        "outputId": "afa144f2-b397-43f7-c554-d0b9bacba08e"
      },
      "execution_count": 27,
      "outputs": [
        {
          "output_type": "execute_result",
          "data": {
            "text/plain": [
              "array([[8.83572404e-05, 5.03311305e-01, 8.07004843e-01, ...,\n",
              "        4.37218609e-01, 5.00006093e-01, 0.00000000e+00],\n",
              "       [7.95837946e-03, 5.01100351e-01, 8.33474471e-01, ...,\n",
              "        4.95872916e-01, 4.96251145e-01, 0.00000000e+00],\n",
              "       [1.16771683e-03, 4.97733150e-01, 8.34604169e-01, ...,\n",
              "        4.95872916e-01, 5.90397599e-01, 0.00000000e+00],\n",
              "       ...,\n",
              "       [1.49467755e-04, 4.98993607e-01, 8.32551826e-01, ...,\n",
              "        4.99743167e-01, 5.00098185e-01, 0.00000000e+00],\n",
              "       [6.22782311e-04, 4.98160692e-01, 8.33866306e-01, ...,\n",
              "        4.99743046e-01, 4.99786278e-01, 0.00000000e+00],\n",
              "       [2.68574872e-03, 4.95979893e-01, 8.33460260e-01, ...,\n",
              "        4.99805562e-01, 4.99674786e-01, 0.00000000e+00]])"
            ]
          },
          "metadata": {},
          "execution_count": 27
        }
      ]
    },
    {
      "cell_type": "code",
      "source": [
        "df = pd.DataFrame(normalized_df,columns = data.columns)"
      ],
      "metadata": {
        "id": "0SFEA1rCN30F"
      },
      "execution_count": 37,
      "outputs": []
    },
    {
      "cell_type": "code",
      "source": [
        "df.head()"
      ],
      "metadata": {
        "colab": {
          "base_uri": "https://localhost:8080/",
          "height": 206
        },
        "id": "U2MZXVj8TQEu",
        "outputId": "b7b7743a-8527-4700-b8e9-b6e525c932de"
      },
      "execution_count": 38,
      "outputs": [
        {
          "output_type": "execute_result",
          "data": {
            "text/plain": [
              "      Value        C1        C2        C3        C4        C5        C6  \\\n",
              "0  0.000088  0.503311  0.807005  0.741480  0.492391  0.835464  0.500812   \n",
              "1  0.007958  0.501100  0.833474  0.268523  0.436531  0.833160  0.500404   \n",
              "2  0.001168  0.497733  0.834604  0.694799  0.539528  0.833164  0.478120   \n",
              "3  0.000389  0.502182  0.832696  0.694799  0.196422  0.833129  0.489122   \n",
              "4  0.002895  0.501914  0.833584  0.694799  0.361673  0.834710  0.500214   \n",
              "\n",
              "         C7        C8        C9       C10       C11       C12  Class  \n",
              "0  0.499792  0.833443  0.599226  0.833271  0.437219  0.500006    0.0  \n",
              "1  0.496432  0.833438  0.697043  0.832827  0.495873  0.496251    0.0  \n",
              "2  0.500155  0.806555  0.792032  0.832722  0.495873  0.590398    0.0  \n",
              "3  0.415562  0.833404  0.534002  0.833160  0.495873  0.499711    0.0  \n",
              "4  0.500162  0.806555  0.676214  0.832177  0.499673  0.500266    0.0  "
            ],
            "text/html": [
              "\n",
              "  <div id=\"df-8e5dfc02-81f4-413f-8555-be57d2a0fc68\" class=\"colab-df-container\">\n",
              "    <div>\n",
              "<style scoped>\n",
              "    .dataframe tbody tr th:only-of-type {\n",
              "        vertical-align: middle;\n",
              "    }\n",
              "\n",
              "    .dataframe tbody tr th {\n",
              "        vertical-align: top;\n",
              "    }\n",
              "\n",
              "    .dataframe thead th {\n",
              "        text-align: right;\n",
              "    }\n",
              "</style>\n",
              "<table border=\"1\" class=\"dataframe\">\n",
              "  <thead>\n",
              "    <tr style=\"text-align: right;\">\n",
              "      <th></th>\n",
              "      <th>Value</th>\n",
              "      <th>C1</th>\n",
              "      <th>C2</th>\n",
              "      <th>C3</th>\n",
              "      <th>C4</th>\n",
              "      <th>C5</th>\n",
              "      <th>C6</th>\n",
              "      <th>C7</th>\n",
              "      <th>C8</th>\n",
              "      <th>C9</th>\n",
              "      <th>C10</th>\n",
              "      <th>C11</th>\n",
              "      <th>C12</th>\n",
              "      <th>Class</th>\n",
              "    </tr>\n",
              "  </thead>\n",
              "  <tbody>\n",
              "    <tr>\n",
              "      <th>0</th>\n",
              "      <td>0.000088</td>\n",
              "      <td>0.503311</td>\n",
              "      <td>0.807005</td>\n",
              "      <td>0.741480</td>\n",
              "      <td>0.492391</td>\n",
              "      <td>0.835464</td>\n",
              "      <td>0.500812</td>\n",
              "      <td>0.499792</td>\n",
              "      <td>0.833443</td>\n",
              "      <td>0.599226</td>\n",
              "      <td>0.833271</td>\n",
              "      <td>0.437219</td>\n",
              "      <td>0.500006</td>\n",
              "      <td>0.0</td>\n",
              "    </tr>\n",
              "    <tr>\n",
              "      <th>1</th>\n",
              "      <td>0.007958</td>\n",
              "      <td>0.501100</td>\n",
              "      <td>0.833474</td>\n",
              "      <td>0.268523</td>\n",
              "      <td>0.436531</td>\n",
              "      <td>0.833160</td>\n",
              "      <td>0.500404</td>\n",
              "      <td>0.496432</td>\n",
              "      <td>0.833438</td>\n",
              "      <td>0.697043</td>\n",
              "      <td>0.832827</td>\n",
              "      <td>0.495873</td>\n",
              "      <td>0.496251</td>\n",
              "      <td>0.0</td>\n",
              "    </tr>\n",
              "    <tr>\n",
              "      <th>2</th>\n",
              "      <td>0.001168</td>\n",
              "      <td>0.497733</td>\n",
              "      <td>0.834604</td>\n",
              "      <td>0.694799</td>\n",
              "      <td>0.539528</td>\n",
              "      <td>0.833164</td>\n",
              "      <td>0.478120</td>\n",
              "      <td>0.500155</td>\n",
              "      <td>0.806555</td>\n",
              "      <td>0.792032</td>\n",
              "      <td>0.832722</td>\n",
              "      <td>0.495873</td>\n",
              "      <td>0.590398</td>\n",
              "      <td>0.0</td>\n",
              "    </tr>\n",
              "    <tr>\n",
              "      <th>3</th>\n",
              "      <td>0.000389</td>\n",
              "      <td>0.502182</td>\n",
              "      <td>0.832696</td>\n",
              "      <td>0.694799</td>\n",
              "      <td>0.196422</td>\n",
              "      <td>0.833129</td>\n",
              "      <td>0.489122</td>\n",
              "      <td>0.415562</td>\n",
              "      <td>0.833404</td>\n",
              "      <td>0.534002</td>\n",
              "      <td>0.833160</td>\n",
              "      <td>0.495873</td>\n",
              "      <td>0.499711</td>\n",
              "      <td>0.0</td>\n",
              "    </tr>\n",
              "    <tr>\n",
              "      <th>4</th>\n",
              "      <td>0.002895</td>\n",
              "      <td>0.501914</td>\n",
              "      <td>0.833584</td>\n",
              "      <td>0.694799</td>\n",
              "      <td>0.361673</td>\n",
              "      <td>0.834710</td>\n",
              "      <td>0.500214</td>\n",
              "      <td>0.500162</td>\n",
              "      <td>0.806555</td>\n",
              "      <td>0.676214</td>\n",
              "      <td>0.832177</td>\n",
              "      <td>0.499673</td>\n",
              "      <td>0.500266</td>\n",
              "      <td>0.0</td>\n",
              "    </tr>\n",
              "  </tbody>\n",
              "</table>\n",
              "</div>\n",
              "    <div class=\"colab-df-buttons\">\n",
              "\n",
              "  <div class=\"colab-df-container\">\n",
              "    <button class=\"colab-df-convert\" onclick=\"convertToInteractive('df-8e5dfc02-81f4-413f-8555-be57d2a0fc68')\"\n",
              "            title=\"Convert this dataframe to an interactive table.\"\n",
              "            style=\"display:none;\">\n",
              "\n",
              "  <svg xmlns=\"http://www.w3.org/2000/svg\" height=\"24px\" viewBox=\"0 -960 960 960\">\n",
              "    <path d=\"M120-120v-720h720v720H120Zm60-500h600v-160H180v160Zm220 220h160v-160H400v160Zm0 220h160v-160H400v160ZM180-400h160v-160H180v160Zm440 0h160v-160H620v160ZM180-180h160v-160H180v160Zm440 0h160v-160H620v160Z\"/>\n",
              "  </svg>\n",
              "    </button>\n",
              "\n",
              "  <style>\n",
              "    .colab-df-container {\n",
              "      display:flex;\n",
              "      gap: 12px;\n",
              "    }\n",
              "\n",
              "    .colab-df-convert {\n",
              "      background-color: #E8F0FE;\n",
              "      border: none;\n",
              "      border-radius: 50%;\n",
              "      cursor: pointer;\n",
              "      display: none;\n",
              "      fill: #1967D2;\n",
              "      height: 32px;\n",
              "      padding: 0 0 0 0;\n",
              "      width: 32px;\n",
              "    }\n",
              "\n",
              "    .colab-df-convert:hover {\n",
              "      background-color: #E2EBFA;\n",
              "      box-shadow: 0px 1px 2px rgba(60, 64, 67, 0.3), 0px 1px 3px 1px rgba(60, 64, 67, 0.15);\n",
              "      fill: #174EA6;\n",
              "    }\n",
              "\n",
              "    .colab-df-buttons div {\n",
              "      margin-bottom: 4px;\n",
              "    }\n",
              "\n",
              "    [theme=dark] .colab-df-convert {\n",
              "      background-color: #3B4455;\n",
              "      fill: #D2E3FC;\n",
              "    }\n",
              "\n",
              "    [theme=dark] .colab-df-convert:hover {\n",
              "      background-color: #434B5C;\n",
              "      box-shadow: 0px 1px 3px 1px rgba(0, 0, 0, 0.15);\n",
              "      filter: drop-shadow(0px 1px 2px rgba(0, 0, 0, 0.3));\n",
              "      fill: #FFFFFF;\n",
              "    }\n",
              "  </style>\n",
              "\n",
              "    <script>\n",
              "      const buttonEl =\n",
              "        document.querySelector('#df-8e5dfc02-81f4-413f-8555-be57d2a0fc68 button.colab-df-convert');\n",
              "      buttonEl.style.display =\n",
              "        google.colab.kernel.accessAllowed ? 'block' : 'none';\n",
              "\n",
              "      async function convertToInteractive(key) {\n",
              "        const element = document.querySelector('#df-8e5dfc02-81f4-413f-8555-be57d2a0fc68');\n",
              "        const dataTable =\n",
              "          await google.colab.kernel.invokeFunction('convertToInteractive',\n",
              "                                                    [key], {});\n",
              "        if (!dataTable) return;\n",
              "\n",
              "        const docLinkHtml = 'Like what you see? Visit the ' +\n",
              "          '<a target=\"_blank\" href=https://colab.research.google.com/notebooks/data_table.ipynb>data table notebook</a>'\n",
              "          + ' to learn more about interactive tables.';\n",
              "        element.innerHTML = '';\n",
              "        dataTable['output_type'] = 'display_data';\n",
              "        await google.colab.output.renderOutput(dataTable, element);\n",
              "        const docLink = document.createElement('div');\n",
              "        docLink.innerHTML = docLinkHtml;\n",
              "        element.appendChild(docLink);\n",
              "      }\n",
              "    </script>\n",
              "  </div>\n",
              "\n",
              "\n",
              "<div id=\"df-62ea6639-4ec4-471b-98df-276419d231e9\">\n",
              "  <button class=\"colab-df-quickchart\" onclick=\"quickchart('df-62ea6639-4ec4-471b-98df-276419d231e9')\"\n",
              "            title=\"Suggest charts.\"\n",
              "            style=\"display:none;\">\n",
              "\n",
              "<svg xmlns=\"http://www.w3.org/2000/svg\" height=\"24px\"viewBox=\"0 0 24 24\"\n",
              "     width=\"24px\">\n",
              "    <g>\n",
              "        <path d=\"M19 3H5c-1.1 0-2 .9-2 2v14c0 1.1.9 2 2 2h14c1.1 0 2-.9 2-2V5c0-1.1-.9-2-2-2zM9 17H7v-7h2v7zm4 0h-2V7h2v10zm4 0h-2v-4h2v4z\"/>\n",
              "    </g>\n",
              "</svg>\n",
              "  </button>\n",
              "\n",
              "<style>\n",
              "  .colab-df-quickchart {\n",
              "      --bg-color: #E8F0FE;\n",
              "      --fill-color: #1967D2;\n",
              "      --hover-bg-color: #E2EBFA;\n",
              "      --hover-fill-color: #174EA6;\n",
              "      --disabled-fill-color: #AAA;\n",
              "      --disabled-bg-color: #DDD;\n",
              "  }\n",
              "\n",
              "  [theme=dark] .colab-df-quickchart {\n",
              "      --bg-color: #3B4455;\n",
              "      --fill-color: #D2E3FC;\n",
              "      --hover-bg-color: #434B5C;\n",
              "      --hover-fill-color: #FFFFFF;\n",
              "      --disabled-bg-color: #3B4455;\n",
              "      --disabled-fill-color: #666;\n",
              "  }\n",
              "\n",
              "  .colab-df-quickchart {\n",
              "    background-color: var(--bg-color);\n",
              "    border: none;\n",
              "    border-radius: 50%;\n",
              "    cursor: pointer;\n",
              "    display: none;\n",
              "    fill: var(--fill-color);\n",
              "    height: 32px;\n",
              "    padding: 0;\n",
              "    width: 32px;\n",
              "  }\n",
              "\n",
              "  .colab-df-quickchart:hover {\n",
              "    background-color: var(--hover-bg-color);\n",
              "    box-shadow: 0 1px 2px rgba(60, 64, 67, 0.3), 0 1px 3px 1px rgba(60, 64, 67, 0.15);\n",
              "    fill: var(--button-hover-fill-color);\n",
              "  }\n",
              "\n",
              "  .colab-df-quickchart-complete:disabled,\n",
              "  .colab-df-quickchart-complete:disabled:hover {\n",
              "    background-color: var(--disabled-bg-color);\n",
              "    fill: var(--disabled-fill-color);\n",
              "    box-shadow: none;\n",
              "  }\n",
              "\n",
              "  .colab-df-spinner {\n",
              "    border: 2px solid var(--fill-color);\n",
              "    border-color: transparent;\n",
              "    border-bottom-color: var(--fill-color);\n",
              "    animation:\n",
              "      spin 1s steps(1) infinite;\n",
              "  }\n",
              "\n",
              "  @keyframes spin {\n",
              "    0% {\n",
              "      border-color: transparent;\n",
              "      border-bottom-color: var(--fill-color);\n",
              "      border-left-color: var(--fill-color);\n",
              "    }\n",
              "    20% {\n",
              "      border-color: transparent;\n",
              "      border-left-color: var(--fill-color);\n",
              "      border-top-color: var(--fill-color);\n",
              "    }\n",
              "    30% {\n",
              "      border-color: transparent;\n",
              "      border-left-color: var(--fill-color);\n",
              "      border-top-color: var(--fill-color);\n",
              "      border-right-color: var(--fill-color);\n",
              "    }\n",
              "    40% {\n",
              "      border-color: transparent;\n",
              "      border-right-color: var(--fill-color);\n",
              "      border-top-color: var(--fill-color);\n",
              "    }\n",
              "    60% {\n",
              "      border-color: transparent;\n",
              "      border-right-color: var(--fill-color);\n",
              "    }\n",
              "    80% {\n",
              "      border-color: transparent;\n",
              "      border-right-color: var(--fill-color);\n",
              "      border-bottom-color: var(--fill-color);\n",
              "    }\n",
              "    90% {\n",
              "      border-color: transparent;\n",
              "      border-bottom-color: var(--fill-color);\n",
              "    }\n",
              "  }\n",
              "</style>\n",
              "\n",
              "  <script>\n",
              "    async function quickchart(key) {\n",
              "      const quickchartButtonEl =\n",
              "        document.querySelector('#' + key + ' button');\n",
              "      quickchartButtonEl.disabled = true;  // To prevent multiple clicks.\n",
              "      quickchartButtonEl.classList.add('colab-df-spinner');\n",
              "      try {\n",
              "        const charts = await google.colab.kernel.invokeFunction(\n",
              "            'suggestCharts', [key], {});\n",
              "      } catch (error) {\n",
              "        console.error('Error during call to suggestCharts:', error);\n",
              "      }\n",
              "      quickchartButtonEl.classList.remove('colab-df-spinner');\n",
              "      quickchartButtonEl.classList.add('colab-df-quickchart-complete');\n",
              "    }\n",
              "    (() => {\n",
              "      let quickchartButtonEl =\n",
              "        document.querySelector('#df-62ea6639-4ec4-471b-98df-276419d231e9 button');\n",
              "      quickchartButtonEl.style.display =\n",
              "        google.colab.kernel.accessAllowed ? 'block' : 'none';\n",
              "    })();\n",
              "  </script>\n",
              "</div>\n",
              "    </div>\n",
              "  </div>\n"
            ]
          },
          "metadata": {},
          "execution_count": 38
        }
      ]
    },
    {
      "cell_type": "code",
      "source": [
        "from sklearn.model_selection import train_test_split"
      ],
      "metadata": {
        "id": "L05PnmGJTWI6"
      },
      "execution_count": 32,
      "outputs": []
    },
    {
      "cell_type": "code",
      "source": [
        "train_X = df.drop('Class', axis = 1)\n",
        "train_y = df"
      ],
      "metadata": {
        "id": "W8cWachUTdrL"
      },
      "execution_count": 39,
      "outputs": []
    },
    {
      "cell_type": "code",
      "source": [
        "train_X.shape,train_y.shape"
      ],
      "metadata": {
        "colab": {
          "base_uri": "https://localhost:8080/"
        },
        "id": "CeEZiVwhUSdc",
        "outputId": "a7502c56-a544-4fc4-cc92-b856c05ae97c"
      },
      "execution_count": 40,
      "outputs": [
        {
          "output_type": "execute_result",
          "data": {
            "text/plain": [
              "((140000, 13), (140000, 14))"
            ]
          },
          "metadata": {},
          "execution_count": 40
        }
      ]
    },
    {
      "cell_type": "code",
      "source": [
        "model = keras.Sequential([\n",
        "    keras.Input(shape =(13,)),\n",
        "    layers.Dense(13,activation = 'relu'),\n",
        "    layers.Dense(10,activation = 'relu'),\n",
        "    layers.Dense(6,activation = 'relu'),\n",
        "    layers.Dense(10,activation = 'relu'),\n",
        "    layers.Dense(13,activation = 'linear'),\n",
        "    ])\n",
        "\n",
        "optimizer = keras.optimizers.RMSprop(learning_rate=0.01)\n",
        "model.compile(loss = 'mse', optimizer = optimizer)"
      ],
      "metadata": {
        "id": "34YNcooyT0XC"
      },
      "execution_count": 49,
      "outputs": []
    },
    {
      "cell_type": "code",
      "source": [
        "model.fit(train_X,train_X,batch_size=128, epochs = 30)"
      ],
      "metadata": {
        "colab": {
          "base_uri": "https://localhost:8080/"
        },
        "id": "Z-aua3XXV2TU",
        "outputId": "6161b867-38ec-4f65-ba5e-45bb7d847e5f"
      },
      "execution_count": 50,
      "outputs": [
        {
          "output_type": "stream",
          "name": "stdout",
          "text": [
            "Epoch 1/30\n",
            "1094/1094 [==============================] - 3s 2ms/step - loss: 0.0068\n",
            "Epoch 2/30\n",
            "1094/1094 [==============================] - 3s 3ms/step - loss: 0.0030\n",
            "Epoch 3/30\n",
            "1094/1094 [==============================] - 3s 3ms/step - loss: 0.0025\n",
            "Epoch 4/30\n",
            "1094/1094 [==============================] - 2s 2ms/step - loss: 0.0021\n",
            "Epoch 5/30\n",
            "1094/1094 [==============================] - 3s 2ms/step - loss: 0.0019\n",
            "Epoch 6/30\n",
            "1094/1094 [==============================] - 3s 3ms/step - loss: 0.0018\n",
            "Epoch 7/30\n",
            "1094/1094 [==============================] - 2s 2ms/step - loss: 0.0017\n",
            "Epoch 8/30\n",
            "1094/1094 [==============================] - 3s 3ms/step - loss: 0.0017\n",
            "Epoch 9/30\n",
            "1094/1094 [==============================] - 2s 2ms/step - loss: 0.0016\n",
            "Epoch 10/30\n",
            "1094/1094 [==============================] - 2s 2ms/step - loss: 0.0016\n",
            "Epoch 11/30\n",
            "1094/1094 [==============================] - 2s 2ms/step - loss: 0.0016\n",
            "Epoch 12/30\n",
            "1094/1094 [==============================] - 2s 2ms/step - loss: 0.0016\n",
            "Epoch 13/30\n",
            "1094/1094 [==============================] - 3s 3ms/step - loss: 0.0016\n",
            "Epoch 14/30\n",
            "1094/1094 [==============================] - 3s 2ms/step - loss: 0.0015\n",
            "Epoch 15/30\n",
            "1094/1094 [==============================] - 2s 2ms/step - loss: 0.0015\n",
            "Epoch 16/30\n",
            "1094/1094 [==============================] - 2s 2ms/step - loss: 0.0015\n",
            "Epoch 17/30\n",
            "1094/1094 [==============================] - 2s 2ms/step - loss: 0.0015\n",
            "Epoch 18/30\n",
            "1094/1094 [==============================] - 2s 2ms/step - loss: 0.0015\n",
            "Epoch 19/30\n",
            "1094/1094 [==============================] - 3s 3ms/step - loss: 0.0015\n",
            "Epoch 20/30\n",
            "1094/1094 [==============================] - 2s 2ms/step - loss: 0.0015\n",
            "Epoch 21/30\n",
            "1094/1094 [==============================] - 2s 2ms/step - loss: 0.0015\n",
            "Epoch 22/30\n",
            "1094/1094 [==============================] - 2s 2ms/step - loss: 0.0015\n",
            "Epoch 23/30\n",
            "1094/1094 [==============================] - 2s 2ms/step - loss: 0.0014\n",
            "Epoch 24/30\n",
            "1094/1094 [==============================] - 3s 3ms/step - loss: 0.0014\n",
            "Epoch 25/30\n",
            "1094/1094 [==============================] - 3s 2ms/step - loss: 0.0014\n",
            "Epoch 26/30\n",
            "1094/1094 [==============================] - 2s 2ms/step - loss: 0.0014\n",
            "Epoch 27/30\n",
            "1094/1094 [==============================] - 2s 2ms/step - loss: 0.0014\n",
            "Epoch 28/30\n",
            "1094/1094 [==============================] - 2s 2ms/step - loss: 0.0014\n",
            "Epoch 29/30\n",
            "1094/1094 [==============================] - 2s 2ms/step - loss: 0.0014\n",
            "Epoch 30/30\n",
            "1094/1094 [==============================] - 3s 3ms/step - loss: 0.0014\n"
          ]
        },
        {
          "output_type": "execute_result",
          "data": {
            "text/plain": [
              "<keras.src.callbacks.History at 0x7ea01ee05ed0>"
            ]
          },
          "metadata": {},
          "execution_count": 50
        },
        {
          "output_type": "stream",
          "name": "stdout",
          "text": [
            "Epoch 1/30\n",
            " 195/1094 [====>.........................] - ETA: 1s - loss: 0.0014"
          ]
        }
      ]
    },
    {
      "cell_type": "code",
      "source": [
        "predictions = model.predict(train_X)"
      ],
      "metadata": {
        "colab": {
          "base_uri": "https://localhost:8080/"
        },
        "id": "2a7PH0SqXG9P",
        "outputId": "82dad4db-6b21-4e97-e596-39a83c442e6e"
      },
      "execution_count": 53,
      "outputs": [
        {
          "output_type": "stream",
          "name": "stdout",
          "text": [
            "4375/4375 [==============================] - 10s 2ms/step\n"
          ]
        }
      ]
    },
    {
      "cell_type": "code",
      "source": [
        "error = np.square(predictions - train_X).mean(axis=1)\n",
        "print(error.mean())"
      ],
      "metadata": {
        "colab": {
          "base_uri": "https://localhost:8080/"
        },
        "id": "hiOmzGf0XS1t",
        "outputId": "a5d4b3e1-0c5d-4a65-dbf9-c08d1edb8aee"
      },
      "execution_count": 55,
      "outputs": [
        {
          "output_type": "stream",
          "name": "stdout",
          "text": [
            "0.0012681067670446097\n"
          ]
        }
      ]
    },
    {
      "cell_type": "code",
      "source": [
        "df_error = pd.DataFrame(error,columns =['error'])"
      ],
      "metadata": {
        "id": "wye0IR9uZD3t"
      },
      "execution_count": 56,
      "outputs": []
    },
    {
      "cell_type": "code",
      "source": [
        "df_error.shape"
      ],
      "metadata": {
        "colab": {
          "base_uri": "https://localhost:8080/"
        },
        "id": "x_lLJYTaaDgF",
        "outputId": "8dcd613c-e536-42e6-dc73-3dc4518a6e07"
      },
      "execution_count": 57,
      "outputs": [
        {
          "output_type": "execute_result",
          "data": {
            "text/plain": [
              "(140000, 1)"
            ]
          },
          "metadata": {},
          "execution_count": 57
        }
      ]
    },
    {
      "cell_type": "code",
      "source": [
        "train_X.head()"
      ],
      "metadata": {
        "colab": {
          "base_uri": "https://localhost:8080/",
          "height": 206
        },
        "id": "QPW7u0LGaIvI",
        "outputId": "fc4e4ae0-040f-497a-9111-5c033a1e5c40"
      },
      "execution_count": 59,
      "outputs": [
        {
          "output_type": "execute_result",
          "data": {
            "text/plain": [
              "      Value        C1        C2        C3        C4        C5        C6  \\\n",
              "0  0.000088  0.503311  0.807005  0.741480  0.492391  0.835464  0.500812   \n",
              "1  0.007958  0.501100  0.833474  0.268523  0.436531  0.833160  0.500404   \n",
              "2  0.001168  0.497733  0.834604  0.694799  0.539528  0.833164  0.478120   \n",
              "3  0.000389  0.502182  0.832696  0.694799  0.196422  0.833129  0.489122   \n",
              "4  0.002895  0.501914  0.833584  0.694799  0.361673  0.834710  0.500214   \n",
              "\n",
              "         C7        C8        C9       C10       C11       C12  \n",
              "0  0.499792  0.833443  0.599226  0.833271  0.437219  0.500006  \n",
              "1  0.496432  0.833438  0.697043  0.832827  0.495873  0.496251  \n",
              "2  0.500155  0.806555  0.792032  0.832722  0.495873  0.590398  \n",
              "3  0.415562  0.833404  0.534002  0.833160  0.495873  0.499711  \n",
              "4  0.500162  0.806555  0.676214  0.832177  0.499673  0.500266  "
            ],
            "text/html": [
              "\n",
              "  <div id=\"df-b6dcd4b2-948c-4976-aaa2-f16402e408ab\" class=\"colab-df-container\">\n",
              "    <div>\n",
              "<style scoped>\n",
              "    .dataframe tbody tr th:only-of-type {\n",
              "        vertical-align: middle;\n",
              "    }\n",
              "\n",
              "    .dataframe tbody tr th {\n",
              "        vertical-align: top;\n",
              "    }\n",
              "\n",
              "    .dataframe thead th {\n",
              "        text-align: right;\n",
              "    }\n",
              "</style>\n",
              "<table border=\"1\" class=\"dataframe\">\n",
              "  <thead>\n",
              "    <tr style=\"text-align: right;\">\n",
              "      <th></th>\n",
              "      <th>Value</th>\n",
              "      <th>C1</th>\n",
              "      <th>C2</th>\n",
              "      <th>C3</th>\n",
              "      <th>C4</th>\n",
              "      <th>C5</th>\n",
              "      <th>C6</th>\n",
              "      <th>C7</th>\n",
              "      <th>C8</th>\n",
              "      <th>C9</th>\n",
              "      <th>C10</th>\n",
              "      <th>C11</th>\n",
              "      <th>C12</th>\n",
              "    </tr>\n",
              "  </thead>\n",
              "  <tbody>\n",
              "    <tr>\n",
              "      <th>0</th>\n",
              "      <td>0.000088</td>\n",
              "      <td>0.503311</td>\n",
              "      <td>0.807005</td>\n",
              "      <td>0.741480</td>\n",
              "      <td>0.492391</td>\n",
              "      <td>0.835464</td>\n",
              "      <td>0.500812</td>\n",
              "      <td>0.499792</td>\n",
              "      <td>0.833443</td>\n",
              "      <td>0.599226</td>\n",
              "      <td>0.833271</td>\n",
              "      <td>0.437219</td>\n",
              "      <td>0.500006</td>\n",
              "    </tr>\n",
              "    <tr>\n",
              "      <th>1</th>\n",
              "      <td>0.007958</td>\n",
              "      <td>0.501100</td>\n",
              "      <td>0.833474</td>\n",
              "      <td>0.268523</td>\n",
              "      <td>0.436531</td>\n",
              "      <td>0.833160</td>\n",
              "      <td>0.500404</td>\n",
              "      <td>0.496432</td>\n",
              "      <td>0.833438</td>\n",
              "      <td>0.697043</td>\n",
              "      <td>0.832827</td>\n",
              "      <td>0.495873</td>\n",
              "      <td>0.496251</td>\n",
              "    </tr>\n",
              "    <tr>\n",
              "      <th>2</th>\n",
              "      <td>0.001168</td>\n",
              "      <td>0.497733</td>\n",
              "      <td>0.834604</td>\n",
              "      <td>0.694799</td>\n",
              "      <td>0.539528</td>\n",
              "      <td>0.833164</td>\n",
              "      <td>0.478120</td>\n",
              "      <td>0.500155</td>\n",
              "      <td>0.806555</td>\n",
              "      <td>0.792032</td>\n",
              "      <td>0.832722</td>\n",
              "      <td>0.495873</td>\n",
              "      <td>0.590398</td>\n",
              "    </tr>\n",
              "    <tr>\n",
              "      <th>3</th>\n",
              "      <td>0.000389</td>\n",
              "      <td>0.502182</td>\n",
              "      <td>0.832696</td>\n",
              "      <td>0.694799</td>\n",
              "      <td>0.196422</td>\n",
              "      <td>0.833129</td>\n",
              "      <td>0.489122</td>\n",
              "      <td>0.415562</td>\n",
              "      <td>0.833404</td>\n",
              "      <td>0.534002</td>\n",
              "      <td>0.833160</td>\n",
              "      <td>0.495873</td>\n",
              "      <td>0.499711</td>\n",
              "    </tr>\n",
              "    <tr>\n",
              "      <th>4</th>\n",
              "      <td>0.002895</td>\n",
              "      <td>0.501914</td>\n",
              "      <td>0.833584</td>\n",
              "      <td>0.694799</td>\n",
              "      <td>0.361673</td>\n",
              "      <td>0.834710</td>\n",
              "      <td>0.500214</td>\n",
              "      <td>0.500162</td>\n",
              "      <td>0.806555</td>\n",
              "      <td>0.676214</td>\n",
              "      <td>0.832177</td>\n",
              "      <td>0.499673</td>\n",
              "      <td>0.500266</td>\n",
              "    </tr>\n",
              "  </tbody>\n",
              "</table>\n",
              "</div>\n",
              "    <div class=\"colab-df-buttons\">\n",
              "\n",
              "  <div class=\"colab-df-container\">\n",
              "    <button class=\"colab-df-convert\" onclick=\"convertToInteractive('df-b6dcd4b2-948c-4976-aaa2-f16402e408ab')\"\n",
              "            title=\"Convert this dataframe to an interactive table.\"\n",
              "            style=\"display:none;\">\n",
              "\n",
              "  <svg xmlns=\"http://www.w3.org/2000/svg\" height=\"24px\" viewBox=\"0 -960 960 960\">\n",
              "    <path d=\"M120-120v-720h720v720H120Zm60-500h600v-160H180v160Zm220 220h160v-160H400v160Zm0 220h160v-160H400v160ZM180-400h160v-160H180v160Zm440 0h160v-160H620v160ZM180-180h160v-160H180v160Zm440 0h160v-160H620v160Z\"/>\n",
              "  </svg>\n",
              "    </button>\n",
              "\n",
              "  <style>\n",
              "    .colab-df-container {\n",
              "      display:flex;\n",
              "      gap: 12px;\n",
              "    }\n",
              "\n",
              "    .colab-df-convert {\n",
              "      background-color: #E8F0FE;\n",
              "      border: none;\n",
              "      border-radius: 50%;\n",
              "      cursor: pointer;\n",
              "      display: none;\n",
              "      fill: #1967D2;\n",
              "      height: 32px;\n",
              "      padding: 0 0 0 0;\n",
              "      width: 32px;\n",
              "    }\n",
              "\n",
              "    .colab-df-convert:hover {\n",
              "      background-color: #E2EBFA;\n",
              "      box-shadow: 0px 1px 2px rgba(60, 64, 67, 0.3), 0px 1px 3px 1px rgba(60, 64, 67, 0.15);\n",
              "      fill: #174EA6;\n",
              "    }\n",
              "\n",
              "    .colab-df-buttons div {\n",
              "      margin-bottom: 4px;\n",
              "    }\n",
              "\n",
              "    [theme=dark] .colab-df-convert {\n",
              "      background-color: #3B4455;\n",
              "      fill: #D2E3FC;\n",
              "    }\n",
              "\n",
              "    [theme=dark] .colab-df-convert:hover {\n",
              "      background-color: #434B5C;\n",
              "      box-shadow: 0px 1px 3px 1px rgba(0, 0, 0, 0.15);\n",
              "      filter: drop-shadow(0px 1px 2px rgba(0, 0, 0, 0.3));\n",
              "      fill: #FFFFFF;\n",
              "    }\n",
              "  </style>\n",
              "\n",
              "    <script>\n",
              "      const buttonEl =\n",
              "        document.querySelector('#df-b6dcd4b2-948c-4976-aaa2-f16402e408ab button.colab-df-convert');\n",
              "      buttonEl.style.display =\n",
              "        google.colab.kernel.accessAllowed ? 'block' : 'none';\n",
              "\n",
              "      async function convertToInteractive(key) {\n",
              "        const element = document.querySelector('#df-b6dcd4b2-948c-4976-aaa2-f16402e408ab');\n",
              "        const dataTable =\n",
              "          await google.colab.kernel.invokeFunction('convertToInteractive',\n",
              "                                                    [key], {});\n",
              "        if (!dataTable) return;\n",
              "\n",
              "        const docLinkHtml = 'Like what you see? Visit the ' +\n",
              "          '<a target=\"_blank\" href=https://colab.research.google.com/notebooks/data_table.ipynb>data table notebook</a>'\n",
              "          + ' to learn more about interactive tables.';\n",
              "        element.innerHTML = '';\n",
              "        dataTable['output_type'] = 'display_data';\n",
              "        await google.colab.output.renderOutput(dataTable, element);\n",
              "        const docLink = document.createElement('div');\n",
              "        docLink.innerHTML = docLinkHtml;\n",
              "        element.appendChild(docLink);\n",
              "      }\n",
              "    </script>\n",
              "  </div>\n",
              "\n",
              "\n",
              "<div id=\"df-8b573c27-55e9-4c9b-b08e-0c6ee57ee41c\">\n",
              "  <button class=\"colab-df-quickchart\" onclick=\"quickchart('df-8b573c27-55e9-4c9b-b08e-0c6ee57ee41c')\"\n",
              "            title=\"Suggest charts.\"\n",
              "            style=\"display:none;\">\n",
              "\n",
              "<svg xmlns=\"http://www.w3.org/2000/svg\" height=\"24px\"viewBox=\"0 0 24 24\"\n",
              "     width=\"24px\">\n",
              "    <g>\n",
              "        <path d=\"M19 3H5c-1.1 0-2 .9-2 2v14c0 1.1.9 2 2 2h14c1.1 0 2-.9 2-2V5c0-1.1-.9-2-2-2zM9 17H7v-7h2v7zm4 0h-2V7h2v10zm4 0h-2v-4h2v4z\"/>\n",
              "    </g>\n",
              "</svg>\n",
              "  </button>\n",
              "\n",
              "<style>\n",
              "  .colab-df-quickchart {\n",
              "      --bg-color: #E8F0FE;\n",
              "      --fill-color: #1967D2;\n",
              "      --hover-bg-color: #E2EBFA;\n",
              "      --hover-fill-color: #174EA6;\n",
              "      --disabled-fill-color: #AAA;\n",
              "      --disabled-bg-color: #DDD;\n",
              "  }\n",
              "\n",
              "  [theme=dark] .colab-df-quickchart {\n",
              "      --bg-color: #3B4455;\n",
              "      --fill-color: #D2E3FC;\n",
              "      --hover-bg-color: #434B5C;\n",
              "      --hover-fill-color: #FFFFFF;\n",
              "      --disabled-bg-color: #3B4455;\n",
              "      --disabled-fill-color: #666;\n",
              "  }\n",
              "\n",
              "  .colab-df-quickchart {\n",
              "    background-color: var(--bg-color);\n",
              "    border: none;\n",
              "    border-radius: 50%;\n",
              "    cursor: pointer;\n",
              "    display: none;\n",
              "    fill: var(--fill-color);\n",
              "    height: 32px;\n",
              "    padding: 0;\n",
              "    width: 32px;\n",
              "  }\n",
              "\n",
              "  .colab-df-quickchart:hover {\n",
              "    background-color: var(--hover-bg-color);\n",
              "    box-shadow: 0 1px 2px rgba(60, 64, 67, 0.3), 0 1px 3px 1px rgba(60, 64, 67, 0.15);\n",
              "    fill: var(--button-hover-fill-color);\n",
              "  }\n",
              "\n",
              "  .colab-df-quickchart-complete:disabled,\n",
              "  .colab-df-quickchart-complete:disabled:hover {\n",
              "    background-color: var(--disabled-bg-color);\n",
              "    fill: var(--disabled-fill-color);\n",
              "    box-shadow: none;\n",
              "  }\n",
              "\n",
              "  .colab-df-spinner {\n",
              "    border: 2px solid var(--fill-color);\n",
              "    border-color: transparent;\n",
              "    border-bottom-color: var(--fill-color);\n",
              "    animation:\n",
              "      spin 1s steps(1) infinite;\n",
              "  }\n",
              "\n",
              "  @keyframes spin {\n",
              "    0% {\n",
              "      border-color: transparent;\n",
              "      border-bottom-color: var(--fill-color);\n",
              "      border-left-color: var(--fill-color);\n",
              "    }\n",
              "    20% {\n",
              "      border-color: transparent;\n",
              "      border-left-color: var(--fill-color);\n",
              "      border-top-color: var(--fill-color);\n",
              "    }\n",
              "    30% {\n",
              "      border-color: transparent;\n",
              "      border-left-color: var(--fill-color);\n",
              "      border-top-color: var(--fill-color);\n",
              "      border-right-color: var(--fill-color);\n",
              "    }\n",
              "    40% {\n",
              "      border-color: transparent;\n",
              "      border-right-color: var(--fill-color);\n",
              "      border-top-color: var(--fill-color);\n",
              "    }\n",
              "    60% {\n",
              "      border-color: transparent;\n",
              "      border-right-color: var(--fill-color);\n",
              "    }\n",
              "    80% {\n",
              "      border-color: transparent;\n",
              "      border-right-color: var(--fill-color);\n",
              "      border-bottom-color: var(--fill-color);\n",
              "    }\n",
              "    90% {\n",
              "      border-color: transparent;\n",
              "      border-bottom-color: var(--fill-color);\n",
              "    }\n",
              "  }\n",
              "</style>\n",
              "\n",
              "  <script>\n",
              "    async function quickchart(key) {\n",
              "      const quickchartButtonEl =\n",
              "        document.querySelector('#' + key + ' button');\n",
              "      quickchartButtonEl.disabled = true;  // To prevent multiple clicks.\n",
              "      quickchartButtonEl.classList.add('colab-df-spinner');\n",
              "      try {\n",
              "        const charts = await google.colab.kernel.invokeFunction(\n",
              "            'suggestCharts', [key], {});\n",
              "      } catch (error) {\n",
              "        console.error('Error during call to suggestCharts:', error);\n",
              "      }\n",
              "      quickchartButtonEl.classList.remove('colab-df-spinner');\n",
              "      quickchartButtonEl.classList.add('colab-df-quickchart-complete');\n",
              "    }\n",
              "    (() => {\n",
              "      let quickchartButtonEl =\n",
              "        document.querySelector('#df-8b573c27-55e9-4c9b-b08e-0c6ee57ee41c button');\n",
              "      quickchartButtonEl.style.display =\n",
              "        google.colab.kernel.accessAllowed ? 'block' : 'none';\n",
              "    })();\n",
              "  </script>\n",
              "</div>\n",
              "    </div>\n",
              "  </div>\n"
            ]
          },
          "metadata": {},
          "execution_count": 59
        }
      ]
    },
    {
      "cell_type": "code",
      "source": [
        "final_df = pd.concat([df.reset_index(drop = True),df_error.reset_index(drop=True)],axis = 1)"
      ],
      "metadata": {
        "id": "wNRJsxfhZgPN"
      },
      "execution_count": 61,
      "outputs": []
    },
    {
      "cell_type": "code",
      "source": [
        "final_df[final_df['Class']==0].error.plot.kde()\n",
        "final_df[final_df['Class']==1].error.plot.kde()"
      ],
      "metadata": {
        "colab": {
          "base_uri": "https://localhost:8080/",
          "height": 447
        },
        "id": "g7EKXwMaarqb",
        "outputId": "994a156c-cdea-4fce-f305-081bc8a40d99"
      },
      "execution_count": 62,
      "outputs": [
        {
          "output_type": "execute_result",
          "data": {
            "text/plain": [
              "<Axes: ylabel='Density'>"
            ]
          },
          "metadata": {},
          "execution_count": 62
        },
        {
          "output_type": "display_data",
          "data": {
            "text/plain": [
              "<Figure size 640x480 with 1 Axes>"
            ],
            "image/png": "[encoded data removed]"
          },
          "metadata": {}
        }
      ]
    }
  ]
}