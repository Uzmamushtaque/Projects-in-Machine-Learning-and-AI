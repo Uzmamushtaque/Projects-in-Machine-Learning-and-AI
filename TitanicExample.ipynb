{
  "cells": [
    {
      "cell_type": "markdown",
      "metadata": {
        "id": "view-in-github",
        "colab_type": "text"
      },
      "source": [
        "<a href=\"https://colab.research.google.com/github/Uzmamushtaque/Projects-in-Machine-Learning-and-AI/blob/main/TitanicExample.ipynb\" target=\"_parent\"><img src=\"https://colab.research.google.com/assets/colab-badge.svg\" alt=\"Open In Colab\"/></a>"
      ]
    },
    {
      "cell_type": "markdown",
      "metadata": {
        "id": "7IuJm6vAjOtz"
      },
      "source": [
        "### Setup"
      ]
    },
    {
      "cell_type": "code",
      "execution_count": 1,
      "metadata": {
        "id": "aZCA63injOt2"
      },
      "outputs": [],
      "source": [
        "# import required libraries\n",
        "import pandas as pd\n",
        "import matplotlib.pyplot as plt\n",
        "import seaborn as sns\n",
        "import numpy as np\n",
        "from sklearn.model_selection import train_test_split\n",
        "from sklearn.linear_model import LogisticRegression\n",
        "from sklearn.svm import SVC\n",
        "from sklearn.ensemble import RandomForestClassifier\n",
        "from sklearn.ensemble import GradientBoostingClassifier\n",
        "from sklearn.metrics import accuracy_score\n",
        "from sklearn.metrics import f1_score\n",
        "from sklearn.preprocessing import Normalizer\n",
        "import warnings\n",
        "warnings.filterwarnings(\"ignore\")"
      ]
    },
    {
      "cell_type": "markdown",
      "metadata": {
        "id": "qd2wLZlWjOt4"
      },
      "source": [
        "### Getting the Data"
      ]
    },
    {
      "cell_type": "code",
      "execution_count": 3,
      "metadata": {
        "id": "OyjGkMYajOt4"
      },
      "outputs": [],
      "source": [
        "# data source: https://www.kaggle.com/c/titanic/data\n",
        "# note: we have combined Training and Testing data from Kaggle into a single data frame\n",
        "df = pd.read_csv('titanic.csv')"
      ]
    },
    {
      "cell_type": "markdown",
      "metadata": {
        "id": "4Ph370GzjOt5"
      },
      "source": [
        "Data dictionary\n",
        "\n",
        "\n",
        "| Variable | Definition                                 | Key                                            |\n",
        "| ---------|--------------------------------------------|------------------------------------------------|\n",
        "| Survival | Passenger survives or not                  | 0 = No, 1 = Yes                                |\n",
        "| Pclass   | Ticket class                               | 1 = 1st, 2 = 2nd, 3 = 3rd                      |\n",
        "| Sex      | Gender                                     |                                                |\n",
        "| Age      | Age in years                               |                                                |\n",
        "| SibSp    | # of siblings / spouses aboard the Titanic |                                                |\n",
        "| Parch    | # of parents / children aboard the Titanic |                                                |\n",
        "| Ticket   | Ticket number                              |                                                |\n",
        "| Fare     | Passenger fare                             |                                                |\n",
        "| Cabin    | Cabin number                               |                                                |\n",
        "| Embarked | Port of Embarkation                        | C = Cherbourg, Q = Queenstown, S = Southampton |`m"
      ]
    },
    {
      "cell_type": "markdown",
      "metadata": {
        "id": "65TzJC9WjOt5"
      },
      "source": [
        "### Exploring the Data"
      ]
    },
    {
      "cell_type": "code",
      "execution_count": 4,
      "metadata": {
        "id": "HL2mLfdUjOt6",
        "outputId": "406f4984-d361-40ac-ddec-633a48ad4a08",
        "colab": {
          "base_uri": "https://localhost:8080/",
          "height": 206
        }
      },
      "outputs": [
        {
          "output_type": "execute_result",
          "data": {
            "text/plain": [
              "    Age Cabin Embarked     Fare  \\\n",
              "0  22.0   NaN        S   7.2500   \n",
              "1  38.0   C85        C  71.2833   \n",
              "2  26.0   NaN        S   7.9250   \n",
              "3  35.0  C123        S  53.1000   \n",
              "4  35.0   NaN        S   8.0500   \n",
              "\n",
              "                                                Name  Parch  PassengerId  \\\n",
              "0                            Braund, Mr. Owen Harris      0            1   \n",
              "1  Cumings, Mrs. John Bradley (Florence Briggs Th...      0            2   \n",
              "2                             Heikkinen, Miss. Laina      0            3   \n",
              "3       Futrelle, Mrs. Jacques Heath (Lily May Peel)      0            4   \n",
              "4                           Allen, Mr. William Henry      0            5   \n",
              "\n",
              "   Pclass     Sex  SibSp  Survived            Ticket  \n",
              "0       3    male      1         0         A/5 21171  \n",
              "1       1  female      1         1          PC 17599  \n",
              "2       3  female      0         1  STON/O2. 3101282  \n",
              "3       1  female      1         1            113803  \n",
              "4       3    male      0         0            373450  "
            ],
            "text/html": [
              "\n",
              "  <div id=\"df-c65bce49-0958-4ce2-93f9-433c065bce1d\">\n",
              "    <div class=\"colab-df-container\">\n",
              "      <div>\n",
              "<style scoped>\n",
              "    .dataframe tbody tr th:only-of-type {\n",
              "        vertical-align: middle;\n",
              "    }\n",
              "\n",
              "    .dataframe tbody tr th {\n",
              "        vertical-align: top;\n",
              "    }\n",
              "\n",
              "    .dataframe thead th {\n",
              "        text-align: right;\n",
              "    }\n",
              "</style>\n",
              "<table border=\"1\" class=\"dataframe\">\n",
              "  <thead>\n",
              "    <tr style=\"text-align: right;\">\n",
              "      <th></th>\n",
              "      <th>Age</th>\n",
              "      <th>Cabin</th>\n",
              "      <th>Embarked</th>\n",
              "      <th>Fare</th>\n",
              "      <th>Name</th>\n",
              "      <th>Parch</th>\n",
              "      <th>PassengerId</th>\n",
              "      <th>Pclass</th>\n",
              "      <th>Sex</th>\n",
              "      <th>SibSp</th>\n",
              "      <th>Survived</th>\n",
              "      <th>Ticket</th>\n",
              "    </tr>\n",
              "  </thead>\n",
              "  <tbody>\n",
              "    <tr>\n",
              "      <th>0</th>\n",
              "      <td>22.0</td>\n",
              "      <td>NaN</td>\n",
              "      <td>S</td>\n",
              "      <td>7.2500</td>\n",
              "      <td>Braund, Mr. Owen Harris</td>\n",
              "      <td>0</td>\n",
              "      <td>1</td>\n",
              "      <td>3</td>\n",
              "      <td>male</td>\n",
              "      <td>1</td>\n",
              "      <td>0</td>\n",
              "      <td>A/5 21171</td>\n",
              "    </tr>\n",
              "    <tr>\n",
              "      <th>1</th>\n",
              "      <td>38.0</td>\n",
              "      <td>C85</td>\n",
              "      <td>C</td>\n",
              "      <td>71.2833</td>\n",
              "      <td>Cumings, Mrs. John Bradley (Florence Briggs Th...</td>\n",
              "      <td>0</td>\n",
              "      <td>2</td>\n",
              "      <td>1</td>\n",
              "      <td>female</td>\n",
              "      <td>1</td>\n",
              "      <td>1</td>\n",
              "      <td>PC 17599</td>\n",
              "    </tr>\n",
              "    <tr>\n",
              "      <th>2</th>\n",
              "      <td>26.0</td>\n",
              "      <td>NaN</td>\n",
              "      <td>S</td>\n",
              "      <td>7.9250</td>\n",
              "      <td>Heikkinen, Miss. Laina</td>\n",
              "      <td>0</td>\n",
              "      <td>3</td>\n",
              "      <td>3</td>\n",
              "      <td>female</td>\n",
              "      <td>0</td>\n",
              "      <td>1</td>\n",
              "      <td>STON/O2. 3101282</td>\n",
              "    </tr>\n",
              "    <tr>\n",
              "      <th>3</th>\n",
              "      <td>35.0</td>\n",
              "      <td>C123</td>\n",
              "      <td>S</td>\n",
              "      <td>53.1000</td>\n",
              "      <td>Futrelle, Mrs. Jacques Heath (Lily May Peel)</td>\n",
              "      <td>0</td>\n",
              "      <td>4</td>\n",
              "      <td>1</td>\n",
              "      <td>female</td>\n",
              "      <td>1</td>\n",
              "      <td>1</td>\n",
              "      <td>113803</td>\n",
              "    </tr>\n",
              "    <tr>\n",
              "      <th>4</th>\n",
              "      <td>35.0</td>\n",
              "      <td>NaN</td>\n",
              "      <td>S</td>\n",
              "      <td>8.0500</td>\n",
              "      <td>Allen, Mr. William Henry</td>\n",
              "      <td>0</td>\n",
              "      <td>5</td>\n",
              "      <td>3</td>\n",
              "      <td>male</td>\n",
              "      <td>0</td>\n",
              "      <td>0</td>\n",
              "      <td>373450</td>\n",
              "    </tr>\n",
              "  </tbody>\n",
              "</table>\n",
              "</div>\n",
              "      <button class=\"colab-df-convert\" onclick=\"convertToInteractive('df-c65bce49-0958-4ce2-93f9-433c065bce1d')\"\n",
              "              title=\"Convert this dataframe to an interactive table.\"\n",
              "              style=\"display:none;\">\n",
              "        \n",
              "  <svg xmlns=\"http://www.w3.org/2000/svg\" height=\"24px\"viewBox=\"0 0 24 24\"\n",
              "       width=\"24px\">\n",
              "    <path d=\"M0 0h24v24H0V0z\" fill=\"none\"/>\n",
              "    <path d=\"M18.56 5.44l.94 2.06.94-2.06 2.06-.94-2.06-.94-.94-2.06-.94 2.06-2.06.94zm-11 1L8.5 8.5l.94-2.06 2.06-.94-2.06-.94L8.5 2.5l-.94 2.06-2.06.94zm10 10l.94 2.06.94-2.06 2.06-.94-2.06-.94-.94-2.06-.94 2.06-2.06.94z\"/><path d=\"M17.41 7.96l-1.37-1.37c-.4-.4-.92-.59-1.43-.59-.52 0-1.04.2-1.43.59L10.3 9.45l-7.72 7.72c-.78.78-.78 2.05 0 2.83L4 21.41c.39.39.9.59 1.41.59.51 0 1.02-.2 1.41-.59l7.78-7.78 2.81-2.81c.8-.78.8-2.07 0-2.86zM5.41 20L4 18.59l7.72-7.72 1.47 1.35L5.41 20z\"/>\n",
              "  </svg>\n",
              "      </button>\n",
              "      \n",
              "  <style>\n",
              "    .colab-df-container {\n",
              "      display:flex;\n",
              "      flex-wrap:wrap;\n",
              "      gap: 12px;\n",
              "    }\n",
              "\n",
              "    .colab-df-convert {\n",
              "      background-color: #E8F0FE;\n",
              "      border: none;\n",
              "      border-radius: 50%;\n",
              "      cursor: pointer;\n",
              "      display: none;\n",
              "      fill: #1967D2;\n",
              "      height: 32px;\n",
              "      padding: 0 0 0 0;\n",
              "      width: 32px;\n",
              "    }\n",
              "\n",
              "    .colab-df-convert:hover {\n",
              "      background-color: #E2EBFA;\n",
              "      box-shadow: 0px 1px 2px rgba(60, 64, 67, 0.3), 0px 1px 3px 1px rgba(60, 64, 67, 0.15);\n",
              "      fill: #174EA6;\n",
              "    }\n",
              "\n",
              "    [theme=dark] .colab-df-convert {\n",
              "      background-color: #3B4455;\n",
              "      fill: #D2E3FC;\n",
              "    }\n",
              "\n",
              "    [theme=dark] .colab-df-convert:hover {\n",
              "      background-color: #434B5C;\n",
              "      box-shadow: 0px 1px 3px 1px rgba(0, 0, 0, 0.15);\n",
              "      filter: drop-shadow(0px 1px 2px rgba(0, 0, 0, 0.3));\n",
              "      fill: #FFFFFF;\n",
              "    }\n",
              "  </style>\n",
              "\n",
              "      <script>\n",
              "        const buttonEl =\n",
              "          document.querySelector('#df-c65bce49-0958-4ce2-93f9-433c065bce1d button.colab-df-convert');\n",
              "        buttonEl.style.display =\n",
              "          google.colab.kernel.accessAllowed ? 'block' : 'none';\n",
              "\n",
              "        async function convertToInteractive(key) {\n",
              "          const element = document.querySelector('#df-c65bce49-0958-4ce2-93f9-433c065bce1d');\n",
              "          const dataTable =\n",
              "            await google.colab.kernel.invokeFunction('convertToInteractive',\n",
              "                                                     [key], {});\n",
              "          if (!dataTable) return;\n",
              "\n",
              "          const docLinkHtml = 'Like what you see? Visit the ' +\n",
              "            '<a target=\"_blank\" href=https://colab.research.google.com/notebooks/data_table.ipynb>data table notebook</a>'\n",
              "            + ' to learn more about interactive tables.';\n",
              "          element.innerHTML = '';\n",
              "          dataTable['output_type'] = 'display_data';\n",
              "          await google.colab.output.renderOutput(dataTable, element);\n",
              "          const docLink = document.createElement('div');\n",
              "          docLink.innerHTML = docLinkHtml;\n",
              "          element.appendChild(docLink);\n",
              "        }\n",
              "      </script>\n",
              "    </div>\n",
              "  </div>\n",
              "  "
            ]
          },
          "metadata": {},
          "execution_count": 4
        }
      ],
      "source": [
        "# viewing the first few rows of the data\n",
        "df.head()"
      ]
    },
    {
      "cell_type": "code",
      "execution_count": 5,
      "metadata": {
        "id": "amcvkzh4jOt7",
        "outputId": "59be5360-f854-4af6-c6e5-c79c50b557c0",
        "colab": {
          "base_uri": "https://localhost:8080/"
        }
      },
      "outputs": [
        {
          "output_type": "execute_result",
          "data": {
            "text/plain": [
              "(1309, 12)"
            ]
          },
          "metadata": {},
          "execution_count": 5
        }
      ],
      "source": [
        "# what's the data size?\n",
        "df.shape"
      ]
    },
    {
      "cell_type": "code",
      "source": [
        "df.isna().sum()"
      ],
      "metadata": {
        "colab": {
          "base_uri": "https://localhost:8080/"
        },
        "id": "nWPpvP25_99X",
        "outputId": "fb47fb40-a204-457e-c85a-1020799266f6"
      },
      "execution_count": 10,
      "outputs": [
        {
          "output_type": "execute_result",
          "data": {
            "text/plain": [
              "Age             263\n",
              "Cabin          1014\n",
              "Embarked          2\n",
              "Fare              1\n",
              "Name              0\n",
              "Parch             0\n",
              "PassengerId       0\n",
              "Pclass            0\n",
              "Sex               0\n",
              "SibSp             0\n",
              "Survived          0\n",
              "Ticket            0\n",
              "dtype: int64"
            ]
          },
          "metadata": {},
          "execution_count": 10
        }
      ]
    },
    {
      "cell_type": "code",
      "execution_count": 6,
      "metadata": {
        "id": "AdR7no6PjOt8",
        "outputId": "6c065831-98ba-491b-f432-1efc91b3fdaa",
        "colab": {
          "base_uri": "https://localhost:8080/"
        }
      },
      "outputs": [
        {
          "output_type": "stream",
          "name": "stdout",
          "text": [
            "<class 'pandas.core.frame.DataFrame'>\n",
            "RangeIndex: 1309 entries, 0 to 1308\n",
            "Data columns (total 12 columns):\n",
            " #   Column       Non-Null Count  Dtype  \n",
            "---  ------       --------------  -----  \n",
            " 0   Age          1046 non-null   float64\n",
            " 1   Cabin        295 non-null    object \n",
            " 2   Embarked     1307 non-null   object \n",
            " 3   Fare         1308 non-null   float64\n",
            " 4   Name         1309 non-null   object \n",
            " 5   Parch        1309 non-null   int64  \n",
            " 6   PassengerId  1309 non-null   int64  \n",
            " 7   Pclass       1309 non-null   int64  \n",
            " 8   Sex          1309 non-null   object \n",
            " 9   SibSp        1309 non-null   int64  \n",
            " 10  Survived     1309 non-null   int64  \n",
            " 11  Ticket       1309 non-null   object \n",
            "dtypes: float64(2), int64(5), object(5)\n",
            "memory usage: 122.8+ KB\n"
          ]
        }
      ],
      "source": [
        "# general information about the dataset\n",
        "df.info()"
      ]
    },
    {
      "cell_type": "code",
      "execution_count": 7,
      "metadata": {
        "id": "0FDhJLljjOt8",
        "outputId": "f8da5f6f-5f28-4ae4-ff98-2f374ad150b4",
        "colab": {
          "base_uri": "https://localhost:8080/",
          "height": 300
        }
      },
      "outputs": [
        {
          "output_type": "execute_result",
          "data": {
            "text/plain": [
              "               Age         Fare        Parch  PassengerId       Pclass  \\\n",
              "count  1046.000000  1308.000000  1309.000000  1309.000000  1309.000000   \n",
              "mean     29.881138    33.295479     0.385027   655.000000     2.294882   \n",
              "std      14.413493    51.758668     0.865560   378.020061     0.837836   \n",
              "min       0.170000     0.000000     0.000000     1.000000     1.000000   \n",
              "25%      21.000000     7.895800     0.000000   328.000000     2.000000   \n",
              "50%      28.000000    14.454200     0.000000   655.000000     3.000000   \n",
              "75%      39.000000    31.275000     0.000000   982.000000     3.000000   \n",
              "max      80.000000   512.329200     9.000000  1309.000000     3.000000   \n",
              "\n",
              "             SibSp     Survived  \n",
              "count  1309.000000  1309.000000  \n",
              "mean      0.498854     0.377387  \n",
              "std       1.041658     0.484918  \n",
              "min       0.000000     0.000000  \n",
              "25%       0.000000     0.000000  \n",
              "50%       0.000000     0.000000  \n",
              "75%       1.000000     1.000000  \n",
              "max       8.000000     1.000000  "
            ],
            "text/html": [
              "\n",
              "  <div id=\"df-51a185ea-8eab-4d3d-8ce5-0b8ca58ce500\">\n",
              "    <div class=\"colab-df-container\">\n",
              "      <div>\n",
              "<style scoped>\n",
              "    .dataframe tbody tr th:only-of-type {\n",
              "        vertical-align: middle;\n",
              "    }\n",
              "\n",
              "    .dataframe tbody tr th {\n",
              "        vertical-align: top;\n",
              "    }\n",
              "\n",
              "    .dataframe thead th {\n",
              "        text-align: right;\n",
              "    }\n",
              "</style>\n",
              "<table border=\"1\" class=\"dataframe\">\n",
              "  <thead>\n",
              "    <tr style=\"text-align: right;\">\n",
              "      <th></th>\n",
              "      <th>Age</th>\n",
              "      <th>Fare</th>\n",
              "      <th>Parch</th>\n",
              "      <th>PassengerId</th>\n",
              "      <th>Pclass</th>\n",
              "      <th>SibSp</th>\n",
              "      <th>Survived</th>\n",
              "    </tr>\n",
              "  </thead>\n",
              "  <tbody>\n",
              "    <tr>\n",
              "      <th>count</th>\n",
              "      <td>1046.000000</td>\n",
              "      <td>1308.000000</td>\n",
              "      <td>1309.000000</td>\n",
              "      <td>1309.000000</td>\n",
              "      <td>1309.000000</td>\n",
              "      <td>1309.000000</td>\n",
              "      <td>1309.000000</td>\n",
              "    </tr>\n",
              "    <tr>\n",
              "      <th>mean</th>\n",
              "      <td>29.881138</td>\n",
              "      <td>33.295479</td>\n",
              "      <td>0.385027</td>\n",
              "      <td>655.000000</td>\n",
              "      <td>2.294882</td>\n",
              "      <td>0.498854</td>\n",
              "      <td>0.377387</td>\n",
              "    </tr>\n",
              "    <tr>\n",
              "      <th>std</th>\n",
              "      <td>14.413493</td>\n",
              "      <td>51.758668</td>\n",
              "      <td>0.865560</td>\n",
              "      <td>378.020061</td>\n",
              "      <td>0.837836</td>\n",
              "      <td>1.041658</td>\n",
              "      <td>0.484918</td>\n",
              "    </tr>\n",
              "    <tr>\n",
              "      <th>min</th>\n",
              "      <td>0.170000</td>\n",
              "      <td>0.000000</td>\n",
              "      <td>0.000000</td>\n",
              "      <td>1.000000</td>\n",
              "      <td>1.000000</td>\n",
              "      <td>0.000000</td>\n",
              "      <td>0.000000</td>\n",
              "    </tr>\n",
              "    <tr>\n",
              "      <th>25%</th>\n",
              "      <td>21.000000</td>\n",
              "      <td>7.895800</td>\n",
              "      <td>0.000000</td>\n",
              "      <td>328.000000</td>\n",
              "      <td>2.000000</td>\n",
              "      <td>0.000000</td>\n",
              "      <td>0.000000</td>\n",
              "    </tr>\n",
              "    <tr>\n",
              "      <th>50%</th>\n",
              "      <td>28.000000</td>\n",
              "      <td>14.454200</td>\n",
              "      <td>0.000000</td>\n",
              "      <td>655.000000</td>\n",
              "      <td>3.000000</td>\n",
              "      <td>0.000000</td>\n",
              "      <td>0.000000</td>\n",
              "    </tr>\n",
              "    <tr>\n",
              "      <th>75%</th>\n",
              "      <td>39.000000</td>\n",
              "      <td>31.275000</td>\n",
              "      <td>0.000000</td>\n",
              "      <td>982.000000</td>\n",
              "      <td>3.000000</td>\n",
              "      <td>1.000000</td>\n",
              "      <td>1.000000</td>\n",
              "    </tr>\n",
              "    <tr>\n",
              "      <th>max</th>\n",
              "      <td>80.000000</td>\n",
              "      <td>512.329200</td>\n",
              "      <td>9.000000</td>\n",
              "      <td>1309.000000</td>\n",
              "      <td>3.000000</td>\n",
              "      <td>8.000000</td>\n",
              "      <td>1.000000</td>\n",
              "    </tr>\n",
              "  </tbody>\n",
              "</table>\n",
              "</div>\n",
              "      <button class=\"colab-df-convert\" onclick=\"convertToInteractive('df-51a185ea-8eab-4d3d-8ce5-0b8ca58ce500')\"\n",
              "              title=\"Convert this dataframe to an interactive table.\"\n",
              "              style=\"display:none;\">\n",
              "        \n",
              "  <svg xmlns=\"http://www.w3.org/2000/svg\" height=\"24px\"viewBox=\"0 0 24 24\"\n",
              "       width=\"24px\">\n",
              "    <path d=\"M0 0h24v24H0V0z\" fill=\"none\"/>\n",
              "    <path d=\"M18.56 5.44l.94 2.06.94-2.06 2.06-.94-2.06-.94-.94-2.06-.94 2.06-2.06.94zm-11 1L8.5 8.5l.94-2.06 2.06-.94-2.06-.94L8.5 2.5l-.94 2.06-2.06.94zm10 10l.94 2.06.94-2.06 2.06-.94-2.06-.94-.94-2.06-.94 2.06-2.06.94z\"/><path d=\"M17.41 7.96l-1.37-1.37c-.4-.4-.92-.59-1.43-.59-.52 0-1.04.2-1.43.59L10.3 9.45l-7.72 7.72c-.78.78-.78 2.05 0 2.83L4 21.41c.39.39.9.59 1.41.59.51 0 1.02-.2 1.41-.59l7.78-7.78 2.81-2.81c.8-.78.8-2.07 0-2.86zM5.41 20L4 18.59l7.72-7.72 1.47 1.35L5.41 20z\"/>\n",
              "  </svg>\n",
              "      </button>\n",
              "      \n",
              "  <style>\n",
              "    .colab-df-container {\n",
              "      display:flex;\n",
              "      flex-wrap:wrap;\n",
              "      gap: 12px;\n",
              "    }\n",
              "\n",
              "    .colab-df-convert {\n",
              "      background-color: #E8F0FE;\n",
              "      border: none;\n",
              "      border-radius: 50%;\n",
              "      cursor: pointer;\n",
              "      display: none;\n",
              "      fill: #1967D2;\n",
              "      height: 32px;\n",
              "      padding: 0 0 0 0;\n",
              "      width: 32px;\n",
              "    }\n",
              "\n",
              "    .colab-df-convert:hover {\n",
              "      background-color: #E2EBFA;\n",
              "      box-shadow: 0px 1px 2px rgba(60, 64, 67, 0.3), 0px 1px 3px 1px rgba(60, 64, 67, 0.15);\n",
              "      fill: #174EA6;\n",
              "    }\n",
              "\n",
              "    [theme=dark] .colab-df-convert {\n",
              "      background-color: #3B4455;\n",
              "      fill: #D2E3FC;\n",
              "    }\n",
              "\n",
              "    [theme=dark] .colab-df-convert:hover {\n",
              "      background-color: #434B5C;\n",
              "      box-shadow: 0px 1px 3px 1px rgba(0, 0, 0, 0.15);\n",
              "      filter: drop-shadow(0px 1px 2px rgba(0, 0, 0, 0.3));\n",
              "      fill: #FFFFFF;\n",
              "    }\n",
              "  </style>\n",
              "\n",
              "      <script>\n",
              "        const buttonEl =\n",
              "          document.querySelector('#df-51a185ea-8eab-4d3d-8ce5-0b8ca58ce500 button.colab-df-convert');\n",
              "        buttonEl.style.display =\n",
              "          google.colab.kernel.accessAllowed ? 'block' : 'none';\n",
              "\n",
              "        async function convertToInteractive(key) {\n",
              "          const element = document.querySelector('#df-51a185ea-8eab-4d3d-8ce5-0b8ca58ce500');\n",
              "          const dataTable =\n",
              "            await google.colab.kernel.invokeFunction('convertToInteractive',\n",
              "                                                     [key], {});\n",
              "          if (!dataTable) return;\n",
              "\n",
              "          const docLinkHtml = 'Like what you see? Visit the ' +\n",
              "            '<a target=\"_blank\" href=https://colab.research.google.com/notebooks/data_table.ipynb>data table notebook</a>'\n",
              "            + ' to learn more about interactive tables.';\n",
              "          element.innerHTML = '';\n",
              "          dataTable['output_type'] = 'display_data';\n",
              "          await google.colab.output.renderOutput(dataTable, element);\n",
              "          const docLink = document.createElement('div');\n",
              "          docLink.innerHTML = docLinkHtml;\n",
              "          element.appendChild(docLink);\n",
              "        }\n",
              "      </script>\n",
              "    </div>\n",
              "  </div>\n",
              "  "
            ]
          },
          "metadata": {},
          "execution_count": 7
        }
      ],
      "source": [
        "# statistics of the dataset (numeric columns)\n",
        "df.describe()"
      ]
    },
    {
      "cell_type": "code",
      "execution_count": 11,
      "metadata": {
        "id": "oU6xVUw2jOt9",
        "outputId": "2bb6928d-b05d-4d00-f13c-e2dbd0c4d57c",
        "colab": {
          "base_uri": "https://localhost:8080/",
          "height": 175
        }
      },
      "outputs": [
        {
          "output_type": "execute_result",
          "data": {
            "text/plain": [
              "              Cabin Embarked                  Name   Sex    Ticket\n",
              "count           295     1307                  1309  1309      1309\n",
              "unique          186        3                  1307     2       929\n",
              "top     C23 C25 C27        S  Connolly, Miss. Kate  male  CA. 2343\n",
              "freq              6      914                     2   843        11"
            ],
            "text/html": [
              "\n",
              "  <div id=\"df-25e50dca-4316-4da0-97a6-4a80912b143d\">\n",
              "    <div class=\"colab-df-container\">\n",
              "      <div>\n",
              "<style scoped>\n",
              "    .dataframe tbody tr th:only-of-type {\n",
              "        vertical-align: middle;\n",
              "    }\n",
              "\n",
              "    .dataframe tbody tr th {\n",
              "        vertical-align: top;\n",
              "    }\n",
              "\n",
              "    .dataframe thead th {\n",
              "        text-align: right;\n",
              "    }\n",
              "</style>\n",
              "<table border=\"1\" class=\"dataframe\">\n",
              "  <thead>\n",
              "    <tr style=\"text-align: right;\">\n",
              "      <th></th>\n",
              "      <th>Cabin</th>\n",
              "      <th>Embarked</th>\n",
              "      <th>Name</th>\n",
              "      <th>Sex</th>\n",
              "      <th>Ticket</th>\n",
              "    </tr>\n",
              "  </thead>\n",
              "  <tbody>\n",
              "    <tr>\n",
              "      <th>count</th>\n",
              "      <td>295</td>\n",
              "      <td>1307</td>\n",
              "      <td>1309</td>\n",
              "      <td>1309</td>\n",
              "      <td>1309</td>\n",
              "    </tr>\n",
              "    <tr>\n",
              "      <th>unique</th>\n",
              "      <td>186</td>\n",
              "      <td>3</td>\n",
              "      <td>1307</td>\n",
              "      <td>2</td>\n",
              "      <td>929</td>\n",
              "    </tr>\n",
              "    <tr>\n",
              "      <th>top</th>\n",
              "      <td>C23 C25 C27</td>\n",
              "      <td>S</td>\n",
              "      <td>Connolly, Miss. Kate</td>\n",
              "      <td>male</td>\n",
              "      <td>CA. 2343</td>\n",
              "    </tr>\n",
              "    <tr>\n",
              "      <th>freq</th>\n",
              "      <td>6</td>\n",
              "      <td>914</td>\n",
              "      <td>2</td>\n",
              "      <td>843</td>\n",
              "      <td>11</td>\n",
              "    </tr>\n",
              "  </tbody>\n",
              "</table>\n",
              "</div>\n",
              "      <button class=\"colab-df-convert\" onclick=\"convertToInteractive('df-25e50dca-4316-4da0-97a6-4a80912b143d')\"\n",
              "              title=\"Convert this dataframe to an interactive table.\"\n",
              "              style=\"display:none;\">\n",
              "        \n",
              "  <svg xmlns=\"http://www.w3.org/2000/svg\" height=\"24px\"viewBox=\"0 0 24 24\"\n",
              "       width=\"24px\">\n",
              "    <path d=\"M0 0h24v24H0V0z\" fill=\"none\"/>\n",
              "    <path d=\"M18.56 5.44l.94 2.06.94-2.06 2.06-.94-2.06-.94-.94-2.06-.94 2.06-2.06.94zm-11 1L8.5 8.5l.94-2.06 2.06-.94-2.06-.94L8.5 2.5l-.94 2.06-2.06.94zm10 10l.94 2.06.94-2.06 2.06-.94-2.06-.94-.94-2.06-.94 2.06-2.06.94z\"/><path d=\"M17.41 7.96l-1.37-1.37c-.4-.4-.92-.59-1.43-.59-.52 0-1.04.2-1.43.59L10.3 9.45l-7.72 7.72c-.78.78-.78 2.05 0 2.83L4 21.41c.39.39.9.59 1.41.59.51 0 1.02-.2 1.41-.59l7.78-7.78 2.81-2.81c.8-.78.8-2.07 0-2.86zM5.41 20L4 18.59l7.72-7.72 1.47 1.35L5.41 20z\"/>\n",
              "  </svg>\n",
              "      </button>\n",
              "      \n",
              "  <style>\n",
              "    .colab-df-container {\n",
              "      display:flex;\n",
              "      flex-wrap:wrap;\n",
              "      gap: 12px;\n",
              "    }\n",
              "\n",
              "    .colab-df-convert {\n",
              "      background-color: #E8F0FE;\n",
              "      border: none;\n",
              "      border-radius: 50%;\n",
              "      cursor: pointer;\n",
              "      display: none;\n",
              "      fill: #1967D2;\n",
              "      height: 32px;\n",
              "      padding: 0 0 0 0;\n",
              "      width: 32px;\n",
              "    }\n",
              "\n",
              "    .colab-df-convert:hover {\n",
              "      background-color: #E2EBFA;\n",
              "      box-shadow: 0px 1px 2px rgba(60, 64, 67, 0.3), 0px 1px 3px 1px rgba(60, 64, 67, 0.15);\n",
              "      fill: #174EA6;\n",
              "    }\n",
              "\n",
              "    [theme=dark] .colab-df-convert {\n",
              "      background-color: #3B4455;\n",
              "      fill: #D2E3FC;\n",
              "    }\n",
              "\n",
              "    [theme=dark] .colab-df-convert:hover {\n",
              "      background-color: #434B5C;\n",
              "      box-shadow: 0px 1px 3px 1px rgba(0, 0, 0, 0.15);\n",
              "      filter: drop-shadow(0px 1px 2px rgba(0, 0, 0, 0.3));\n",
              "      fill: #FFFFFF;\n",
              "    }\n",
              "  </style>\n",
              "\n",
              "      <script>\n",
              "        const buttonEl =\n",
              "          document.querySelector('#df-25e50dca-4316-4da0-97a6-4a80912b143d button.colab-df-convert');\n",
              "        buttonEl.style.display =\n",
              "          google.colab.kernel.accessAllowed ? 'block' : 'none';\n",
              "\n",
              "        async function convertToInteractive(key) {\n",
              "          const element = document.querySelector('#df-25e50dca-4316-4da0-97a6-4a80912b143d');\n",
              "          const dataTable =\n",
              "            await google.colab.kernel.invokeFunction('convertToInteractive',\n",
              "                                                     [key], {});\n",
              "          if (!dataTable) return;\n",
              "\n",
              "          const docLinkHtml = 'Like what you see? Visit the ' +\n",
              "            '<a target=\"_blank\" href=https://colab.research.google.com/notebooks/data_table.ipynb>data table notebook</a>'\n",
              "            + ' to learn more about interactive tables.';\n",
              "          element.innerHTML = '';\n",
              "          dataTable['output_type'] = 'display_data';\n",
              "          await google.colab.output.renderOutput(dataTable, element);\n",
              "          const docLink = document.createElement('div');\n",
              "          docLink.innerHTML = docLinkHtml;\n",
              "          element.appendChild(docLink);\n",
              "        }\n",
              "      </script>\n",
              "    </div>\n",
              "  </div>\n",
              "  "
            ]
          },
          "metadata": {},
          "execution_count": 11
        }
      ],
      "source": [
        "# statistics of the dataset (categorical columns)\n",
        "df.describe(include=['O'])"
      ]
    },
    {
      "cell_type": "code",
      "execution_count": 13,
      "metadata": {
        "id": "aeBX2qsDjOt9",
        "outputId": "dacbf799-397a-4981-e689-c1f6a37cee9b",
        "colab": {
          "base_uri": "https://localhost:8080/"
        }
      },
      "outputs": [
        {
          "output_type": "execute_result",
          "data": {
            "text/plain": [
              "0    0.622613\n",
              "1    0.377387\n",
              "Name: Survived, dtype: float64"
            ]
          },
          "metadata": {},
          "execution_count": 13
        }
      ],
      "source": [
        "# is the data imbalanced?\n",
        "df.Survived.value_counts(normalize=True) #normalizes the result"
      ]
    },
    {
      "cell_type": "markdown",
      "metadata": {
        "id": "eWlzL_a3jOt-"
      },
      "source": [
        "#### Pairplot"
      ]
    },
    {
      "cell_type": "code",
      "execution_count": 14,
      "metadata": {
        "id": "lp4KzTwujOt-",
        "outputId": "12208eab-befe-4a60-eaa6-95c202bc6b59",
        "colab": {
          "base_uri": "https://localhost:8080/",
          "height": 1000
        }
      },
      "outputs": [
        {
          "output_type": "execute_result",
          "data": {
            "text/plain": [
              "''"
            ],
            "application/vnd.google.colaboratory.intrinsic+json": {
              "type": "string"
            }
          },
          "metadata": {},
          "execution_count": 14
        },
        {
          "output_type": "display_data",
          "data": {
            "text/plain": [
              "<Figure size 1131.88x1080 with 42 Axes>"
            ],
            "image/png": "[encoded data removed]"
          },
          "metadata": {
            "needs_background": "light"
          }
        }
      ],
      "source": [
        "# ploting pairwise relationships in the dataset\n",
        "sns.pairplot(df, hue='Survived')\n",
        ","
      ]
    },
    {
      "cell_type": "markdown",
      "metadata": {
        "id": "Uxqt_OdMjOt-"
      },
      "source": [
        "#### Scatter Plot"
      ]
    },
    {
      "cell_type": "code",
      "execution_count": 15,
      "metadata": {
        "id": "JxZnSp4djOt_",
        "outputId": "9efc036d-ef0f-4f05-d6f1-cfd871ea2c6b",
        "colab": {
          "base_uri": "https://localhost:8080/",
          "height": 352
        }
      },
      "outputs": [
        {
          "output_type": "execute_result",
          "data": {
            "text/plain": [
              "''"
            ],
            "application/vnd.google.colaboratory.intrinsic+json": {
              "type": "string"
            }
          },
          "metadata": {},
          "execution_count": 15
        },
        {
          "output_type": "display_data",
          "data": {
            "text/plain": [
              "<Figure size 360x360 with 1 Axes>"
            ],
            "image/png": "[encoded data removed]"
          },
          "metadata": {
            "needs_background": "light"
          }
        }
      ],
      "source": [
        "# useful for identifying relationship (i.e. correlation) between two parameters\n",
        "fig, ax = plt.subplots(figsize=(5,5))\n",
        "ax.scatter(df.Age, df.Fare)\n",
        "ax.set_xlabel('Age')\n",
        "ax.set_ylabel('Fare')\n",
        ","
      ]
    },
    {
      "cell_type": "markdown",
      "metadata": {
        "id": "rfE-nrRajOt_"
      },
      "source": [
        "#### Pie Chart"
      ]
    },
    {
      "cell_type": "code",
      "execution_count": 17,
      "metadata": {
        "id": "qBhd4nyrjOt_",
        "outputId": "7f43519e-94f5-49e4-b00b-b82347b20b35",
        "colab": {
          "base_uri": "https://localhost:8080/",
          "height": 338
        }
      },
      "outputs": [
        {
          "output_type": "execute_result",
          "data": {
            "text/plain": [
              "''"
            ],
            "application/vnd.google.colaboratory.intrinsic+json": {
              "type": "string"
            }
          },
          "metadata": {},
          "execution_count": 17
        },
        {
          "output_type": "display_data",
          "data": {
            "text/plain": [
              "<Figure size 360x360 with 1 Axes>"
            ],
            "image/png": "[encoded data removed]"
          },
          "metadata": {}
        }
      ],
      "source": [
        "# useful for depicting proportional data with each slice of pie representing a specific category\n",
        "fig, ax = plt.subplots(figsize=(5,5))\n",
        "ax.pie(x=df.Embarked.value_counts(), \n",
        "       labels=df.Embarked.value_counts().index,\n",
        "       autopct='%1.1f%%')\n",
        "ax.set_title('Embarked')\n",
        ","
      ]
    },
    {
      "cell_type": "markdown",
      "metadata": {
        "id": "6erB39IRjOuA"
      },
      "source": [
        "#### Bar Chart"
      ]
    },
    {
      "cell_type": "code",
      "execution_count": 18,
      "metadata": {
        "id": "MyAtz3gAjOuA",
        "outputId": "57e888df-b08f-4a9b-92c7-cde985b0fe50",
        "colab": {
          "base_uri": "https://localhost:8080/",
          "height": 369
        }
      },
      "outputs": [
        {
          "output_type": "display_data",
          "data": {
            "text/plain": [
              "<Figure size 576x360 with 1 Axes>"
            ],
            "image/png": "[encoded data removed]"
          },
          "metadata": {
            "needs_background": "light"
          }
        }
      ],
      "source": [
        "# useful for comparing things between different groups or to track changes over time\n",
        "labels = df.Embarked.value_counts().index\n",
        "men_embarked = df.loc[df.Sex=='male'].Embarked.value_counts()\n",
        "women_embarked = df.loc[df.Sex=='female'].Embarked.value_counts()\n",
        "\n",
        "x = np.arange(len(labels))  # the label locations\n",
        "width = 0.35  # the width of the bars\n",
        "\n",
        "fig, ax = plt.subplots(figsize=(8,5))\n",
        "rects1 = ax.bar(x - width/2, men_embarked, width, label='Men')\n",
        "rects2 = ax.bar(x + width/2, women_embarked, width, label='Women')\n",
        "\n",
        "# Add some text for labels, title and custom x-axis tick labels, etc.\n",
        "ax.set_ylabel('Embarked')\n",
        "ax.set_title('Embarked by Gender')\n",
        "ax.set_xticks(x)\n",
        "ax.set_xticklabels(labels)\n",
        "ax.legend()\n",
        "\n",
        "fig.tight_layout()"
      ]
    },
    {
      "cell_type": "markdown",
      "metadata": {
        "id": "Fb6bL_hajOuA"
      },
      "source": [
        "#### Histogram"
      ]
    },
    {
      "cell_type": "code",
      "execution_count": 19,
      "metadata": {
        "id": "FTaTBL7-jOuA",
        "outputId": "1f3df537-d364-411c-adfc-1d4e6af13ab6",
        "colab": {
          "base_uri": "https://localhost:8080/",
          "height": 387
        }
      },
      "outputs": [
        {
          "output_type": "execute_result",
          "data": {
            "text/plain": [
              "''"
            ],
            "application/vnd.google.colaboratory.intrinsic+json": {
              "type": "string"
            }
          },
          "metadata": {},
          "execution_count": 19
        },
        {
          "output_type": "display_data",
          "data": {
            "text/plain": [
              "<Figure size 720x360 with 2 Axes>"
            ],
            "image/png": "[encoded data removed]"
          },
          "metadata": {
            "needs_background": "light"
          }
        }
      ],
      "source": [
        "# useful for visualizing the distribution of the data\n",
        "g = sns.FacetGrid(df, col='Survived', height=5)\n",
        "g.map(plt.hist, 'Age', bins=20)\n",
        ","
      ]
    },
    {
      "cell_type": "markdown",
      "metadata": {
        "id": "K8hjmgkrjOuB"
      },
      "source": [
        "#### Groupby"
      ]
    },
    {
      "cell_type": "code",
      "execution_count": 20,
      "metadata": {
        "id": "6iKNhMG2jOuB",
        "outputId": "aff8301c-a683-40ad-9a24-fefc4515f285",
        "colab": {
          "base_uri": "https://localhost:8080/"
        }
      },
      "outputs": [
        {
          "output_type": "execute_result",
          "data": {
            "text/plain": [
              "Sex\n",
              "female    466\n",
              "male      843\n",
              "dtype: int64"
            ]
          },
          "metadata": {},
          "execution_count": 20
        }
      ],
      "source": [
        "# useful for splitting the data into groups and aggregating them using different operators (e.g. sum or size)\n",
        "# here we split dataset by Sex and get the size (i.e. count) for each group \n",
        "df.groupby('Sex').size()"
      ]
    },
    {
      "cell_type": "code",
      "execution_count": 21,
      "metadata": {
        "id": "gAO49kXmjOuB",
        "outputId": "163bb9a0-81f6-4482-c2e6-ab25c58019c8",
        "colab": {
          "base_uri": "https://localhost:8080/",
          "height": 144
        }
      },
      "outputs": [
        {
          "output_type": "execute_result",
          "data": {
            "text/plain": [
              "              Age       Fare     Parch  PassengerId    Pclass     SibSp  \\\n",
              "Sex                                                                       \n",
              "female  28.687088  46.198097  0.633047   648.186695  2.154506  0.652361   \n",
              "male    30.585228  26.154601  0.247924   658.766311  2.372479  0.413998   \n",
              "\n",
              "        Survived  \n",
              "Sex               \n",
              "female   0.82618  \n",
              "male     0.12930  "
            ],
            "text/html": [
              "\n",
              "  <div id=\"df-9c254680-9518-4b51-a1fc-e0a403dedaaa\">\n",
              "    <div class=\"colab-df-container\">\n",
              "      <div>\n",
              "<style scoped>\n",
              "    .dataframe tbody tr th:only-of-type {\n",
              "        vertical-align: middle;\n",
              "    }\n",
              "\n",
              "    .dataframe tbody tr th {\n",
              "        vertical-align: top;\n",
              "    }\n",
              "\n",
              "    .dataframe thead th {\n",
              "        text-align: right;\n",
              "    }\n",
              "</style>\n",
              "<table border=\"1\" class=\"dataframe\">\n",
              "  <thead>\n",
              "    <tr style=\"text-align: right;\">\n",
              "      <th></th>\n",
              "      <th>Age</th>\n",
              "      <th>Fare</th>\n",
              "      <th>Parch</th>\n",
              "      <th>PassengerId</th>\n",
              "      <th>Pclass</th>\n",
              "      <th>SibSp</th>\n",
              "      <th>Survived</th>\n",
              "    </tr>\n",
              "    <tr>\n",
              "      <th>Sex</th>\n",
              "      <th></th>\n",
              "      <th></th>\n",
              "      <th></th>\n",
              "      <th></th>\n",
              "      <th></th>\n",
              "      <th></th>\n",
              "      <th></th>\n",
              "    </tr>\n",
              "  </thead>\n",
              "  <tbody>\n",
              "    <tr>\n",
              "      <th>female</th>\n",
              "      <td>28.687088</td>\n",
              "      <td>46.198097</td>\n",
              "      <td>0.633047</td>\n",
              "      <td>648.186695</td>\n",
              "      <td>2.154506</td>\n",
              "      <td>0.652361</td>\n",
              "      <td>0.82618</td>\n",
              "    </tr>\n",
              "    <tr>\n",
              "      <th>male</th>\n",
              "      <td>30.585228</td>\n",
              "      <td>26.154601</td>\n",
              "      <td>0.247924</td>\n",
              "      <td>658.766311</td>\n",
              "      <td>2.372479</td>\n",
              "      <td>0.413998</td>\n",
              "      <td>0.12930</td>\n",
              "    </tr>\n",
              "  </tbody>\n",
              "</table>\n",
              "</div>\n",
              "      <button class=\"colab-df-convert\" onclick=\"convertToInteractive('df-9c254680-9518-4b51-a1fc-e0a403dedaaa')\"\n",
              "              title=\"Convert this dataframe to an interactive table.\"\n",
              "              style=\"display:none;\">\n",
              "        \n",
              "  <svg xmlns=\"http://www.w3.org/2000/svg\" height=\"24px\"viewBox=\"0 0 24 24\"\n",
              "       width=\"24px\">\n",
              "    <path d=\"M0 0h24v24H0V0z\" fill=\"none\"/>\n",
              "    <path d=\"M18.56 5.44l.94 2.06.94-2.06 2.06-.94-2.06-.94-.94-2.06-.94 2.06-2.06.94zm-11 1L8.5 8.5l.94-2.06 2.06-.94-2.06-.94L8.5 2.5l-.94 2.06-2.06.94zm10 10l.94 2.06.94-2.06 2.06-.94-2.06-.94-.94-2.06-.94 2.06-2.06.94z\"/><path d=\"M17.41 7.96l-1.37-1.37c-.4-.4-.92-.59-1.43-.59-.52 0-1.04.2-1.43.59L10.3 9.45l-7.72 7.72c-.78.78-.78 2.05 0 2.83L4 21.41c.39.39.9.59 1.41.59.51 0 1.02-.2 1.41-.59l7.78-7.78 2.81-2.81c.8-.78.8-2.07 0-2.86zM5.41 20L4 18.59l7.72-7.72 1.47 1.35L5.41 20z\"/>\n",
              "  </svg>\n",
              "      </button>\n",
              "      \n",
              "  <style>\n",
              "    .colab-df-container {\n",
              "      display:flex;\n",
              "      flex-wrap:wrap;\n",
              "      gap: 12px;\n",
              "    }\n",
              "\n",
              "    .colab-df-convert {\n",
              "      background-color: #E8F0FE;\n",
              "      border: none;\n",
              "      border-radius: 50%;\n",
              "      cursor: pointer;\n",
              "      display: none;\n",
              "      fill: #1967D2;\n",
              "      height: 32px;\n",
              "      padding: 0 0 0 0;\n",
              "      width: 32px;\n",
              "    }\n",
              "\n",
              "    .colab-df-convert:hover {\n",
              "      background-color: #E2EBFA;\n",
              "      box-shadow: 0px 1px 2px rgba(60, 64, 67, 0.3), 0px 1px 3px 1px rgba(60, 64, 67, 0.15);\n",
              "      fill: #174EA6;\n",
              "    }\n",
              "\n",
              "    [theme=dark] .colab-df-convert {\n",
              "      background-color: #3B4455;\n",
              "      fill: #D2E3FC;\n",
              "    }\n",
              "\n",
              "    [theme=dark] .colab-df-convert:hover {\n",
              "      background-color: #434B5C;\n",
              "      box-shadow: 0px 1px 3px 1px rgba(0, 0, 0, 0.15);\n",
              "      filter: drop-shadow(0px 1px 2px rgba(0, 0, 0, 0.3));\n",
              "      fill: #FFFFFF;\n",
              "    }\n",
              "  </style>\n",
              "\n",
              "      <script>\n",
              "        const buttonEl =\n",
              "          document.querySelector('#df-9c254680-9518-4b51-a1fc-e0a403dedaaa button.colab-df-convert');\n",
              "        buttonEl.style.display =\n",
              "          google.colab.kernel.accessAllowed ? 'block' : 'none';\n",
              "\n",
              "        async function convertToInteractive(key) {\n",
              "          const element = document.querySelector('#df-9c254680-9518-4b51-a1fc-e0a403dedaaa');\n",
              "          const dataTable =\n",
              "            await google.colab.kernel.invokeFunction('convertToInteractive',\n",
              "                                                     [key], {});\n",
              "          if (!dataTable) return;\n",
              "\n",
              "          const docLinkHtml = 'Like what you see? Visit the ' +\n",
              "            '<a target=\"_blank\" href=https://colab.research.google.com/notebooks/data_table.ipynb>data table notebook</a>'\n",
              "            + ' to learn more about interactive tables.';\n",
              "          element.innerHTML = '';\n",
              "          dataTable['output_type'] = 'display_data';\n",
              "          await google.colab.output.renderOutput(dataTable, element);\n",
              "          const docLink = document.createElement('div');\n",
              "          docLink.innerHTML = docLinkHtml;\n",
              "          element.appendChild(docLink);\n",
              "        }\n",
              "      </script>\n",
              "    </div>\n",
              "  </div>\n",
              "  "
            ]
          },
          "metadata": {},
          "execution_count": 21
        }
      ],
      "source": [
        "# here we split dataset by Sex and get the mean value of other numeric variables for each group \n",
        "df.groupby('Sex').mean()"
      ]
    },
    {
      "cell_type": "code",
      "execution_count": 22,
      "metadata": {
        "id": "CW2MiktOjOuB",
        "outputId": "0ff3942c-9398-442c-c113-a227778294ed",
        "colab": {
          "base_uri": "https://localhost:8080/",
          "height": 144
        }
      },
      "outputs": [
        {
          "output_type": "execute_result",
          "data": {
            "text/plain": [
              "   Pclass  Survived\n",
              "0       1  0.575851\n",
              "1       2  0.422383\n",
              "2       3  0.269394"
            ],
            "text/html": [
              "\n",
              "  <div id=\"df-c61b2a19-c1fa-47c2-9136-c90932e53875\">\n",
              "    <div class=\"colab-df-container\">\n",
              "      <div>\n",
              "<style scoped>\n",
              "    .dataframe tbody tr th:only-of-type {\n",
              "        vertical-align: middle;\n",
              "    }\n",
              "\n",
              "    .dataframe tbody tr th {\n",
              "        vertical-align: top;\n",
              "    }\n",
              "\n",
              "    .dataframe thead th {\n",
              "        text-align: right;\n",
              "    }\n",
              "</style>\n",
              "<table border=\"1\" class=\"dataframe\">\n",
              "  <thead>\n",
              "    <tr style=\"text-align: right;\">\n",
              "      <th></th>\n",
              "      <th>Pclass</th>\n",
              "      <th>Survived</th>\n",
              "    </tr>\n",
              "  </thead>\n",
              "  <tbody>\n",
              "    <tr>\n",
              "      <th>0</th>\n",
              "      <td>1</td>\n",
              "      <td>0.575851</td>\n",
              "    </tr>\n",
              "    <tr>\n",
              "      <th>1</th>\n",
              "      <td>2</td>\n",
              "      <td>0.422383</td>\n",
              "    </tr>\n",
              "    <tr>\n",
              "      <th>2</th>\n",
              "      <td>3</td>\n",
              "      <td>0.269394</td>\n",
              "    </tr>\n",
              "  </tbody>\n",
              "</table>\n",
              "</div>\n",
              "      <button class=\"colab-df-convert\" onclick=\"convertToInteractive('df-c61b2a19-c1fa-47c2-9136-c90932e53875')\"\n",
              "              title=\"Convert this dataframe to an interactive table.\"\n",
              "              style=\"display:none;\">\n",
              "        \n",
              "  <svg xmlns=\"http://www.w3.org/2000/svg\" height=\"24px\"viewBox=\"0 0 24 24\"\n",
              "       width=\"24px\">\n",
              "    <path d=\"M0 0h24v24H0V0z\" fill=\"none\"/>\n",
              "    <path d=\"M18.56 5.44l.94 2.06.94-2.06 2.06-.94-2.06-.94-.94-2.06-.94 2.06-2.06.94zm-11 1L8.5 8.5l.94-2.06 2.06-.94-2.06-.94L8.5 2.5l-.94 2.06-2.06.94zm10 10l.94 2.06.94-2.06 2.06-.94-2.06-.94-.94-2.06-.94 2.06-2.06.94z\"/><path d=\"M17.41 7.96l-1.37-1.37c-.4-.4-.92-.59-1.43-.59-.52 0-1.04.2-1.43.59L10.3 9.45l-7.72 7.72c-.78.78-.78 2.05 0 2.83L4 21.41c.39.39.9.59 1.41.59.51 0 1.02-.2 1.41-.59l7.78-7.78 2.81-2.81c.8-.78.8-2.07 0-2.86zM5.41 20L4 18.59l7.72-7.72 1.47 1.35L5.41 20z\"/>\n",
              "  </svg>\n",
              "      </button>\n",
              "      \n",
              "  <style>\n",
              "    .colab-df-container {\n",
              "      display:flex;\n",
              "      flex-wrap:wrap;\n",
              "      gap: 12px;\n",
              "    }\n",
              "\n",
              "    .colab-df-convert {\n",
              "      background-color: #E8F0FE;\n",
              "      border: none;\n",
              "      border-radius: 50%;\n",
              "      cursor: pointer;\n",
              "      display: none;\n",
              "      fill: #1967D2;\n",
              "      height: 32px;\n",
              "      padding: 0 0 0 0;\n",
              "      width: 32px;\n",
              "    }\n",
              "\n",
              "    .colab-df-convert:hover {\n",
              "      background-color: #E2EBFA;\n",
              "      box-shadow: 0px 1px 2px rgba(60, 64, 67, 0.3), 0px 1px 3px 1px rgba(60, 64, 67, 0.15);\n",
              "      fill: #174EA6;\n",
              "    }\n",
              "\n",
              "    [theme=dark] .colab-df-convert {\n",
              "      background-color: #3B4455;\n",
              "      fill: #D2E3FC;\n",
              "    }\n",
              "\n",
              "    [theme=dark] .colab-df-convert:hover {\n",
              "      background-color: #434B5C;\n",
              "      box-shadow: 0px 1px 3px 1px rgba(0, 0, 0, 0.15);\n",
              "      filter: drop-shadow(0px 1px 2px rgba(0, 0, 0, 0.3));\n",
              "      fill: #FFFFFF;\n",
              "    }\n",
              "  </style>\n",
              "\n",
              "      <script>\n",
              "        const buttonEl =\n",
              "          document.querySelector('#df-c61b2a19-c1fa-47c2-9136-c90932e53875 button.colab-df-convert');\n",
              "        buttonEl.style.display =\n",
              "          google.colab.kernel.accessAllowed ? 'block' : 'none';\n",
              "\n",
              "        async function convertToInteractive(key) {\n",
              "          const element = document.querySelector('#df-c61b2a19-c1fa-47c2-9136-c90932e53875');\n",
              "          const dataTable =\n",
              "            await google.colab.kernel.invokeFunction('convertToInteractive',\n",
              "                                                     [key], {});\n",
              "          if (!dataTable) return;\n",
              "\n",
              "          const docLinkHtml = 'Like what you see? Visit the ' +\n",
              "            '<a target=\"_blank\" href=https://colab.research.google.com/notebooks/data_table.ipynb>data table notebook</a>'\n",
              "            + ' to learn more about interactive tables.';\n",
              "          element.innerHTML = '';\n",
              "          dataTable['output_type'] = 'display_data';\n",
              "          await google.colab.output.renderOutput(dataTable, element);\n",
              "          const docLink = document.createElement('div');\n",
              "          docLink.innerHTML = docLinkHtml;\n",
              "          element.appendChild(docLink);\n",
              "        }\n",
              "      </script>\n",
              "    </div>\n",
              "  </div>\n",
              "  "
            ]
          },
          "metadata": {},
          "execution_count": 22
        }
      ],
      "source": [
        "# here we split dataset by Pclass and get the mean value of Survived for each group \n",
        "# (i.e. the probability of surviving for each Pclass group) \n",
        "df[['Pclass', 'Survived']].groupby(['Pclass'], as_index=False).mean().sort_values(by='Survived', ascending=False)"
      ]
    },
    {
      "cell_type": "markdown",
      "metadata": {
        "id": "-k29Q-THjOuC"
      },
      "source": [
        "### Missing Value Imputation"
      ]
    },
    {
      "cell_type": "code",
      "execution_count": 27,
      "metadata": {
        "id": "lYpnXQKBjOuC",
        "outputId": "c6fb0b5c-f539-440d-ea70-22977bfbdf20",
        "colab": {
          "base_uri": "https://localhost:8080/"
        }
      },
      "outputs": [
        {
          "output_type": "execute_result",
          "data": {
            "text/plain": [
              "Age             True\n",
              "Cabin           True\n",
              "Embarked        True\n",
              "Fare            True\n",
              "Name           False\n",
              "Parch          False\n",
              "PassengerId    False\n",
              "Pclass         False\n",
              "Sex            False\n",
              "SibSp          False\n",
              "Survived       False\n",
              "Ticket         False\n",
              "dtype: bool"
            ]
          },
          "metadata": {},
          "execution_count": 27
        }
      ],
      "source": [
        "# which columns have a missing value?\n",
        "df.isnull().any(axis=0) #axis 0 is rows so those are compressed"
      ]
    },
    {
      "cell_type": "code",
      "execution_count": 28,
      "metadata": {
        "id": "W1CkQqbujOuC",
        "outputId": "43f17fbc-105d-4e18-b3cc-f5949592e8c5",
        "colab": {
          "base_uri": "https://localhost:8080/"
        }
      },
      "outputs": [
        {
          "output_type": "execute_result",
          "data": {
            "text/plain": [
              "1039"
            ]
          },
          "metadata": {},
          "execution_count": 28
        }
      ],
      "source": [
        "# how many rows have a missing value?\n",
        "df.isnull().any(axis=1).sum()"
      ]
    },
    {
      "cell_type": "code",
      "source": [
        "df.isna().sum()/df.shape[0]"
      ],
      "metadata": {
        "colab": {
          "base_uri": "https://localhost:8080/"
        },
        "id": "C7a9NcStEuTp",
        "outputId": "b3b582d6-fea9-42ae-f6e8-9d1bf7017562"
      },
      "execution_count": 30,
      "outputs": [
        {
          "output_type": "execute_result",
          "data": {
            "text/plain": [
              "Age            0.200917\n",
              "Cabin          0.774637\n",
              "Embarked       0.001528\n",
              "Fare           0.000764\n",
              "Name           0.000000\n",
              "Parch          0.000000\n",
              "PassengerId    0.000000\n",
              "Pclass         0.000000\n",
              "Sex            0.000000\n",
              "SibSp          0.000000\n",
              "Survived       0.000000\n",
              "Ticket         0.000000\n",
              "dtype: float64"
            ]
          },
          "metadata": {},
          "execution_count": 30
        }
      ]
    },
    {
      "cell_type": "code",
      "execution_count": 31,
      "metadata": {
        "id": "UUB3gWjcjOuC",
        "outputId": "b3b1457b-b31f-4230-8f1d-8c87af7898b7",
        "colab": {
          "base_uri": "https://localhost:8080/",
          "height": 81
        }
      },
      "outputs": [
        {
          "output_type": "execute_result",
          "data": {
            "text/plain": [
              "         Age  Cabin  Embarked  Fare  Name  Parch  PassengerId  Pclass  Sex  \\\n",
              "% NaN  20.09  77.46      0.15  0.08   0.0    0.0          0.0     0.0  0.0   \n",
              "\n",
              "       SibSp  Survived  Ticket  \n",
              "% NaN    0.0       0.0     0.0  "
            ],
            "text/html": [
              "\n",
              "  <div id=\"df-27144612-0b64-45a8-8231-7394d6661592\">\n",
              "    <div class=\"colab-df-container\">\n",
              "      <div>\n",
              "<style scoped>\n",
              "    .dataframe tbody tr th:only-of-type {\n",
              "        vertical-align: middle;\n",
              "    }\n",
              "\n",
              "    .dataframe tbody tr th {\n",
              "        vertical-align: top;\n",
              "    }\n",
              "\n",
              "    .dataframe thead th {\n",
              "        text-align: right;\n",
              "    }\n",
              "</style>\n",
              "<table border=\"1\" class=\"dataframe\">\n",
              "  <thead>\n",
              "    <tr style=\"text-align: right;\">\n",
              "      <th></th>\n",
              "      <th>Age</th>\n",
              "      <th>Cabin</th>\n",
              "      <th>Embarked</th>\n",
              "      <th>Fare</th>\n",
              "      <th>Name</th>\n",
              "      <th>Parch</th>\n",
              "      <th>PassengerId</th>\n",
              "      <th>Pclass</th>\n",
              "      <th>Sex</th>\n",
              "      <th>SibSp</th>\n",
              "      <th>Survived</th>\n",
              "      <th>Ticket</th>\n",
              "    </tr>\n",
              "  </thead>\n",
              "  <tbody>\n",
              "    <tr>\n",
              "      <th>% NaN</th>\n",
              "      <td>20.09</td>\n",
              "      <td>77.46</td>\n",
              "      <td>0.15</td>\n",
              "      <td>0.08</td>\n",
              "      <td>0.0</td>\n",
              "      <td>0.0</td>\n",
              "      <td>0.0</td>\n",
              "      <td>0.0</td>\n",
              "      <td>0.0</td>\n",
              "      <td>0.0</td>\n",
              "      <td>0.0</td>\n",
              "      <td>0.0</td>\n",
              "    </tr>\n",
              "  </tbody>\n",
              "</table>\n",
              "</div>\n",
              "      <button class=\"colab-df-convert\" onclick=\"convertToInteractive('df-27144612-0b64-45a8-8231-7394d6661592')\"\n",
              "              title=\"Convert this dataframe to an interactive table.\"\n",
              "              style=\"display:none;\">\n",
              "        \n",
              "  <svg xmlns=\"http://www.w3.org/2000/svg\" height=\"24px\"viewBox=\"0 0 24 24\"\n",
              "       width=\"24px\">\n",
              "    <path d=\"M0 0h24v24H0V0z\" fill=\"none\"/>\n",
              "    <path d=\"M18.56 5.44l.94 2.06.94-2.06 2.06-.94-2.06-.94-.94-2.06-.94 2.06-2.06.94zm-11 1L8.5 8.5l.94-2.06 2.06-.94-2.06-.94L8.5 2.5l-.94 2.06-2.06.94zm10 10l.94 2.06.94-2.06 2.06-.94-2.06-.94-.94-2.06-.94 2.06-2.06.94z\"/><path d=\"M17.41 7.96l-1.37-1.37c-.4-.4-.92-.59-1.43-.59-.52 0-1.04.2-1.43.59L10.3 9.45l-7.72 7.72c-.78.78-.78 2.05 0 2.83L4 21.41c.39.39.9.59 1.41.59.51 0 1.02-.2 1.41-.59l7.78-7.78 2.81-2.81c.8-.78.8-2.07 0-2.86zM5.41 20L4 18.59l7.72-7.72 1.47 1.35L5.41 20z\"/>\n",
              "  </svg>\n",
              "      </button>\n",
              "      \n",
              "  <style>\n",
              "    .colab-df-container {\n",
              "      display:flex;\n",
              "      flex-wrap:wrap;\n",
              "      gap: 12px;\n",
              "    }\n",
              "\n",
              "    .colab-df-convert {\n",
              "      background-color: #E8F0FE;\n",
              "      border: none;\n",
              "      border-radius: 50%;\n",
              "      cursor: pointer;\n",
              "      display: none;\n",
              "      fill: #1967D2;\n",
              "      height: 32px;\n",
              "      padding: 0 0 0 0;\n",
              "      width: 32px;\n",
              "    }\n",
              "\n",
              "    .colab-df-convert:hover {\n",
              "      background-color: #E2EBFA;\n",
              "      box-shadow: 0px 1px 2px rgba(60, 64, 67, 0.3), 0px 1px 3px 1px rgba(60, 64, 67, 0.15);\n",
              "      fill: #174EA6;\n",
              "    }\n",
              "\n",
              "    [theme=dark] .colab-df-convert {\n",
              "      background-color: #3B4455;\n",
              "      fill: #D2E3FC;\n",
              "    }\n",
              "\n",
              "    [theme=dark] .colab-df-convert:hover {\n",
              "      background-color: #434B5C;\n",
              "      box-shadow: 0px 1px 3px 1px rgba(0, 0, 0, 0.15);\n",
              "      filter: drop-shadow(0px 1px 2px rgba(0, 0, 0, 0.3));\n",
              "      fill: #FFFFFF;\n",
              "    }\n",
              "  </style>\n",
              "\n",
              "      <script>\n",
              "        const buttonEl =\n",
              "          document.querySelector('#df-27144612-0b64-45a8-8231-7394d6661592 button.colab-df-convert');\n",
              "        buttonEl.style.display =\n",
              "          google.colab.kernel.accessAllowed ? 'block' : 'none';\n",
              "\n",
              "        async function convertToInteractive(key) {\n",
              "          const element = document.querySelector('#df-27144612-0b64-45a8-8231-7394d6661592');\n",
              "          const dataTable =\n",
              "            await google.colab.kernel.invokeFunction('convertToInteractive',\n",
              "                                                     [key], {});\n",
              "          if (!dataTable) return;\n",
              "\n",
              "          const docLinkHtml = 'Like what you see? Visit the ' +\n",
              "            '<a target=\"_blank\" href=https://colab.research.google.com/notebooks/data_table.ipynb>data table notebook</a>'\n",
              "            + ' to learn more about interactive tables.';\n",
              "          element.innerHTML = '';\n",
              "          dataTable['output_type'] = 'display_data';\n",
              "          await google.colab.output.renderOutput(dataTable, element);\n",
              "          const docLink = document.createElement('div');\n",
              "          docLink.innerHTML = docLinkHtml;\n",
              "          element.appendChild(docLink);\n",
              "        }\n",
              "      </script>\n",
              "    </div>\n",
              "  </div>\n",
              "  "
            ]
          },
          "metadata": {},
          "execution_count": 31
        }
      ],
      "source": [
        "# what percent of each column is missing?\n",
        "df_nan = round(100*df.isna().sum()/df.shape[0],2)\n",
        "index = df_nan.index\n",
        "\n",
        "pd.DataFrame({ '% NaN': df_nan}, index=index).T"
      ]
    },
    {
      "cell_type": "markdown",
      "metadata": {
        "id": "Oqd2u5PkjOuD"
      },
      "source": [
        "We see that ~77% and ~20 of values are missing for Cabin and Age columns respectively, while less than 1% are missing for Embarked and Fare columns"
      ]
    },
    {
      "cell_type": "markdown",
      "metadata": {
        "id": "NxH52YiQjOuD"
      },
      "source": [
        "#### Age"
      ]
    },
    {
      "cell_type": "markdown",
      "metadata": {
        "id": "1xMy2lUTjOuD"
      },
      "source": [
        "The simplest approach is to replace all the missing values of Age by the overal mean of Age column (i.e. mean replacement). However, that would introduce bias. If we extract everybody's title from their names, that will give us a great grouping for replacing missing value by average age of each group (i.e. by title). That's the approach we will use here."
      ]
    },
    {
      "cell_type": "code",
      "execution_count": 32,
      "metadata": {
        "execution": {
          "iopub.execute_input": "2022-01-13T11:50:56.513869Z",
          "iopub.status.busy": "2022-01-13T11:50:56.512972Z",
          "iopub.status.idle": "2022-01-13T11:50:56.562873Z",
          "shell.execute_reply": "2022-01-13T11:50:56.562184Z",
          "shell.execute_reply.started": "2021-12-30T16:11:07.578316Z"
        },
        "id": "d-xl3BPKTYY8",
        "papermill": {
          "duration": 0.128608,
          "end_time": "2022-01-13T11:50:56.563024",
          "exception": false,
          "start_time": "2022-01-13T11:50:56.434416",
          "status": "completed"
        },
        "tags": []
      },
      "outputs": [],
      "source": [
        "# extract titles from names\n",
        "df['Title'] = [n.split(',')[1].strip().split('.')[0] for n in df.Name.astype(str)]\n",
        "\n",
        "# replace missing Age values with the mean Age for each title group\n",
        "for title in df['Title'].unique():\n",
        "    value = int(df.loc[(df['Age'].notnull())&(df['Title']==title), 'Age'].mean())\n",
        "    df.loc[(df['Age'].isnull())&(df['Title']==title),'Age'] = value\n",
        "\n",
        "# Dropping the Title column\n",
        "# df.drop('Title', axis=1, inplace=True)"
      ]
    },
    {
      "cell_type": "code",
      "execution_count": 33,
      "metadata": {
        "id": "GR5d9Ts9jOuD",
        "outputId": "b0eab319-9ba3-4b85-9ac4-79b28d810d09",
        "colab": {
          "base_uri": "https://localhost:8080/",
          "height": 206
        }
      },
      "outputs": [
        {
          "output_type": "execute_result",
          "data": {
            "text/plain": [
              "    Age Cabin Embarked     Fare  \\\n",
              "0  22.0   NaN        S   7.2500   \n",
              "1  38.0   C85        C  71.2833   \n",
              "2  26.0   NaN        S   7.9250   \n",
              "3  35.0  C123        S  53.1000   \n",
              "4  35.0   NaN        S   8.0500   \n",
              "\n",
              "                                                Name  Parch  PassengerId  \\\n",
              "0                            Braund, Mr. Owen Harris      0            1   \n",
              "1  Cumings, Mrs. John Bradley (Florence Briggs Th...      0            2   \n",
              "2                             Heikkinen, Miss. Laina      0            3   \n",
              "3       Futrelle, Mrs. Jacques Heath (Lily May Peel)      0            4   \n",
              "4                           Allen, Mr. William Henry      0            5   \n",
              "\n",
              "   Pclass     Sex  SibSp  Survived            Ticket Title  \n",
              "0       3    male      1         0         A/5 21171    Mr  \n",
              "1       1  female      1         1          PC 17599   Mrs  \n",
              "2       3  female      0         1  STON/O2. 3101282  Miss  \n",
              "3       1  female      1         1            113803   Mrs  \n",
              "4       3    male      0         0            373450    Mr  "
            ],
            "text/html": [
              "\n",
              "  <div id=\"df-95853cfe-3310-4fcd-a7a3-f11d5532d89e\">\n",
              "    <div class=\"colab-df-container\">\n",
              "      <div>\n",
              "<style scoped>\n",
              "    .dataframe tbody tr th:only-of-type {\n",
              "        vertical-align: middle;\n",
              "    }\n",
              "\n",
              "    .dataframe tbody tr th {\n",
              "        vertical-align: top;\n",
              "    }\n",
              "\n",
              "    .dataframe thead th {\n",
              "        text-align: right;\n",
              "    }\n",
              "</style>\n",
              "<table border=\"1\" class=\"dataframe\">\n",
              "  <thead>\n",
              "    <tr style=\"text-align: right;\">\n",
              "      <th></th>\n",
              "      <th>Age</th>\n",
              "      <th>Cabin</th>\n",
              "      <th>Embarked</th>\n",
              "      <th>Fare</th>\n",
              "      <th>Name</th>\n",
              "      <th>Parch</th>\n",
              "      <th>PassengerId</th>\n",
              "      <th>Pclass</th>\n",
              "      <th>Sex</th>\n",
              "      <th>SibSp</th>\n",
              "      <th>Survived</th>\n",
              "      <th>Ticket</th>\n",
              "      <th>Title</th>\n",
              "    </tr>\n",
              "  </thead>\n",
              "  <tbody>\n",
              "    <tr>\n",
              "      <th>0</th>\n",
              "      <td>22.0</td>\n",
              "      <td>NaN</td>\n",
              "      <td>S</td>\n",
              "      <td>7.2500</td>\n",
              "      <td>Braund, Mr. Owen Harris</td>\n",
              "      <td>0</td>\n",
              "      <td>1</td>\n",
              "      <td>3</td>\n",
              "      <td>male</td>\n",
              "      <td>1</td>\n",
              "      <td>0</td>\n",
              "      <td>A/5 21171</td>\n",
              "      <td>Mr</td>\n",
              "    </tr>\n",
              "    <tr>\n",
              "      <th>1</th>\n",
              "      <td>38.0</td>\n",
              "      <td>C85</td>\n",
              "      <td>C</td>\n",
              "      <td>71.2833</td>\n",
              "      <td>Cumings, Mrs. John Bradley (Florence Briggs Th...</td>\n",
              "      <td>0</td>\n",
              "      <td>2</td>\n",
              "      <td>1</td>\n",
              "      <td>female</td>\n",
              "      <td>1</td>\n",
              "      <td>1</td>\n",
              "      <td>PC 17599</td>\n",
              "      <td>Mrs</td>\n",
              "    </tr>\n",
              "    <tr>\n",
              "      <th>2</th>\n",
              "      <td>26.0</td>\n",
              "      <td>NaN</td>\n",
              "      <td>S</td>\n",
              "      <td>7.9250</td>\n",
              "      <td>Heikkinen, Miss. Laina</td>\n",
              "      <td>0</td>\n",
              "      <td>3</td>\n",
              "      <td>3</td>\n",
              "      <td>female</td>\n",
              "      <td>0</td>\n",
              "      <td>1</td>\n",
              "      <td>STON/O2. 3101282</td>\n",
              "      <td>Miss</td>\n",
              "    </tr>\n",
              "    <tr>\n",
              "      <th>3</th>\n",
              "      <td>35.0</td>\n",
              "      <td>C123</td>\n",
              "      <td>S</td>\n",
              "      <td>53.1000</td>\n",
              "      <td>Futrelle, Mrs. Jacques Heath (Lily May Peel)</td>\n",
              "      <td>0</td>\n",
              "      <td>4</td>\n",
              "      <td>1</td>\n",
              "      <td>female</td>\n",
              "      <td>1</td>\n",
              "      <td>1</td>\n",
              "      <td>113803</td>\n",
              "      <td>Mrs</td>\n",
              "    </tr>\n",
              "    <tr>\n",
              "      <th>4</th>\n",
              "      <td>35.0</td>\n",
              "      <td>NaN</td>\n",
              "      <td>S</td>\n",
              "      <td>8.0500</td>\n",
              "      <td>Allen, Mr. William Henry</td>\n",
              "      <td>0</td>\n",
              "      <td>5</td>\n",
              "      <td>3</td>\n",
              "      <td>male</td>\n",
              "      <td>0</td>\n",
              "      <td>0</td>\n",
              "      <td>373450</td>\n",
              "      <td>Mr</td>\n",
              "    </tr>\n",
              "  </tbody>\n",
              "</table>\n",
              "</div>\n",
              "      <button class=\"colab-df-convert\" onclick=\"convertToInteractive('df-95853cfe-3310-4fcd-a7a3-f11d5532d89e')\"\n",
              "              title=\"Convert this dataframe to an interactive table.\"\n",
              "              style=\"display:none;\">\n",
              "        \n",
              "  <svg xmlns=\"http://www.w3.org/2000/svg\" height=\"24px\"viewBox=\"0 0 24 24\"\n",
              "       width=\"24px\">\n",
              "    <path d=\"M0 0h24v24H0V0z\" fill=\"none\"/>\n",
              "    <path d=\"M18.56 5.44l.94 2.06.94-2.06 2.06-.94-2.06-.94-.94-2.06-.94 2.06-2.06.94zm-11 1L8.5 8.5l.94-2.06 2.06-.94-2.06-.94L8.5 2.5l-.94 2.06-2.06.94zm10 10l.94 2.06.94-2.06 2.06-.94-2.06-.94-.94-2.06-.94 2.06-2.06.94z\"/><path d=\"M17.41 7.96l-1.37-1.37c-.4-.4-.92-.59-1.43-.59-.52 0-1.04.2-1.43.59L10.3 9.45l-7.72 7.72c-.78.78-.78 2.05 0 2.83L4 21.41c.39.39.9.59 1.41.59.51 0 1.02-.2 1.41-.59l7.78-7.78 2.81-2.81c.8-.78.8-2.07 0-2.86zM5.41 20L4 18.59l7.72-7.72 1.47 1.35L5.41 20z\"/>\n",
              "  </svg>\n",
              "      </button>\n",
              "      \n",
              "  <style>\n",
              "    .colab-df-container {\n",
              "      display:flex;\n",
              "      flex-wrap:wrap;\n",
              "      gap: 12px;\n",
              "    }\n",
              "\n",
              "    .colab-df-convert {\n",
              "      background-color: #E8F0FE;\n",
              "      border: none;\n",
              "      border-radius: 50%;\n",
              "      cursor: pointer;\n",
              "      display: none;\n",
              "      fill: #1967D2;\n",
              "      height: 32px;\n",
              "      padding: 0 0 0 0;\n",
              "      width: 32px;\n",
              "    }\n",
              "\n",
              "    .colab-df-convert:hover {\n",
              "      background-color: #E2EBFA;\n",
              "      box-shadow: 0px 1px 2px rgba(60, 64, 67, 0.3), 0px 1px 3px 1px rgba(60, 64, 67, 0.15);\n",
              "      fill: #174EA6;\n",
              "    }\n",
              "\n",
              "    [theme=dark] .colab-df-convert {\n",
              "      background-color: #3B4455;\n",
              "      fill: #D2E3FC;\n",
              "    }\n",
              "\n",
              "    [theme=dark] .colab-df-convert:hover {\n",
              "      background-color: #434B5C;\n",
              "      box-shadow: 0px 1px 3px 1px rgba(0, 0, 0, 0.15);\n",
              "      filter: drop-shadow(0px 1px 2px rgba(0, 0, 0, 0.3));\n",
              "      fill: #FFFFFF;\n",
              "    }\n",
              "  </style>\n",
              "\n",
              "      <script>\n",
              "        const buttonEl =\n",
              "          document.querySelector('#df-95853cfe-3310-4fcd-a7a3-f11d5532d89e button.colab-df-convert');\n",
              "        buttonEl.style.display =\n",
              "          google.colab.kernel.accessAllowed ? 'block' : 'none';\n",
              "\n",
              "        async function convertToInteractive(key) {\n",
              "          const element = document.querySelector('#df-95853cfe-3310-4fcd-a7a3-f11d5532d89e');\n",
              "          const dataTable =\n",
              "            await google.colab.kernel.invokeFunction('convertToInteractive',\n",
              "                                                     [key], {});\n",
              "          if (!dataTable) return;\n",
              "\n",
              "          const docLinkHtml = 'Like what you see? Visit the ' +\n",
              "            '<a target=\"_blank\" href=https://colab.research.google.com/notebooks/data_table.ipynb>data table notebook</a>'\n",
              "            + ' to learn more about interactive tables.';\n",
              "          element.innerHTML = '';\n",
              "          dataTable['output_type'] = 'display_data';\n",
              "          await google.colab.output.renderOutput(dataTable, element);\n",
              "          const docLink = document.createElement('div');\n",
              "          docLink.innerHTML = docLinkHtml;\n",
              "          element.appendChild(docLink);\n",
              "        }\n",
              "      </script>\n",
              "    </div>\n",
              "  </div>\n",
              "  "
            ]
          },
          "metadata": {},
          "execution_count": 33
        }
      ],
      "source": [
        "df.head()"
      ]
    },
    {
      "cell_type": "code",
      "execution_count": null,
      "metadata": {
        "id": "H3TlkqlyjOuE",
        "outputId": "0590dab9-101a-4bcd-eb3b-0abedb92841b"
      },
      "outputs": [
        {
          "data": {
            "text/plain": [
              "count    1309.000000\n",
              "mean       29.809526\n",
              "std        13.201675\n",
              "min         0.170000\n",
              "25%        21.000000\n",
              "50%        30.000000\n",
              "75%        36.000000\n",
              "max        80.000000\n",
              "Name: Age, dtype: float64"
            ]
          },
          "execution_count": 23,
          "metadata": {},
          "output_type": "execute_result"
        }
      ],
      "source": [
        "df.Age.describe()"
      ]
    },
    {
      "cell_type": "markdown",
      "metadata": {
        "id": "VFwfuT-di5P_",
        "papermill": {
          "duration": 0.069496,
          "end_time": "2022-01-13T11:50:57.157899",
          "exception": false,
          "start_time": "2022-01-13T11:50:57.088403",
          "status": "completed"
        },
        "tags": []
      },
      "source": [
        "#### Cabin"
      ]
    },
    {
      "cell_type": "markdown",
      "metadata": {
        "id": "dMn2kJVNjOuE"
      },
      "source": [
        "Since the majority of Cabin values are missing, we may first decide to remove the column entirely. However, there's a clever way to retain some useful information from this column. If we look at the number of missing Cabin values for each Pclass group, we see that fewer passengers from Pclass 1 miss Cabin value compared to Pclass 2 and 3:"
      ]
    },
    {
      "cell_type": "code",
      "execution_count": null,
      "metadata": {
        "id": "cE2YZqqMjOuE",
        "outputId": "91b61823-01da-4f2a-ab0e-370867bceb1a"
      },
      "outputs": [
        {
          "data": {
            "text/plain": [
              "Pclass\n",
              "1     67.0\n",
              "2    254.0\n",
              "3    693.0\n",
              "Name: Cabin, dtype: float64"
            ]
          },
          "execution_count": 24,
          "metadata": {},
          "output_type": "execute_result"
        }
      ],
      "source": [
        "# how many Cabin values are missing per Pclass group?\n",
        "df.drop('Pclass', axis=1)['Cabin'].isna().groupby(df.Pclass, sort=True).sum()"
      ]
    },
    {
      "cell_type": "code",
      "execution_count": null,
      "metadata": {
        "id": "1Ta6X11ojOuE",
        "outputId": "aa148d0b-f0e8-47ab-d894-c434eb1b6713"
      },
      "outputs": [
        {
          "data": {
            "text/plain": [
              "Pclass\n",
              "1    323\n",
              "2    277\n",
              "3    709\n",
              "dtype: int64"
            ]
          },
          "execution_count": 25,
          "metadata": {},
          "output_type": "execute_result"
        }
      ],
      "source": [
        "# how many passengers we have in each Pclass group?\n",
        "df.groupby('Pclass').size()"
      ]
    },
    {
      "cell_type": "markdown",
      "metadata": {
        "id": "1w-AhOqtjOuF"
      },
      "source": [
        "We also saw in the Groupby section above that survival rate correlates with Pclass. Therefore the fact that a passenger has Cabin value recorded can be predictive of their chance to survive (the target value in this problem). Therefore we create a new column called CabinRecorded."
      ]
    },
    {
      "cell_type": "code",
      "execution_count": null,
      "metadata": {
        "execution": {
          "iopub.execute_input": "2022-01-13T11:50:57.442741Z",
          "iopub.status.busy": "2022-01-13T11:50:57.441780Z",
          "iopub.status.idle": "2022-01-13T11:50:57.448730Z",
          "shell.execute_reply": "2022-01-13T11:50:57.449273Z",
          "shell.execute_reply.started": "2021-12-30T16:11:07.710157Z"
        },
        "id": "aRn8je72Kd3x",
        "papermill": {
          "duration": 0.083459,
          "end_time": "2022-01-13T11:50:57.449453",
          "exception": false,
          "start_time": "2022-01-13T11:50:57.365994",
          "status": "completed"
        },
        "tags": []
      },
      "outputs": [],
      "source": [
        "# create a new column for CabinRecorded\n",
        "df['CabinRecorded'] = 0\n",
        "df.loc[df.Cabin.notnull(), 'CabinRecorded'] = 1\n",
        "df.drop('Cabin', axis=1, inplace=True)"
      ]
    },
    {
      "cell_type": "code",
      "execution_count": null,
      "metadata": {
        "id": "28C_E9nIjOuF",
        "outputId": "c189a52b-e19c-4f4e-8d03-730a7fca1000"
      },
      "outputs": [
        {
          "data": {
            "text/plain": [
              "295"
            ]
          },
          "execution_count": 27,
          "metadata": {},
          "output_type": "execute_result"
        }
      ],
      "source": [
        "# how many passengers have CabinRecorded?\n",
        "df.CabinRecorded.sum()"
      ]
    },
    {
      "cell_type": "markdown",
      "metadata": {
        "id": "ZN0fV0YhrNOF",
        "papermill": {
          "duration": 0.068428,
          "end_time": "2022-01-13T11:50:57.726180",
          "exception": false,
          "start_time": "2022-01-13T11:50:57.657752",
          "status": "completed"
        },
        "tags": []
      },
      "source": [
        "#### Embarked"
      ]
    },
    {
      "cell_type": "markdown",
      "metadata": {
        "id": "H4cWLtDjrQK6",
        "papermill": {
          "duration": 0.067983,
          "end_time": "2022-01-13T11:50:57.862734",
          "exception": false,
          "start_time": "2022-01-13T11:50:57.794751",
          "status": "completed"
        },
        "tags": []
      },
      "source": [
        "There are only 2 missing values in the Embarked column. We simply replace missing Embarked values with the mode."
      ]
    },
    {
      "cell_type": "code",
      "execution_count": null,
      "metadata": {
        "execution": {
          "iopub.execute_input": "2022-01-13T11:50:58.308380Z",
          "iopub.status.busy": "2022-01-13T11:50:58.307445Z",
          "iopub.status.idle": "2022-01-13T11:50:58.309418Z",
          "shell.execute_reply": "2022-01-13T11:50:58.309868Z",
          "shell.execute_reply.started": "2021-12-30T16:11:07.745297Z"
        },
        "id": "9Fw7U7YBugmK",
        "papermill": {
          "duration": 0.078344,
          "end_time": "2022-01-13T11:50:58.310014",
          "exception": false,
          "start_time": "2022-01-13T11:50:58.231670",
          "status": "completed"
        },
        "tags": []
      },
      "outputs": [],
      "source": [
        "# replace missing Embarked values with the mode\n",
        "df.Embarked.fillna(df.Embarked.mode()[0], inplace=True)"
      ]
    },
    {
      "cell_type": "markdown",
      "metadata": {
        "id": "LtCaW6n38Bc7",
        "papermill": {
          "duration": 0.070242,
          "end_time": "2022-01-13T11:50:58.613071",
          "exception": false,
          "start_time": "2022-01-13T11:50:58.542829",
          "status": "completed"
        },
        "tags": []
      },
      "source": [
        "#### Fare"
      ]
    },
    {
      "cell_type": "markdown",
      "metadata": {
        "id": "hl71jkWN8GqE",
        "papermill": {
          "duration": 0.069138,
          "end_time": "2022-01-13T11:50:58.751765",
          "exception": false,
          "start_time": "2022-01-13T11:50:58.682627",
          "status": "completed"
        },
        "tags": []
      },
      "source": [
        "There is only one missing value in the Fare column. Since Fare depends on the ticket class (i.e. Pclass), we replace missing Fare value using the mean value of Fare for the corresponding Pclass."
      ]
    },
    {
      "cell_type": "code",
      "execution_count": null,
      "metadata": {
        "execution": {
          "iopub.execute_input": "2022-01-13T11:50:58.896699Z",
          "iopub.status.busy": "2022-01-13T11:50:58.896066Z",
          "iopub.status.idle": "2022-01-13T11:50:58.898740Z",
          "shell.execute_reply": "2022-01-13T11:50:58.899144Z",
          "shell.execute_reply.started": "2021-12-30T16:11:07.781269Z"
        },
        "id": "GFp0T6h7-xnA",
        "papermill": {
          "duration": 0.07845,
          "end_time": "2022-01-13T11:50:58.899276",
          "exception": false,
          "start_time": "2022-01-13T11:50:58.820826",
          "status": "completed"
        },
        "tags": []
      },
      "outputs": [],
      "source": [
        "# replace missing Fare value\n",
        "passenger_class = df.loc[df.Fare.isna(), 'Pclass'].iloc[0]\n",
        "value = df.loc[(df.Fare.notnull()) & (df.Pclass == passenger_class), 'Fare'].mean()\n",
        "df.Fare.fillna(value, inplace=True)"
      ]
    },
    {
      "cell_type": "code",
      "execution_count": null,
      "metadata": {
        "id": "ov1AadQdjOuG",
        "outputId": "34ab45cd-8369-4b39-b637-a81fcc2b8a70"
      },
      "outputs": [
        {
          "data": {
            "text/html": [
              "<div>\n",
              "<style scoped>\n",
              "    .dataframe tbody tr th:only-of-type {\n",
              "        vertical-align: middle;\n",
              "    }\n",
              "\n",
              "    .dataframe tbody tr th {\n",
              "        vertical-align: top;\n",
              "    }\n",
              "\n",
              "    .dataframe thead th {\n",
              "        text-align: right;\n",
              "    }\n",
              "</style>\n",
              "<table border=\"1\" class=\"dataframe\">\n",
              "  <thead>\n",
              "    <tr style=\"text-align: right;\">\n",
              "      <th></th>\n",
              "      <th>Age</th>\n",
              "      <th>Embarked</th>\n",
              "      <th>Fare</th>\n",
              "      <th>Name</th>\n",
              "      <th>Parch</th>\n",
              "      <th>PassengerId</th>\n",
              "      <th>Pclass</th>\n",
              "      <th>Sex</th>\n",
              "      <th>SibSp</th>\n",
              "      <th>Survived</th>\n",
              "      <th>Ticket</th>\n",
              "      <th>Title</th>\n",
              "      <th>CabinRecorded</th>\n",
              "    </tr>\n",
              "  </thead>\n",
              "  <tbody>\n",
              "    <tr>\n",
              "      <th>% NaN</th>\n",
              "      <td>0.0</td>\n",
              "      <td>0.0</td>\n",
              "      <td>0.0</td>\n",
              "      <td>0.0</td>\n",
              "      <td>0.0</td>\n",
              "      <td>0.0</td>\n",
              "      <td>0.0</td>\n",
              "      <td>0.0</td>\n",
              "      <td>0.0</td>\n",
              "      <td>0.0</td>\n",
              "      <td>0.0</td>\n",
              "      <td>0.0</td>\n",
              "      <td>0.0</td>\n",
              "    </tr>\n",
              "  </tbody>\n",
              "</table>\n",
              "</div>"
            ],
            "text/plain": [
              "       Age  Embarked  Fare  Name  Parch  PassengerId  Pclass  Sex  SibSp  \\\n",
              "% NaN  0.0       0.0   0.0   0.0    0.0          0.0     0.0  0.0    0.0   \n",
              "\n",
              "       Survived  Ticket  Title  CabinRecorded  \n",
              "% NaN       0.0     0.0    0.0            0.0  "
            ]
          },
          "execution_count": 30,
          "metadata": {},
          "output_type": "execute_result"
        }
      ],
      "source": [
        "# what percent of each column is missing?\n",
        "df_nan = round(100*df.isna().sum()/df.shape[0],2)\n",
        "index = df_nan.index\n",
        "\n",
        "pd.DataFrame({ '% NaN': df_nan}, index=index).T"
      ]
    },
    {
      "cell_type": "markdown",
      "metadata": {
        "id": "fqA1fJ0JjOuG"
      },
      "source": [
        "Great! There are no missing values anymore!"
      ]
    },
    {
      "cell_type": "markdown",
      "metadata": {
        "id": "nlM3sfisuqCI",
        "papermill": {
          "duration": 0.069519,
          "end_time": "2022-01-13T11:50:59.493255",
          "exception": false,
          "start_time": "2022-01-13T11:50:59.423736",
          "status": "completed"
        },
        "tags": []
      },
      "source": [
        "### Feature Engineering and Encoding"
      ]
    },
    {
      "cell_type": "markdown",
      "metadata": {
        "id": "WCs1WjqVvr9O",
        "papermill": {
          "duration": 0.071028,
          "end_time": "2022-01-13T11:50:59.634817",
          "exception": false,
          "start_time": "2022-01-13T11:50:59.563789",
          "status": "completed"
        },
        "tags": []
      },
      "source": [
        "Let's see if we can create new features from the raw data to use in our machine learning model."
      ]
    },
    {
      "cell_type": "markdown",
      "metadata": {
        "id": "uHdLr3N8qKh1",
        "papermill": {
          "duration": 0.069781,
          "end_time": "2022-01-13T11:50:59.774893",
          "exception": false,
          "start_time": "2022-01-13T11:50:59.705112",
          "status": "completed"
        },
        "tags": []
      },
      "source": [
        "#### Age Categories"
      ]
    },
    {
      "cell_type": "markdown",
      "metadata": {
        "id": "wXLz4B7gXjdc",
        "papermill": {
          "duration": 0.070138,
          "end_time": "2022-01-13T11:50:59.916475",
          "exception": false,
          "start_time": "2022-01-13T11:50:59.846337",
          "status": "completed"
        },
        "tags": []
      },
      "source": [
        "Here we are going to group the passengers by their age"
      ]
    },
    {
      "cell_type": "code",
      "execution_count": null,
      "metadata": {
        "execution": {
          "iopub.execute_input": "2022-01-13T11:51:00.069120Z",
          "iopub.status.busy": "2022-01-13T11:51:00.067034Z",
          "iopub.status.idle": "2022-01-13T11:51:00.071483Z",
          "shell.execute_reply": "2022-01-13T11:51:00.071077Z",
          "shell.execute_reply.started": "2021-12-30T16:11:07.847055Z"
        },
        "id": "sYoxe087qhvh",
        "papermill": {
          "duration": 0.085271,
          "end_time": "2022-01-13T11:51:00.071636",
          "exception": false,
          "start_time": "2022-01-13T11:50:59.986365",
          "status": "completed"
        },
        "tags": []
      },
      "outputs": [],
      "source": [
        "# break passengers to age categories\n",
        "bins = [0, 2, 12, 19, 25, 40, 60, np.inf]\n",
        "labels = [lbl for lbl in range(len(bins)-1)]\n",
        "df['AgeCategory'] = pd.cut(df.Age, bins=bins, labels=labels, right=True).astype(int)"
      ]
    },
    {
      "cell_type": "markdown",
      "metadata": {
        "id": "9Nt6N-i3xDfN",
        "papermill": {
          "duration": 0.070101,
          "end_time": "2022-01-13T11:51:00.523199",
          "exception": false,
          "start_time": "2022-01-13T11:51:00.453098",
          "status": "completed"
        },
        "tags": []
      },
      "source": [
        "#### Title"
      ]
    },
    {
      "cell_type": "markdown",
      "metadata": {
        "id": "Nuwklu5cjOuH"
      },
      "source": [
        "We previously extracted this feature from Name column. Let's take a look!"
      ]
    },
    {
      "cell_type": "code",
      "execution_count": null,
      "metadata": {
        "id": "4hTLqetejOuH",
        "outputId": "c0b89c93-174f-4d64-841e-153ea852c58b"
      },
      "outputs": [
        {
          "data": {
            "text/plain": [
              "Mr              757\n",
              "Miss            260\n",
              "Mrs             197\n",
              "Master           61\n",
              "Dr                8\n",
              "Rev               8\n",
              "Col               4\n",
              "Mlle              2\n",
              "Ms                2\n",
              "Major             2\n",
              "Capt              1\n",
              "Dona              1\n",
              "the Countess      1\n",
              "Lady              1\n",
              "Jonkheer          1\n",
              "Mme               1\n",
              "Don               1\n",
              "Sir               1\n",
              "Name: Title, dtype: int64"
            ]
          },
          "execution_count": 32,
          "metadata": {},
          "output_type": "execute_result"
        }
      ],
      "source": [
        "# value counts for Title column\n",
        "df.Title.value_counts()"
      ]
    },
    {
      "cell_type": "markdown",
      "metadata": {
        "id": "F7Rd5db0zDVi",
        "papermill": {
          "duration": 0.073066,
          "end_time": "2022-01-13T11:51:01.129216",
          "exception": false,
          "start_time": "2022-01-13T11:51:01.056150",
          "status": "completed"
        },
        "tags": []
      },
      "source": [
        "We can keep all these titles, but it will lead to too many features later when we perform one-hot-encoding. Therefore we only keep the 4 most common titles (Mr, Miss, Mrs, Master) and replace the rest with None."
      ]
    },
    {
      "cell_type": "code",
      "execution_count": null,
      "metadata": {
        "id": "SOBhpk7QjOuH"
      },
      "outputs": [],
      "source": [
        "# replace rare Titles with None\n",
        "df.loc[~df.Title.isin(['Mr', 'Miss', 'Mrs', 'Master']), 'Title'] = None"
      ]
    },
    {
      "cell_type": "markdown",
      "metadata": {
        "id": "Z4uKW1c75GY4",
        "papermill": {
          "duration": 0.071717,
          "end_time": "2022-01-13T11:51:01.437248",
          "exception": false,
          "start_time": "2022-01-13T11:51:01.365531",
          "status": "completed"
        },
        "tags": []
      },
      "source": [
        "#### Sex Label Encoding"
      ]
    },
    {
      "cell_type": "markdown",
      "metadata": {
        "id": "diGB_aTX5QN2",
        "papermill": {
          "duration": 0.071277,
          "end_time": "2022-01-13T11:51:01.579915",
          "exception": false,
          "start_time": "2022-01-13T11:51:01.508638",
          "status": "completed"
        },
        "tags": []
      },
      "source": [
        "Sex column is in string format (male and female). We convert them to numerical values."
      ]
    },
    {
      "cell_type": "code",
      "execution_count": null,
      "metadata": {
        "execution": {
          "iopub.execute_input": "2022-01-13T11:51:01.731418Z",
          "iopub.status.busy": "2022-01-13T11:51:01.730860Z",
          "iopub.status.idle": "2022-01-13T11:51:01.734362Z",
          "shell.execute_reply": "2022-01-13T11:51:01.733884Z",
          "shell.execute_reply.started": "2021-12-30T16:11:07.970692Z"
        },
        "id": "HTAnr_lC52uq",
        "papermill": {
          "duration": 0.08248,
          "end_time": "2022-01-13T11:51:01.734471",
          "exception": false,
          "start_time": "2022-01-13T11:51:01.651991",
          "status": "completed"
        },
        "tags": []
      },
      "outputs": [],
      "source": [
        "# perform label encoding for Sex column\n",
        "df.Sex = df.Sex.map({ 'male': 0, 'female': 1 })"
      ]
    },
    {
      "cell_type": "markdown",
      "metadata": {
        "id": "hXUDgx7VvYSa",
        "papermill": {
          "duration": 0.072292,
          "end_time": "2022-01-13T11:51:02.043590",
          "exception": false,
          "start_time": "2022-01-13T11:51:01.971298",
          "status": "completed"
        },
        "tags": []
      },
      "source": [
        "#### Title and Embarked One Hot Encoding"
      ]
    },
    {
      "cell_type": "markdown",
      "metadata": {
        "id": "fAv16Vx4vk4n",
        "papermill": {
          "duration": 0.07425,
          "end_time": "2022-01-13T11:51:02.190223",
          "exception": false,
          "start_time": "2022-01-13T11:51:02.115973",
          "status": "completed"
        },
        "tags": []
      },
      "source": [
        "Let's perform one hot encoding for Title and Embarked columns."
      ]
    },
    {
      "cell_type": "code",
      "execution_count": null,
      "metadata": {
        "execution": {
          "iopub.execute_input": "2022-01-13T11:51:02.342774Z",
          "iopub.status.busy": "2022-01-13T11:51:02.341910Z",
          "iopub.status.idle": "2022-01-13T11:51:02.355803Z",
          "shell.execute_reply": "2022-01-13T11:51:02.356248Z",
          "shell.execute_reply.started": "2021-12-30T16:11:08.016434Z"
        },
        "id": "X9luGReEv9Mf",
        "papermill": {
          "duration": 0.093991,
          "end_time": "2022-01-13T11:51:02.356381",
          "exception": false,
          "start_time": "2022-01-13T11:51:02.262390",
          "status": "completed"
        },
        "tags": []
      },
      "outputs": [],
      "source": [
        "# one hot encoding of Embarked and Title columns\n",
        "for column in ['Embarked', 'Title']:\n",
        "    dummies = pd.get_dummies(df[column])\n",
        "    df = pd.concat([df, dummies], axis=1).drop([column], axis=1)"
      ]
    },
    {
      "cell_type": "markdown",
      "metadata": {
        "id": "vG55U-KkzIOe",
        "papermill": {
          "duration": 0.073127,
          "end_time": "2022-01-13T11:51:02.837055",
          "exception": false,
          "start_time": "2022-01-13T11:51:02.763928",
          "status": "completed"
        },
        "tags": []
      },
      "source": [
        "#### Family Information"
      ]
    },
    {
      "cell_type": "markdown",
      "metadata": {
        "id": "tHHJQ9i4zOXp",
        "papermill": {
          "duration": 0.079412,
          "end_time": "2022-01-13T11:51:02.989176",
          "exception": false,
          "start_time": "2022-01-13T11:51:02.909764",
          "status": "completed"
        },
        "tags": []
      },
      "source": [
        "The SibSp column shows the # of siblings / spouses aboard the Titanic, while the Parch column shows the # of parents / children aboard the Titanic. We can use these two columns to create new features."
      ]
    },
    {
      "cell_type": "code",
      "execution_count": null,
      "metadata": {
        "execution": {
          "iopub.execute_input": "2022-01-13T11:51:03.153466Z",
          "iopub.status.busy": "2022-01-13T11:51:03.152593Z",
          "iopub.status.idle": "2022-01-13T11:51:03.170004Z",
          "shell.execute_reply": "2022-01-13T11:51:03.170421Z",
          "shell.execute_reply.started": "2021-12-30T16:11:08.084419Z"
        },
        "id": "s6HosIVC0V5Y",
        "papermill": {
          "duration": 0.100528,
          "end_time": "2022-01-13T11:51:03.170594",
          "exception": false,
          "start_time": "2022-01-13T11:51:03.070066",
          "status": "completed"
        },
        "tags": []
      },
      "outputs": [],
      "source": [
        "# family size for each passenger on Titanic\n",
        "df['FamilySize'] = df.SibSp + df.Parch + 1"
      ]
    },
    {
      "cell_type": "code",
      "execution_count": null,
      "metadata": {
        "execution": {
          "iopub.execute_input": "2022-01-13T11:51:03.642904Z",
          "iopub.status.busy": "2022-01-13T11:51:03.624686Z",
          "iopub.status.idle": "2022-01-13T11:51:03.645626Z",
          "shell.execute_reply": "2022-01-13T11:51:03.646049Z",
          "shell.execute_reply.started": "2021-12-30T16:11:08.117682Z"
        },
        "id": "hGbzGvG6Xjdq",
        "papermill": {
          "duration": 0.106207,
          "end_time": "2022-01-13T11:51:03.646192",
          "exception": false,
          "start_time": "2022-01-13T11:51:03.539985",
          "status": "completed"
        },
        "tags": []
      },
      "outputs": [],
      "source": [
        "# is the passenger traveling alone or not?\n",
        "df['IsAlone'] = 1\n",
        "df.loc[df['FamilySize'] > 1, 'IsAlone'] = 0"
      ]
    },
    {
      "cell_type": "code",
      "execution_count": null,
      "metadata": {
        "id": "8brmAyYejOuJ"
      },
      "outputs": [],
      "source": [
        "# now let's drop columns that are not needed for machine learning\n",
        "df.drop(['PassengerId', 'Name', 'Ticket'], axis=1, inplace=True)"
      ]
    },
    {
      "cell_type": "markdown",
      "metadata": {
        "id": "jPH3ujHa2F7M",
        "papermill": {
          "duration": 0.077458,
          "end_time": "2022-01-13T11:51:03.969539",
          "exception": false,
          "start_time": "2022-01-13T11:51:03.892081",
          "status": "completed"
        },
        "tags": []
      },
      "source": [
        "### Features Correlation"
      ]
    },
    {
      "cell_type": "markdown",
      "metadata": {
        "id": "y_7esoLnjOuJ"
      },
      "source": [
        "Let's see how our features correlate with each other and with the target variable (i.e. Survived)"
      ]
    },
    {
      "cell_type": "code",
      "execution_count": null,
      "metadata": {
        "id": "1pLW346HjOuJ",
        "outputId": "87c3e5a6-bcca-4752-97c9-a3d369a4efa1"
      },
      "outputs": [
        {
          "data": {
            "text/plain": [
              "''"
            ]
          },
          "execution_count": 39,
          "metadata": {},
          "output_type": "execute_result"
        },
        {
          "data": {
            "image/png": "[encoded data removed]",
            "text/plain": [
              "<Figure size 720x576 with 2 Axes>"
            ]
          },
          "metadata": {
            "needs_background": "light"
          },
          "output_type": "display_data"
        }
      ],
      "source": [
        "fig, ax = plt.subplots(figsize=(10,8))\n",
        "sns.heatmap(df.corr().abs(),annot=False, ax=ax, cmap='rocket_r')\n",
        ","
      ]
    },
    {
      "cell_type": "code",
      "execution_count": null,
      "metadata": {
        "id": "qPVfM3uQjOuJ",
        "outputId": "9274e232-3b28-4e61-89c1-3321543378dd"
      },
      "outputs": [
        {
          "data": {
            "text/plain": [
              "Survived         1.000000\n",
              "Sex              0.688371\n",
              "Mrs              0.426025\n",
              "Miss             0.422198\n",
              "CabinRecorded    0.259023\n",
              "Fare             0.233785\n",
              "C                0.121156\n",
              "Parch            0.108919\n",
              "FamilySize       0.061090\n",
              "Q                0.040950\n",
              "SibSp            0.002370\n",
              "Master          -0.000154\n",
              "Age             -0.066358\n",
              "AgeCategory     -0.099877\n",
              "S               -0.133020\n",
              "IsAlone         -0.216299\n",
              "Pclass          -0.264710\n",
              "Mr              -0.653221\n",
              "Name: Survived, dtype: float64"
            ]
          },
          "execution_count": 40,
          "metadata": {},
          "output_type": "execute_result"
        }
      ],
      "source": [
        "# feature correlation with target variable\n",
        "df.corr()['Survived'].sort_values(ascending=False)"
      ]
    },
    {
      "cell_type": "markdown",
      "metadata": {
        "id": "Y3ydRC6ajOuJ"
      },
      "source": [
        "### Partitioning the Data"
      ]
    },
    {
      "cell_type": "code",
      "execution_count": null,
      "metadata": {
        "execution": {
          "iopub.execute_input": "2022-01-13T11:51:10.385674Z",
          "iopub.status.busy": "2022-01-13T11:51:10.385071Z",
          "iopub.status.idle": "2022-01-13T11:51:10.391059Z",
          "shell.execute_reply": "2022-01-13T11:51:10.390517Z",
          "shell.execute_reply.started": "2021-12-30T16:11:10.862071Z"
        },
        "id": "oT7G6q4pfePI",
        "papermill": {
          "duration": 0.097761,
          "end_time": "2022-01-13T11:51:10.391191",
          "exception": false,
          "start_time": "2022-01-13T11:51:10.293430",
          "status": "completed"
        },
        "tags": []
      },
      "outputs": [],
      "source": [
        "# independent variables\n",
        "X = df.drop(['Survived'], axis=1)\n",
        "# dependent/target variable\n",
        "y = df.Survived\n",
        "\n",
        "# divide data into train and test sets\n",
        "X_train, X_test, y_train, y_test = train_test_split(X, y, test_size=0.2, random_state=42)"
      ]
    },
    {
      "cell_type": "markdown",
      "metadata": {
        "id": "Ft6jA90Aenxr",
        "papermill": {
          "duration": 0.081376,
          "end_time": "2022-01-13T11:51:10.042426",
          "exception": false,
          "start_time": "2022-01-13T11:51:09.961050",
          "status": "completed"
        },
        "tags": []
      },
      "source": [
        "### Feature Scaling"
      ]
    },
    {
      "cell_type": "markdown",
      "metadata": {
        "id": "Ywjx1i-9esCm",
        "papermill": {
          "duration": 0.082553,
          "end_time": "2022-01-13T11:51:10.207024",
          "exception": false,
          "start_time": "2022-01-13T11:51:10.124471",
          "status": "completed"
        },
        "tags": []
      },
      "source": [
        "In this step we scale input variables between 0 and 1"
      ]
    },
    {
      "cell_type": "code",
      "execution_count": null,
      "metadata": {
        "id": "bPvL__JgjOuK"
      },
      "outputs": [],
      "source": [
        "# scale the data between 0 and 1\n",
        "transformer = Normalizer(norm='max').fit(X_train)\n",
        "X_train = transformer.transform(X_train)\n",
        "X_test = transformer.transform(X_test)"
      ]
    },
    {
      "cell_type": "markdown",
      "metadata": {
        "id": "89W_AxOvZ3B4",
        "papermill": {
          "duration": 0.080913,
          "end_time": "2022-01-13T11:51:09.875876",
          "exception": false,
          "start_time": "2022-01-13T11:51:09.794963",
          "status": "completed"
        },
        "tags": []
      },
      "source": [
        "### Modeling"
      ]
    },
    {
      "cell_type": "markdown",
      "metadata": {
        "id": "_f8m60A1aBfp",
        "papermill": {
          "duration": 0.082865,
          "end_time": "2022-01-13T11:51:10.563630",
          "exception": false,
          "start_time": "2022-01-13T11:51:10.480765",
          "status": "completed"
        },
        "tags": []
      },
      "source": [
        "We will train 4 different model types:\n",
        "- Logistic Regression\n",
        "- Support Vector Machine\n",
        "- Random Forest Classifier\n",
        "- Gradient Boosting Classifier"
      ]
    },
    {
      "cell_type": "markdown",
      "metadata": {
        "id": "OR0RJnFPjOuK"
      },
      "source": [
        "#### Logistic Regression"
      ]
    },
    {
      "cell_type": "code",
      "execution_count": null,
      "metadata": {
        "id": "d7-5SXSEjOuK"
      },
      "outputs": [],
      "source": [
        "# define the model\n",
        "lrg = LogisticRegression(class_weight='balanced', random_state=0)"
      ]
    },
    {
      "cell_type": "code",
      "execution_count": null,
      "metadata": {
        "id": "DjAmr7RFjOuK",
        "outputId": "64beeee9-df28-41f3-99a7-74ff52695690"
      },
      "outputs": [
        {
          "data": {
            "text/plain": [
              "LogisticRegression(class_weight='balanced', random_state=0)"
            ]
          },
          "execution_count": 44,
          "metadata": {},
          "output_type": "execute_result"
        }
      ],
      "source": [
        "# train the model\n",
        "lrg.fit(X_train, y_train)"
      ]
    },
    {
      "cell_type": "code",
      "execution_count": null,
      "metadata": {
        "id": "xJLtchASjOuL"
      },
      "outputs": [],
      "source": [
        "# predict the result using the trained model\n",
        "y_pred_lrg = lrg.predict(X_test)"
      ]
    },
    {
      "cell_type": "code",
      "execution_count": null,
      "metadata": {
        "id": "4zLOsylnjOuL",
        "outputId": "e4f93aee-333c-417e-b88f-ecc413283a21"
      },
      "outputs": [
        {
          "data": {
            "text/plain": [
              "0.683206106870229"
            ]
          },
          "execution_count": 46,
          "metadata": {},
          "output_type": "execute_result"
        }
      ],
      "source": [
        "# overall acuracy of the model\n",
        "accuracy_score(y_test, y_pred_lrg)"
      ]
    },
    {
      "cell_type": "code",
      "execution_count": null,
      "metadata": {
        "id": "Iu5lhYu6jOuL",
        "outputId": "84e62076-6c45-41cf-d53c-da32ce50b21e"
      },
      "outputs": [
        {
          "data": {
            "text/plain": [
              "0.6103286384976526"
            ]
          },
          "execution_count": 47,
          "metadata": {},
          "output_type": "execute_result"
        }
      ],
      "source": [
        "# f1 score of the model\n",
        "f1_score(y_test, y_pred_lrg)"
      ]
    },
    {
      "cell_type": "markdown",
      "metadata": {
        "id": "mwI170V2jOuL"
      },
      "source": [
        "#### Support Vector Machine"
      ]
    },
    {
      "cell_type": "code",
      "execution_count": null,
      "metadata": {
        "id": "ci17rWHFjOuL"
      },
      "outputs": [],
      "source": [
        "# define the model\n",
        "svm = SVC(kernel='rbf', gamma='auto', random_state=0, class_weight='balanced')"
      ]
    },
    {
      "cell_type": "code",
      "execution_count": null,
      "metadata": {
        "id": "eqwBeC2AjOuM",
        "outputId": "77d5716c-bfea-4c5d-d6a7-be5340da0568"
      },
      "outputs": [
        {
          "data": {
            "text/plain": [
              "SVC(class_weight='balanced', gamma='auto', random_state=0)"
            ]
          },
          "execution_count": 49,
          "metadata": {},
          "output_type": "execute_result"
        }
      ],
      "source": [
        "# train the model\n",
        "svm.fit(X_train, y_train)"
      ]
    },
    {
      "cell_type": "code",
      "execution_count": null,
      "metadata": {
        "id": "d6RPpzPCjOuM"
      },
      "outputs": [],
      "source": [
        "# predict the result using the trained model\n",
        "y_pred_svm = svm.predict(X_test)"
      ]
    },
    {
      "cell_type": "code",
      "execution_count": null,
      "metadata": {
        "id": "xyNqR4jMjOuM",
        "outputId": "1f682d53-7f2a-48a1-e7a4-addcc0ffe9bf"
      },
      "outputs": [
        {
          "data": {
            "text/plain": [
              "0.6564885496183206"
            ]
          },
          "execution_count": 51,
          "metadata": {},
          "output_type": "execute_result"
        }
      ],
      "source": [
        "# overall acuracy of the model\n",
        "accuracy_score(y_test, y_pred_svm)"
      ]
    },
    {
      "cell_type": "code",
      "execution_count": null,
      "metadata": {
        "id": "OKLNMVAEjOuM",
        "outputId": "e8d0517e-8531-4a20-d72e-e9b594360c66"
      },
      "outputs": [
        {
          "data": {
            "text/plain": [
              "0.5794392523364487"
            ]
          },
          "execution_count": 52,
          "metadata": {},
          "output_type": "execute_result"
        }
      ],
      "source": [
        "# f1 score of the model\n",
        "f1_score(y_test, y_pred_svm)"
      ]
    },
    {
      "cell_type": "markdown",
      "metadata": {
        "id": "4Vv-RVzujOuM"
      },
      "source": [
        "#### Random Forest Classifier"
      ]
    },
    {
      "cell_type": "code",
      "execution_count": null,
      "metadata": {
        "id": "J6rMJdjZjOuM"
      },
      "outputs": [],
      "source": [
        "# define the model\n",
        "rfc = RandomForestClassifier(n_estimators=500, random_state=0, class_weight='balanced')"
      ]
    },
    {
      "cell_type": "code",
      "execution_count": null,
      "metadata": {
        "id": "NV0apKZmjOuM",
        "outputId": "8d0dfa4a-e22d-47cc-84ae-f6c13452de67"
      },
      "outputs": [
        {
          "data": {
            "text/plain": [
              "RandomForestClassifier(class_weight='balanced', n_estimators=500,\n",
              "                       random_state=0)"
            ]
          },
          "execution_count": 54,
          "metadata": {},
          "output_type": "execute_result"
        }
      ],
      "source": [
        "# train the model\n",
        "rfc.fit(X_train, y_train)"
      ]
    },
    {
      "cell_type": "code",
      "execution_count": null,
      "metadata": {
        "id": "aNIAZ1ZHjOuN"
      },
      "outputs": [],
      "source": [
        "# predict the result using the trained model\n",
        "y_pred_rfc = rfc.predict(X_test)"
      ]
    },
    {
      "cell_type": "code",
      "execution_count": null,
      "metadata": {
        "id": "6Gx2aGLOjOuN",
        "outputId": "1928d5b9-b1e1-4c0c-bbc5-53f3f690bd25"
      },
      "outputs": [
        {
          "data": {
            "text/plain": [
              "0.8206106870229007"
            ]
          },
          "execution_count": 56,
          "metadata": {},
          "output_type": "execute_result"
        }
      ],
      "source": [
        "# overall acuracy of the model\n",
        "accuracy_score(y_test, y_pred_rfc)"
      ]
    },
    {
      "cell_type": "code",
      "execution_count": null,
      "metadata": {
        "id": "LTWjFeLkjOuN",
        "outputId": "ae094f90-35dc-433f-e045-367e1d83698a"
      },
      "outputs": [
        {
          "data": {
            "text/plain": [
              "0.7751196172248804"
            ]
          },
          "execution_count": 57,
          "metadata": {},
          "output_type": "execute_result"
        }
      ],
      "source": [
        "# f1 score of the model\n",
        "f1_score(y_test, y_pred_rfc)"
      ]
    },
    {
      "cell_type": "markdown",
      "metadata": {
        "id": "g_mk7OfDjOuN"
      },
      "source": [
        "#### Gradient Boosting Classifier"
      ]
    },
    {
      "cell_type": "code",
      "execution_count": null,
      "metadata": {
        "id": "1GR88zwdjOuN"
      },
      "outputs": [],
      "source": [
        "# define the model\n",
        "gbc = GradientBoostingClassifier(n_estimators=500, random_state=0)"
      ]
    },
    {
      "cell_type": "code",
      "execution_count": null,
      "metadata": {
        "id": "KXMXNizQjOuN",
        "outputId": "283c12ee-6a04-4aa0-e7ea-533ae73faec7"
      },
      "outputs": [
        {
          "data": {
            "text/plain": [
              "GradientBoostingClassifier(n_estimators=500, random_state=0)"
            ]
          },
          "execution_count": 59,
          "metadata": {},
          "output_type": "execute_result"
        }
      ],
      "source": [
        "# train the model\n",
        "gbc.fit(X_train, y_train)"
      ]
    },
    {
      "cell_type": "code",
      "execution_count": null,
      "metadata": {
        "id": "ny4sSLltjOuO"
      },
      "outputs": [],
      "source": [
        "# predict the result using the trained model\n",
        "y_pred_gbc = gbc.predict(X_test)"
      ]
    },
    {
      "cell_type": "code",
      "execution_count": null,
      "metadata": {
        "id": "xwK2W6V4jOuO",
        "outputId": "8da54399-fa35-4f13-dbc5-5306183b8350"
      },
      "outputs": [
        {
          "data": {
            "text/plain": [
              "0.8282442748091603"
            ]
          },
          "execution_count": 61,
          "metadata": {},
          "output_type": "execute_result"
        }
      ],
      "source": [
        "# overall acuracy of the model\n",
        "accuracy_score(y_test, y_pred_gbc)"
      ]
    },
    {
      "cell_type": "code",
      "execution_count": null,
      "metadata": {
        "id": "U-ruxxtXjOuO",
        "outputId": "b45dacb4-f7e7-454b-e4e5-67a88bdeba9e"
      },
      "outputs": [
        {
          "data": {
            "text/plain": [
              "0.7783251231527093"
            ]
          },
          "execution_count": 62,
          "metadata": {},
          "output_type": "execute_result"
        }
      ],
      "source": [
        "# f1 score of the model\n",
        "f1_score(y_test, y_pred_gbc)"
      ]
    },
    {
      "cell_type": "code",
      "execution_count": null,
      "metadata": {
        "id": "csqR9m4WjOuO"
      },
      "outputs": [],
      "source": [
        ""
      ]
    }
  ],
  "metadata": {
    "kernelspec": {
      "display_name": "Python 3",
      "language": "python",
      "name": "python3"
    },
    "language_info": {
      "codemirror_mode": {
        "name": "ipython",
        "version": 3
      },
      "file_extension": ".py",
      "mimetype": "text/x-python",
      "name": "python",
      "nbconvert_exporter": "python",
      "pygments_lexer": "ipython3",
      "version": "3.7.6"
    },
    "colab": {
      "name": "TitanicExample.ipynb",
      "provenance": [],
      "include_colab_link": true
    }
  },
  "nbformat": 4,
  "nbformat_minor": 0
}