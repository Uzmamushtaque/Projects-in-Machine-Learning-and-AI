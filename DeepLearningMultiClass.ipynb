{
  "nbformat": 4,
  "nbformat_minor": 0,
  "metadata": {
    "colab": {
      "provenance": [],
      "collapsed_sections": [],
      "mount_file_id": "1TPiWddWoEIk0SzJVswOv72DDq777E5No",
      "authorship_tag": "ABX9TyOoAOTGsmXRvAFb5DJckVcT",
      "include_colab_link": true
    },
    "kernelspec": {
      "name": "python3",
      "display_name": "Python 3"
    },
    "language_info": {
      "name": "python"
    }
  },
  "cells": [
    {
      "cell_type": "markdown",
      "metadata": {
        "id": "view-in-github",
        "colab_type": "text"
      },
      "source": [
        "<a href=\"https://colab.research.google.com/github/Uzmamushtaque/Projects-in-Machine-Learning-and-AI/blob/main/DeepLearningMultiClass.ipynb\" target=\"_parent\"><img src=\"https://colab.research.google.com/assets/colab-badge.svg\" alt=\"Open In Colab\"/></a>"
      ]
    },
    {
      "cell_type": "markdown",
      "source": [
        "# Deep Learning Project\n",
        "\n",
        "  Multiclass classification problem."
      ],
      "metadata": {
        "id": "dakkQNskQo0R"
      }
    },
    {
      "cell_type": "code",
      "source": [
        "import numpy as np\n",
        "import pandas as pd\n",
        "import seaborn as sns\n",
        "import matplotlib.pyplot as plt\n",
        "from sklearn.model_selection import train_test_split\n"
      ],
      "metadata": {
        "id": "4DdiwPlBQ-ig"
      },
      "execution_count": 1,
      "outputs": []
    },
    {
      "cell_type": "code",
      "source": [
        "! apt-get install default-jre\n",
        "!java -version"
      ],
      "metadata": {
        "colab": {
          "base_uri": "https://localhost:8080/"
        },
        "id": "a5nxG0RGkMcn",
        "outputId": "55f4a007-9e27-4dbe-cb42-5dedd740fe05"
      },
      "execution_count": 2,
      "outputs": [
        {
          "output_type": "stream",
          "name": "stdout",
          "text": [
            "Reading package lists... Done\n",
            "Building dependency tree       \n",
            "Reading state information... Done\n",
            "default-jre is already the newest version (2:1.11-68ubuntu1~18.04.1).\n",
            "default-jre set to manually installed.\n",
            "The following package was automatically installed and is no longer required:\n",
            "  libnvidia-common-460\n",
            "Use 'apt autoremove' to remove it.\n",
            "0 upgraded, 0 newly installed, 0 to remove and 20 not upgraded.\n",
            "openjdk version \"11.0.16\" 2022-07-19\n",
            "OpenJDK Runtime Environment (build 11.0.16+8-post-Ubuntu-0ubuntu118.04)\n",
            "OpenJDK 64-Bit Server VM (build 11.0.16+8-post-Ubuntu-0ubuntu118.04, mixed mode, sharing)\n"
          ]
        }
      ]
    },
    {
      "cell_type": "code",
      "source": [
        "! pip install h2o"
      ],
      "metadata": {
        "colab": {
          "base_uri": "https://localhost:8080/"
        },
        "id": "9U61Ewm_k_vn",
        "outputId": "0f0a42ce-fba7-4cf7-c892-1c833afb3a45"
      },
      "execution_count": 3,
      "outputs": [
        {
          "output_type": "stream",
          "name": "stdout",
          "text": [
            "Looking in indexes: https://pypi.org/simple, https://us-python.pkg.dev/colab-wheels/public/simple/\n",
            "Collecting h2o\n",
            "  Downloading h2o-3.38.0.1.tar.gz (177.2 MB)\n",
            "\u001b[K     |████████████████████████████████| 177.2 MB 52 kB/s \n",
            "\u001b[?25hRequirement already satisfied: requests in /usr/local/lib/python3.7/dist-packages (from h2o) (2.23.0)\n",
            "Requirement already satisfied: tabulate in /usr/local/lib/python3.7/dist-packages (from h2o) (0.8.10)\n",
            "Requirement already satisfied: future in /usr/local/lib/python3.7/dist-packages (from h2o) (0.16.0)\n",
            "Requirement already satisfied: chardet<4,>=3.0.2 in /usr/local/lib/python3.7/dist-packages (from requests->h2o) (3.0.4)\n",
            "Requirement already satisfied: urllib3!=1.25.0,!=1.25.1,<1.26,>=1.21.1 in /usr/local/lib/python3.7/dist-packages (from requests->h2o) (1.24.3)\n",
            "Requirement already satisfied: certifi>=2017.4.17 in /usr/local/lib/python3.7/dist-packages (from requests->h2o) (2022.6.15)\n",
            "Requirement already satisfied: idna<3,>=2.5 in /usr/local/lib/python3.7/dist-packages (from requests->h2o) (2.10)\n",
            "Building wheels for collected packages: h2o\n",
            "  Building wheel for h2o (setup.py) ... \u001b[?25l\u001b[?25hdone\n",
            "  Created wheel for h2o: filename=h2o-3.38.0.1-py2.py3-none-any.whl size=177276478 sha256=f88169c3271b26f6c9805fd0259efe1922c55032a9c6ca0af2542fed5bc7a198\n",
            "  Stored in directory: /root/.cache/pip/wheels/a1/a1/d9/bb37df368c4635a707e7362d1088450b606041f05aeba5f173\n",
            "Successfully built h2o\n",
            "Installing collected packages: h2o\n",
            "Successfully installed h2o-3.38.0.1\n"
          ]
        }
      ]
    },
    {
      "cell_type": "code",
      "source": [
        "import h2o"
      ],
      "metadata": {
        "id": "GR4EXQYulOs9"
      },
      "execution_count": 4,
      "outputs": []
    },
    {
      "cell_type": "code",
      "source": [
        "h2o.init()"
      ],
      "metadata": {
        "colab": {
          "base_uri": "https://localhost:8080/",
          "height": 530
        },
        "id": "69e_CRchlP6w",
        "outputId": "c3e38182-0075-4f52-888c-db3dbc9d69d5"
      },
      "execution_count": 5,
      "outputs": [
        {
          "output_type": "stream",
          "name": "stdout",
          "text": [
            "Checking whether there is an H2O instance running at http://localhost:54321 ..... not found.\n",
            "Attempting to start a local H2O server...\n",
            "  Java Version: openjdk version \"11.0.16\" 2022-07-19; OpenJDK Runtime Environment (build 11.0.16+8-post-Ubuntu-0ubuntu118.04); OpenJDK 64-Bit Server VM (build 11.0.16+8-post-Ubuntu-0ubuntu118.04, mixed mode, sharing)\n",
            "  Starting server from /usr/local/lib/python3.7/dist-packages/h2o/backend/bin/h2o.jar\n",
            "  Ice root: /tmp/tmpzz4rf2ty\n",
            "  JVM stdout: /tmp/tmpzz4rf2ty/h2o_unknownUser_started_from_python.out\n",
            "  JVM stderr: /tmp/tmpzz4rf2ty/h2o_unknownUser_started_from_python.err\n",
            "  Server is running at http://127.0.0.1:54321\n",
            "Connecting to H2O server at http://127.0.0.1:54321 ... successful.\n"
          ]
        },
        {
          "output_type": "display_data",
          "data": {
            "text/plain": [
              "--------------------------  ----------------------------------\n",
              "H2O_cluster_uptime:         03 secs\n",
              "H2O_cluster_timezone:       Etc/UTC\n",
              "H2O_data_parsing_timezone:  UTC\n",
              "H2O_cluster_version:        3.38.0.1\n",
              "H2O_cluster_version_age:    6 days\n",
              "H2O_cluster_name:           H2O_from_python_unknownUser_k5qgr0\n",
              "H2O_cluster_total_nodes:    1\n",
              "H2O_cluster_free_memory:    3.172 Gb\n",
              "H2O_cluster_total_cores:    2\n",
              "H2O_cluster_allowed_cores:  2\n",
              "H2O_cluster_status:         locked, healthy\n",
              "H2O_connection_url:         http://127.0.0.1:54321\n",
              "H2O_connection_proxy:       {\"http\": null, \"https\": null}\n",
              "H2O_internal_security:      False\n",
              "Python_version:             3.7.14 final\n",
              "--------------------------  ----------------------------------"
            ],
            "text/html": [
              "\n",
              "<style>\n",
              "\n",
              "#h2o-table-1.h2o-container {\n",
              "  overflow-x: auto;\n",
              "}\n",
              "#h2o-table-1 .h2o-table {\n",
              "  /* width: 100%; */\n",
              "  margin-top: 1em;\n",
              "  margin-bottom: 1em;\n",
              "}\n",
              "#h2o-table-1 .h2o-table caption {\n",
              "  white-space: nowrap;\n",
              "  caption-side: top;\n",
              "  text-align: left;\n",
              "  /* margin-left: 1em; */\n",
              "  margin: 0;\n",
              "  font-size: larger;\n",
              "}\n",
              "#h2o-table-1 .h2o-table thead {\n",
              "  white-space: nowrap; \n",
              "  position: sticky;\n",
              "  top: 0;\n",
              "  box-shadow: 0 -1px inset;\n",
              "}\n",
              "#h2o-table-1 .h2o-table tbody {\n",
              "  overflow: auto;\n",
              "}\n",
              "#h2o-table-1 .h2o-table th,\n",
              "#h2o-table-1 .h2o-table td {\n",
              "  text-align: right;\n",
              "  /* border: 1px solid; */\n",
              "}\n",
              "#h2o-table-1 .h2o-table tr:nth-child(even) {\n",
              "  /* background: #F5F5F5 */\n",
              "}\n",
              "\n",
              "</style>      \n",
              "<div id=\"h2o-table-1\" class=\"h2o-container\">\n",
              "  <table class=\"h2o-table\">\n",
              "    <caption></caption>\n",
              "    <thead></thead>\n",
              "    <tbody><tr><td>H2O_cluster_uptime:</td>\n",
              "<td>03 secs</td></tr>\n",
              "<tr><td>H2O_cluster_timezone:</td>\n",
              "<td>Etc/UTC</td></tr>\n",
              "<tr><td>H2O_data_parsing_timezone:</td>\n",
              "<td>UTC</td></tr>\n",
              "<tr><td>H2O_cluster_version:</td>\n",
              "<td>3.38.0.1</td></tr>\n",
              "<tr><td>H2O_cluster_version_age:</td>\n",
              "<td>6 days </td></tr>\n",
              "<tr><td>H2O_cluster_name:</td>\n",
              "<td>H2O_from_python_unknownUser_k5qgr0</td></tr>\n",
              "<tr><td>H2O_cluster_total_nodes:</td>\n",
              "<td>1</td></tr>\n",
              "<tr><td>H2O_cluster_free_memory:</td>\n",
              "<td>3.172 Gb</td></tr>\n",
              "<tr><td>H2O_cluster_total_cores:</td>\n",
              "<td>2</td></tr>\n",
              "<tr><td>H2O_cluster_allowed_cores:</td>\n",
              "<td>2</td></tr>\n",
              "<tr><td>H2O_cluster_status:</td>\n",
              "<td>locked, healthy</td></tr>\n",
              "<tr><td>H2O_connection_url:</td>\n",
              "<td>http://127.0.0.1:54321</td></tr>\n",
              "<tr><td>H2O_connection_proxy:</td>\n",
              "<td>{\"http\": null, \"https\": null}</td></tr>\n",
              "<tr><td>H2O_internal_security:</td>\n",
              "<td>False</td></tr>\n",
              "<tr><td>Python_version:</td>\n",
              "<td>3.7.14 final</td></tr></tbody>\n",
              "  </table>\n",
              "</div>\n"
            ]
          },
          "metadata": {}
        }
      ]
    },
    {
      "cell_type": "code",
      "source": [
        "data=pd.read_csv('/content/drive/MyDrive/License_Data.csv')"
      ],
      "metadata": {
        "colab": {
          "base_uri": "https://localhost:8080/"
        },
        "id": "_bkwdXWvRaZz",
        "outputId": "8e4df09f-82bd-46fb-d1ab-d22fae55d68d"
      },
      "execution_count": 6,
      "outputs": [
        {
          "output_type": "stream",
          "name": "stderr",
          "text": [
            "/usr/local/lib/python3.7/dist-packages/IPython/core/interactiveshell.py:3326: DtypeWarning: Columns (9) have mixed types.Specify dtype option on import or set low_memory=False.\n",
            "  exec(code_obj, self.user_global_ns, self.user_ns)\n"
          ]
        }
      ]
    },
    {
      "cell_type": "code",
      "source": [
        "data.head()"
      ],
      "metadata": {
        "colab": {
          "base_uri": "https://localhost:8080/",
          "height": 473
        },
        "id": "4i-fOEoQR6Zd",
        "outputId": "77805fc6-58fb-42ae-f8c2-7e35e6cd13a2"
      },
      "execution_count": 7,
      "outputs": [
        {
          "output_type": "execute_result",
          "data": {
            "text/plain": [
              "                 ID  LICENSE_ID  ACCOUNT_NUMBER  SITE_NUMBER  \\\n",
              "0    35342-20020816     1256593           32811            1   \n",
              "1  1358463-20051116     1639294          262311           29   \n",
              "2  1980233-20090722     1980233          345008            1   \n",
              "3  1476582-20040211     1476582          273121            1   \n",
              "4  1141408-20080516     1896750          213785            1   \n",
              "\n",
              "                     LEGAL_NAME        DOING_BUSINESS_AS_NAME  \\\n",
              "0                  CARMEN CAHUE         CLAUDIA'S BRIDAL SHOP   \n",
              "1           ISLA TROPICAL, INC.                 ISLA TROPICAL   \n",
              "2                DJS REMODELING          DJS REMODELING, INC.   \n",
              "3      ALL-BRY CONSTRUCTION CO.      ALL-BRY CONSTRUCTION CO.   \n",
              "4  MCDONOUGH MECHANICAL SERVICE  MCDONOUGH MECHANICAL SERVICE   \n",
              "\n",
              "                      ADDRESS      CITY STATE ZIP_CODE  ...  \\\n",
              "0  2625 S CENTRAL PARK AVE  1   CHICAGO    IL  60623.0  ...   \n",
              "1         2825 W MONTROSE AVE   CHICAGO    IL    60618  ...   \n",
              "2           1605  CLAVEY RD 1  HIGHLAND    IL    60035  ...   \n",
              "3              8  NORTH TRAIL    LEMONT    IL    60439  ...   \n",
              "4             4081  JOSEPH DR  WAUKEGAN    IL    60087  ...   \n",
              "\n",
              "   LICENSE_TERM_START_DATE  LICENSE_TERM_EXPIRATION_DATE  \\\n",
              "0      2002-08-16T00:00:00           2003-08-15T00:00:00   \n",
              "1      2005-11-16T00:00:00           2006-11-15T00:00:00   \n",
              "2      2009-07-22T00:00:00           2011-07-15T00:00:00   \n",
              "3      2004-02-11T00:00:00           2005-02-15T00:00:00   \n",
              "4      2008-05-16T00:00:00           2010-05-15T00:00:00   \n",
              "\n",
              "  LICENSE_APPROVED_FOR_ISSUANCE          DATE_ISSUED  \\\n",
              "0           2002-08-21T00:00:00  2006-04-11T00:00:00   \n",
              "1           2006-04-05T00:00:00  2006-06-12T00:00:00   \n",
              "2           2009-07-22T00:00:00  2009-07-22T00:00:00   \n",
              "3           2004-02-10T00:00:00  2004-02-11T00:00:00   \n",
              "4           2008-06-04T00:00:00  2008-06-05T00:00:00   \n",
              "\n",
              "   LICENSE_STATUS_CHANGE_DATE   SSA   LATITUDE  LONGITUDE  \\\n",
              "0                         NaN  25.0  41.843613 -87.714618   \n",
              "1         2006-06-15T00:00:00  60.0  41.961132 -87.699626   \n",
              "2                         NaN   NaN        NaN        NaN   \n",
              "3                         NaN   NaN        NaN        NaN   \n",
              "4                         NaN   NaN        NaN        NaN   \n",
              "\n",
              "                                            LOCATION LICENSE_STATUS  \n",
              "0  {'latitude': '41.843612879431845', 'longitude'...            AAI  \n",
              "1  {'latitude': '41.96113244107215', 'longitude':...            AAC  \n",
              "2                                                NaN            AAI  \n",
              "3                                                NaN            AAI  \n",
              "4                                                NaN            AAI  \n",
              "\n",
              "[5 rows x 32 columns]"
            ],
            "text/html": [
              "\n",
              "  <div id=\"df-bfee0b8b-a125-42b8-ad91-bbdad67a023a\">\n",
              "    <div class=\"colab-df-container\">\n",
              "      <div>\n",
              "<style scoped>\n",
              "    .dataframe tbody tr th:only-of-type {\n",
              "        vertical-align: middle;\n",
              "    }\n",
              "\n",
              "    .dataframe tbody tr th {\n",
              "        vertical-align: top;\n",
              "    }\n",
              "\n",
              "    .dataframe thead th {\n",
              "        text-align: right;\n",
              "    }\n",
              "</style>\n",
              "<table border=\"1\" class=\"dataframe\">\n",
              "  <thead>\n",
              "    <tr style=\"text-align: right;\">\n",
              "      <th></th>\n",
              "      <th>ID</th>\n",
              "      <th>LICENSE_ID</th>\n",
              "      <th>ACCOUNT_NUMBER</th>\n",
              "      <th>SITE_NUMBER</th>\n",
              "      <th>LEGAL_NAME</th>\n",
              "      <th>DOING_BUSINESS_AS_NAME</th>\n",
              "      <th>ADDRESS</th>\n",
              "      <th>CITY</th>\n",
              "      <th>STATE</th>\n",
              "      <th>ZIP_CODE</th>\n",
              "      <th>...</th>\n",
              "      <th>LICENSE_TERM_START_DATE</th>\n",
              "      <th>LICENSE_TERM_EXPIRATION_DATE</th>\n",
              "      <th>LICENSE_APPROVED_FOR_ISSUANCE</th>\n",
              "      <th>DATE_ISSUED</th>\n",
              "      <th>LICENSE_STATUS_CHANGE_DATE</th>\n",
              "      <th>SSA</th>\n",
              "      <th>LATITUDE</th>\n",
              "      <th>LONGITUDE</th>\n",
              "      <th>LOCATION</th>\n",
              "      <th>LICENSE_STATUS</th>\n",
              "    </tr>\n",
              "  </thead>\n",
              "  <tbody>\n",
              "    <tr>\n",
              "      <th>0</th>\n",
              "      <td>35342-20020816</td>\n",
              "      <td>1256593</td>\n",
              "      <td>32811</td>\n",
              "      <td>1</td>\n",
              "      <td>CARMEN CAHUE</td>\n",
              "      <td>CLAUDIA'S BRIDAL SHOP</td>\n",
              "      <td>2625 S CENTRAL PARK AVE  1</td>\n",
              "      <td>CHICAGO</td>\n",
              "      <td>IL</td>\n",
              "      <td>60623.0</td>\n",
              "      <td>...</td>\n",
              "      <td>2002-08-16T00:00:00</td>\n",
              "      <td>2003-08-15T00:00:00</td>\n",
              "      <td>2002-08-21T00:00:00</td>\n",
              "      <td>2006-04-11T00:00:00</td>\n",
              "      <td>NaN</td>\n",
              "      <td>25.0</td>\n",
              "      <td>41.843613</td>\n",
              "      <td>-87.714618</td>\n",
              "      <td>{'latitude': '41.843612879431845', 'longitude'...</td>\n",
              "      <td>AAI</td>\n",
              "    </tr>\n",
              "    <tr>\n",
              "      <th>1</th>\n",
              "      <td>1358463-20051116</td>\n",
              "      <td>1639294</td>\n",
              "      <td>262311</td>\n",
              "      <td>29</td>\n",
              "      <td>ISLA TROPICAL, INC.</td>\n",
              "      <td>ISLA TROPICAL</td>\n",
              "      <td>2825 W MONTROSE AVE</td>\n",
              "      <td>CHICAGO</td>\n",
              "      <td>IL</td>\n",
              "      <td>60618</td>\n",
              "      <td>...</td>\n",
              "      <td>2005-11-16T00:00:00</td>\n",
              "      <td>2006-11-15T00:00:00</td>\n",
              "      <td>2006-04-05T00:00:00</td>\n",
              "      <td>2006-06-12T00:00:00</td>\n",
              "      <td>2006-06-15T00:00:00</td>\n",
              "      <td>60.0</td>\n",
              "      <td>41.961132</td>\n",
              "      <td>-87.699626</td>\n",
              "      <td>{'latitude': '41.96113244107215', 'longitude':...</td>\n",
              "      <td>AAC</td>\n",
              "    </tr>\n",
              "    <tr>\n",
              "      <th>2</th>\n",
              "      <td>1980233-20090722</td>\n",
              "      <td>1980233</td>\n",
              "      <td>345008</td>\n",
              "      <td>1</td>\n",
              "      <td>DJS REMODELING</td>\n",
              "      <td>DJS REMODELING, INC.</td>\n",
              "      <td>1605  CLAVEY RD 1</td>\n",
              "      <td>HIGHLAND</td>\n",
              "      <td>IL</td>\n",
              "      <td>60035</td>\n",
              "      <td>...</td>\n",
              "      <td>2009-07-22T00:00:00</td>\n",
              "      <td>2011-07-15T00:00:00</td>\n",
              "      <td>2009-07-22T00:00:00</td>\n",
              "      <td>2009-07-22T00:00:00</td>\n",
              "      <td>NaN</td>\n",
              "      <td>NaN</td>\n",
              "      <td>NaN</td>\n",
              "      <td>NaN</td>\n",
              "      <td>NaN</td>\n",
              "      <td>AAI</td>\n",
              "    </tr>\n",
              "    <tr>\n",
              "      <th>3</th>\n",
              "      <td>1476582-20040211</td>\n",
              "      <td>1476582</td>\n",
              "      <td>273121</td>\n",
              "      <td>1</td>\n",
              "      <td>ALL-BRY CONSTRUCTION CO.</td>\n",
              "      <td>ALL-BRY CONSTRUCTION CO.</td>\n",
              "      <td>8  NORTH TRAIL</td>\n",
              "      <td>LEMONT</td>\n",
              "      <td>IL</td>\n",
              "      <td>60439</td>\n",
              "      <td>...</td>\n",
              "      <td>2004-02-11T00:00:00</td>\n",
              "      <td>2005-02-15T00:00:00</td>\n",
              "      <td>2004-02-10T00:00:00</td>\n",
              "      <td>2004-02-11T00:00:00</td>\n",
              "      <td>NaN</td>\n",
              "      <td>NaN</td>\n",
              "      <td>NaN</td>\n",
              "      <td>NaN</td>\n",
              "      <td>NaN</td>\n",
              "      <td>AAI</td>\n",
              "    </tr>\n",
              "    <tr>\n",
              "      <th>4</th>\n",
              "      <td>1141408-20080516</td>\n",
              "      <td>1896750</td>\n",
              "      <td>213785</td>\n",
              "      <td>1</td>\n",
              "      <td>MCDONOUGH MECHANICAL SERVICE</td>\n",
              "      <td>MCDONOUGH MECHANICAL SERVICE</td>\n",
              "      <td>4081  JOSEPH DR</td>\n",
              "      <td>WAUKEGAN</td>\n",
              "      <td>IL</td>\n",
              "      <td>60087</td>\n",
              "      <td>...</td>\n",
              "      <td>2008-05-16T00:00:00</td>\n",
              "      <td>2010-05-15T00:00:00</td>\n",
              "      <td>2008-06-04T00:00:00</td>\n",
              "      <td>2008-06-05T00:00:00</td>\n",
              "      <td>NaN</td>\n",
              "      <td>NaN</td>\n",
              "      <td>NaN</td>\n",
              "      <td>NaN</td>\n",
              "      <td>NaN</td>\n",
              "      <td>AAI</td>\n",
              "    </tr>\n",
              "  </tbody>\n",
              "</table>\n",
              "<p>5 rows × 32 columns</p>\n",
              "</div>\n",
              "      <button class=\"colab-df-convert\" onclick=\"convertToInteractive('df-bfee0b8b-a125-42b8-ad91-bbdad67a023a')\"\n",
              "              title=\"Convert this dataframe to an interactive table.\"\n",
              "              style=\"display:none;\">\n",
              "        \n",
              "  <svg xmlns=\"http://www.w3.org/2000/svg\" height=\"24px\"viewBox=\"0 0 24 24\"\n",
              "       width=\"24px\">\n",
              "    <path d=\"M0 0h24v24H0V0z\" fill=\"none\"/>\n",
              "    <path d=\"M18.56 5.44l.94 2.06.94-2.06 2.06-.94-2.06-.94-.94-2.06-.94 2.06-2.06.94zm-11 1L8.5 8.5l.94-2.06 2.06-.94-2.06-.94L8.5 2.5l-.94 2.06-2.06.94zm10 10l.94 2.06.94-2.06 2.06-.94-2.06-.94-.94-2.06-.94 2.06-2.06.94z\"/><path d=\"M17.41 7.96l-1.37-1.37c-.4-.4-.92-.59-1.43-.59-.52 0-1.04.2-1.43.59L10.3 9.45l-7.72 7.72c-.78.78-.78 2.05 0 2.83L4 21.41c.39.39.9.59 1.41.59.51 0 1.02-.2 1.41-.59l7.78-7.78 2.81-2.81c.8-.78.8-2.07 0-2.86zM5.41 20L4 18.59l7.72-7.72 1.47 1.35L5.41 20z\"/>\n",
              "  </svg>\n",
              "      </button>\n",
              "      \n",
              "  <style>\n",
              "    .colab-df-container {\n",
              "      display:flex;\n",
              "      flex-wrap:wrap;\n",
              "      gap: 12px;\n",
              "    }\n",
              "\n",
              "    .colab-df-convert {\n",
              "      background-color: #E8F0FE;\n",
              "      border: none;\n",
              "      border-radius: 50%;\n",
              "      cursor: pointer;\n",
              "      display: none;\n",
              "      fill: #1967D2;\n",
              "      height: 32px;\n",
              "      padding: 0 0 0 0;\n",
              "      width: 32px;\n",
              "    }\n",
              "\n",
              "    .colab-df-convert:hover {\n",
              "      background-color: #E2EBFA;\n",
              "      box-shadow: 0px 1px 2px rgba(60, 64, 67, 0.3), 0px 1px 3px 1px rgba(60, 64, 67, 0.15);\n",
              "      fill: #174EA6;\n",
              "    }\n",
              "\n",
              "    [theme=dark] .colab-df-convert {\n",
              "      background-color: #3B4455;\n",
              "      fill: #D2E3FC;\n",
              "    }\n",
              "\n",
              "    [theme=dark] .colab-df-convert:hover {\n",
              "      background-color: #434B5C;\n",
              "      box-shadow: 0px 1px 3px 1px rgba(0, 0, 0, 0.15);\n",
              "      filter: drop-shadow(0px 1px 2px rgba(0, 0, 0, 0.3));\n",
              "      fill: #FFFFFF;\n",
              "    }\n",
              "  </style>\n",
              "\n",
              "      <script>\n",
              "        const buttonEl =\n",
              "          document.querySelector('#df-bfee0b8b-a125-42b8-ad91-bbdad67a023a button.colab-df-convert');\n",
              "        buttonEl.style.display =\n",
              "          google.colab.kernel.accessAllowed ? 'block' : 'none';\n",
              "\n",
              "        async function convertToInteractive(key) {\n",
              "          const element = document.querySelector('#df-bfee0b8b-a125-42b8-ad91-bbdad67a023a');\n",
              "          const dataTable =\n",
              "            await google.colab.kernel.invokeFunction('convertToInteractive',\n",
              "                                                     [key], {});\n",
              "          if (!dataTable) return;\n",
              "\n",
              "          const docLinkHtml = 'Like what you see? Visit the ' +\n",
              "            '<a target=\"_blank\" href=https://colab.research.google.com/notebooks/data_table.ipynb>data table notebook</a>'\n",
              "            + ' to learn more about interactive tables.';\n",
              "          element.innerHTML = '';\n",
              "          dataTable['output_type'] = 'display_data';\n",
              "          await google.colab.output.renderOutput(dataTable, element);\n",
              "          const docLink = document.createElement('div');\n",
              "          docLink.innerHTML = docLinkHtml;\n",
              "          element.appendChild(docLink);\n",
              "        }\n",
              "      </script>\n",
              "    </div>\n",
              "  </div>\n",
              "  "
            ]
          },
          "metadata": {},
          "execution_count": 7
        }
      ]
    },
    {
      "cell_type": "code",
      "source": [
        "data.describe()"
      ],
      "metadata": {
        "colab": {
          "base_uri": "https://localhost:8080/",
          "height": 300
        },
        "id": "dVOPlDHbTEfR",
        "outputId": "0c6a03b1-16ec-4677-f4fa-fe7d92d50d01"
      },
      "execution_count": 8,
      "outputs": [
        {
          "output_type": "execute_result",
          "data": {
            "text/plain": [
              "         LICENSE_ID  ACCOUNT_NUMBER   SITE_NUMBER          WARD      PRECINCT  \\\n",
              "count  8.589500e+04    85895.000000  85895.000000  36194.000000  29194.000000   \n",
              "mean   1.751303e+06   196695.421701      2.556028     28.528927     54.632973   \n",
              "std    3.358780e+05   126819.343760      8.655706     13.921710    163.174955   \n",
              "min    3.079300e+04       10.000000      1.000000      1.000000      1.000000   \n",
              "25%    1.469024e+06    54615.000000      1.000000     17.000000     12.000000   \n",
              "50%    1.778754e+06   248313.000000      1.000000     30.000000     26.000000   \n",
              "75%    2.067578e+06   300243.500000      2.000000     42.000000     41.000000   \n",
              "max    2.456551e+06   397444.000000    417.000000     50.000000    999.000000   \n",
              "\n",
              "       POLICE_DISTRICT  LICENSE_CODE  LICENSE_NUMBER          SSA  \\\n",
              "count     31883.000000  85895.000000    8.589400e+04  9449.000000   \n",
              "mean         13.529812   1111.736620    1.228151e+06    29.152080   \n",
              "std           7.275874    250.020872    7.431487e+05    17.419898   \n",
              "min           1.000000   1002.000000    1.290000e+02     1.000000   \n",
              "25%           8.000000   1010.000000    8.710900e+04    17.000000   \n",
              "50%          14.000000   1010.000000    1.442202e+06    28.000000   \n",
              "75%          19.000000   1011.000000    1.816581e+06    40.000000   \n",
              "max         181.000000   8340.000000    2.391410e+06    69.000000   \n",
              "\n",
              "           LATITUDE     LONGITUDE  \n",
              "count  38649.000000  38649.000000  \n",
              "mean      41.880952    -87.681165  \n",
              "std        0.079617      0.056248  \n",
              "min       41.644694    -87.915285  \n",
              "25%       41.834312    -87.719150  \n",
              "50%       41.892679    -87.673321  \n",
              "75%       41.938624    -87.639509  \n",
              "max       42.022660    -87.525872  "
            ],
            "text/html": [
              "\n",
              "  <div id=\"df-121d0d0d-a4bb-42f3-9cbe-482bea62f781\">\n",
              "    <div class=\"colab-df-container\">\n",
              "      <div>\n",
              "<style scoped>\n",
              "    .dataframe tbody tr th:only-of-type {\n",
              "        vertical-align: middle;\n",
              "    }\n",
              "\n",
              "    .dataframe tbody tr th {\n",
              "        vertical-align: top;\n",
              "    }\n",
              "\n",
              "    .dataframe thead th {\n",
              "        text-align: right;\n",
              "    }\n",
              "</style>\n",
              "<table border=\"1\" class=\"dataframe\">\n",
              "  <thead>\n",
              "    <tr style=\"text-align: right;\">\n",
              "      <th></th>\n",
              "      <th>LICENSE_ID</th>\n",
              "      <th>ACCOUNT_NUMBER</th>\n",
              "      <th>SITE_NUMBER</th>\n",
              "      <th>WARD</th>\n",
              "      <th>PRECINCT</th>\n",
              "      <th>POLICE_DISTRICT</th>\n",
              "      <th>LICENSE_CODE</th>\n",
              "      <th>LICENSE_NUMBER</th>\n",
              "      <th>SSA</th>\n",
              "      <th>LATITUDE</th>\n",
              "      <th>LONGITUDE</th>\n",
              "    </tr>\n",
              "  </thead>\n",
              "  <tbody>\n",
              "    <tr>\n",
              "      <th>count</th>\n",
              "      <td>8.589500e+04</td>\n",
              "      <td>85895.000000</td>\n",
              "      <td>85895.000000</td>\n",
              "      <td>36194.000000</td>\n",
              "      <td>29194.000000</td>\n",
              "      <td>31883.000000</td>\n",
              "      <td>85895.000000</td>\n",
              "      <td>8.589400e+04</td>\n",
              "      <td>9449.000000</td>\n",
              "      <td>38649.000000</td>\n",
              "      <td>38649.000000</td>\n",
              "    </tr>\n",
              "    <tr>\n",
              "      <th>mean</th>\n",
              "      <td>1.751303e+06</td>\n",
              "      <td>196695.421701</td>\n",
              "      <td>2.556028</td>\n",
              "      <td>28.528927</td>\n",
              "      <td>54.632973</td>\n",
              "      <td>13.529812</td>\n",
              "      <td>1111.736620</td>\n",
              "      <td>1.228151e+06</td>\n",
              "      <td>29.152080</td>\n",
              "      <td>41.880952</td>\n",
              "      <td>-87.681165</td>\n",
              "    </tr>\n",
              "    <tr>\n",
              "      <th>std</th>\n",
              "      <td>3.358780e+05</td>\n",
              "      <td>126819.343760</td>\n",
              "      <td>8.655706</td>\n",
              "      <td>13.921710</td>\n",
              "      <td>163.174955</td>\n",
              "      <td>7.275874</td>\n",
              "      <td>250.020872</td>\n",
              "      <td>7.431487e+05</td>\n",
              "      <td>17.419898</td>\n",
              "      <td>0.079617</td>\n",
              "      <td>0.056248</td>\n",
              "    </tr>\n",
              "    <tr>\n",
              "      <th>min</th>\n",
              "      <td>3.079300e+04</td>\n",
              "      <td>10.000000</td>\n",
              "      <td>1.000000</td>\n",
              "      <td>1.000000</td>\n",
              "      <td>1.000000</td>\n",
              "      <td>1.000000</td>\n",
              "      <td>1002.000000</td>\n",
              "      <td>1.290000e+02</td>\n",
              "      <td>1.000000</td>\n",
              "      <td>41.644694</td>\n",
              "      <td>-87.915285</td>\n",
              "    </tr>\n",
              "    <tr>\n",
              "      <th>25%</th>\n",
              "      <td>1.469024e+06</td>\n",
              "      <td>54615.000000</td>\n",
              "      <td>1.000000</td>\n",
              "      <td>17.000000</td>\n",
              "      <td>12.000000</td>\n",
              "      <td>8.000000</td>\n",
              "      <td>1010.000000</td>\n",
              "      <td>8.710900e+04</td>\n",
              "      <td>17.000000</td>\n",
              "      <td>41.834312</td>\n",
              "      <td>-87.719150</td>\n",
              "    </tr>\n",
              "    <tr>\n",
              "      <th>50%</th>\n",
              "      <td>1.778754e+06</td>\n",
              "      <td>248313.000000</td>\n",
              "      <td>1.000000</td>\n",
              "      <td>30.000000</td>\n",
              "      <td>26.000000</td>\n",
              "      <td>14.000000</td>\n",
              "      <td>1010.000000</td>\n",
              "      <td>1.442202e+06</td>\n",
              "      <td>28.000000</td>\n",
              "      <td>41.892679</td>\n",
              "      <td>-87.673321</td>\n",
              "    </tr>\n",
              "    <tr>\n",
              "      <th>75%</th>\n",
              "      <td>2.067578e+06</td>\n",
              "      <td>300243.500000</td>\n",
              "      <td>2.000000</td>\n",
              "      <td>42.000000</td>\n",
              "      <td>41.000000</td>\n",
              "      <td>19.000000</td>\n",
              "      <td>1011.000000</td>\n",
              "      <td>1.816581e+06</td>\n",
              "      <td>40.000000</td>\n",
              "      <td>41.938624</td>\n",
              "      <td>-87.639509</td>\n",
              "    </tr>\n",
              "    <tr>\n",
              "      <th>max</th>\n",
              "      <td>2.456551e+06</td>\n",
              "      <td>397444.000000</td>\n",
              "      <td>417.000000</td>\n",
              "      <td>50.000000</td>\n",
              "      <td>999.000000</td>\n",
              "      <td>181.000000</td>\n",
              "      <td>8340.000000</td>\n",
              "      <td>2.391410e+06</td>\n",
              "      <td>69.000000</td>\n",
              "      <td>42.022660</td>\n",
              "      <td>-87.525872</td>\n",
              "    </tr>\n",
              "  </tbody>\n",
              "</table>\n",
              "</div>\n",
              "      <button class=\"colab-df-convert\" onclick=\"convertToInteractive('df-121d0d0d-a4bb-42f3-9cbe-482bea62f781')\"\n",
              "              title=\"Convert this dataframe to an interactive table.\"\n",
              "              style=\"display:none;\">\n",
              "        \n",
              "  <svg xmlns=\"http://www.w3.org/2000/svg\" height=\"24px\"viewBox=\"0 0 24 24\"\n",
              "       width=\"24px\">\n",
              "    <path d=\"M0 0h24v24H0V0z\" fill=\"none\"/>\n",
              "    <path d=\"M18.56 5.44l.94 2.06.94-2.06 2.06-.94-2.06-.94-.94-2.06-.94 2.06-2.06.94zm-11 1L8.5 8.5l.94-2.06 2.06-.94-2.06-.94L8.5 2.5l-.94 2.06-2.06.94zm10 10l.94 2.06.94-2.06 2.06-.94-2.06-.94-.94-2.06-.94 2.06-2.06.94z\"/><path d=\"M17.41 7.96l-1.37-1.37c-.4-.4-.92-.59-1.43-.59-.52 0-1.04.2-1.43.59L10.3 9.45l-7.72 7.72c-.78.78-.78 2.05 0 2.83L4 21.41c.39.39.9.59 1.41.59.51 0 1.02-.2 1.41-.59l7.78-7.78 2.81-2.81c.8-.78.8-2.07 0-2.86zM5.41 20L4 18.59l7.72-7.72 1.47 1.35L5.41 20z\"/>\n",
              "  </svg>\n",
              "      </button>\n",
              "      \n",
              "  <style>\n",
              "    .colab-df-container {\n",
              "      display:flex;\n",
              "      flex-wrap:wrap;\n",
              "      gap: 12px;\n",
              "    }\n",
              "\n",
              "    .colab-df-convert {\n",
              "      background-color: #E8F0FE;\n",
              "      border: none;\n",
              "      border-radius: 50%;\n",
              "      cursor: pointer;\n",
              "      display: none;\n",
              "      fill: #1967D2;\n",
              "      height: 32px;\n",
              "      padding: 0 0 0 0;\n",
              "      width: 32px;\n",
              "    }\n",
              "\n",
              "    .colab-df-convert:hover {\n",
              "      background-color: #E2EBFA;\n",
              "      box-shadow: 0px 1px 2px rgba(60, 64, 67, 0.3), 0px 1px 3px 1px rgba(60, 64, 67, 0.15);\n",
              "      fill: #174EA6;\n",
              "    }\n",
              "\n",
              "    [theme=dark] .colab-df-convert {\n",
              "      background-color: #3B4455;\n",
              "      fill: #D2E3FC;\n",
              "    }\n",
              "\n",
              "    [theme=dark] .colab-df-convert:hover {\n",
              "      background-color: #434B5C;\n",
              "      box-shadow: 0px 1px 3px 1px rgba(0, 0, 0, 0.15);\n",
              "      filter: drop-shadow(0px 1px 2px rgba(0, 0, 0, 0.3));\n",
              "      fill: #FFFFFF;\n",
              "    }\n",
              "  </style>\n",
              "\n",
              "      <script>\n",
              "        const buttonEl =\n",
              "          document.querySelector('#df-121d0d0d-a4bb-42f3-9cbe-482bea62f781 button.colab-df-convert');\n",
              "        buttonEl.style.display =\n",
              "          google.colab.kernel.accessAllowed ? 'block' : 'none';\n",
              "\n",
              "        async function convertToInteractive(key) {\n",
              "          const element = document.querySelector('#df-121d0d0d-a4bb-42f3-9cbe-482bea62f781');\n",
              "          const dataTable =\n",
              "            await google.colab.kernel.invokeFunction('convertToInteractive',\n",
              "                                                     [key], {});\n",
              "          if (!dataTable) return;\n",
              "\n",
              "          const docLinkHtml = 'Like what you see? Visit the ' +\n",
              "            '<a target=\"_blank\" href=https://colab.research.google.com/notebooks/data_table.ipynb>data table notebook</a>'\n",
              "            + ' to learn more about interactive tables.';\n",
              "          element.innerHTML = '';\n",
              "          dataTable['output_type'] = 'display_data';\n",
              "          await google.colab.output.renderOutput(dataTable, element);\n",
              "          const docLink = document.createElement('div');\n",
              "          docLink.innerHTML = docLinkHtml;\n",
              "          element.appendChild(docLink);\n",
              "        }\n",
              "      </script>\n",
              "    </div>\n",
              "  </div>\n",
              "  "
            ]
          },
          "metadata": {},
          "execution_count": 8
        }
      ]
    },
    {
      "cell_type": "code",
      "source": [
        "data.info()"
      ],
      "metadata": {
        "colab": {
          "base_uri": "https://localhost:8080/"
        },
        "id": "jz1Y02BKfOE7",
        "outputId": "f94a1b1d-5903-4f05-cfef-b0e49c13a535"
      },
      "execution_count": 9,
      "outputs": [
        {
          "output_type": "stream",
          "name": "stdout",
          "text": [
            "<class 'pandas.core.frame.DataFrame'>\n",
            "RangeIndex: 85895 entries, 0 to 85894\n",
            "Data columns (total 32 columns):\n",
            " #   Column                             Non-Null Count  Dtype  \n",
            "---  ------                             --------------  -----  \n",
            " 0   ID                                 85895 non-null  object \n",
            " 1   LICENSE_ID                         85895 non-null  int64  \n",
            " 2   ACCOUNT_NUMBER                     85895 non-null  int64  \n",
            " 3   SITE_NUMBER                        85895 non-null  int64  \n",
            " 4   LEGAL_NAME                         85895 non-null  object \n",
            " 5   DOING_BUSINESS_AS_NAME             85894 non-null  object \n",
            " 6   ADDRESS                            85895 non-null  object \n",
            " 7   CITY                               85895 non-null  object \n",
            " 8   STATE                              85895 non-null  object \n",
            " 9   ZIP_CODE                           85864 non-null  object \n",
            " 10  WARD                               36194 non-null  float64\n",
            " 11  PRECINCT                           29194 non-null  float64\n",
            " 12  WARD_PRECINCT                      36195 non-null  object \n",
            " 13  POLICE_DISTRICT                    31883 non-null  float64\n",
            " 14  LICENSE_CODE                       85895 non-null  int64  \n",
            " 15  LICENSE_DESCRIPTION                85895 non-null  object \n",
            " 16  LICENSE_NUMBER                     85894 non-null  float64\n",
            " 17  APPLICATION_TYPE                   85895 non-null  object \n",
            " 18  APPLICATION_CREATED_DATE           21235 non-null  object \n",
            " 19  APPLICATION_REQUIREMENTS_COMPLETE  85681 non-null  object \n",
            " 20  PAYMENT_DATE                       84606 non-null  object \n",
            " 21  CONDITIONAL_APPROVAL               85895 non-null  object \n",
            " 22  LICENSE_TERM_START_DATE            85667 non-null  object \n",
            " 23  LICENSE_TERM_EXPIRATION_DATE       85877 non-null  object \n",
            " 24  LICENSE_APPROVED_FOR_ISSUANCE      79106 non-null  object \n",
            " 25  DATE_ISSUED                        85895 non-null  object \n",
            " 26  LICENSE_STATUS_CHANGE_DATE         30495 non-null  object \n",
            " 27  SSA                                9449 non-null   float64\n",
            " 28  LATITUDE                           38649 non-null  float64\n",
            " 29  LONGITUDE                          38649 non-null  float64\n",
            " 30  LOCATION                           38649 non-null  object \n",
            " 31  LICENSE_STATUS                     85895 non-null  object \n",
            "dtypes: float64(7), int64(4), object(21)\n",
            "memory usage: 21.0+ MB\n"
          ]
        }
      ]
    },
    {
      "cell_type": "code",
      "source": [
        "data.LICENSE_STATUS.value_counts()"
      ],
      "metadata": {
        "colab": {
          "base_uri": "https://localhost:8080/"
        },
        "id": "4ZIquM_Nl54B",
        "outputId": "ad5a29d2-d217-425e-98de-d5831dc60df9"
      },
      "execution_count": 10,
      "outputs": [
        {
          "output_type": "execute_result",
          "data": {
            "text/plain": [
              "AAI    55400\n",
              "AAC    30200\n",
              "REV      290\n",
              "REA        3\n",
              "INQ        2\n",
              "Name: LICENSE_STATUS, dtype: int64"
            ]
          },
          "metadata": {},
          "execution_count": 10
        }
      ]
    },
    {
      "cell_type": "code",
      "source": [
        "data=data[data.LICENSE_STATUS.isin(['AAI','AAC','REV'])]"
      ],
      "metadata": {
        "id": "RPLffwd7mEWj"
      },
      "execution_count": 11,
      "outputs": []
    },
    {
      "cell_type": "code",
      "source": [
        "data.isna().sum()"
      ],
      "metadata": {
        "colab": {
          "base_uri": "https://localhost:8080/"
        },
        "id": "LJS2VsTMms2d",
        "outputId": "752c7d6c-4f96-4d27-d7bf-31200d46aef5"
      },
      "execution_count": 12,
      "outputs": [
        {
          "output_type": "execute_result",
          "data": {
            "text/plain": [
              "ID                                       0\n",
              "LICENSE_ID                               0\n",
              "ACCOUNT_NUMBER                           0\n",
              "SITE_NUMBER                              0\n",
              "LEGAL_NAME                               0\n",
              "DOING_BUSINESS_AS_NAME                   1\n",
              "ADDRESS                                  0\n",
              "CITY                                     0\n",
              "STATE                                    0\n",
              "ZIP_CODE                                31\n",
              "WARD                                 49699\n",
              "PRECINCT                             56699\n",
              "WARD_PRECINCT                        49698\n",
              "POLICE_DISTRICT                      54010\n",
              "LICENSE_CODE                             0\n",
              "LICENSE_DESCRIPTION                      0\n",
              "LICENSE_NUMBER                           1\n",
              "APPLICATION_TYPE                         0\n",
              "APPLICATION_CREATED_DATE             64657\n",
              "APPLICATION_REQUIREMENTS_COMPLETE      214\n",
              "PAYMENT_DATE                          1287\n",
              "CONDITIONAL_APPROVAL                     0\n",
              "LICENSE_TERM_START_DATE                228\n",
              "LICENSE_TERM_EXPIRATION_DATE            18\n",
              "LICENSE_APPROVED_FOR_ISSUANCE         6789\n",
              "DATE_ISSUED                              0\n",
              "LICENSE_STATUS_CHANGE_DATE           55400\n",
              "SSA                                  76442\n",
              "LATITUDE                             47244\n",
              "LONGITUDE                            47244\n",
              "LOCATION                             47244\n",
              "LICENSE_STATUS                           0\n",
              "dtype: int64"
            ]
          },
          "metadata": {},
          "execution_count": 12
        }
      ]
    },
    {
      "cell_type": "code",
      "source": [
        "data.nunique()"
      ],
      "metadata": {
        "colab": {
          "base_uri": "https://localhost:8080/"
        },
        "id": "n5Z5upKhm6vL",
        "outputId": "78651e42-ad2f-4daf-c6fc-7d049a12c995"
      },
      "execution_count": 13,
      "outputs": [
        {
          "output_type": "execute_result",
          "data": {
            "text/plain": [
              "ID                                   85890\n",
              "LICENSE_ID                           85890\n",
              "ACCOUNT_NUMBER                       38895\n",
              "SITE_NUMBER                            177\n",
              "LEGAL_NAME                           38742\n",
              "DOING_BUSINESS_AS_NAME               41684\n",
              "ADDRESS                              42143\n",
              "CITY                                  1223\n",
              "STATE                                   54\n",
              "ZIP_CODE                              2456\n",
              "WARD                                    50\n",
              "PRECINCT                                76\n",
              "WARD_PRECINCT                         2383\n",
              "POLICE_DISTRICT                         28\n",
              "LICENSE_CODE                           106\n",
              "LICENSE_DESCRIPTION                    106\n",
              "LICENSE_NUMBER                       49764\n",
              "APPLICATION_TYPE                         5\n",
              "APPLICATION_CREATED_DATE              2899\n",
              "APPLICATION_REQUIREMENTS_COMPLETE     3078\n",
              "PAYMENT_DATE                          4356\n",
              "CONDITIONAL_APPROVAL                     2\n",
              "LICENSE_TERM_START_DATE               2825\n",
              "LICENSE_TERM_EXPIRATION_DATE           297\n",
              "LICENSE_APPROVED_FOR_ISSUANCE         4223\n",
              "DATE_ISSUED                           3498\n",
              "LICENSE_STATUS_CHANGE_DATE            3152\n",
              "SSA                                     53\n",
              "LATITUDE                             21384\n",
              "LONGITUDE                            21386\n",
              "LOCATION                             21386\n",
              "LICENSE_STATUS                           3\n",
              "dtype: int64"
            ]
          },
          "metadata": {},
          "execution_count": 13
        }
      ]
    },
    {
      "cell_type": "code",
      "source": [
        "sns.countplot(data['LICENSE_STATUS'])\n",
        "plt.show()"
      ],
      "metadata": {
        "colab": {
          "base_uri": "https://localhost:8080/",
          "height": 336
        },
        "id": "om5FINsPnEd3",
        "outputId": "85400e8e-cc00-43ab-ea94-966238f96a84"
      },
      "execution_count": 14,
      "outputs": [
        {
          "output_type": "stream",
          "name": "stderr",
          "text": [
            "/usr/local/lib/python3.7/dist-packages/seaborn/_decorators.py:43: FutureWarning: Pass the following variable as a keyword arg: x. From version 0.12, the only valid positional argument will be `data`, and passing other arguments without an explicit keyword will result in an error or misinterpretation.\n",
            "  FutureWarning\n"
          ]
        },
        {
          "output_type": "display_data",
          "data": {
            "text/plain": [
              "<Figure size 432x288 with 1 Axes>"
            ],
            "image/png": "[encoded data removed]"
          },
          "metadata": {
            "needs_background": "light"
          }
        }
      ]
    },
    {
      "cell_type": "code",
      "source": [
        "data.CONDITIONAL_APPROVAL.value_counts()"
      ],
      "metadata": {
        "colab": {
          "base_uri": "https://localhost:8080/"
        },
        "id": "opkY0xqxnetX",
        "outputId": "084a962d-c1b7-45a4-fdd0-6978d583058f"
      },
      "execution_count": 15,
      "outputs": [
        {
          "output_type": "execute_result",
          "data": {
            "text/plain": [
              "N    85872\n",
              "Y       18\n",
              "Name: CONDITIONAL_APPROVAL, dtype: int64"
            ]
          },
          "metadata": {},
          "execution_count": 15
        }
      ]
    },
    {
      "cell_type": "code",
      "source": [
        "from h2o.estimators import H2OGradientBoostingEstimator, H2ORandomForestEstimator"
      ],
      "metadata": {
        "id": "eiksx-2xn6Xq"
      },
      "execution_count": 16,
      "outputs": []
    },
    {
      "cell_type": "code",
      "source": [
        "data['LEGAL_BUSINESS_NAME_MATCH'] = data.apply(lambda x: 1 if str(x['LEGAL_NAME'].upper()) in str(x['DOING_BUSINESS_AS_NAME']) .upper()\n",
        "                                             or str(x['DOING_BUSINESS_AS_NAME']).upper() in str(x['LEGAL_NAME']).upper() else 0, \n",
        "                                             axis=1)"
      ],
      "metadata": {
        "id": "QSyBjEEVrj7Y"
      },
      "execution_count": 17,
      "outputs": []
    },
    {
      "cell_type": "code",
      "source": [
        "data['LICENSE_DESCRIPTION'].value_counts()"
      ],
      "metadata": {
        "id": "As8Kj8QJr0OF",
        "outputId": "abcf3cf9-2a9e-402b-a174-7f0ddfd0d374",
        "colab": {
          "base_uri": "https://localhost:8080/"
        }
      },
      "execution_count": 18,
      "outputs": [
        {
          "output_type": "execute_result",
          "data": {
            "text/plain": [
              "Limited Business License                    50077\n",
              "Home Repair                                 10632\n",
              "Peddler, non-food                            2812\n",
              "Home Occupation                              2809\n",
              "Retail Food Establishment                    2320\n",
              "                                            ...  \n",
              "Indoor Special Event                            1\n",
              "Affiliation                                     1\n",
              "Airport Pushcart Liquor Midway - Class A        1\n",
              "Not-For-Profit Club                             1\n",
              "Motor Vehicle Services License                  1\n",
              "Name: LICENSE_DESCRIPTION, Length: 106, dtype: int64"
            ]
          },
          "metadata": {},
          "execution_count": 18
        }
      ]
    },
    {
      "cell_type": "code",
      "source": [
        "data['LICENSE_DESCRIPTION'] = data['LICENSE_DESCRIPTION'].replace('Motor Vehicle Repair : Engine Only (Class II)', 'Motor Vehicle Repair')\n",
        "data['LICENSE_DESCRIPTION'] = data['LICENSE_DESCRIPTION'].replace('Motor Vehicle Repair: Engine/Body(Class III)', 'Motor Vehicle Repair')\n",
        "data['LICENSE_DESCRIPTION'] = data['LICENSE_DESCRIPTION'].replace('Motor Vehicle Repair; Specialty(Class I)', 'Motor Vehicle Repair')\n",
        "data['LICENSE_DESCRIPTION'] = data['LICENSE_DESCRIPTION'].replace('Day Care Center Under 2 Years', 'Day Care Center')\n",
        "data['LICENSE_DESCRIPTION'] = data['LICENSE_DESCRIPTION'].replace('Day Care Center 2 - 6 Years', 'Day Care Center')\n",
        "data['LICENSE_DESCRIPTION'] = data['LICENSE_DESCRIPTION'].replace('Day Care Center Under 2 and 2 - 6 Years', 'Day Care Center')\n",
        "data['LICENSE_DESCRIPTION'] = data['LICENSE_DESCRIPTION'].replace('Peddler, non-food', 'Peddler')\n",
        "data['LICENSE_DESCRIPTION'] = data['LICENSE_DESCRIPTION'].replace('Peddler, non-food, special', 'Peddler')\n",
        "data['LICENSE_DESCRIPTION'] = data['LICENSE_DESCRIPTION'].replace('Peddler, food (fruits and vegtables only)', 'Peddler')\n",
        "data['LICENSE_DESCRIPTION'] = data['LICENSE_DESCRIPTION'].replace('Peddler,food - (fruits and vegetables only) - special', 'Peddler')\n",
        "data['LICENSE_DESCRIPTION'] = data['LICENSE_DESCRIPTION'].replace('Tire Facilty Class I (100 - 1,000 Tires)', 'Tire Facilty')\n",
        "data['LICENSE_DESCRIPTION'] = data['LICENSE_DESCRIPTION'].replace('Tire Facility Class II (1,001 - 5,000 Tires)', 'Tire Facilty')\n",
        "data['LICENSE_DESCRIPTION'] = data['LICENSE_DESCRIPTION'].replace('Tire Facility Class III (5,001 - More Tires)', 'Tire Facilty')\n",
        "data['LICENSE_DESCRIPTION'] = data['LICENSE_DESCRIPTION'].replace('Repossessor Class A', 'Repossessor')\n",
        "data['LICENSE_DESCRIPTION'] = data['LICENSE_DESCRIPTION'].replace('Repossessor Class B', 'Repossessor')\n",
        "data['LICENSE_DESCRIPTION'] = data['LICENSE_DESCRIPTION'].replace('Repossessor Class B Employee', 'Repossessor')\n",
        "data['LICENSE_DESCRIPTION'] = data['LICENSE_DESCRIPTION'].replace('Expediter - Class B', 'Expediter')\n",
        "data['LICENSE_DESCRIPTION'] = data['LICENSE_DESCRIPTION'].replace('Expediter - Class A', 'Expediter')\n",
        "data['LICENSE_DESCRIPTION'] = data['LICENSE_DESCRIPTION'].replace('Expediter - Class B Employee', 'Expediter')\n",
        "data['LICENSE_DESCRIPTION'] = data['LICENSE_DESCRIPTION'].replace('Itinerant Merchant, Class II', 'Itinerant Merchant')\n",
        "data['LICENSE_DESCRIPTION'] = data['LICENSE_DESCRIPTION'].replace('Itinerant Merchant, Class I', 'Itinerant Merchant')\n",
        "\n"
      ],
      "metadata": {
        "id": "hGF_A8PncXKN"
      },
      "execution_count": 21,
      "outputs": []
    },
    {
      "cell_type": "code",
      "source": [
        "data['LICENSE_DESCRIPTION'].nunique()"
      ],
      "metadata": {
        "id": "DRGRwudDr3BL",
        "colab": {
          "base_uri": "https://localhost:8080/"
        },
        "outputId": "5c6e120e-e362-45d8-88ef-e7f7cc0c696f"
      },
      "execution_count": 22,
      "outputs": [
        {
          "output_type": "execute_result",
          "data": {
            "text/plain": [
              "92"
            ]
          },
          "metadata": {},
          "execution_count": 22
        }
      ]
    },
    {
      "cell_type": "code",
      "source": [
        "data['LEGAL_NAME'] = data['LEGAL_NAME'].str.replace('.', '', regex=False)\n",
        "data['DOING_BUSINESS_AS_NAME'] = data['DOING_BUSINESS_AS_NAME'].str.replace('.', '', regex=False)\n",
        "\n",
        "data['BUSINESS_TYPE'] = 'PVT'\n",
        "\n",
        "data['BUSINESS_TYPE'] = np.where(data['LEGAL_NAME'].str.contains('INC'), 'INC', data['BUSINESS_TYPE'])\n",
        "data['BUSINESS_TYPE'] = np.where(data['LEGAL_NAME'].str.contains('INCORPORATED'), 'INC', data['BUSINESS_TYPE'])\n",
        "data['BUSINESS_TYPE'] = np.where(data['DOING_BUSINESS_AS_NAME'].str.contains('INC'), 'INC', data['BUSINESS_TYPE'])\n",
        "data['BUSINESS_TYPE'] = np.where(data['DOING_BUSINESS_AS_NAME'].str.contains('INCORPORATED'), 'INC', data['BUSINESS_TYPE'])\n",
        "data['BUSINESS_TYPE'] = np.where(data['LEGAL_NAME'].str.contains('LLC'), 'LLC', data['BUSINESS_TYPE'])\n",
        "data['BUSINESS_TYPE'] = np.where(data['DOING_BUSINESS_AS_NAME'].str.contains('LLC'), 'LLC', data['BUSINESS_TYPE'])\n",
        "data['BUSINESS_TYPE'] = np.where(data['LEGAL_NAME'].str.contains('CO'), 'CORP', data['BUSINESS_TYPE'])\n",
        "data['BUSINESS_TYPE'] = np.where(data['LEGAL_NAME'].str.contains('CORP'), 'CORP', data['BUSINESS_TYPE'])\n",
        "data['BUSINESS_TYPE'] = np.where(data['LEGAL_NAME'].str.contains('CORPORATION'), 'CORP', data['BUSINESS_TYPE'])\n",
        "data['BUSINESS_TYPE'] = np.where(data['DOING_BUSINESS_AS_NAME'].str.contains('CO'), 'CORP', data['BUSINESS_TYPE'])\n",
        "data['BUSINESS_TYPE'] = np.where(data['DOING_BUSINESS_AS_NAME'].str.contains('CORP'), 'CORP', data['BUSINESS_TYPE'])\n",
        "data['BUSINESS_TYPE'] = np.where(data['DOING_BUSINESS_AS_NAME'].str.contains('CORPORATION'), 'CORP', data['BUSINESS_TYPE'])\n",
        "data['BUSINESS_TYPE'] = np.where(data['LEGAL_NAME'].str.contains('LTD'), 'LTD', data['BUSINESS_TYPE'])\n",
        "data['BUSINESS_TYPE'] = np.where(data['LEGAL_NAME'].str.contains('LIMITED'), 'LTD', data['BUSINESS_TYPE'])\n",
        "data['BUSINESS_TYPE'] = np.where(data['DOING_BUSINESS_AS_NAME'].str.contains('LTD'), 'LTD', data['BUSINESS_TYPE'])\n",
        "data['BUSINESS_TYPE'] = np.where(data['DOING_BUSINESS_AS_NAME'].str.contains('LIMITED'), 'LTD', data['BUSINESS_TYPE'])\n",
        "\n"
      ],
      "metadata": {
        "id": "hptHxT7ucjlj"
      },
      "execution_count": 23,
      "outputs": []
    },
    {
      "cell_type": "code",
      "source": [
        "data['BUSINESS_TYPE'].value_counts()"
      ],
      "metadata": {
        "colab": {
          "base_uri": "https://localhost:8080/"
        },
        "id": "c1BOkHPZblN4",
        "outputId": "698b1444-c44c-4e1d-9ba0-0268b08bcb4e"
      },
      "execution_count": 24,
      "outputs": [
        {
          "output_type": "execute_result",
          "data": {
            "text/plain": [
              "CORP    27763\n",
              "PVT     27020\n",
              "INC     24443\n",
              "LLC      5048\n",
              "LTD      1616\n",
              "Name: BUSINESS_TYPE, dtype: int64"
            ]
          },
          "metadata": {},
          "execution_count": 24
        }
      ]
    },
    {
      "cell_type": "code",
      "source": [
        "sns.countplot(data['BUSINESS_TYPE'])"
      ],
      "metadata": {
        "colab": {
          "base_uri": "https://localhost:8080/",
          "height": 354
        },
        "id": "Q63gBWZJcq2I",
        "outputId": "44e96565-5cda-4f7e-a9a2-18d44cc7b8f2"
      },
      "execution_count": 25,
      "outputs": [
        {
          "output_type": "stream",
          "name": "stderr",
          "text": [
            "/usr/local/lib/python3.7/dist-packages/seaborn/_decorators.py:43: FutureWarning: Pass the following variable as a keyword arg: x. From version 0.12, the only valid positional argument will be `data`, and passing other arguments without an explicit keyword will result in an error or misinterpretation.\n",
            "  FutureWarning\n"
          ]
        },
        {
          "output_type": "execute_result",
          "data": {
            "text/plain": [
              "<matplotlib.axes._subplots.AxesSubplot at 0x7f0f455d77d0>"
            ]
          },
          "metadata": {},
          "execution_count": 25
        },
        {
          "output_type": "display_data",
          "data": {
            "text/plain": [
              "<Figure size 432x288 with 1 Axes>"
            ],
            "image/png": "[encoded data removed]"
          },
          "metadata": {
            "needs_background": "light"
          }
        }
      ]
    },
    {
      "cell_type": "code",
      "source": [
        "data.ZIP_CODE.value_counts()"
      ],
      "metadata": {
        "colab": {
          "base_uri": "https://localhost:8080/"
        },
        "id": "ZY9vK3FMczB_",
        "outputId": "b64a4e1a-455e-429b-a0fc-f45f1a0db814"
      },
      "execution_count": 26,
      "outputs": [
        {
          "output_type": "execute_result",
          "data": {
            "text/plain": [
              "60804      1142\n",
              "60647.0     925\n",
              "60618       889\n",
              "60639       878\n",
              "60007       789\n",
              "           ... \n",
              "90605         1\n",
              "57108         1\n",
              "52358         1\n",
              "16801         1\n",
              "61115.0       1\n",
              "Name: ZIP_CODE, Length: 2456, dtype: int64"
            ]
          },
          "metadata": {},
          "execution_count": 26
        }
      ]
    },
    {
      "cell_type": "code",
      "source": [
        "data['ZIP_CODE'].fillna(-1, inplace=True)\n",
        "data['ZIP_CODE_MISSING'] = data.apply(lambda x: 1 if x['ZIP_CODE'] == -1 else 0, axis=1)"
      ],
      "metadata": {
        "id": "cFNZSQzyiP0R"
      },
      "execution_count": 27,
      "outputs": []
    },
    {
      "cell_type": "code",
      "source": [
        "data[['SSA']].plot.hist(bins=12, alpha=0.8)"
      ],
      "metadata": {
        "colab": {
          "base_uri": "https://localhost:8080/",
          "height": 283
        },
        "id": "kxoDBlIDiXyJ",
        "outputId": "ea2ab6e4-178a-4f20-fede-6aa57caa8b62"
      },
      "execution_count": 28,
      "outputs": [
        {
          "output_type": "execute_result",
          "data": {
            "text/plain": [
              "<matplotlib.axes._subplots.AxesSubplot at 0x7f0f455cf210>"
            ]
          },
          "metadata": {},
          "execution_count": 28
        },
        {
          "output_type": "display_data",
          "data": {
            "text/plain": [
              "<Figure size 432x288 with 1 Axes>"
            ],
            "image/png": "[encoded data removed]"
          },
          "metadata": {
            "needs_background": "light"
          }
        }
      ]
    },
    {
      "cell_type": "code",
      "source": [
        "data['SSA'].fillna(-1, inplace=True)"
      ],
      "metadata": {
        "id": "HtRPVIV0ii4w"
      },
      "execution_count": 29,
      "outputs": []
    },
    {
      "cell_type": "code",
      "source": [
        "data['APPLICATION_REQUIREMENTS_COMPLETE'].fillna(-1, inplace=True)\n",
        "data['APPLICATION_REQUIREMENTS_COMPLETE'] = data.apply(lambda x: 0 if x['APPLICATION_REQUIREMENTS_COMPLETE'] == -1 \n",
        "                                                     else 1, axis=1)"
      ],
      "metadata": {
        "id": "8gmN-xENil5l"
      },
      "execution_count": 30,
      "outputs": []
    },
    {
      "cell_type": "markdown",
      "source": [
        "# Train test split"
      ],
      "metadata": {
        "id": "CL_rdz7OiypK"
      }
    },
    {
      "cell_type": "code",
      "source": [
        "train, test = train_test_split(data, test_size=0.2, random_state=123)"
      ],
      "metadata": {
        "id": "HyZkTFKJiyIB"
      },
      "execution_count": 32,
      "outputs": []
    },
    {
      "cell_type": "code",
      "source": [
        "train = h2o.H2OFrame(train)\n",
        "test = h2o.H2OFrame(test)"
      ],
      "metadata": {
        "colab": {
          "base_uri": "https://localhost:8080/"
        },
        "id": "B0Vtztfki_t5",
        "outputId": "7e8d9ff8-6eba-4afa-b1fa-b5b837fc25cf"
      },
      "execution_count": 33,
      "outputs": [
        {
          "output_type": "stream",
          "name": "stdout",
          "text": [
            "Parse progress: |████████████████████████████████████████████████████████████████| (done) 100%\n",
            "Parse progress: |████████████████████████████████████████████████████████████████| (done) 100%\n"
          ]
        }
      ]
    },
    {
      "cell_type": "code",
      "source": [
        "h2o_rf = H2ORandomForestEstimator(ntrees=100, seed=123, max_depth=10)\n",
        "h2o_rf.train(x=['APPLICATION_TYPE', 'CONDITIONAL_APPROVAL', 'LICENSE_CODE', 'SSA', 'LEGAL_BUSINESS_NAME_MATCH', \n",
        "                'ZIP_CODE_MISSING', 'SSA', 'APPLICATION_REQUIREMENTS_COMPLETE', 'LICENSE_DESCRIPTION', 'BUSINESS_TYPE'], \n",
        "             y='LICENSE_STATUS', training_frame=train)"
      ],
      "metadata": {
        "colab": {
          "base_uri": "https://localhost:8080/",
          "height": 1000
        },
        "id": "nuoLznVIjQlX",
        "outputId": "4d18e388-e634-4f57-b538-37224d0e5e9d"
      },
      "execution_count": 34,
      "outputs": [
        {
          "output_type": "stream",
          "name": "stdout",
          "text": [
            "drf Model Build progress: |██████████████████████████████████████████████████████| (done) 100%\n"
          ]
        },
        {
          "output_type": "execute_result",
          "data": {
            "text/plain": [
              "Model Details\n",
              "=============\n",
              "H2ORandomForestEstimator : Distributed Random Forest\n",
              "Model Key: DRF_model_python_1664139156347_1\n",
              "\n",
              "\n",
              "Model Summary: \n",
              "    number_of_trees    number_of_internal_trees    model_size_in_bytes    min_depth    max_depth    mean_depth    min_leaves    max_leaves    mean_leaves\n",
              "--  -----------------  --------------------------  ---------------------  -----------  -----------  ------------  ------------  ------------  -------------\n",
              "    100                300                         1.28941e+06            10           10           10            52            449           272.18\n",
              "\n",
              "ModelMetricsMultinomial: drf\n",
              "** Reported on train data. **\n",
              "\n",
              "MSE: 0.15953097856719542\n",
              "RMSE: 0.39941329292750816\n",
              "LogLoss: 0.4956308711207332\n",
              "Mean Per-Class Error: 0.5010083289322868\n",
              "AUC table was not computed: it is either disabled (model parameter 'auc_type' was set to AUTO or NONE) or the domain size exceeds the limit (maximum is 50 domains).\n",
              "AUCPR table was not computed: it is either disabled (model parameter 'auc_type' was set to AUTO or NONE) or the domain size exceeds the limit (maximum is 50 domains).\n",
              "\n",
              "Confusion Matrix: Row labels: Actual class; Column labels: Predicted class\n",
              "AAC    AAI    REV    Error      Rate\n",
              "-----  -----  -----  ---------  ---------------\n",
              "12233  11861  18     0.492659   11,879 / 24,112\n",
              "2847   41529  1      0.0641774  2,848 / 44,377\n",
              "175    36     12     0.946188   211 / 223\n",
              "15255  53426  31     0.2174     14,938 / 68,712\n",
              "\n",
              "Top-3 Hit Ratios: \n",
              "k    hit_ratio\n",
              "---  -----------\n",
              "1    0.7826\n",
              "2    0.99904\n",
              "3    1\n",
              "\n",
              "Scoring History: \n",
              "    timestamp            duration    number_of_trees    training_rmse    training_logloss    training_classification_error    training_auc    training_pr_auc\n",
              "--  -------------------  ----------  -----------------  ---------------  ------------------  -------------------------------  --------------  -----------------\n",
              "    2022-09-25 21:28:33  0.088 sec   0                  nan              nan                 nan                              nan             nan\n",
              "    2022-09-25 21:28:34  1.291 sec   1                  0.403304         0.638051            0.220504                         nan             nan\n",
              "    2022-09-25 21:28:35  1.784 sec   2                  0.40375          0.618222            0.220586                         nan             nan\n",
              "    2022-09-25 21:28:35  2.224 sec   3                  0.40316          0.612821            0.219389                         nan             nan\n",
              "    2022-09-25 21:28:36  2.658 sec   4                  0.402172         0.587962            0.218653                         nan             nan\n",
              "    2022-09-25 21:28:36  3.113 sec   5                  0.401343         0.573952            0.217887                         nan             nan\n",
              "    2022-09-25 21:28:37  3.564 sec   6                  0.4009           0.560679            0.21759                          nan             nan\n",
              "    2022-09-25 21:28:37  3.924 sec   7                  0.400632         0.546537            0.217292                         nan             nan\n",
              "    2022-09-25 21:28:41  7.973 sec   23                 0.399788         0.502757            0.217065                         nan             nan\n",
              "    2022-09-25 21:28:45  12.114 sec  44                 0.399522         0.498372            0.217357                         nan             nan\n",
              "    2022-09-25 21:28:49  16.245 sec  68                 0.399468         0.495888            0.217298                         nan             nan\n",
              "    2022-09-25 21:28:53  20.254 sec  90                 0.399445         0.49572             0.217269                         nan             nan\n",
              "    2022-09-25 21:28:55  22.112 sec  100                0.399413         0.495631            0.2174                           nan             nan\n",
              "\n",
              "Variable Importances: \n",
              "variable                           relative_importance    scaled_importance    percentage\n",
              "---------------------------------  ---------------------  -------------------  ------------\n",
              "LICENSE_DESCRIPTION                466311                 1                    0.615634\n",
              "SSA                                167670                 0.359568             0.221362\n",
              "LICENSE_CODE                       68781.1                0.147501             0.0908064\n",
              "BUSINESS_TYPE                      30302.6                0.0649838            0.0400062\n",
              "LEGAL_BUSINESS_NAME_MATCH          13842.1                0.0296843            0.0182747\n",
              "APPLICATION_TYPE                   9613.96                0.0206171            0.0126926\n",
              "APPLICATION_REQUIREMENTS_COMPLETE  612.938                0.00131444           0.000809215\n",
              "ZIP_CODE_MISSING                   291.6                  0.000625334          0.000384977\n",
              "CONDITIONAL_APPROVAL               22.6764                4.86294e-05          2.99379e-05\n",
              "\n",
              "[tips]\n",
              "Use `model.explain()` to inspect the model.\n",
              "--\n",
              "Use `h2o.display.toggle_user_tips()` to switch on/off this section."
            ],
            "text/html": [
              "<pre style='margin: 1em 0 1em 0;'>Model Details\n",
              "=============\n",
              "H2ORandomForestEstimator : Distributed Random Forest\n",
              "Model Key: DRF_model_python_1664139156347_1\n",
              "</pre>\n",
              "<div style='margin: 1em 0 1em 0;'>\n",
              "<style>\n",
              "\n",
              "#h2o-table-2.h2o-container {\n",
              "  overflow-x: auto;\n",
              "}\n",
              "#h2o-table-2 .h2o-table {\n",
              "  /* width: 100%; */\n",
              "  margin-top: 1em;\n",
              "  margin-bottom: 1em;\n",
              "}\n",
              "#h2o-table-2 .h2o-table caption {\n",
              "  white-space: nowrap;\n",
              "  caption-side: top;\n",
              "  text-align: left;\n",
              "  /* margin-left: 1em; */\n",
              "  margin: 0;\n",
              "  font-size: larger;\n",
              "}\n",
              "#h2o-table-2 .h2o-table thead {\n",
              "  white-space: nowrap; \n",
              "  position: sticky;\n",
              "  top: 0;\n",
              "  box-shadow: 0 -1px inset;\n",
              "}\n",
              "#h2o-table-2 .h2o-table tbody {\n",
              "  overflow: auto;\n",
              "}\n",
              "#h2o-table-2 .h2o-table th,\n",
              "#h2o-table-2 .h2o-table td {\n",
              "  text-align: right;\n",
              "  /* border: 1px solid; */\n",
              "}\n",
              "#h2o-table-2 .h2o-table tr:nth-child(even) {\n",
              "  /* background: #F5F5F5 */\n",
              "}\n",
              "\n",
              "</style>      \n",
              "<div id=\"h2o-table-2\" class=\"h2o-container\">\n",
              "  <table class=\"h2o-table\">\n",
              "    <caption>Model Summary: </caption>\n",
              "    <thead><tr><th></th>\n",
              "<th>number_of_trees</th>\n",
              "<th>number_of_internal_trees</th>\n",
              "<th>model_size_in_bytes</th>\n",
              "<th>min_depth</th>\n",
              "<th>max_depth</th>\n",
              "<th>mean_depth</th>\n",
              "<th>min_leaves</th>\n",
              "<th>max_leaves</th>\n",
              "<th>mean_leaves</th></tr></thead>\n",
              "    <tbody><tr><td></td>\n",
              "<td>100.0</td>\n",
              "<td>300.0</td>\n",
              "<td>1289406.0</td>\n",
              "<td>10.0</td>\n",
              "<td>10.0</td>\n",
              "<td>10.0</td>\n",
              "<td>52.0</td>\n",
              "<td>449.0</td>\n",
              "<td>272.18</td></tr></tbody>\n",
              "  </table>\n",
              "</div>\n",
              "</div>\n",
              "<div style='margin: 1em 0 1em 0;'><pre style='margin: 1em 0 1em 0;'>ModelMetricsMultinomial: drf\n",
              "** Reported on train data. **\n",
              "\n",
              "MSE: 0.15953097856719542\n",
              "RMSE: 0.39941329292750816\n",
              "LogLoss: 0.4956308711207332\n",
              "Mean Per-Class Error: 0.5010083289322868\n",
              "AUC table was not computed: it is either disabled (model parameter 'auc_type' was set to AUTO or NONE) or the domain size exceeds the limit (maximum is 50 domains).\n",
              "AUCPR table was not computed: it is either disabled (model parameter 'auc_type' was set to AUTO or NONE) or the domain size exceeds the limit (maximum is 50 domains).</pre>\n",
              "<div style='margin: 1em 0 1em 0;'>\n",
              "<style>\n",
              "\n",
              "#h2o-table-3.h2o-container {\n",
              "  overflow-x: auto;\n",
              "}\n",
              "#h2o-table-3 .h2o-table {\n",
              "  /* width: 100%; */\n",
              "  margin-top: 1em;\n",
              "  margin-bottom: 1em;\n",
              "}\n",
              "#h2o-table-3 .h2o-table caption {\n",
              "  white-space: nowrap;\n",
              "  caption-side: top;\n",
              "  text-align: left;\n",
              "  /* margin-left: 1em; */\n",
              "  margin: 0;\n",
              "  font-size: larger;\n",
              "}\n",
              "#h2o-table-3 .h2o-table thead {\n",
              "  white-space: nowrap; \n",
              "  position: sticky;\n",
              "  top: 0;\n",
              "  box-shadow: 0 -1px inset;\n",
              "}\n",
              "#h2o-table-3 .h2o-table tbody {\n",
              "  overflow: auto;\n",
              "}\n",
              "#h2o-table-3 .h2o-table th,\n",
              "#h2o-table-3 .h2o-table td {\n",
              "  text-align: right;\n",
              "  /* border: 1px solid; */\n",
              "}\n",
              "#h2o-table-3 .h2o-table tr:nth-child(even) {\n",
              "  /* background: #F5F5F5 */\n",
              "}\n",
              "\n",
              "</style>      \n",
              "<div id=\"h2o-table-3\" class=\"h2o-container\">\n",
              "  <table class=\"h2o-table\">\n",
              "    <caption>Confusion Matrix: Row labels: Actual class; Column labels: Predicted class</caption>\n",
              "    <thead><tr><th>AAC</th>\n",
              "<th>AAI</th>\n",
              "<th>REV</th>\n",
              "<th>Error</th>\n",
              "<th>Rate</th></tr></thead>\n",
              "    <tbody><tr><td>12233.0</td>\n",
              "<td>11861.0</td>\n",
              "<td>18.0</td>\n",
              "<td>0.4926593</td>\n",
              "<td>11,879 / 24,112</td></tr>\n",
              "<tr><td>2847.0</td>\n",
              "<td>41529.0</td>\n",
              "<td>1.0</td>\n",
              "<td>0.0641774</td>\n",
              "<td>2,848 / 44,377</td></tr>\n",
              "<tr><td>175.0</td>\n",
              "<td>36.0</td>\n",
              "<td>12.0</td>\n",
              "<td>0.9461883</td>\n",
              "<td>211 / 223</td></tr>\n",
              "<tr><td>15255.0</td>\n",
              "<td>53426.0</td>\n",
              "<td>31.0</td>\n",
              "<td>0.2174002</td>\n",
              "<td>14,938 / 68,712</td></tr></tbody>\n",
              "  </table>\n",
              "</div>\n",
              "</div>\n",
              "<div style='margin: 1em 0 1em 0;'>\n",
              "<style>\n",
              "\n",
              "#h2o-table-4.h2o-container {\n",
              "  overflow-x: auto;\n",
              "}\n",
              "#h2o-table-4 .h2o-table {\n",
              "  /* width: 100%; */\n",
              "  margin-top: 1em;\n",
              "  margin-bottom: 1em;\n",
              "}\n",
              "#h2o-table-4 .h2o-table caption {\n",
              "  white-space: nowrap;\n",
              "  caption-side: top;\n",
              "  text-align: left;\n",
              "  /* margin-left: 1em; */\n",
              "  margin: 0;\n",
              "  font-size: larger;\n",
              "}\n",
              "#h2o-table-4 .h2o-table thead {\n",
              "  white-space: nowrap; \n",
              "  position: sticky;\n",
              "  top: 0;\n",
              "  box-shadow: 0 -1px inset;\n",
              "}\n",
              "#h2o-table-4 .h2o-table tbody {\n",
              "  overflow: auto;\n",
              "}\n",
              "#h2o-table-4 .h2o-table th,\n",
              "#h2o-table-4 .h2o-table td {\n",
              "  text-align: right;\n",
              "  /* border: 1px solid; */\n",
              "}\n",
              "#h2o-table-4 .h2o-table tr:nth-child(even) {\n",
              "  /* background: #F5F5F5 */\n",
              "}\n",
              "\n",
              "</style>      \n",
              "<div id=\"h2o-table-4\" class=\"h2o-container\">\n",
              "  <table class=\"h2o-table\">\n",
              "    <caption>Top-3 Hit Ratios: </caption>\n",
              "    <thead><tr><th>k</th>\n",
              "<th>hit_ratio</th></tr></thead>\n",
              "    <tbody><tr><td>1</td>\n",
              "<td>0.7825999</td></tr>\n",
              "<tr><td>2</td>\n",
              "<td>0.9990395</td></tr>\n",
              "<tr><td>3</td>\n",
              "<td>1.0000001</td></tr></tbody>\n",
              "  </table>\n",
              "</div>\n",
              "</div></div>\n",
              "<div style='margin: 1em 0 1em 0;'>\n",
              "<style>\n",
              "\n",
              "#h2o-table-5.h2o-container {\n",
              "  overflow-x: auto;\n",
              "}\n",
              "#h2o-table-5 .h2o-table {\n",
              "  /* width: 100%; */\n",
              "  margin-top: 1em;\n",
              "  margin-bottom: 1em;\n",
              "}\n",
              "#h2o-table-5 .h2o-table caption {\n",
              "  white-space: nowrap;\n",
              "  caption-side: top;\n",
              "  text-align: left;\n",
              "  /* margin-left: 1em; */\n",
              "  margin: 0;\n",
              "  font-size: larger;\n",
              "}\n",
              "#h2o-table-5 .h2o-table thead {\n",
              "  white-space: nowrap; \n",
              "  position: sticky;\n",
              "  top: 0;\n",
              "  box-shadow: 0 -1px inset;\n",
              "}\n",
              "#h2o-table-5 .h2o-table tbody {\n",
              "  overflow: auto;\n",
              "}\n",
              "#h2o-table-5 .h2o-table th,\n",
              "#h2o-table-5 .h2o-table td {\n",
              "  text-align: right;\n",
              "  /* border: 1px solid; */\n",
              "}\n",
              "#h2o-table-5 .h2o-table tr:nth-child(even) {\n",
              "  /* background: #F5F5F5 */\n",
              "}\n",
              "\n",
              "</style>      \n",
              "<div id=\"h2o-table-5\" class=\"h2o-container\">\n",
              "  <table class=\"h2o-table\">\n",
              "    <caption>Scoring History: </caption>\n",
              "    <thead><tr><th></th>\n",
              "<th>timestamp</th>\n",
              "<th>duration</th>\n",
              "<th>number_of_trees</th>\n",
              "<th>training_rmse</th>\n",
              "<th>training_logloss</th>\n",
              "<th>training_classification_error</th>\n",
              "<th>training_auc</th>\n",
              "<th>training_pr_auc</th></tr></thead>\n",
              "    <tbody><tr><td></td>\n",
              "<td>2022-09-25 21:28:33</td>\n",
              "<td> 0.088 sec</td>\n",
              "<td>0.0</td>\n",
              "<td>nan</td>\n",
              "<td>nan</td>\n",
              "<td>nan</td>\n",
              "<td>nan</td>\n",
              "<td>nan</td></tr>\n",
              "<tr><td></td>\n",
              "<td>2022-09-25 21:28:34</td>\n",
              "<td> 1.291 sec</td>\n",
              "<td>1.0</td>\n",
              "<td>0.4033043</td>\n",
              "<td>0.6380515</td>\n",
              "<td>0.2205037</td>\n",
              "<td>nan</td>\n",
              "<td>nan</td></tr>\n",
              "<tr><td></td>\n",
              "<td>2022-09-25 21:28:35</td>\n",
              "<td> 1.784 sec</td>\n",
              "<td>2.0</td>\n",
              "<td>0.4037498</td>\n",
              "<td>0.6182224</td>\n",
              "<td>0.2205857</td>\n",
              "<td>nan</td>\n",
              "<td>nan</td></tr>\n",
              "<tr><td></td>\n",
              "<td>2022-09-25 21:28:35</td>\n",
              "<td> 2.224 sec</td>\n",
              "<td>3.0</td>\n",
              "<td>0.4031605</td>\n",
              "<td>0.6128207</td>\n",
              "<td>0.2193889</td>\n",
              "<td>nan</td>\n",
              "<td>nan</td></tr>\n",
              "<tr><td></td>\n",
              "<td>2022-09-25 21:28:36</td>\n",
              "<td> 2.658 sec</td>\n",
              "<td>4.0</td>\n",
              "<td>0.4021719</td>\n",
              "<td>0.5879616</td>\n",
              "<td>0.2186534</td>\n",
              "<td>nan</td>\n",
              "<td>nan</td></tr>\n",
              "<tr><td></td>\n",
              "<td>2022-09-25 21:28:36</td>\n",
              "<td> 3.113 sec</td>\n",
              "<td>5.0</td>\n",
              "<td>0.4013431</td>\n",
              "<td>0.5739521</td>\n",
              "<td>0.2178865</td>\n",
              "<td>nan</td>\n",
              "<td>nan</td></tr>\n",
              "<tr><td></td>\n",
              "<td>2022-09-25 21:28:37</td>\n",
              "<td> 3.564 sec</td>\n",
              "<td>6.0</td>\n",
              "<td>0.4009005</td>\n",
              "<td>0.5606790</td>\n",
              "<td>0.2175899</td>\n",
              "<td>nan</td>\n",
              "<td>nan</td></tr>\n",
              "<tr><td></td>\n",
              "<td>2022-09-25 21:28:37</td>\n",
              "<td> 3.924 sec</td>\n",
              "<td>7.0</td>\n",
              "<td>0.4006325</td>\n",
              "<td>0.5465367</td>\n",
              "<td>0.2172916</td>\n",
              "<td>nan</td>\n",
              "<td>nan</td></tr>\n",
              "<tr><td></td>\n",
              "<td>2022-09-25 21:28:41</td>\n",
              "<td> 7.973 sec</td>\n",
              "<td>23.0</td>\n",
              "<td>0.3997878</td>\n",
              "<td>0.5027568</td>\n",
              "<td>0.2170654</td>\n",
              "<td>nan</td>\n",
              "<td>nan</td></tr>\n",
              "<tr><td></td>\n",
              "<td>2022-09-25 21:28:45</td>\n",
              "<td>12.114 sec</td>\n",
              "<td>44.0</td>\n",
              "<td>0.3995224</td>\n",
              "<td>0.4983722</td>\n",
              "<td>0.2173565</td>\n",
              "<td>nan</td>\n",
              "<td>nan</td></tr>\n",
              "<tr><td></td>\n",
              "<td>2022-09-25 21:28:49</td>\n",
              "<td>16.245 sec</td>\n",
              "<td>68.0</td>\n",
              "<td>0.3994675</td>\n",
              "<td>0.4958879</td>\n",
              "<td>0.2172983</td>\n",
              "<td>nan</td>\n",
              "<td>nan</td></tr>\n",
              "<tr><td></td>\n",
              "<td>2022-09-25 21:28:53</td>\n",
              "<td>20.254 sec</td>\n",
              "<td>90.0</td>\n",
              "<td>0.3994450</td>\n",
              "<td>0.4957199</td>\n",
              "<td>0.2172692</td>\n",
              "<td>nan</td>\n",
              "<td>nan</td></tr>\n",
              "<tr><td></td>\n",
              "<td>2022-09-25 21:28:55</td>\n",
              "<td>22.112 sec</td>\n",
              "<td>100.0</td>\n",
              "<td>0.3994133</td>\n",
              "<td>0.4956309</td>\n",
              "<td>0.2174002</td>\n",
              "<td>nan</td>\n",
              "<td>nan</td></tr></tbody>\n",
              "  </table>\n",
              "</div>\n",
              "</div>\n",
              "<div style='margin: 1em 0 1em 0;'>\n",
              "<style>\n",
              "\n",
              "#h2o-table-6.h2o-container {\n",
              "  overflow-x: auto;\n",
              "}\n",
              "#h2o-table-6 .h2o-table {\n",
              "  /* width: 100%; */\n",
              "  margin-top: 1em;\n",
              "  margin-bottom: 1em;\n",
              "}\n",
              "#h2o-table-6 .h2o-table caption {\n",
              "  white-space: nowrap;\n",
              "  caption-side: top;\n",
              "  text-align: left;\n",
              "  /* margin-left: 1em; */\n",
              "  margin: 0;\n",
              "  font-size: larger;\n",
              "}\n",
              "#h2o-table-6 .h2o-table thead {\n",
              "  white-space: nowrap; \n",
              "  position: sticky;\n",
              "  top: 0;\n",
              "  box-shadow: 0 -1px inset;\n",
              "}\n",
              "#h2o-table-6 .h2o-table tbody {\n",
              "  overflow: auto;\n",
              "}\n",
              "#h2o-table-6 .h2o-table th,\n",
              "#h2o-table-6 .h2o-table td {\n",
              "  text-align: right;\n",
              "  /* border: 1px solid; */\n",
              "}\n",
              "#h2o-table-6 .h2o-table tr:nth-child(even) {\n",
              "  /* background: #F5F5F5 */\n",
              "}\n",
              "\n",
              "</style>      \n",
              "<div id=\"h2o-table-6\" class=\"h2o-container\">\n",
              "  <table class=\"h2o-table\">\n",
              "    <caption>Variable Importances: </caption>\n",
              "    <thead><tr><th>variable</th>\n",
              "<th>relative_importance</th>\n",
              "<th>scaled_importance</th>\n",
              "<th>percentage</th></tr></thead>\n",
              "    <tbody><tr><td>LICENSE_DESCRIPTION</td>\n",
              "<td>466310.7812500</td>\n",
              "<td>1.0</td>\n",
              "<td>0.6156339</td></tr>\n",
              "<tr><td>SSA</td>\n",
              "<td>167670.3750000</td>\n",
              "<td>0.3595679</td>\n",
              "<td>0.2213622</td></tr>\n",
              "<tr><td>LICENSE_CODE</td>\n",
              "<td>68781.125</td>\n",
              "<td>0.1475006</td>\n",
              "<td>0.0908064</td></tr>\n",
              "<tr><td>BUSINESS_TYPE</td>\n",
              "<td>30302.6445312</td>\n",
              "<td>0.0649838</td>\n",
              "<td>0.0400062</td></tr>\n",
              "<tr><td>LEGAL_BUSINESS_NAME_MATCH</td>\n",
              "<td>13842.1318359</td>\n",
              "<td>0.0296843</td>\n",
              "<td>0.0182747</td></tr>\n",
              "<tr><td>APPLICATION_TYPE</td>\n",
              "<td>9613.9648438</td>\n",
              "<td>0.0206171</td>\n",
              "<td>0.0126926</td></tr>\n",
              "<tr><td>APPLICATION_REQUIREMENTS_COMPLETE</td>\n",
              "<td>612.9382324</td>\n",
              "<td>0.0013144</td>\n",
              "<td>0.0008092</td></tr>\n",
              "<tr><td>ZIP_CODE_MISSING</td>\n",
              "<td>291.5999451</td>\n",
              "<td>0.0006253</td>\n",
              "<td>0.0003850</td></tr>\n",
              "<tr><td>CONDITIONAL_APPROVAL</td>\n",
              "<td>22.6764278</td>\n",
              "<td>0.0000486</td>\n",
              "<td>0.0000299</td></tr></tbody>\n",
              "  </table>\n",
              "</div>\n",
              "</div><pre style=\"font-size: smaller; margin: 1em 0 0 0;\">\n",
              "\n",
              "[tips]\n",
              "Use `model.explain()` to inspect the model.\n",
              "--\n",
              "Use `h2o.display.toggle_user_tips()` to switch on/off this section.</pre>"
            ]
          },
          "metadata": {},
          "execution_count": 34
        }
      ]
    },
    {
      "cell_type": "code",
      "source": [
        "predictions = h2o_rf.predict(test)\n",
        "predictions['actual'] = test['LICENSE_STATUS']\n",
        "predictions = predictions.as_data_frame()"
      ],
      "metadata": {
        "colab": {
          "base_uri": "https://localhost:8080/"
        },
        "id": "BSQv5e9Sjujp",
        "outputId": "0ae3dc1d-4731-47d1-b59a-4025f684430e"
      },
      "execution_count": 35,
      "outputs": [
        {
          "output_type": "stream",
          "name": "stdout",
          "text": [
            "drf prediction progress: |███████████████████████████████████████████████████████| (done) 100%\n"
          ]
        },
        {
          "output_type": "stream",
          "name": "stderr",
          "text": [
            "/usr/local/lib/python3.7/dist-packages/h2o/job.py:83: UserWarning: Test/Validation dataset column 'LICENSE_DESCRIPTION' has levels not trained on: [\"Not-For-Profit Club\"]\n",
            "  warnings.warn(w)\n"
          ]
        }
      ]
    },
    {
      "cell_type": "code",
      "source": [
        "accuracy = (predictions[predictions.actual == predictions.predict].shape[0])* 100.0 / predictions.shape[0]"
      ],
      "metadata": {
        "id": "gpnz_10rj3eR"
      },
      "execution_count": 36,
      "outputs": []
    },
    {
      "cell_type": "code",
      "source": [
        "print(accuracy)"
      ],
      "metadata": {
        "colab": {
          "base_uri": "https://localhost:8080/"
        },
        "id": "G5YTogPjj4LZ",
        "outputId": "6b99ada2-53be-4955-a057-21bf172bf5d2"
      },
      "execution_count": 37,
      "outputs": [
        {
          "output_type": "stream",
          "name": "stdout",
          "text": [
            "78.3152869949936\n"
          ]
        }
      ]
    },
    {
      "cell_type": "markdown",
      "source": [
        "## Deep Learning Model"
      ],
      "metadata": {
        "id": "_DQaYhR-j_Jg"
      }
    },
    {
      "cell_type": "code",
      "source": [
        "predictors = ['APPLICATION_TYPE', 'CONDITIONAL_APPROVAL', 'LICENSE_CODE', 'SSA', 'LEGAL_BUSINESS_NAME_MATCH', \n",
        "                'ZIP_CODE_MISSING', 'SSA', 'APPLICATION_REQUIREMENTS_COMPLETE', 'LICENSE_DESCRIPTION', 'BUSINESS_TYPE']\n",
        "\n",
        "target = [\"LICENSE_STATUS_AAC\", \"LICENSE_STATUS_AAI\", \"LICENSE_STATUS_REV\"]"
      ],
      "metadata": {
        "id": "6Mb99-oSkM7S"
      },
      "execution_count": 38,
      "outputs": []
    },
    {
      "cell_type": "code",
      "source": [
        "data[predictors].info()"
      ],
      "metadata": {
        "colab": {
          "base_uri": "https://localhost:8080/"
        },
        "id": "vmyMrFn0lav-",
        "outputId": "8efdcacf-b808-4b34-b0e3-af4c08e3d7e3"
      },
      "execution_count": 40,
      "outputs": [
        {
          "output_type": "stream",
          "name": "stdout",
          "text": [
            "<class 'pandas.core.frame.DataFrame'>\n",
            "Int64Index: 85890 entries, 0 to 85894\n",
            "Data columns (total 10 columns):\n",
            " #   Column                             Non-Null Count  Dtype  \n",
            "---  ------                             --------------  -----  \n",
            " 0   APPLICATION_TYPE                   85890 non-null  object \n",
            " 1   CONDITIONAL_APPROVAL               85890 non-null  object \n",
            " 2   LICENSE_CODE                       85890 non-null  int64  \n",
            " 3   SSA                                85890 non-null  float64\n",
            " 4   LEGAL_BUSINESS_NAME_MATCH          85890 non-null  int64  \n",
            " 5   ZIP_CODE_MISSING                   85890 non-null  int64  \n",
            " 6   SSA                                85890 non-null  float64\n",
            " 7   APPLICATION_REQUIREMENTS_COMPLETE  85890 non-null  int64  \n",
            " 8   LICENSE_DESCRIPTION                85890 non-null  object \n",
            " 9   BUSINESS_TYPE                      85890 non-null  object \n",
            "dtypes: float64(2), int64(4), object(4)\n",
            "memory usage: 9.2+ MB\n"
          ]
        }
      ]
    },
    {
      "cell_type": "code",
      "source": [
        "final_df = data[predictors + [\"LICENSE_STATUS\"]]\n",
        "final_df = pd.get_dummies(final_df, columns=['APPLICATION_TYPE', 'CONDITIONAL_APPROVAL', 'LICENSE_CODE', 'LICENSE_DESCRIPTION', 'BUSINESS_TYPE', 'LICENSE_STATUS'])\n",
        "\n",
        "final_df.columns\n",
        "\n"
      ],
      "metadata": {
        "colab": {
          "base_uri": "https://localhost:8080/"
        },
        "id": "jEzUHB55l6-l",
        "outputId": "e01a3517-e334-4ee4-c16f-c3bde04a1b91"
      },
      "execution_count": 41,
      "outputs": [
        {
          "output_type": "execute_result",
          "data": {
            "text/plain": [
              "Index(['SSA', 'LEGAL_BUSINESS_NAME_MATCH', 'ZIP_CODE_MISSING', 'SSA',\n",
              "       'APPLICATION_REQUIREMENTS_COMPLETE', 'APPLICATION_TYPE_C_CAPA',\n",
              "       'APPLICATION_TYPE_C_EXPA', 'APPLICATION_TYPE_C_LOC',\n",
              "       'APPLICATION_TYPE_ISSUE', 'APPLICATION_TYPE_RENEW',\n",
              "       ...\n",
              "       'LICENSE_DESCRIPTION_Wholesale Food Establishment',\n",
              "       'LICENSE_DESCRIPTION_Wrigley Field', 'BUSINESS_TYPE_CORP',\n",
              "       'BUSINESS_TYPE_INC', 'BUSINESS_TYPE_LLC', 'BUSINESS_TYPE_LTD',\n",
              "       'BUSINESS_TYPE_PVT', 'LICENSE_STATUS_AAC', 'LICENSE_STATUS_AAI',\n",
              "       'LICENSE_STATUS_REV'],\n",
              "      dtype='object', length=218)"
            ]
          },
          "metadata": {},
          "execution_count": 41
        }
      ]
    },
    {
      "cell_type": "code",
      "source": [
        "final_df.head()"
      ],
      "metadata": {
        "colab": {
          "base_uri": "https://localhost:8080/",
          "height": 317
        },
        "id": "ZChfzI0OmK5w",
        "outputId": "a0b7b3cc-3b83-40c8-8fac-f468aa147552"
      },
      "execution_count": 42,
      "outputs": [
        {
          "output_type": "execute_result",
          "data": {
            "text/plain": [
              "    SSA  LEGAL_BUSINESS_NAME_MATCH  ZIP_CODE_MISSING   SSA  \\\n",
              "0  25.0                          0                 0  25.0   \n",
              "1  60.0                          1                 0  60.0   \n",
              "2  -1.0                          1                 0  -1.0   \n",
              "3  -1.0                          1                 0  -1.0   \n",
              "4  -1.0                          1                 0  -1.0   \n",
              "\n",
              "   APPLICATION_REQUIREMENTS_COMPLETE  APPLICATION_TYPE_C_CAPA  \\\n",
              "0                                  1                        0   \n",
              "1                                  1                        0   \n",
              "2                                  1                        0   \n",
              "3                                  1                        0   \n",
              "4                                  1                        0   \n",
              "\n",
              "   APPLICATION_TYPE_C_EXPA  APPLICATION_TYPE_C_LOC  APPLICATION_TYPE_ISSUE  \\\n",
              "0                        0                       0                       0   \n",
              "1                        0                       0                       0   \n",
              "2                        0                       0                       1   \n",
              "3                        0                       0                       1   \n",
              "4                        0                       0                       0   \n",
              "\n",
              "   APPLICATION_TYPE_RENEW  ...  \\\n",
              "0                       1  ...   \n",
              "1                       1  ...   \n",
              "2                       0  ...   \n",
              "3                       0  ...   \n",
              "4                       1  ...   \n",
              "\n",
              "   LICENSE_DESCRIPTION_Wholesale Food Establishment  \\\n",
              "0                                                 0   \n",
              "1                                                 0   \n",
              "2                                                 0   \n",
              "3                                                 0   \n",
              "4                                                 0   \n",
              "\n",
              "   LICENSE_DESCRIPTION_Wrigley Field  BUSINESS_TYPE_CORP  BUSINESS_TYPE_INC  \\\n",
              "0                                  0                   0                  0   \n",
              "1                                  0                   0                  1   \n",
              "2                                  0                   0                  1   \n",
              "3                                  0                   1                  0   \n",
              "4                                  0                   0                  0   \n",
              "\n",
              "   BUSINESS_TYPE_LLC  BUSINESS_TYPE_LTD  BUSINESS_TYPE_PVT  \\\n",
              "0                  0                  0                  1   \n",
              "1                  0                  0                  0   \n",
              "2                  0                  0                  0   \n",
              "3                  0                  0                  0   \n",
              "4                  0                  0                  1   \n",
              "\n",
              "   LICENSE_STATUS_AAC  LICENSE_STATUS_AAI  LICENSE_STATUS_REV  \n",
              "0                   0                   1                   0  \n",
              "1                   1                   0                   0  \n",
              "2                   0                   1                   0  \n",
              "3                   0                   1                   0  \n",
              "4                   0                   1                   0  \n",
              "\n",
              "[5 rows x 218 columns]"
            ],
            "text/html": [
              "\n",
              "  <div id=\"df-fa37398f-c7f1-41db-ab7b-05e8864c1829\">\n",
              "    <div class=\"colab-df-container\">\n",
              "      <div>\n",
              "<style scoped>\n",
              "    .dataframe tbody tr th:only-of-type {\n",
              "        vertical-align: middle;\n",
              "    }\n",
              "\n",
              "    .dataframe tbody tr th {\n",
              "        vertical-align: top;\n",
              "    }\n",
              "\n",
              "    .dataframe thead th {\n",
              "        text-align: right;\n",
              "    }\n",
              "</style>\n",
              "<table border=\"1\" class=\"dataframe\">\n",
              "  <thead>\n",
              "    <tr style=\"text-align: right;\">\n",
              "      <th></th>\n",
              "      <th>SSA</th>\n",
              "      <th>LEGAL_BUSINESS_NAME_MATCH</th>\n",
              "      <th>ZIP_CODE_MISSING</th>\n",
              "      <th>SSA</th>\n",
              "      <th>APPLICATION_REQUIREMENTS_COMPLETE</th>\n",
              "      <th>APPLICATION_TYPE_C_CAPA</th>\n",
              "      <th>APPLICATION_TYPE_C_EXPA</th>\n",
              "      <th>APPLICATION_TYPE_C_LOC</th>\n",
              "      <th>APPLICATION_TYPE_ISSUE</th>\n",
              "      <th>APPLICATION_TYPE_RENEW</th>\n",
              "      <th>...</th>\n",
              "      <th>LICENSE_DESCRIPTION_Wholesale Food Establishment</th>\n",
              "      <th>LICENSE_DESCRIPTION_Wrigley Field</th>\n",
              "      <th>BUSINESS_TYPE_CORP</th>\n",
              "      <th>BUSINESS_TYPE_INC</th>\n",
              "      <th>BUSINESS_TYPE_LLC</th>\n",
              "      <th>BUSINESS_TYPE_LTD</th>\n",
              "      <th>BUSINESS_TYPE_PVT</th>\n",
              "      <th>LICENSE_STATUS_AAC</th>\n",
              "      <th>LICENSE_STATUS_AAI</th>\n",
              "      <th>LICENSE_STATUS_REV</th>\n",
              "    </tr>\n",
              "  </thead>\n",
              "  <tbody>\n",
              "    <tr>\n",
              "      <th>0</th>\n",
              "      <td>25.0</td>\n",
              "      <td>0</td>\n",
              "      <td>0</td>\n",
              "      <td>25.0</td>\n",
              "      <td>1</td>\n",
              "      <td>0</td>\n",
              "      <td>0</td>\n",
              "      <td>0</td>\n",
              "      <td>0</td>\n",
              "      <td>1</td>\n",
              "      <td>...</td>\n",
              "      <td>0</td>\n",
              "      <td>0</td>\n",
              "      <td>0</td>\n",
              "      <td>0</td>\n",
              "      <td>0</td>\n",
              "      <td>0</td>\n",
              "      <td>1</td>\n",
              "      <td>0</td>\n",
              "      <td>1</td>\n",
              "      <td>0</td>\n",
              "    </tr>\n",
              "    <tr>\n",
              "      <th>1</th>\n",
              "      <td>60.0</td>\n",
              "      <td>1</td>\n",
              "      <td>0</td>\n",
              "      <td>60.0</td>\n",
              "      <td>1</td>\n",
              "      <td>0</td>\n",
              "      <td>0</td>\n",
              "      <td>0</td>\n",
              "      <td>0</td>\n",
              "      <td>1</td>\n",
              "      <td>...</td>\n",
              "      <td>0</td>\n",
              "      <td>0</td>\n",
              "      <td>0</td>\n",
              "      <td>1</td>\n",
              "      <td>0</td>\n",
              "      <td>0</td>\n",
              "      <td>0</td>\n",
              "      <td>1</td>\n",
              "      <td>0</td>\n",
              "      <td>0</td>\n",
              "    </tr>\n",
              "    <tr>\n",
              "      <th>2</th>\n",
              "      <td>-1.0</td>\n",
              "      <td>1</td>\n",
              "      <td>0</td>\n",
              "      <td>-1.0</td>\n",
              "      <td>1</td>\n",
              "      <td>0</td>\n",
              "      <td>0</td>\n",
              "      <td>0</td>\n",
              "      <td>1</td>\n",
              "      <td>0</td>\n",
              "      <td>...</td>\n",
              "      <td>0</td>\n",
              "      <td>0</td>\n",
              "      <td>0</td>\n",
              "      <td>1</td>\n",
              "      <td>0</td>\n",
              "      <td>0</td>\n",
              "      <td>0</td>\n",
              "      <td>0</td>\n",
              "      <td>1</td>\n",
              "      <td>0</td>\n",
              "    </tr>\n",
              "    <tr>\n",
              "      <th>3</th>\n",
              "      <td>-1.0</td>\n",
              "      <td>1</td>\n",
              "      <td>0</td>\n",
              "      <td>-1.0</td>\n",
              "      <td>1</td>\n",
              "      <td>0</td>\n",
              "      <td>0</td>\n",
              "      <td>0</td>\n",
              "      <td>1</td>\n",
              "      <td>0</td>\n",
              "      <td>...</td>\n",
              "      <td>0</td>\n",
              "      <td>0</td>\n",
              "      <td>1</td>\n",
              "      <td>0</td>\n",
              "      <td>0</td>\n",
              "      <td>0</td>\n",
              "      <td>0</td>\n",
              "      <td>0</td>\n",
              "      <td>1</td>\n",
              "      <td>0</td>\n",
              "    </tr>\n",
              "    <tr>\n",
              "      <th>4</th>\n",
              "      <td>-1.0</td>\n",
              "      <td>1</td>\n",
              "      <td>0</td>\n",
              "      <td>-1.0</td>\n",
              "      <td>1</td>\n",
              "      <td>0</td>\n",
              "      <td>0</td>\n",
              "      <td>0</td>\n",
              "      <td>0</td>\n",
              "      <td>1</td>\n",
              "      <td>...</td>\n",
              "      <td>0</td>\n",
              "      <td>0</td>\n",
              "      <td>0</td>\n",
              "      <td>0</td>\n",
              "      <td>0</td>\n",
              "      <td>0</td>\n",
              "      <td>1</td>\n",
              "      <td>0</td>\n",
              "      <td>1</td>\n",
              "      <td>0</td>\n",
              "    </tr>\n",
              "  </tbody>\n",
              "</table>\n",
              "<p>5 rows × 218 columns</p>\n",
              "</div>\n",
              "      <button class=\"colab-df-convert\" onclick=\"convertToInteractive('df-fa37398f-c7f1-41db-ab7b-05e8864c1829')\"\n",
              "              title=\"Convert this dataframe to an interactive table.\"\n",
              "              style=\"display:none;\">\n",
              "        \n",
              "  <svg xmlns=\"http://www.w3.org/2000/svg\" height=\"24px\"viewBox=\"0 0 24 24\"\n",
              "       width=\"24px\">\n",
              "    <path d=\"M0 0h24v24H0V0z\" fill=\"none\"/>\n",
              "    <path d=\"M18.56 5.44l.94 2.06.94-2.06 2.06-.94-2.06-.94-.94-2.06-.94 2.06-2.06.94zm-11 1L8.5 8.5l.94-2.06 2.06-.94-2.06-.94L8.5 2.5l-.94 2.06-2.06.94zm10 10l.94 2.06.94-2.06 2.06-.94-2.06-.94-.94-2.06-.94 2.06-2.06.94z\"/><path d=\"M17.41 7.96l-1.37-1.37c-.4-.4-.92-.59-1.43-.59-.52 0-1.04.2-1.43.59L10.3 9.45l-7.72 7.72c-.78.78-.78 2.05 0 2.83L4 21.41c.39.39.9.59 1.41.59.51 0 1.02-.2 1.41-.59l7.78-7.78 2.81-2.81c.8-.78.8-2.07 0-2.86zM5.41 20L4 18.59l7.72-7.72 1.47 1.35L5.41 20z\"/>\n",
              "  </svg>\n",
              "      </button>\n",
              "      \n",
              "  <style>\n",
              "    .colab-df-container {\n",
              "      display:flex;\n",
              "      flex-wrap:wrap;\n",
              "      gap: 12px;\n",
              "    }\n",
              "\n",
              "    .colab-df-convert {\n",
              "      background-color: #E8F0FE;\n",
              "      border: none;\n",
              "      border-radius: 50%;\n",
              "      cursor: pointer;\n",
              "      display: none;\n",
              "      fill: #1967D2;\n",
              "      height: 32px;\n",
              "      padding: 0 0 0 0;\n",
              "      width: 32px;\n",
              "    }\n",
              "\n",
              "    .colab-df-convert:hover {\n",
              "      background-color: #E2EBFA;\n",
              "      box-shadow: 0px 1px 2px rgba(60, 64, 67, 0.3), 0px 1px 3px 1px rgba(60, 64, 67, 0.15);\n",
              "      fill: #174EA6;\n",
              "    }\n",
              "\n",
              "    [theme=dark] .colab-df-convert {\n",
              "      background-color: #3B4455;\n",
              "      fill: #D2E3FC;\n",
              "    }\n",
              "\n",
              "    [theme=dark] .colab-df-convert:hover {\n",
              "      background-color: #434B5C;\n",
              "      box-shadow: 0px 1px 3px 1px rgba(0, 0, 0, 0.15);\n",
              "      filter: drop-shadow(0px 1px 2px rgba(0, 0, 0, 0.3));\n",
              "      fill: #FFFFFF;\n",
              "    }\n",
              "  </style>\n",
              "\n",
              "      <script>\n",
              "        const buttonEl =\n",
              "          document.querySelector('#df-fa37398f-c7f1-41db-ab7b-05e8864c1829 button.colab-df-convert');\n",
              "        buttonEl.style.display =\n",
              "          google.colab.kernel.accessAllowed ? 'block' : 'none';\n",
              "\n",
              "        async function convertToInteractive(key) {\n",
              "          const element = document.querySelector('#df-fa37398f-c7f1-41db-ab7b-05e8864c1829');\n",
              "          const dataTable =\n",
              "            await google.colab.kernel.invokeFunction('convertToInteractive',\n",
              "                                                     [key], {});\n",
              "          if (!dataTable) return;\n",
              "\n",
              "          const docLinkHtml = 'Like what you see? Visit the ' +\n",
              "            '<a target=\"_blank\" href=https://colab.research.google.com/notebooks/data_table.ipynb>data table notebook</a>'\n",
              "            + ' to learn more about interactive tables.';\n",
              "          element.innerHTML = '';\n",
              "          dataTable['output_type'] = 'display_data';\n",
              "          await google.colab.output.renderOutput(dataTable, element);\n",
              "          const docLink = document.createElement('div');\n",
              "          docLink.innerHTML = docLinkHtml;\n",
              "          element.appendChild(docLink);\n",
              "        }\n",
              "      </script>\n",
              "    </div>\n",
              "  </div>\n",
              "  "
            ]
          },
          "metadata": {},
          "execution_count": 42
        }
      ]
    },
    {
      "cell_type": "code",
      "source": [
        "train, test = train_test_split(final_df, test_size=0.2, random_state=123)\n",
        "\n",
        "X_train = train.drop(target, axis=1).values\n",
        "y_train = train[target].values\n",
        "\n",
        "X_test = test.drop(target, axis=1).values\n",
        "y_test = test[target].values\n",
        "\n",
        "print(X_train.shape, y_train.shape, X_test.shape, y_test.shape)"
      ],
      "metadata": {
        "colab": {
          "base_uri": "https://localhost:8080/"
        },
        "id": "HrXN22R7otrx",
        "outputId": "bd0646e8-71a3-4a90-87f6-e2307aa44639"
      },
      "execution_count": 43,
      "outputs": [
        {
          "output_type": "stream",
          "name": "stdout",
          "text": [
            "(68712, 215) (68712, 3) (17178, 215) (17178, 3)\n"
          ]
        }
      ]
    },
    {
      "cell_type": "code",
      "source": [
        "from tensorflow import keras\n",
        "from tensorflow.keras import layers"
      ],
      "metadata": {
        "id": "Zf_wgMqko1b7"
      },
      "execution_count": 44,
      "outputs": []
    },
    {
      "cell_type": "code",
      "source": [
        "model=keras.Sequential([layers.InputLayer(input_shape=(X_train.shape[1])),\n",
        "        layers.Dense(128, activation=\"relu\"),\n",
        "        layers.Dropout(0.2),\n",
        "        layers.Dense(64, activation=\"tanh\"),\n",
        "        layers.Dropout(0.2),\n",
        "        layers.Dense(64, activation=\"tanh\"),\n",
        "        layers.Dropout(0.2),\n",
        "        layers.Dense(3, activation=\"softmax\"),])"
      ],
      "metadata": {
        "id": "uWwkt7wGpFHQ"
      },
      "execution_count": 45,
      "outputs": []
    },
    {
      "cell_type": "code",
      "source": [
        "optimizer = keras.optimizers.Adam(learning_rate=0.01)\n",
        "model.compile(loss=\"categorical_crossentropy\", optimizer=optimizer, metrics=['accuracy'])\n",
        "print(model.summary())"
      ],
      "metadata": {
        "colab": {
          "base_uri": "https://localhost:8080/"
        },
        "id": "0iMYngeupSzD",
        "outputId": "610d6401-f96c-428d-c3af-3a7bc31bb1e9"
      },
      "execution_count": 46,
      "outputs": [
        {
          "output_type": "stream",
          "name": "stdout",
          "text": [
            "Model: \"sequential\"\n",
            "_________________________________________________________________\n",
            " Layer (type)                Output Shape              Param #   \n",
            "=================================================================\n",
            " dense (Dense)               (None, 128)               27648     \n",
            "                                                                 \n",
            " dropout (Dropout)           (None, 128)               0         \n",
            "                                                                 \n",
            " dense_1 (Dense)             (None, 64)                8256      \n",
            "                                                                 \n",
            " dropout_1 (Dropout)         (None, 64)                0         \n",
            "                                                                 \n",
            " dense_2 (Dense)             (None, 64)                4160      \n",
            "                                                                 \n",
            " dropout_2 (Dropout)         (None, 64)                0         \n",
            "                                                                 \n",
            " dense_3 (Dense)             (None, 3)                 195       \n",
            "                                                                 \n",
            "=================================================================\n",
            "Total params: 40,259\n",
            "Trainable params: 40,259\n",
            "Non-trainable params: 0\n",
            "_________________________________________________________________\n",
            "None\n"
          ]
        }
      ]
    },
    {
      "cell_type": "code",
      "source": [
        "model.fit(X_train, y_train, batch_size=64, epochs=30)"
      ],
      "metadata": {
        "colab": {
          "base_uri": "https://localhost:8080/"
        },
        "id": "O6kFS6TGpYsZ",
        "outputId": "40e63a2c-756e-434b-d710-d34217fe9b6d"
      },
      "execution_count": 47,
      "outputs": [
        {
          "output_type": "stream",
          "name": "stdout",
          "text": [
            "Epoch 1/30\n",
            "1074/1074 [==============================] - 4s 3ms/step - loss: 0.5435 - accuracy: 0.7712\n",
            "Epoch 2/30\n",
            "1074/1074 [==============================] - 3s 2ms/step - loss: 0.5348 - accuracy: 0.7746\n",
            "Epoch 3/30\n",
            "1074/1074 [==============================] - 3s 2ms/step - loss: 0.5354 - accuracy: 0.7753\n",
            "Epoch 4/30\n",
            "1074/1074 [==============================] - 3s 2ms/step - loss: 0.5359 - accuracy: 0.7740\n",
            "Epoch 5/30\n",
            "1074/1074 [==============================] - 3s 2ms/step - loss: 0.5350 - accuracy: 0.7751\n",
            "Epoch 6/30\n",
            "1074/1074 [==============================] - 3s 2ms/step - loss: 0.5349 - accuracy: 0.7759\n",
            "Epoch 7/30\n",
            "1074/1074 [==============================] - 3s 2ms/step - loss: 0.5384 - accuracy: 0.7735\n",
            "Epoch 8/30\n",
            "1074/1074 [==============================] - 3s 2ms/step - loss: 0.5349 - accuracy: 0.7753\n",
            "Epoch 9/30\n",
            "1074/1074 [==============================] - 3s 3ms/step - loss: 0.5342 - accuracy: 0.7760\n",
            "Epoch 10/30\n",
            "1074/1074 [==============================] - 3s 2ms/step - loss: 0.5365 - accuracy: 0.7750\n",
            "Epoch 11/30\n",
            "1074/1074 [==============================] - 3s 3ms/step - loss: 0.5362 - accuracy: 0.7750\n",
            "Epoch 12/30\n",
            "1074/1074 [==============================] - 3s 2ms/step - loss: 0.5347 - accuracy: 0.7755\n",
            "Epoch 13/30\n",
            "1074/1074 [==============================] - 3s 2ms/step - loss: 0.5342 - accuracy: 0.7773\n",
            "Epoch 14/30\n",
            "1074/1074 [==============================] - 3s 2ms/step - loss: 0.5327 - accuracy: 0.7774\n",
            "Epoch 15/30\n",
            "1074/1074 [==============================] - 3s 2ms/step - loss: 0.5334 - accuracy: 0.7754\n",
            "Epoch 16/30\n",
            "1074/1074 [==============================] - 3s 2ms/step - loss: 0.5320 - accuracy: 0.7762\n",
            "Epoch 17/30\n",
            "1074/1074 [==============================] - 3s 2ms/step - loss: 0.5364 - accuracy: 0.7725\n",
            "Epoch 18/30\n",
            "1074/1074 [==============================] - 3s 2ms/step - loss: 0.5354 - accuracy: 0.7735\n",
            "Epoch 19/30\n",
            "1074/1074 [==============================] - 3s 2ms/step - loss: 0.5342 - accuracy: 0.7758\n",
            "Epoch 20/30\n",
            "1074/1074 [==============================] - 3s 2ms/step - loss: 0.5357 - accuracy: 0.7764\n",
            "Epoch 21/30\n",
            "1074/1074 [==============================] - 3s 2ms/step - loss: 0.5369 - accuracy: 0.7756\n",
            "Epoch 22/30\n",
            "1074/1074 [==============================] - 3s 2ms/step - loss: 0.5345 - accuracy: 0.7767\n",
            "Epoch 23/30\n",
            "1074/1074 [==============================] - 3s 2ms/step - loss: 0.5369 - accuracy: 0.7754\n",
            "Epoch 24/30\n",
            "1074/1074 [==============================] - 3s 2ms/step - loss: 0.5339 - accuracy: 0.7759\n",
            "Epoch 25/30\n",
            "1074/1074 [==============================] - 3s 2ms/step - loss: 0.5338 - accuracy: 0.7748\n",
            "Epoch 26/30\n",
            "1074/1074 [==============================] - 3s 2ms/step - loss: 0.5334 - accuracy: 0.7755\n",
            "Epoch 27/30\n",
            "1074/1074 [==============================] - 3s 2ms/step - loss: 0.5353 - accuracy: 0.7727\n",
            "Epoch 28/30\n",
            "1074/1074 [==============================] - 3s 2ms/step - loss: 0.5339 - accuracy: 0.7745\n",
            "Epoch 29/30\n",
            "1074/1074 [==============================] - 3s 2ms/step - loss: 0.5328 - accuracy: 0.7765\n",
            "Epoch 30/30\n",
            "1074/1074 [==============================] - 3s 2ms/step - loss: 0.5335 - accuracy: 0.7742\n"
          ]
        },
        {
          "output_type": "execute_result",
          "data": {
            "text/plain": [
              "<keras.callbacks.History at 0x7f0ee1a8f5d0>"
            ]
          },
          "metadata": {},
          "execution_count": 47
        }
      ]
    },
    {
      "cell_type": "code",
      "source": [
        "model.evaluate(X_test, y_test)"
      ],
      "metadata": {
        "colab": {
          "base_uri": "https://localhost:8080/"
        },
        "id": "7Gj6yPhypvSk",
        "outputId": "76045a33-f94d-4e32-9358-2b7d8179f036"
      },
      "execution_count": 48,
      "outputs": [
        {
          "output_type": "stream",
          "name": "stdout",
          "text": [
            "537/537 [==============================] - 1s 1ms/step - loss: 0.5337 - accuracy: 0.7748\n"
          ]
        },
        {
          "output_type": "execute_result",
          "data": {
            "text/plain": [
              "[0.5336877703666687, 0.7748282551765442]"
            ]
          },
          "metadata": {},
          "execution_count": 48
        }
      ]
    },
    {
      "cell_type": "code",
      "source": [
        "model.predict(X_test)"
      ],
      "metadata": {
        "colab": {
          "base_uri": "https://localhost:8080/"
        },
        "id": "OfLyUkL5p0NY",
        "outputId": "4d119658-385f-4e5b-d9b2-b488751f2f0f"
      },
      "execution_count": 49,
      "outputs": [
        {
          "output_type": "execute_result",
          "data": {
            "text/plain": [
              "array([[2.2481586e-01, 7.7503842e-01, 1.4578554e-04],\n",
              "       [4.9581242e-01, 5.0384969e-01, 3.3784856e-04],\n",
              "       [2.3761819e-01, 7.6203042e-01, 3.5139950e-04],\n",
              "       ...,\n",
              "       [2.2481586e-01, 7.7503842e-01, 1.4578554e-04],\n",
              "       [2.2481586e-01, 7.7503830e-01, 1.4578551e-04],\n",
              "       [2.9489371e-01, 7.0486474e-01, 2.4153834e-04]], dtype=float32)"
            ]
          },
          "metadata": {},
          "execution_count": 49
        }
      ]
    }
  ]
}