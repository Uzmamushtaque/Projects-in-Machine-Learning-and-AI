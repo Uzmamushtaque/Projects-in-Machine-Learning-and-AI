{
  "nbformat": 4,
  "nbformat_minor": 0,
  "metadata": {
    "colab": {
      "name": "CollaborativeFiltering.ipynb",
      "provenance": [],
      "collapsed_sections": [],
      "authorship_tag": "ABX9TyPE+Zm6AhwgoUeQ91BTfFC7",
      "include_colab_link": true
    },
    "kernelspec": {
      "name": "python3",
      "display_name": "Python 3"
    },
    "language_info": {
      "name": "python"
    }
  },
  "cells": [
    {
      "cell_type": "markdown",
      "metadata": {
        "id": "view-in-github",
        "colab_type": "text"
      },
      "source": [
        "<a href=\"https://colab.research.google.com/github/Uzmamushtaque/Projects-in-Machine-Learning-and-AI/blob/main/CollaborativeFiltering.ipynb\" target=\"_parent\"><img src=\"https://colab.research.google.com/assets/colab-badge.svg\" alt=\"Open In Colab\"/></a>"
      ]
    },
    {
      "cell_type": "markdown",
      "source": [
        "# Recommender System using explicit preferences (Ratings data)\n",
        "\n"
      ],
      "metadata": {
        "id": "60OmtWXtgEpD"
      }
    },
    {
      "cell_type": "code",
      "source": [
        "import warnings\n",
        "warnings.filterwarnings('ignore')\n",
        "import numpy as np\n",
        "import pandas as pd\n",
        "import matplotlib.pyplot as plt\n",
        "import seaborn as sns\n"
      ],
      "metadata": {
        "id": "liR1M6gKgksK"
      },
      "execution_count": 2,
      "outputs": []
    },
    {
      "cell_type": "code",
      "source": [
        "electronics=pd.read_csv('ratings_Electronics.csv',names=['user','item','rating','timestamp'],header=None)"
      ],
      "metadata": {
        "id": "24o0dhrVg2KC"
      },
      "execution_count": 3,
      "outputs": []
    },
    {
      "cell_type": "code",
      "source": [
        "electronics.head()"
      ],
      "metadata": {
        "colab": {
          "base_uri": "https://localhost:8080/",
          "height": 206
        },
        "id": "QsbFiGkzg-nO",
        "outputId": "49ae11c4-12b4-4a15-8da2-91dd32543042"
      },
      "execution_count": 4,
      "outputs": [
        {
          "output_type": "execute_result",
          "data": {
            "text/plain": [
              "             user        item  rating     timestamp\n",
              "0   AKM1MP6P0OYPR  0132793040     5.0  1.365811e+09\n",
              "1  A2CX7LUOHB2NDG  0321732944     5.0  1.341101e+09\n",
              "2  A2NWSAGRHCP8N5  0439886341     1.0  1.367194e+09\n",
              "3  A2WNBOD3WNDNKT  0439886341     3.0  1.374451e+09\n",
              "4  A1GI0U4ZRJA8WN  0439886341     1.0  1.334707e+09"
            ],
            "text/html": [
              "\n",
              "  <div id=\"df-d6f20388-7a8e-40f6-a9fe-3e7fe1efd54c\">\n",
              "    <div class=\"colab-df-container\">\n",
              "      <div>\n",
              "<style scoped>\n",
              "    .dataframe tbody tr th:only-of-type {\n",
              "        vertical-align: middle;\n",
              "    }\n",
              "\n",
              "    .dataframe tbody tr th {\n",
              "        vertical-align: top;\n",
              "    }\n",
              "\n",
              "    .dataframe thead th {\n",
              "        text-align: right;\n",
              "    }\n",
              "</style>\n",
              "<table border=\"1\" class=\"dataframe\">\n",
              "  <thead>\n",
              "    <tr style=\"text-align: right;\">\n",
              "      <th></th>\n",
              "      <th>user</th>\n",
              "      <th>item</th>\n",
              "      <th>rating</th>\n",
              "      <th>timestamp</th>\n",
              "    </tr>\n",
              "  </thead>\n",
              "  <tbody>\n",
              "    <tr>\n",
              "      <th>0</th>\n",
              "      <td>AKM1MP6P0OYPR</td>\n",
              "      <td>0132793040</td>\n",
              "      <td>5.0</td>\n",
              "      <td>1.365811e+09</td>\n",
              "    </tr>\n",
              "    <tr>\n",
              "      <th>1</th>\n",
              "      <td>A2CX7LUOHB2NDG</td>\n",
              "      <td>0321732944</td>\n",
              "      <td>5.0</td>\n",
              "      <td>1.341101e+09</td>\n",
              "    </tr>\n",
              "    <tr>\n",
              "      <th>2</th>\n",
              "      <td>A2NWSAGRHCP8N5</td>\n",
              "      <td>0439886341</td>\n",
              "      <td>1.0</td>\n",
              "      <td>1.367194e+09</td>\n",
              "    </tr>\n",
              "    <tr>\n",
              "      <th>3</th>\n",
              "      <td>A2WNBOD3WNDNKT</td>\n",
              "      <td>0439886341</td>\n",
              "      <td>3.0</td>\n",
              "      <td>1.374451e+09</td>\n",
              "    </tr>\n",
              "    <tr>\n",
              "      <th>4</th>\n",
              "      <td>A1GI0U4ZRJA8WN</td>\n",
              "      <td>0439886341</td>\n",
              "      <td>1.0</td>\n",
              "      <td>1.334707e+09</td>\n",
              "    </tr>\n",
              "  </tbody>\n",
              "</table>\n",
              "</div>\n",
              "      <button class=\"colab-df-convert\" onclick=\"convertToInteractive('df-d6f20388-7a8e-40f6-a9fe-3e7fe1efd54c')\"\n",
              "              title=\"Convert this dataframe to an interactive table.\"\n",
              "              style=\"display:none;\">\n",
              "        \n",
              "  <svg xmlns=\"http://www.w3.org/2000/svg\" height=\"24px\"viewBox=\"0 0 24 24\"\n",
              "       width=\"24px\">\n",
              "    <path d=\"M0 0h24v24H0V0z\" fill=\"none\"/>\n",
              "    <path d=\"M18.56 5.44l.94 2.06.94-2.06 2.06-.94-2.06-.94-.94-2.06-.94 2.06-2.06.94zm-11 1L8.5 8.5l.94-2.06 2.06-.94-2.06-.94L8.5 2.5l-.94 2.06-2.06.94zm10 10l.94 2.06.94-2.06 2.06-.94-2.06-.94-.94-2.06-.94 2.06-2.06.94z\"/><path d=\"M17.41 7.96l-1.37-1.37c-.4-.4-.92-.59-1.43-.59-.52 0-1.04.2-1.43.59L10.3 9.45l-7.72 7.72c-.78.78-.78 2.05 0 2.83L4 21.41c.39.39.9.59 1.41.59.51 0 1.02-.2 1.41-.59l7.78-7.78 2.81-2.81c.8-.78.8-2.07 0-2.86zM5.41 20L4 18.59l7.72-7.72 1.47 1.35L5.41 20z\"/>\n",
              "  </svg>\n",
              "      </button>\n",
              "      \n",
              "  <style>\n",
              "    .colab-df-container {\n",
              "      display:flex;\n",
              "      flex-wrap:wrap;\n",
              "      gap: 12px;\n",
              "    }\n",
              "\n",
              "    .colab-df-convert {\n",
              "      background-color: #E8F0FE;\n",
              "      border: none;\n",
              "      border-radius: 50%;\n",
              "      cursor: pointer;\n",
              "      display: none;\n",
              "      fill: #1967D2;\n",
              "      height: 32px;\n",
              "      padding: 0 0 0 0;\n",
              "      width: 32px;\n",
              "    }\n",
              "\n",
              "    .colab-df-convert:hover {\n",
              "      background-color: #E2EBFA;\n",
              "      box-shadow: 0px 1px 2px rgba(60, 64, 67, 0.3), 0px 1px 3px 1px rgba(60, 64, 67, 0.15);\n",
              "      fill: #174EA6;\n",
              "    }\n",
              "\n",
              "    [theme=dark] .colab-df-convert {\n",
              "      background-color: #3B4455;\n",
              "      fill: #D2E3FC;\n",
              "    }\n",
              "\n",
              "    [theme=dark] .colab-df-convert:hover {\n",
              "      background-color: #434B5C;\n",
              "      box-shadow: 0px 1px 3px 1px rgba(0, 0, 0, 0.15);\n",
              "      filter: drop-shadow(0px 1px 2px rgba(0, 0, 0, 0.3));\n",
              "      fill: #FFFFFF;\n",
              "    }\n",
              "  </style>\n",
              "\n",
              "      <script>\n",
              "        const buttonEl =\n",
              "          document.querySelector('#df-d6f20388-7a8e-40f6-a9fe-3e7fe1efd54c button.colab-df-convert');\n",
              "        buttonEl.style.display =\n",
              "          google.colab.kernel.accessAllowed ? 'block' : 'none';\n",
              "\n",
              "        async function convertToInteractive(key) {\n",
              "          const element = document.querySelector('#df-d6f20388-7a8e-40f6-a9fe-3e7fe1efd54c');\n",
              "          const dataTable =\n",
              "            await google.colab.kernel.invokeFunction('convertToInteractive',\n",
              "                                                     [key], {});\n",
              "          if (!dataTable) return;\n",
              "\n",
              "          const docLinkHtml = 'Like what you see? Visit the ' +\n",
              "            '<a target=\"_blank\" href=https://colab.research.google.com/notebooks/data_table.ipynb>data table notebook</a>'\n",
              "            + ' to learn more about interactive tables.';\n",
              "          element.innerHTML = '';\n",
              "          dataTable['output_type'] = 'display_data';\n",
              "          await google.colab.output.renderOutput(dataTable, element);\n",
              "          const docLink = document.createElement('div');\n",
              "          docLink.innerHTML = docLinkHtml;\n",
              "          element.appendChild(docLink);\n",
              "        }\n",
              "      </script>\n",
              "    </div>\n",
              "  </div>\n",
              "  "
            ]
          },
          "metadata": {},
          "execution_count": 4
        }
      ]
    },
    {
      "cell_type": "code",
      "source": [
        "electronics.drop('timestamp',axis=1,inplace=True)"
      ],
      "metadata": {
        "id": "GhST1pTm9q3Z"
      },
      "execution_count": 27,
      "outputs": []
    },
    {
      "cell_type": "code",
      "source": [
        "electronics.info()"
      ],
      "metadata": {
        "colab": {
          "base_uri": "https://localhost:8080/"
        },
        "id": "qVApx03Ji0_m",
        "outputId": "c958496b-12d2-4855-d17d-2d7a7a17799d"
      },
      "execution_count": 28,
      "outputs": [
        {
          "output_type": "stream",
          "name": "stdout",
          "text": [
            "<class 'pandas.core.frame.DataFrame'>\n",
            "RangeIndex: 51778 entries, 0 to 51777\n",
            "Data columns (total 3 columns):\n",
            " #   Column  Non-Null Count  Dtype  \n",
            "---  ------  --------------  -----  \n",
            " 0   user    51778 non-null  object \n",
            " 1   item    51778 non-null  object \n",
            " 2   rating  51777 non-null  float64\n",
            "dtypes: float64(1), object(2)\n",
            "memory usage: 1.2+ MB\n"
          ]
        }
      ]
    },
    {
      "cell_type": "code",
      "source": [
        "df=pd.DataFrame(electronics.groupby('user')['rating'].count())"
      ],
      "metadata": {
        "id": "eAlJZLxBi4wD"
      },
      "execution_count": 29,
      "outputs": []
    },
    {
      "cell_type": "code",
      "source": [
        "electronics.describe()"
      ],
      "metadata": {
        "colab": {
          "base_uri": "https://localhost:8080/",
          "height": 300
        },
        "id": "_l77I8Jnj0Lb",
        "outputId": "b0fa774e-5e50-408a-99e1-4f619524c93f"
      },
      "execution_count": 30,
      "outputs": [
        {
          "output_type": "execute_result",
          "data": {
            "text/plain": [
              "             rating\n",
              "count  51777.000000\n",
              "mean       4.036503\n",
              "std        1.354294\n",
              "min        1.000000\n",
              "25%        4.000000\n",
              "50%        5.000000\n",
              "75%        5.000000\n",
              "max        5.000000"
            ],
            "text/html": [
              "\n",
              "  <div id=\"df-af3825e1-9541-4370-a2b8-aa7ad741b64f\">\n",
              "    <div class=\"colab-df-container\">\n",
              "      <div>\n",
              "<style scoped>\n",
              "    .dataframe tbody tr th:only-of-type {\n",
              "        vertical-align: middle;\n",
              "    }\n",
              "\n",
              "    .dataframe tbody tr th {\n",
              "        vertical-align: top;\n",
              "    }\n",
              "\n",
              "    .dataframe thead th {\n",
              "        text-align: right;\n",
              "    }\n",
              "</style>\n",
              "<table border=\"1\" class=\"dataframe\">\n",
              "  <thead>\n",
              "    <tr style=\"text-align: right;\">\n",
              "      <th></th>\n",
              "      <th>rating</th>\n",
              "    </tr>\n",
              "  </thead>\n",
              "  <tbody>\n",
              "    <tr>\n",
              "      <th>count</th>\n",
              "      <td>51777.000000</td>\n",
              "    </tr>\n",
              "    <tr>\n",
              "      <th>mean</th>\n",
              "      <td>4.036503</td>\n",
              "    </tr>\n",
              "    <tr>\n",
              "      <th>std</th>\n",
              "      <td>1.354294</td>\n",
              "    </tr>\n",
              "    <tr>\n",
              "      <th>min</th>\n",
              "      <td>1.000000</td>\n",
              "    </tr>\n",
              "    <tr>\n",
              "      <th>25%</th>\n",
              "      <td>4.000000</td>\n",
              "    </tr>\n",
              "    <tr>\n",
              "      <th>50%</th>\n",
              "      <td>5.000000</td>\n",
              "    </tr>\n",
              "    <tr>\n",
              "      <th>75%</th>\n",
              "      <td>5.000000</td>\n",
              "    </tr>\n",
              "    <tr>\n",
              "      <th>max</th>\n",
              "      <td>5.000000</td>\n",
              "    </tr>\n",
              "  </tbody>\n",
              "</table>\n",
              "</div>\n",
              "      <button class=\"colab-df-convert\" onclick=\"convertToInteractive('df-af3825e1-9541-4370-a2b8-aa7ad741b64f')\"\n",
              "              title=\"Convert this dataframe to an interactive table.\"\n",
              "              style=\"display:none;\">\n",
              "        \n",
              "  <svg xmlns=\"http://www.w3.org/2000/svg\" height=\"24px\"viewBox=\"0 0 24 24\"\n",
              "       width=\"24px\">\n",
              "    <path d=\"M0 0h24v24H0V0z\" fill=\"none\"/>\n",
              "    <path d=\"M18.56 5.44l.94 2.06.94-2.06 2.06-.94-2.06-.94-.94-2.06-.94 2.06-2.06.94zm-11 1L8.5 8.5l.94-2.06 2.06-.94-2.06-.94L8.5 2.5l-.94 2.06-2.06.94zm10 10l.94 2.06.94-2.06 2.06-.94-2.06-.94-.94-2.06-.94 2.06-2.06.94z\"/><path d=\"M17.41 7.96l-1.37-1.37c-.4-.4-.92-.59-1.43-.59-.52 0-1.04.2-1.43.59L10.3 9.45l-7.72 7.72c-.78.78-.78 2.05 0 2.83L4 21.41c.39.39.9.59 1.41.59.51 0 1.02-.2 1.41-.59l7.78-7.78 2.81-2.81c.8-.78.8-2.07 0-2.86zM5.41 20L4 18.59l7.72-7.72 1.47 1.35L5.41 20z\"/>\n",
              "  </svg>\n",
              "      </button>\n",
              "      \n",
              "  <style>\n",
              "    .colab-df-container {\n",
              "      display:flex;\n",
              "      flex-wrap:wrap;\n",
              "      gap: 12px;\n",
              "    }\n",
              "\n",
              "    .colab-df-convert {\n",
              "      background-color: #E8F0FE;\n",
              "      border: none;\n",
              "      border-radius: 50%;\n",
              "      cursor: pointer;\n",
              "      display: none;\n",
              "      fill: #1967D2;\n",
              "      height: 32px;\n",
              "      padding: 0 0 0 0;\n",
              "      width: 32px;\n",
              "    }\n",
              "\n",
              "    .colab-df-convert:hover {\n",
              "      background-color: #E2EBFA;\n",
              "      box-shadow: 0px 1px 2px rgba(60, 64, 67, 0.3), 0px 1px 3px 1px rgba(60, 64, 67, 0.15);\n",
              "      fill: #174EA6;\n",
              "    }\n",
              "\n",
              "    [theme=dark] .colab-df-convert {\n",
              "      background-color: #3B4455;\n",
              "      fill: #D2E3FC;\n",
              "    }\n",
              "\n",
              "    [theme=dark] .colab-df-convert:hover {\n",
              "      background-color: #434B5C;\n",
              "      box-shadow: 0px 1px 3px 1px rgba(0, 0, 0, 0.15);\n",
              "      filter: drop-shadow(0px 1px 2px rgba(0, 0, 0, 0.3));\n",
              "      fill: #FFFFFF;\n",
              "    }\n",
              "  </style>\n",
              "\n",
              "      <script>\n",
              "        const buttonEl =\n",
              "          document.querySelector('#df-af3825e1-9541-4370-a2b8-aa7ad741b64f button.colab-df-convert');\n",
              "        buttonEl.style.display =\n",
              "          google.colab.kernel.accessAllowed ? 'block' : 'none';\n",
              "\n",
              "        async function convertToInteractive(key) {\n",
              "          const element = document.querySelector('#df-af3825e1-9541-4370-a2b8-aa7ad741b64f');\n",
              "          const dataTable =\n",
              "            await google.colab.kernel.invokeFunction('convertToInteractive',\n",
              "                                                     [key], {});\n",
              "          if (!dataTable) return;\n",
              "\n",
              "          const docLinkHtml = 'Like what you see? Visit the ' +\n",
              "            '<a target=\"_blank\" href=https://colab.research.google.com/notebooks/data_table.ipynb>data table notebook</a>'\n",
              "            + ' to learn more about interactive tables.';\n",
              "          element.innerHTML = '';\n",
              "          dataTable['output_type'] = 'display_data';\n",
              "          await google.colab.output.renderOutput(dataTable, element);\n",
              "          const docLink = document.createElement('div');\n",
              "          docLink.innerHTML = docLinkHtml;\n",
              "          element.appendChild(docLink);\n",
              "        }\n",
              "      </script>\n",
              "    </div>\n",
              "  </div>\n",
              "  "
            ]
          },
          "metadata": {},
          "execution_count": 30
        }
      ]
    },
    {
      "cell_type": "code",
      "source": [
        "electronics['item'].nunique()"
      ],
      "metadata": {
        "colab": {
          "base_uri": "https://localhost:8080/"
        },
        "id": "Zw9JACmYj_WY",
        "outputId": "f6f2d68d-667d-450a-83e2-95963bc29f9c"
      },
      "execution_count": 31,
      "outputs": [
        {
          "output_type": "execute_result",
          "data": {
            "text/plain": [
              "3615"
            ]
          },
          "metadata": {},
          "execution_count": 31
        }
      ]
    },
    {
      "cell_type": "code",
      "source": [
        "electronics['user'].nunique()"
      ],
      "metadata": {
        "colab": {
          "base_uri": "https://localhost:8080/"
        },
        "id": "b2FRG5WSkHRd",
        "outputId": "a190fb3a-7047-4af3-8223-c84df31632d8"
      },
      "execution_count": 32,
      "outputs": [
        {
          "output_type": "execute_result",
          "data": {
            "text/plain": [
              "48098"
            ]
          },
          "metadata": {},
          "execution_count": 32
        }
      ]
    },
    {
      "cell_type": "code",
      "source": [
        "df.tail()"
      ],
      "metadata": {
        "colab": {
          "base_uri": "https://localhost:8080/",
          "height": 237
        },
        "id": "UjCf1nzX-MF4",
        "outputId": "7c470d71-e951-4d7e-b650-8dcd2a8b1dd6"
      },
      "execution_count": 33,
      "outputs": [
        {
          "output_type": "execute_result",
          "data": {
            "text/plain": [
              "               rating\n",
              "user                 \n",
              "AZZP8BC9WE0N8       1\n",
              "AZZR8DUVE5L8O       1\n",
              "AZZST8OYL5P4Q       1\n",
              "AZZUBI2MEAHI9       1\n",
              "AZZZEWADNFNUM       1"
            ],
            "text/html": [
              "\n",
              "  <div id=\"df-040930b4-a112-4744-a146-bb18f27f095a\">\n",
              "    <div class=\"colab-df-container\">\n",
              "      <div>\n",
              "<style scoped>\n",
              "    .dataframe tbody tr th:only-of-type {\n",
              "        vertical-align: middle;\n",
              "    }\n",
              "\n",
              "    .dataframe tbody tr th {\n",
              "        vertical-align: top;\n",
              "    }\n",
              "\n",
              "    .dataframe thead th {\n",
              "        text-align: right;\n",
              "    }\n",
              "</style>\n",
              "<table border=\"1\" class=\"dataframe\">\n",
              "  <thead>\n",
              "    <tr style=\"text-align: right;\">\n",
              "      <th></th>\n",
              "      <th>rating</th>\n",
              "    </tr>\n",
              "    <tr>\n",
              "      <th>user</th>\n",
              "      <th></th>\n",
              "    </tr>\n",
              "  </thead>\n",
              "  <tbody>\n",
              "    <tr>\n",
              "      <th>AZZP8BC9WE0N8</th>\n",
              "      <td>1</td>\n",
              "    </tr>\n",
              "    <tr>\n",
              "      <th>AZZR8DUVE5L8O</th>\n",
              "      <td>1</td>\n",
              "    </tr>\n",
              "    <tr>\n",
              "      <th>AZZST8OYL5P4Q</th>\n",
              "      <td>1</td>\n",
              "    </tr>\n",
              "    <tr>\n",
              "      <th>AZZUBI2MEAHI9</th>\n",
              "      <td>1</td>\n",
              "    </tr>\n",
              "    <tr>\n",
              "      <th>AZZZEWADNFNUM</th>\n",
              "      <td>1</td>\n",
              "    </tr>\n",
              "  </tbody>\n",
              "</table>\n",
              "</div>\n",
              "      <button class=\"colab-df-convert\" onclick=\"convertToInteractive('df-040930b4-a112-4744-a146-bb18f27f095a')\"\n",
              "              title=\"Convert this dataframe to an interactive table.\"\n",
              "              style=\"display:none;\">\n",
              "        \n",
              "  <svg xmlns=\"http://www.w3.org/2000/svg\" height=\"24px\"viewBox=\"0 0 24 24\"\n",
              "       width=\"24px\">\n",
              "    <path d=\"M0 0h24v24H0V0z\" fill=\"none\"/>\n",
              "    <path d=\"M18.56 5.44l.94 2.06.94-2.06 2.06-.94-2.06-.94-.94-2.06-.94 2.06-2.06.94zm-11 1L8.5 8.5l.94-2.06 2.06-.94-2.06-.94L8.5 2.5l-.94 2.06-2.06.94zm10 10l.94 2.06.94-2.06 2.06-.94-2.06-.94-.94-2.06-.94 2.06-2.06.94z\"/><path d=\"M17.41 7.96l-1.37-1.37c-.4-.4-.92-.59-1.43-.59-.52 0-1.04.2-1.43.59L10.3 9.45l-7.72 7.72c-.78.78-.78 2.05 0 2.83L4 21.41c.39.39.9.59 1.41.59.51 0 1.02-.2 1.41-.59l7.78-7.78 2.81-2.81c.8-.78.8-2.07 0-2.86zM5.41 20L4 18.59l7.72-7.72 1.47 1.35L5.41 20z\"/>\n",
              "  </svg>\n",
              "      </button>\n",
              "      \n",
              "  <style>\n",
              "    .colab-df-container {\n",
              "      display:flex;\n",
              "      flex-wrap:wrap;\n",
              "      gap: 12px;\n",
              "    }\n",
              "\n",
              "    .colab-df-convert {\n",
              "      background-color: #E8F0FE;\n",
              "      border: none;\n",
              "      border-radius: 50%;\n",
              "      cursor: pointer;\n",
              "      display: none;\n",
              "      fill: #1967D2;\n",
              "      height: 32px;\n",
              "      padding: 0 0 0 0;\n",
              "      width: 32px;\n",
              "    }\n",
              "\n",
              "    .colab-df-convert:hover {\n",
              "      background-color: #E2EBFA;\n",
              "      box-shadow: 0px 1px 2px rgba(60, 64, 67, 0.3), 0px 1px 3px 1px rgba(60, 64, 67, 0.15);\n",
              "      fill: #174EA6;\n",
              "    }\n",
              "\n",
              "    [theme=dark] .colab-df-convert {\n",
              "      background-color: #3B4455;\n",
              "      fill: #D2E3FC;\n",
              "    }\n",
              "\n",
              "    [theme=dark] .colab-df-convert:hover {\n",
              "      background-color: #434B5C;\n",
              "      box-shadow: 0px 1px 3px 1px rgba(0, 0, 0, 0.15);\n",
              "      filter: drop-shadow(0px 1px 2px rgba(0, 0, 0, 0.3));\n",
              "      fill: #FFFFFF;\n",
              "    }\n",
              "  </style>\n",
              "\n",
              "      <script>\n",
              "        const buttonEl =\n",
              "          document.querySelector('#df-040930b4-a112-4744-a146-bb18f27f095a button.colab-df-convert');\n",
              "        buttonEl.style.display =\n",
              "          google.colab.kernel.accessAllowed ? 'block' : 'none';\n",
              "\n",
              "        async function convertToInteractive(key) {\n",
              "          const element = document.querySelector('#df-040930b4-a112-4744-a146-bb18f27f095a');\n",
              "          const dataTable =\n",
              "            await google.colab.kernel.invokeFunction('convertToInteractive',\n",
              "                                                     [key], {});\n",
              "          if (!dataTable) return;\n",
              "\n",
              "          const docLinkHtml = 'Like what you see? Visit the ' +\n",
              "            '<a target=\"_blank\" href=https://colab.research.google.com/notebooks/data_table.ipynb>data table notebook</a>'\n",
              "            + ' to learn more about interactive tables.';\n",
              "          element.innerHTML = '';\n",
              "          dataTable['output_type'] = 'display_data';\n",
              "          await google.colab.output.renderOutput(dataTable, element);\n",
              "          const docLink = document.createElement('div');\n",
              "          docLink.innerHTML = docLinkHtml;\n",
              "          element.appendChild(docLink);\n",
              "        }\n",
              "      </script>\n",
              "    </div>\n",
              "  </div>\n",
              "  "
            ]
          },
          "metadata": {},
          "execution_count": 33
        }
      ]
    },
    {
      "cell_type": "code",
      "source": [
        "users_above_five=df.loc[df['rating']>5,:].index"
      ],
      "metadata": {
        "id": "LT046Fi84nJw"
      },
      "execution_count": 36,
      "outputs": []
    },
    {
      "cell_type": "code",
      "source": [
        "electronics=electronics[electronics['user'].isin(users_above_five)]"
      ],
      "metadata": {
        "id": "3TI-eQI--g9B"
      },
      "execution_count": 38,
      "outputs": []
    },
    {
      "cell_type": "code",
      "source": [
        "electronics.describe()"
      ],
      "metadata": {
        "colab": {
          "base_uri": "https://localhost:8080/",
          "height": 300
        },
        "id": "OcmqJH4n8WGy",
        "outputId": "6e34759e-0962-45ac-8483-e28c24894ca9"
      },
      "execution_count": 40,
      "outputs": [
        {
          "output_type": "execute_result",
          "data": {
            "text/plain": [
              "           rating\n",
              "count  889.000000\n",
              "mean     4.202475\n",
              "std      1.081975\n",
              "min      1.000000\n",
              "25%      4.000000\n",
              "50%      5.000000\n",
              "75%      5.000000\n",
              "max      5.000000"
            ],
            "text/html": [
              "\n",
              "  <div id=\"df-c5cd5c6d-447a-441b-aea4-d14c2cae9962\">\n",
              "    <div class=\"colab-df-container\">\n",
              "      <div>\n",
              "<style scoped>\n",
              "    .dataframe tbody tr th:only-of-type {\n",
              "        vertical-align: middle;\n",
              "    }\n",
              "\n",
              "    .dataframe tbody tr th {\n",
              "        vertical-align: top;\n",
              "    }\n",
              "\n",
              "    .dataframe thead th {\n",
              "        text-align: right;\n",
              "    }\n",
              "</style>\n",
              "<table border=\"1\" class=\"dataframe\">\n",
              "  <thead>\n",
              "    <tr style=\"text-align: right;\">\n",
              "      <th></th>\n",
              "      <th>rating</th>\n",
              "    </tr>\n",
              "  </thead>\n",
              "  <tbody>\n",
              "    <tr>\n",
              "      <th>count</th>\n",
              "      <td>889.000000</td>\n",
              "    </tr>\n",
              "    <tr>\n",
              "      <th>mean</th>\n",
              "      <td>4.202475</td>\n",
              "    </tr>\n",
              "    <tr>\n",
              "      <th>std</th>\n",
              "      <td>1.081975</td>\n",
              "    </tr>\n",
              "    <tr>\n",
              "      <th>min</th>\n",
              "      <td>1.000000</td>\n",
              "    </tr>\n",
              "    <tr>\n",
              "      <th>25%</th>\n",
              "      <td>4.000000</td>\n",
              "    </tr>\n",
              "    <tr>\n",
              "      <th>50%</th>\n",
              "      <td>5.000000</td>\n",
              "    </tr>\n",
              "    <tr>\n",
              "      <th>75%</th>\n",
              "      <td>5.000000</td>\n",
              "    </tr>\n",
              "    <tr>\n",
              "      <th>max</th>\n",
              "      <td>5.000000</td>\n",
              "    </tr>\n",
              "  </tbody>\n",
              "</table>\n",
              "</div>\n",
              "      <button class=\"colab-df-convert\" onclick=\"convertToInteractive('df-c5cd5c6d-447a-441b-aea4-d14c2cae9962')\"\n",
              "              title=\"Convert this dataframe to an interactive table.\"\n",
              "              style=\"display:none;\">\n",
              "        \n",
              "  <svg xmlns=\"http://www.w3.org/2000/svg\" height=\"24px\"viewBox=\"0 0 24 24\"\n",
              "       width=\"24px\">\n",
              "    <path d=\"M0 0h24v24H0V0z\" fill=\"none\"/>\n",
              "    <path d=\"M18.56 5.44l.94 2.06.94-2.06 2.06-.94-2.06-.94-.94-2.06-.94 2.06-2.06.94zm-11 1L8.5 8.5l.94-2.06 2.06-.94-2.06-.94L8.5 2.5l-.94 2.06-2.06.94zm10 10l.94 2.06.94-2.06 2.06-.94-2.06-.94-.94-2.06-.94 2.06-2.06.94z\"/><path d=\"M17.41 7.96l-1.37-1.37c-.4-.4-.92-.59-1.43-.59-.52 0-1.04.2-1.43.59L10.3 9.45l-7.72 7.72c-.78.78-.78 2.05 0 2.83L4 21.41c.39.39.9.59 1.41.59.51 0 1.02-.2 1.41-.59l7.78-7.78 2.81-2.81c.8-.78.8-2.07 0-2.86zM5.41 20L4 18.59l7.72-7.72 1.47 1.35L5.41 20z\"/>\n",
              "  </svg>\n",
              "      </button>\n",
              "      \n",
              "  <style>\n",
              "    .colab-df-container {\n",
              "      display:flex;\n",
              "      flex-wrap:wrap;\n",
              "      gap: 12px;\n",
              "    }\n",
              "\n",
              "    .colab-df-convert {\n",
              "      background-color: #E8F0FE;\n",
              "      border: none;\n",
              "      border-radius: 50%;\n",
              "      cursor: pointer;\n",
              "      display: none;\n",
              "      fill: #1967D2;\n",
              "      height: 32px;\n",
              "      padding: 0 0 0 0;\n",
              "      width: 32px;\n",
              "    }\n",
              "\n",
              "    .colab-df-convert:hover {\n",
              "      background-color: #E2EBFA;\n",
              "      box-shadow: 0px 1px 2px rgba(60, 64, 67, 0.3), 0px 1px 3px 1px rgba(60, 64, 67, 0.15);\n",
              "      fill: #174EA6;\n",
              "    }\n",
              "\n",
              "    [theme=dark] .colab-df-convert {\n",
              "      background-color: #3B4455;\n",
              "      fill: #D2E3FC;\n",
              "    }\n",
              "\n",
              "    [theme=dark] .colab-df-convert:hover {\n",
              "      background-color: #434B5C;\n",
              "      box-shadow: 0px 1px 3px 1px rgba(0, 0, 0, 0.15);\n",
              "      filter: drop-shadow(0px 1px 2px rgba(0, 0, 0, 0.3));\n",
              "      fill: #FFFFFF;\n",
              "    }\n",
              "  </style>\n",
              "\n",
              "      <script>\n",
              "        const buttonEl =\n",
              "          document.querySelector('#df-c5cd5c6d-447a-441b-aea4-d14c2cae9962 button.colab-df-convert');\n",
              "        buttonEl.style.display =\n",
              "          google.colab.kernel.accessAllowed ? 'block' : 'none';\n",
              "\n",
              "        async function convertToInteractive(key) {\n",
              "          const element = document.querySelector('#df-c5cd5c6d-447a-441b-aea4-d14c2cae9962');\n",
              "          const dataTable =\n",
              "            await google.colab.kernel.invokeFunction('convertToInteractive',\n",
              "                                                     [key], {});\n",
              "          if (!dataTable) return;\n",
              "\n",
              "          const docLinkHtml = 'Like what you see? Visit the ' +\n",
              "            '<a target=\"_blank\" href=https://colab.research.google.com/notebooks/data_table.ipynb>data table notebook</a>'\n",
              "            + ' to learn more about interactive tables.';\n",
              "          element.innerHTML = '';\n",
              "          dataTable['output_type'] = 'display_data';\n",
              "          await google.colab.output.renderOutput(dataTable, element);\n",
              "          const docLink = document.createElement('div');\n",
              "          docLink.innerHTML = docLinkHtml;\n",
              "          element.appendChild(docLink);\n",
              "        }\n",
              "      </script>\n",
              "    </div>\n",
              "  </div>\n",
              "  "
            ]
          },
          "metadata": {},
          "execution_count": 40
        }
      ]
    },
    {
      "cell_type": "code",
      "source": [
        "#Shape of the data\n",
        "electronics.shape"
      ],
      "metadata": {
        "colab": {
          "base_uri": "https://localhost:8080/"
        },
        "id": "PUomXdO8_Lv5",
        "outputId": "8f77d001-7af0-4909-ffdd-6db04e5d1077"
      },
      "execution_count": 41,
      "outputs": [
        {
          "output_type": "execute_result",
          "data": {
            "text/plain": [
              "(889, 3)"
            ]
          },
          "metadata": {},
          "execution_count": 41
        }
      ]
    },
    {
      "cell_type": "code",
      "source": [
        "electronics.isna().sum().sort_values()"
      ],
      "metadata": {
        "colab": {
          "base_uri": "https://localhost:8080/"
        },
        "id": "oqzQiq4wAPyx",
        "outputId": "6454018f-9528-48c9-97cb-c59f2b4a1246"
      },
      "execution_count": 42,
      "outputs": [
        {
          "output_type": "execute_result",
          "data": {
            "text/plain": [
              "user      0\n",
              "item      0\n",
              "rating    0\n",
              "dtype: int64"
            ]
          },
          "metadata": {},
          "execution_count": 42
        }
      ]
    },
    {
      "cell_type": "code",
      "source": [
        "#Visualize item popularity\n",
        "sns.countplot(x='item',data=electronics)"
      ],
      "metadata": {
        "colab": {
          "base_uri": "https://localhost:8080/",
          "height": 297
        },
        "id": "ThwAyRq3AgWp",
        "outputId": "84fbec0e-c473-43c3-fcbf-13d3484f5ff5"
      },
      "execution_count": 43,
      "outputs": [
        {
          "output_type": "execute_result",
          "data": {
            "text/plain": [
              "<matplotlib.axes._subplots.AxesSubplot at 0x7fbaa0fdf790>"
            ]
          },
          "metadata": {},
          "execution_count": 43
        },
        {
          "output_type": "display_data",
          "data": {
            "text/plain": [
              "<Figure size 432x288 with 1 Axes>"
            ],
            "image/png": "[encoded data removed]"
          },
          "metadata": {
            "needs_background": "light"
          }
        }
      ]
    },
    {
      "cell_type": "code",
      "source": [
        "# Find top 10 items with the highest average rating\n",
        "item_average=pd.DataFrame(electronics.groupby('item')['rating'].mean())"
      ],
      "metadata": {
        "id": "Wp1fQs-MA4H7"
      },
      "execution_count": 45,
      "outputs": []
    },
    {
      "cell_type": "code",
      "source": [
        "item_average['rating'].sort_values(ascending=False)[:10]"
      ],
      "metadata": {
        "colab": {
          "base_uri": "https://localhost:8080/"
        },
        "id": "5fLck9yBBcdy",
        "outputId": "03a2f4bb-b1c3-4942-af6f-13825ceb8098"
      },
      "execution_count": 51,
      "outputs": [
        {
          "output_type": "execute_result",
          "data": {
            "text/plain": [
              "item\n",
              "B00001WROM    5.0\n",
              "B00003CWDQ    5.0\n",
              "B00000K2OZ    5.0\n",
              "B00004THDE    5.0\n",
              "B00003G1RE    5.0\n",
              "B00003G1RC    5.0\n",
              "B00003G1R9    5.0\n",
              "B00000K3RE    5.0\n",
              "B00003CYN8    5.0\n",
              "B00003CWFU    5.0\n",
              "Name: rating, dtype: float64"
            ]
          },
          "metadata": {},
          "execution_count": 51
        }
      ]
    },
    {
      "cell_type": "code",
      "source": [
        "sns.displot(data=electronics,x='rating')"
      ],
      "metadata": {
        "colab": {
          "base_uri": "https://localhost:8080/",
          "height": 387
        },
        "id": "RcBR0gk2CGfM",
        "outputId": "af147944-b0bd-4cee-956f-f00e4fd55f3c"
      },
      "execution_count": 57,
      "outputs": [
        {
          "output_type": "execute_result",
          "data": {
            "text/plain": [
              "<seaborn.axisgrid.FacetGrid at 0x7fbaa0a2cc10>"
            ]
          },
          "metadata": {},
          "execution_count": 57
        },
        {
          "output_type": "display_data",
          "data": {
            "text/plain": [
              "<Figure size 360x360 with 1 Axes>"
            ],
            "image/png": "[encoded data removed]"
          },
          "metadata": {
            "needs_background": "light"
          }
        }
      ]
    },
    {
      "cell_type": "code",
      "source": [
        "sns.boxplot(data=electronics,x='rating')"
      ],
      "metadata": {
        "colab": {
          "base_uri": "https://localhost:8080/",
          "height": 297
        },
        "id": "CSW3GDSbC8tK",
        "outputId": "5fd0b5bf-d38f-4619-9ddd-a4c2b03e71ae"
      },
      "execution_count": 58,
      "outputs": [
        {
          "output_type": "execute_result",
          "data": {
            "text/plain": [
              "<matplotlib.axes._subplots.AxesSubplot at 0x7fba9d5df190>"
            ]
          },
          "metadata": {},
          "execution_count": 58
        },
        {
          "output_type": "display_data",
          "data": {
            "text/plain": [
              "<Figure size 432x288 with 1 Axes>"
            ],
            "image/png": "[encoded data removed]"
          },
          "metadata": {
            "needs_background": "light"
          }
        }
      ]
    },
    {
      "cell_type": "code",
      "source": [
        "!pip install scikit-surprise"
      ],
      "metadata": {
        "colab": {
          "base_uri": "https://localhost:8080/"
        },
        "id": "mp1Ptp0wGP0P",
        "outputId": "b6ccf1bb-3f65-4ea5-81ff-47e37cde4bd8"
      },
      "execution_count": 60,
      "outputs": [
        {
          "output_type": "stream",
          "name": "stdout",
          "text": [
            "Looking in indexes: https://pypi.org/simple, https://us-python.pkg.dev/colab-wheels/public/simple/\n",
            "Collecting scikit-surprise\n",
            "  Downloading scikit-surprise-1.1.1.tar.gz (11.8 MB)\n",
            "\u001b[K     |████████████████████████████████| 11.8 MB 6.6 MB/s \n",
            "\u001b[?25hRequirement already satisfied: joblib>=0.11 in /usr/local/lib/python3.7/dist-packages (from scikit-surprise) (1.1.0)\n",
            "Requirement already satisfied: numpy>=1.11.2 in /usr/local/lib/python3.7/dist-packages (from scikit-surprise) (1.21.6)\n",
            "Requirement already satisfied: scipy>=1.0.0 in /usr/local/lib/python3.7/dist-packages (from scikit-surprise) (1.7.3)\n",
            "Requirement already satisfied: six>=1.10.0 in /usr/local/lib/python3.7/dist-packages (from scikit-surprise) (1.15.0)\n",
            "Building wheels for collected packages: scikit-surprise\n",
            "  Building wheel for scikit-surprise (setup.py) ... \u001b[?25l\u001b[?25hdone\n",
            "  Created wheel for scikit-surprise: filename=scikit_surprise-1.1.1-cp37-cp37m-linux_x86_64.whl size=1633739 sha256=ab4d6a86ba1d3d75070eb36d353f9c98616fab32b6b7d7a7bf58268983e8b0f4\n",
            "  Stored in directory: /root/.cache/pip/wheels/76/44/74/b498c42be47b2406bd27994e16c5188e337c657025ab400c1c\n",
            "Successfully built scikit-surprise\n",
            "Installing collected packages: scikit-surprise\n",
            "Successfully installed scikit-surprise-1.1.1\n"
          ]
        }
      ]
    },
    {
      "cell_type": "code",
      "source": [
        "from surprise import accuracy\n",
        "from surprise.model_selection.validation import cross_validate\n",
        "from surprise.dataset import Dataset\n",
        "from surprise.reader import Reader\n",
        "from surprise import SVD\n",
        "from surprise import KNNBasic\n",
        "from surprise import KNNWithMeans"
      ],
      "metadata": {
        "id": "LbL2y9n8HB-k"
      },
      "execution_count": 61,
      "outputs": []
    },
    {
      "cell_type": "code",
      "source": [
        "reader = Reader()\n",
        "surprise_data = Dataset.load_from_df(electronics, reader)"
      ],
      "metadata": {
        "id": "gGAcJgFtJfkQ"
      },
      "execution_count": 62,
      "outputs": []
    },
    {
      "cell_type": "code",
      "source": [
        "#Item based collaborative filtering\n",
        "from surprise.model_selection import train_test_split\n",
        "trainset, testset = train_test_split(surprise_data, test_size=.3, random_state=10)\n",
        "sim={'name': 'Cosine','user_based':True}\n",
        "algo=KNNWithMeans(sim_options=sim)\n",
        "algo.fit(trainset)"
      ],
      "metadata": {
        "colab": {
          "base_uri": "https://localhost:8080/"
        },
        "id": "gAHKI9c3J0k8",
        "outputId": "603748d7-efdb-4d18-fc89-af1fbd49f156"
      },
      "execution_count": 71,
      "outputs": [
        {
          "output_type": "stream",
          "name": "stdout",
          "text": [
            "Computing the cosine similarity matrix...\n",
            "Done computing similarity matrix.\n"
          ]
        },
        {
          "output_type": "execute_result",
          "data": {
            "text/plain": [
              "<surprise.prediction_algorithms.knns.KNNWithMeans at 0x7fba9bfca410>"
            ]
          },
          "metadata": {},
          "execution_count": 71
        }
      ]
    },
    {
      "cell_type": "code",
      "source": [
        "for i in range(len(testset)):\n",
        "  p=algo.predict(testset[0][0],testset[i][1])\n",
        "  print(p.est)"
      ],
      "metadata": {
        "colab": {
          "base_uri": "https://localhost:8080/"
        },
        "id": "2Uu5U66oLFtx",
        "outputId": "b13a6850-e527-4670-e0a6-03e30a2427f9"
      },
      "execution_count": 75,
      "outputs": [
        {
          "output_type": "stream",
          "name": "stdout",
          "text": [
            "5\n",
            "5\n",
            "4.265273311897106\n",
            "4.380434782608695\n",
            "5\n",
            "5\n",
            "5\n",
            "4.265273311897106\n",
            "4.265273311897106\n",
            "5\n",
            "4.265273311897106\n",
            "5\n",
            "5\n",
            "5\n",
            "5\n",
            "4.265273311897106\n",
            "4.265273311897106\n",
            "4.265273311897106\n",
            "4.265273311897106\n",
            "4.380434782608695\n",
            "5\n",
            "5\n",
            "5\n",
            "5\n",
            "5\n",
            "4.265273311897106\n",
            "5\n",
            "5\n",
            "4.265273311897106\n",
            "4.8647342995169085\n",
            "4.265273311897106\n",
            "4.265273311897106\n",
            "4.265273311897106\n",
            "4.265273311897106\n",
            "4.265273311897106\n",
            "5\n",
            "5\n",
            "4.265273311897106\n",
            "4.265273311897106\n",
            "4.265273311897106\n",
            "4.265273311897106\n",
            "5\n",
            "4.265273311897106\n",
            "5\n",
            "4.265273311897106\n",
            "5\n",
            "4.797101449275362\n",
            "5\n",
            "5\n",
            "4.380434782608695\n",
            "4.265273311897106\n",
            "5\n",
            "5\n",
            "4.265273311897106\n",
            "5\n",
            "5\n",
            "5\n",
            "5\n",
            "4.265273311897106\n",
            "4.265273311897106\n",
            "4.265273311897106\n",
            "4.265273311897106\n",
            "5\n",
            "5\n",
            "5\n",
            "4.265273311897106\n",
            "4.265273311897106\n",
            "4.265273311897106\n",
            "5\n",
            "5\n",
            "4.265273311897106\n",
            "5\n",
            "4.265273311897106\n",
            "5\n",
            "5\n",
            "4.265273311897106\n",
            "4.265273311897106\n",
            "5\n",
            "4.265273311897106\n",
            "5\n",
            "5\n",
            "4.265273311897106\n",
            "4.265273311897106\n",
            "5\n",
            "4.265273311897106\n",
            "4.265273311897106\n",
            "4.265273311897106\n",
            "5\n",
            "4.265273311897106\n",
            "5\n",
            "5\n",
            "4.265273311897106\n",
            "4.265273311897106\n",
            "5\n",
            "4.265273311897106\n",
            "5\n",
            "5\n",
            "4.265273311897106\n",
            "4.265273311897106\n",
            "4.8647342995169085\n",
            "4.265273311897106\n",
            "5\n",
            "4.916666666666666\n",
            "4.265273311897106\n",
            "4.265273311897106\n",
            "5\n",
            "4.265273311897106\n",
            "4.265273311897106\n",
            "5\n",
            "5\n",
            "5\n",
            "5\n",
            "5\n",
            "4.265273311897106\n",
            "4.265273311897106\n",
            "4.265273311897106\n",
            "4.265273311897106\n",
            "4.265273311897106\n",
            "5\n",
            "4.265273311897106\n",
            "5\n",
            "4.895238095238096\n",
            "5\n",
            "5\n",
            "4.265273311897106\n",
            "5\n",
            "5\n",
            "4.265273311897106\n",
            "4.265273311897106\n",
            "5\n",
            "5\n",
            "4.265273311897106\n",
            "4.265273311897106\n",
            "5\n",
            "4.265273311897106\n",
            "4.265273311897106\n",
            "4.265273311897106\n",
            "5\n",
            "4.265273311897106\n",
            "4.265273311897106\n",
            "4.265273311897106\n",
            "4.265273311897106\n",
            "5\n",
            "4.265273311897106\n",
            "4.265273311897106\n",
            "4.265273311897106\n",
            "4.265273311897106\n",
            "4.880434782608695\n",
            "4.265273311897106\n",
            "4.265273311897106\n",
            "5\n",
            "5\n",
            "5\n",
            "4.265273311897106\n",
            "4.265273311897106\n",
            "4.265273311897106\n",
            "4.265273311897106\n",
            "5\n",
            "4.265273311897106\n",
            "4.380434782608695\n",
            "5\n",
            "5\n",
            "4.265273311897106\n",
            "5\n",
            "5\n",
            "5\n",
            "5\n",
            "5\n",
            "5\n",
            "5\n",
            "4.265273311897106\n",
            "4.265273311897106\n",
            "5\n",
            "4.265273311897106\n",
            "4.265273311897106\n",
            "4.8647342995169085\n",
            "4.265273311897106\n",
            "4.265273311897106\n",
            "4.880434782608695\n",
            "4.265273311897106\n",
            "4.8647342995169085\n",
            "5\n",
            "4.265273311897106\n",
            "5\n",
            "4.265273311897106\n",
            "4.265273311897106\n",
            "4.265273311897106\n",
            "5\n",
            "5\n",
            "4.265273311897106\n",
            "4.265273311897106\n",
            "5\n",
            "5\n",
            "4.265273311897106\n",
            "5\n",
            "5\n",
            "5\n",
            "4.265273311897106\n",
            "5\n",
            "5\n",
            "4.8647342995169085\n",
            "4.265273311897106\n",
            "4.265273311897106\n",
            "5\n",
            "5\n",
            "4.265273311897106\n",
            "4.265273311897106\n",
            "5\n",
            "5\n",
            "4.265273311897106\n",
            "5\n",
            "5\n",
            "4.265273311897106\n",
            "4.265273311897106\n",
            "4.265273311897106\n",
            "5\n",
            "5\n",
            "4.265273311897106\n",
            "5\n",
            "4.265273311897106\n",
            "5\n",
            "5\n",
            "4.265273311897106\n",
            "4.265273311897106\n",
            "4.8647342995169085\n",
            "3.142857142857143\n",
            "5\n",
            "4.265273311897106\n",
            "5\n",
            "4.8647342995169085\n",
            "5\n",
            "5\n",
            "5\n",
            "4.265273311897106\n",
            "4.265273311897106\n",
            "4.265273311897106\n",
            "4.265273311897106\n",
            "4.265273311897106\n",
            "4.265273311897106\n",
            "5\n",
            "5\n",
            "4.265273311897106\n",
            "5\n",
            "4.265273311897106\n",
            "4.265273311897106\n",
            "4.265273311897106\n",
            "4.265273311897106\n",
            "4.265273311897106\n",
            "4.265273311897106\n",
            "4.265273311897106\n",
            "5\n",
            "5\n",
            "4.265273311897106\n",
            "4.265273311897106\n",
            "5\n",
            "5\n",
            "5\n",
            "4.265273311897106\n",
            "4.142857142857142\n",
            "4.265273311897106\n",
            "4.265273311897106\n",
            "5\n",
            "4.265273311897106\n",
            "5\n",
            "4.265273311897106\n",
            "5\n",
            "4.265273311897106\n"
          ]
        }
      ]
    },
    {
      "cell_type": "code",
      "source": [
        "testset"
      ],
      "metadata": {
        "colab": {
          "base_uri": "https://localhost:8080/"
        },
        "id": "uRpbU7vgPnrU",
        "outputId": "f9731dd3-af50-4e28-b38f-82bd557be16b"
      },
      "execution_count": 73,
      "outputs": [
        {
          "output_type": "execute_result",
          "data": {
            "text/plain": [
              "[('A3XNTYRDE0MFI', 'B00000JDGQ', 5.0),\n",
              " ('ATW2I5S6S2PFA', 'B00000JX2V', 5.0),\n",
              " ('A2HDTOF8222KN3', 'B000001OKH', 5.0),\n",
              " ('A1RPTVW5VEOSI', 'B00004RC2D', 5.0),\n",
              " ('A14PTJ17T1GTCE', 'B00004S9AK', 5.0),\n",
              " ('ARXU3FESTWMJJ', 'B00000JBAT', 2.0),\n",
              " ('A3O4F0C47C2FEY', 'B000031KIM', 3.0),\n",
              " ('A3D6KFKN4J5ULE', 'B00000JFHW', 1.0),\n",
              " ('AUCF61BNJ5ZX7', 'B00004T2LK', 5.0),\n",
              " ('AP6X4IJR5H92P', 'B00004TDN0', 5.0),\n",
              " ('AJJV9Z17KV6GR', 'B0000228GG', 5.0),\n",
              " ('A80HSYQYS2JX0', 'B00001P4ZH', 5.0),\n",
              " ('A23ZO1BVFFLGHO', 'B00002SWHH', 5.0),\n",
              " ('AK94AGPA2L5GY', 'B00004SCKA', 5.0),\n",
              " ('A231WM2Z2JL0U3', 'B0000488VK', 3.0),\n",
              " ('A23ZO1BVFFLGHO', 'B00001ZT58', 5.0),\n",
              " ('A243HY69GIAHFI', 'B00004SPUN', 4.0),\n",
              " ('AUCF61BNJ5ZX7', 'B00004TDWV', 5.0),\n",
              " ('A1JSO7PPEA0W72', 'B00000J4LQ', 4.0),\n",
              " ('A3IBOQ8R44YG9L', 'B00004RC2D', 5.0),\n",
              " ('A3O4F0C47C2FEY', 'B00004SPC0', 2.0),\n",
              " ('A8HZL68EGLI18', 'B00004TL5Q', 4.0),\n",
              " ('A6FIAB28IS79', 'B00001P4ZH', 3.0),\n",
              " ('A243HY69GIAHFI', 'B00002JXFH', 2.0),\n",
              " ('A3MV1KKHX51FYT', 'B00001TZYI', 5.0),\n",
              " ('A2B7BUH8834Y6M', 'B00004R8V6', 2.0),\n",
              " ('AJNVX5R3TRQKN', 'B000023VUL', 4.0),\n",
              " ('A3PLX6PTM2ERKL', 'B000031KIM', 5.0),\n",
              " ('A1RPTVW5VEOSI', 'B00001ZUNQ', 4.0),\n",
              " ('A2K5FK58JSWXJ9', 'B00004SB92', 5.0),\n",
              " ('A3KYYFT538CZ0O', 'B00004TB3L', 3.0),\n",
              " ('A14ME4FQBNFYWH', 'B00000J1RO', 4.0),\n",
              " ('A1MJMYLRTZ76ZX', 'B000021YU8', 5.0),\n",
              " ('A3PLX6PTM2ERKL', 'B00000J4G0', 1.0),\n",
              " ('A35MUY1T5C335X', 'B00003CWBZ', 1.0),\n",
              " ('A1RPTVW5VEOSI', 'B00000K3RI', 3.0),\n",
              " ('A2G2QNKDL1Y6AC', 'B00001RMCY', 5.0),\n",
              " ('AP6X4IJR5H92P', 'B00004SYWU', 4.0),\n",
              " ('A5JLAU2ARJ0BO', '1400532655', 1.0),\n",
              " ('AT8TIN5JKHO2V', 'B000001OMT', 3.0),\n",
              " ('A3QBHMMDRSC5VY', 'B00000J3HF', 5.0),\n",
              " ('A3FTI86WAVJOLG', 'B00004TDN0', 5.0),\n",
              " ('A3O4F0C47C2FEY', 'B00004SPBW', 5.0),\n",
              " ('AQ6XS10RR7CE0', 'B00004TDN2', 4.0),\n",
              " ('AY8Q1X7G96HV5', 'B0000300EF', 4.0),\n",
              " ('A7Y6AVS576M03', 'B00004RG85', 5.0),\n",
              " ('A1JSO7PPEA0W72', 'B00004TEN2', 5.0),\n",
              " ('A3QV0B4DIOB1PG', 'B00001QEMF', 2.0),\n",
              " ('A3IBOQ8R44YG9L', 'B000021YRO', 2.0),\n",
              " ('AO0HCM35LL15D', 'B00004RC2D', 4.0),\n",
              " ('A3KYYFT538CZ0O', 'B00004TS7X', 5.0),\n",
              " ('A1US87X5YUEQ7A', 'B00002SWUE', 5.0),\n",
              " ('AT2BYFEVLVITT', 'B00000J05A', 3.0),\n",
              " ('A2M5GKAGV88LWD', 'B00004SGB9', 4.0),\n",
              " ('A2B7BUH8834Y6M', 'B00004TL5Q', 5.0),\n",
              " ('A3C1MJ6AYAJ1PP', 'B00000JDGQ', 4.0),\n",
              " ('A1MJMYLRTZ76ZX', 'B00000J434', 4.0),\n",
              " ('AP6X4IJR5H92P', 'B00004SPC0', 4.0),\n",
              " ('A231WM2Z2JL0U3', 'B00003CWE8', 4.0),\n",
              " ('A231WM2Z2JL0U3', 'B00000J1US', 5.0),\n",
              " ('A3QBHMMDRSC5VY', 'B00000JD3V', 4.0),\n",
              " ('A3Q1OBY6D19RWR', 'B00004SCJ5', 3.0),\n",
              " ('A35MUY1T5C335X', 'B00004T2LJ', 4.0),\n",
              " ('A1JJOV69MAU2J2', 'B00000JI2C', 3.0),\n",
              " ('A3FTI86WAVJOLG', 'B00004TDN2', 5.0),\n",
              " ('A23ZO1BVFFLGHO', 'B000030068', 5.0),\n",
              " ('A2BGZ52M908MJY', 'B00004TVQQ', 5.0),\n",
              " ('A2HPJKM7L4EOQB', 'B00004TKUE', 4.0),\n",
              " ('A5JLAU2ARJ0BO', 'B00004TS16', 5.0),\n",
              " ('A3O4F0C47C2FEY', 'B00004TDL2', 4.0),\n",
              " ('A1NVD0TKNS1GT5', 'B00004SX3Z', 4.0),\n",
              " ('A3D6KFKN4J5ULE', 'B00000JYXK', 1.0),\n",
              " ('A1BAT4NZAP6B07', 'B00000J4VL', 5.0),\n",
              " ('A1ORUSHRRG0VWN', 'B00001RME8', 4.0),\n",
              " ('A1NVD0TKNS1GT5', 'B00001ZWXA', 5.0),\n",
              " ('AY8Q1X7G96HV5', 'B0000300EC', 4.0),\n",
              " ('A1MJMYLRTZ76ZX', 'B00000JBUI', 4.0),\n",
              " ('A14JBDSWKPKTZA', 'B00000JDF6', 5.0),\n",
              " ('ALUNVOQRXOZIA', 'B00003GPVF', 5.0),\n",
              " ('A2R6RA8FRBS608', 'B00000J1EP', 4.0),\n",
              " ('A1NVD0TKNS1GT5', 'B00000JBJQ', 4.0),\n",
              " ('A20JYIHL1W1U54', 'B00000K2OZ', 5.0),\n",
              " ('A3A15L96IYUO6V', 'B00000J4DB', 5.0),\n",
              " ('A6FIAB28IS79', 'B00001W0DI', 5.0),\n",
              " ('A7Y6AVS576M03', 'B00004R8U4', 1.0),\n",
              " ('ASWCLDH4MRFDU', 'B00004L8IG', 5.0),\n",
              " ('A3IBOQ8R44YG9L', 'B00001W0EQ', 5.0),\n",
              " ('A5JLAU2ARJ0BO', 'B00003G1RG', 3.0),\n",
              " ('A231WM2Z2JL0U3', 'B00004SD15', 5.0),\n",
              " ('A3FTI86WAVJOLG', 'B00004TL5Q', 5.0),\n",
              " ('A1ISUNUWG0K02V', 'B00000JHVP', 5.0),\n",
              " ('A1JSO7PPEA0W72', 'B0000300S4', 4.0),\n",
              " ('A231WM2Z2JL0U3', 'B00000JFJA', 3.0),\n",
              " ('AUCF61BNJ5ZX7', 'B00004SB96', 3.0),\n",
              " ('A5JLAU2ARJ0BO', 'B00004TVSO', 2.0),\n",
              " ('A2G2QNKDL1Y6AC', 'B00004NKHY', 4.0),\n",
              " ('A7RV1KU5O0II9', 'B00000JYWQ', 4.0),\n",
              " ('AQ6XS10RR7CE0', 'B00002CEUT', 3.0),\n",
              " ('ACCUPJZUVRNT1', 'B00001RMDT', 5.0),\n",
              " ('A1NVD0TKNS1GT5', 'B00004SB92', 5.0),\n",
              " ('A3MEIR72XKQY88', 'B00004RFC6', 4.0),\n",
              " ('A7Y6AVS576M03', 'B00001W0DI', 5.0),\n",
              " ('A3C1MJ6AYAJ1PP', 'B00002MZ8G', 4.0),\n",
              " ('ASWCLDH4MRFDU', 'B00004SYWB', 5.0),\n",
              " ('A14JBDSWKPKTZA', 'B00004SD15', 1.0),\n",
              " ('A231WM2Z2JL0U3', 'B00004TS16', 5.0),\n",
              " ('A6TBHW5LNOHRJ', 'B00004SD86', 2.0),\n",
              " ('A3C1MJ6AYAJ1PP', 'B00004S2MI', 3.0),\n",
              " ('A1NVD0TKNS1GT5', 'B00002JXFH', 4.0),\n",
              " ('A1ORUSHRRG0VWN', 'B000031KIM', 5.0),\n",
              " ('A1NVD0TKNS1GT5', 'B00004S9AK', 4.0),\n",
              " ('A243HY69GIAHFI', 'B0000300QN', 5.0),\n",
              " ('A23ZO1BVFFLGHO', 'B00001ZWRV', 5.0),\n",
              " ('A14JBDSWKPKTZA', 'B00000J1V1', 5.0),\n",
              " ('A2BMF2GQET39TY', 'B00004TL6V', 3.0),\n",
              " ('A3DD1FVGZY5757', 'B00003CX38', 1.0),\n",
              " ('AJNVX5R3TRQKN', 'B00004RG6K', 4.0),\n",
              " ('A3W2UTN0BC4ZKD', 'B00004TCWJ', 1.0),\n",
              " ('ASWYSSKL9LL9X', 'B00000J434', 5.0),\n",
              " ('A2BGZ52M908MJY', 'B00001XE0L', 5.0),\n",
              " ('A1SW1CR2I316PR', 'B00000J49V', 3.0),\n",
              " ('A2OLQ18EOBZPE6', 'B00003006R', 5.0),\n",
              " ('ASWYSSKL9LL9X', 'B00000J3Q1', 4.0),\n",
              " ('A2BGZ52M908MJY', 'B00004S5H5', 4.0),\n",
              " ('A14ME4FQBNFYWH', 'B00004DS1N', 4.0),\n",
              " ('A3PLX6PTM2ERKL', 'B00002JXFH', 5.0),\n",
              " ('A23ZO1BVFFLGHO', 'B0000206CT', 5.0),\n",
              " ('A1ZR6RT42KHUIF', 'B00000JF4M', 3.0),\n",
              " ('ARXU3FESTWMJJ', 'B00001YVFJ', 3.0),\n",
              " ('A231WM2Z2JL0U3', 'B00004SC3Y', 4.0),\n",
              " ('A3A15L96IYUO6V', 'B00000J4M9', 5.0),\n",
              " ('A1WVMDRJU19AFD', 'B00000JBAH', 4.0),\n",
              " ('A243HY69GIAHFI', 'B000023VUI', 3.0),\n",
              " ('A2AEZQ3DGBBLPR', 'B00000JFMK', 4.0),\n",
              " ('A243HY69GIAHFI', 'B00001O2YP', 5.0),\n",
              " ('A35MUY1T5C335X', 'B00003CWCQ', 2.0),\n",
              " ('A3Q1OBY6D19RWR', 'B00000K3RE', 5.0),\n",
              " ('A2XA9KKAAFXQMH', 'B00000J47F', 4.0),\n",
              " ('A1ISUNUWG0K02V', 'B00000J1QZ', 3.0),\n",
              " ('A231WM2Z2JL0U3', 'B00004TE75', 5.0),\n",
              " ('A2K5FK58JSWXJ9', 'B00004SYN1', 5.0),\n",
              " ('A2XA9KKAAFXQMH', 'B00001U0SK', 5.0),\n",
              " ('A2AFT2VCH2S01B', 'B00002EQCF', 4.0),\n",
              " ('A3OXHLG6DIBRW8', 'B00000JLSJ', 5.0),\n",
              " ('A80HSYQYS2JX0', 'B00001ZUJJ', 5.0),\n",
              " ('A1ISUNUWG0K02V', 'B00000J3H5', 5.0),\n",
              " ('A7Y6AVS576M03', 'B00004SD9J', 5.0),\n",
              " ('A6ZPLVAUQ6695', 'B00000JSGF', 5.0),\n",
              " ('A14JBDSWKPKTZA', 'B00000J3UH', 5.0),\n",
              " ('A38QEATH3NODFM', 'B00000J3FU', 5.0),\n",
              " ('AGVB3UZIPFHEF', 'B00003ZDJ7', 5.0),\n",
              " ('A231WM2Z2JL0U3', 'B00004TDL2', 3.0),\n",
              " ('A1G9L2BT6DTE95', 'B00001W0D1', 4.0),\n",
              " ('A11D1KHM7DVOQK', 'B00001W0D4', 4.0),\n",
              " ('A3O4F0C47C2FEY', 'B00003G1RE', 5.0),\n",
              " ('A3IBOQ8R44YG9L', 'B00004DS1N', 3.0),\n",
              " ('A1RPTVW5VEOSI', 'B00004S9WQ', 5.0),\n",
              " ('A231WM2Z2JL0U3', 'B00004SCKA', 4.0),\n",
              " ('A2XA9KKAAFXQMH', 'B00004SPT8', 5.0),\n",
              " ('A1ISUNUWG0K02V', 'B00004RC2D', 4.0),\n",
              " ('AO0HCM35LL15D', 'B00004SYVH', 5.0),\n",
              " ('A3MEIR72XKQY88', 'B00001P4XA', 5.0),\n",
              " ('A2B7BUH8834Y6M', 'B00004SYVL', 4.0),\n",
              " ('A231WM2Z2JL0U3', 'B00004R8VC', 5.0),\n",
              " ('A2MVJNPGTABDCU', 'B00000JKD8', 3.0),\n",
              " ('AJNVX5R3TRQKN', 'B00004TDN2', 4.0),\n",
              " ('A7Y6AVS576M03', 'B00004RG7J', 5.0),\n",
              " ('A1RFYCSNNOJ0VW', 'B00000JDGQ', 4.0),\n",
              " ('ATW2I5S6S2PFA', 'B00004TS16', 5.0),\n",
              " ('A23ZO1BVFFLGHO', 'B00000J3II', 5.0),\n",
              " ('A3OXHLG6DIBRW8', 'B000031WDA', 3.0),\n",
              " ('A3A15L96IYUO6V', 'B00004SUG7', 5.0),\n",
              " ('A2HDTOF8222KN3', 'B00004T8R2', 5.0),\n",
              " ('AO0HCM35LL15D', 'B00004S90N', 4.0),\n",
              " ('A1NVD0TKNS1GT5', 'B00003OPEV', 5.0),\n",
              " ('AJ6SPK7Y38RKW', 'B00004SB92', 4.0),\n",
              " ('A2K5FK58JSWXJ9', 'B00004SYN4', 5.0),\n",
              " ('AY8Q1X7G96HV5', 'B00004RGIG', 4.0),\n",
              " ('A3MEIR72XKQY88', 'B00000JSGF', 4.0),\n",
              " ('A1BAT4NZAP6B07', 'B00000J4VI', 5.0),\n",
              " ('A3W112102BC6BG', 'B00004SB92', 5.0),\n",
              " ('AT2BYFEVLVITT', 'B0000300QQ', 4.0),\n",
              " ('A1MJMYLRTZ76ZX', 'B00004TB3J', 5.0),\n",
              " ('A231WM2Z2JL0U3', 'B00001YVG4', 5.0),\n",
              " ('A1G9L2BT6DTE95', 'B00001OPGY', 3.0),\n",
              " ('A1ORUSHRRG0VWN', 'B00000JDFD', 4.0),\n",
              " ('A6TBHW5LNOHRJ', 'B00001ZUHF', 4.0),\n",
              " ('ALUNVOQRXOZIA', 'B00004TDWY', 5.0),\n",
              " ('ARXU3FESTWMJJ', 'B00004THCZ', 2.0),\n",
              " ('AT8TIN5JKHO2V', 'B000001OKH', 4.0),\n",
              " ('A2AEZQ3DGBBLPR', 'B00004SABB', 3.0),\n",
              " ('A3PLX6PTM2ERKL', 'B00000J1TX', 5.0),\n",
              " ('ASWCLDH4MRFDU', 'B000031KIM', 4.0),\n",
              " ('A3MEIR72XKQY88', 'B00004T1MB', 3.0),\n",
              " ('A3TRPVAGT3NWBS', 'B000031KIM', 5.0),\n",
              " ('A8HZL68EGLI18', 'B00004TDN0', 5.0),\n",
              " ('A3IBOQ8R44YG9L', 'B00004TDMX', 3.0),\n",
              " ('A80HSYQYS2JX0', 'B00004SPUP', 4.0),\n",
              " ('A2G2QNKDL1Y6AC', 'B00000J4VK', 3.0),\n",
              " ('A231WM2Z2JL0U3', 'B00002SWHH', 3.0),\n",
              " ('A3PLX6PTM2ERKL', 'B00004SB92', 5.0),\n",
              " ('AK94AGPA2L5GY', 'B00004TEYZ', 5.0),\n",
              " ('A2BGZ52M908MJY', 'B00004TLP9', 4.0),\n",
              " ('A6ZPLVAUQ6695', 'B00000J3Q1', 5.0),\n",
              " ('A3IBOQ8R44YG9L', 'B00004S9AK', 4.0),\n",
              " ('A3MV1KKHX51FYT', 'B0000300S4', 5.0),\n",
              " ('AY8Q1X7G96HV5', 'B00004THCX', 4.0),\n",
              " ('AUCF61BNJ5ZX7', 'B00000IGBF', 5.0),\n",
              " ('A2HPJKM7L4EOQB', 'B0000226L0', 3.0),\n",
              " ('A3IBOQ8R44YG9L', 'B00000JHWX', 5.0),\n",
              " ('A3D6KFKN4J5ULE', 'B00000J3Q1', 4.0),\n",
              " ('AP6X4IJR5H92P', 'B00004SC3E', 3.0),\n",
              " ('AJ6SPK7Y38RKW', 'B00004TLPG', 5.0),\n",
              " ('A5JLAU2ARJ0BO', 'B00004T1KZ', 4.0),\n",
              " ('A1RFYCSNNOJ0VW', 'B00004RJZG', 3.0),\n",
              " ('A231WM2Z2JL0U3', 'B000023VUL', 5.0),\n",
              " ('AN30G4IKL1BMZ', 'B00004TL5Q', 5.0),\n",
              " ('A2AEZQ3DGBBLPR', 'B00000J49I', 2.0),\n",
              " ('A6ZPLVAUQ6695', 'B0000488VH', 5.0),\n",
              " ('ACCUPJZUVRNT1', 'B00001MXWD', 1.0),\n",
              " ('A1JJOV69MAU2J2', 'B00004TDN0', 4.0),\n",
              " ('A8HZL68EGLI18', 'B00004TDWY', 5.0),\n",
              " ('A208OZ5XMMPKGS', 'B00004NKLN', 3.0),\n",
              " ('A1RPTVW5VEOSI', 'B00001QHP5', 5.0),\n",
              " ('A204ETWOV23HO4', 'B00004SB92', 5.0),\n",
              " ('A243HY69GIAHFI', 'B00000J47A', 5.0),\n",
              " ('A2M5GKAGV88LWD', 'B00004SC3Y', 5.0),\n",
              " ('A3LG03J5ZHBAZJ', 'B00004TDMY', 4.0),\n",
              " ('A1WVMDRJU19AFD', 'B00001W0DD', 3.0),\n",
              " ('A14ME4FQBNFYWH', 'B00004SB92', 4.0),\n",
              " ('A7Y6AVS576M03', 'B0000206DP', 5.0),\n",
              " ('A1ZR6RT42KHUIF', 'B000026D8E', 1.0),\n",
              " ('AD50TWQOM8W4G', 'B00004T0RC', 5.0),\n",
              " ('AUCF61BNJ5ZX7', 'B00000DM9R', 4.0),\n",
              " ('A3W2UTN0BC4ZKD', 'B0000300E1', 4.0),\n",
              " ('A243HY69GIAHFI', 'B00000J3T1', 1.0),\n",
              " ('A3QBHMMDRSC5VY', 'B00004TLPD', 4.0),\n",
              " ('A7RV1KU5O0II9', 'B00004SD9O', 5.0),\n",
              " ('AY8Q1X7G96HV5', 'B00004SD9G', 3.0),\n",
              " ('A38QEATH3NODFM', 'B00000JF4L', 5.0),\n",
              " ('A3IBOQ8R44YG9L', 'B00004OCOX', 5.0),\n",
              " ('ASWCLDH4MRFDU', 'B00004RC2I', 4.0),\n",
              " ('A1G9L2BT6DTE95', 'B00000J4L8', 5.0),\n",
              " ('AJJV9Z17KV6GR', 'B00001ZUGW', 3.0),\n",
              " ('A1G9L2BT6DTE95', 'B00001W0DG', 3.0),\n",
              " ('A1ISUNUWG0K02V', 'B00000J3HB', 5.0),\n",
              " ('AJJV9Z17KV6GR', 'B0000226QJ', 5.0),\n",
              " ('AY8Q1X7G96HV5', 'B00000JSEW', 4.0),\n",
              " ('AQCHVXD1R9WYI', 'B00001XE0T', 5.0),\n",
              " ('AJTYN2L8T5FER', 'B0000488VF', 1.0),\n",
              " ('A204ETWOV23HO4', 'B00001ZWRV', 4.0),\n",
              " ('A3KYYFT538CZ0O', 'B00002JXFH', 5.0),\n",
              " ('A1BAT4NZAP6B07', 'B00003CWDU', 5.0),\n",
              " ('A1PAGHECG401K1', 'B00000J1P1', 2.0),\n",
              " ('A23ZO1BVFFLGHO', 'B000038ABH', 4.0),\n",
              " ('A1US87X5YUEQ7A', 'B00000JYWQ', 5.0),\n",
              " ('A1JJOV69MAU2J2', 'B00000J3Q1', 4.0),\n",
              " ('A11D1KHM7DVOQK', 'B000001OMN', 2.0),\n",
              " ('A231WM2Z2JL0U3', 'B00003CWCI', 4.0),\n",
              " ('A3MEIR72XKQY88', 'B00004SV25', 4.0),\n",
              " ('A1US87X5YUEQ7A', 'B00000JBRT', 5.0),\n",
              " ('A3C1MJ6AYAJ1PP', 'B00000J4L8', 3.0),\n",
              " ('AJJV9Z17KV6GR', 'B00001ZVIW', 2.0),\n",
              " ('A1US87X5YUEQ7A', 'B00001QEMF', 5.0),\n",
              " ('A3XNTYRDE0MFI', 'B00003ZDJH', 5.0),\n",
              " ('AN30G4IKL1BMZ', 'B00000J4L8', 5.0),\n",
              " ('ACCUPJZUVRNT1', 'B00000K2ZO', 1.0)]"
            ]
          },
          "metadata": {},
          "execution_count": 73
        }
      ]
    }
  ]
}