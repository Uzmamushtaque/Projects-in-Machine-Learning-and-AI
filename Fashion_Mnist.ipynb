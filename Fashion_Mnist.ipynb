{
  "nbformat": 4,
  "nbformat_minor": 0,
  "metadata": {
    "colab": {
      "provenance": [],
      "authorship_tag": "ABX9TyNFpIfhoPOrQmN9KRyaI+Oc",
      "include_colab_link": true
    },
    "kernelspec": {
      "name": "python3",
      "display_name": "Python 3"
    },
    "language_info": {
      "name": "python"
    }
  },
  "cells": [
    {
      "cell_type": "markdown",
      "metadata": {
        "id": "view-in-github",
        "colab_type": "text"
      },
      "source": [
        "<a href=\"https://colab.research.google.com/github/Uzmamushtaque/Projects-in-Machine-Learning-and-AI/blob/main/Fashion_Mnist.ipynb\" target=\"_parent\"><img src=\"https://colab.research.google.com/assets/colab-badge.svg\" alt=\"Open In Colab\"/></a>"
      ]
    },
    {
      "cell_type": "markdown",
      "source": [
        "## GAN Training for Fashion MNIST"
      ],
      "metadata": {
        "id": "J0EXd0Sxf8rq"
      }
    },
    {
      "cell_type": "code",
      "source": [
        "import torch\n",
        "import torch.nn as nn\n",
        "from torch.utils.data import Dataset\n",
        "\n",
        "import pandas, numpy, random\n",
        "import matplotlib.pyplot as plt\n",
        "\n",
        "# dataset class\n",
        "\n",
        "class FMnistDataset(Dataset):\n",
        "\n",
        "    def __init__(self, csv_file):\n",
        "        self.data_df = pandas.read_csv(csv_file, header=0)\n",
        "\n",
        "    def __len__(self):\n",
        "        return len(self.data_df)\n",
        "\n",
        "    def __getitem__(self, index):\n",
        "        # image target (label)\n",
        "        label = self.data_df.iloc[index,0]\n",
        "        target = torch.zeros((10))\n",
        "        target[label] = 1.0\n",
        "\n",
        "        # image data, normalised from 0-255 to 0-1\n",
        "        image_values = torch.FloatTensor(self.data_df.iloc[index,1:].values) / 255.0\n",
        "\n",
        "        # return label, image data tensor and target tensor\n",
        "        return label, image_values, target\n",
        "\n",
        "    def plot_image(self, index):\n",
        "        img = self.data_df.iloc[index,1:].values.reshape(28,28)\n",
        "        plt.title(\"label = \" + str(self.data_df.iloc[index,0]))\n",
        "        plt.imshow(img, interpolation='none', cmap='Blues')\n",
        "\n",
        "\n",
        ""
      ],
      "metadata": {
        "id": "m3mdhfK2gDlk"
      },
      "execution_count": 1,
      "outputs": []
    },
    {
      "cell_type": "code",
      "source": [
        "# load data\n",
        "fmnist_dataset = FMnistDataset('/content/fashion-mnist_train.csv')\n"
      ],
      "metadata": {
        "id": "7P-_Q_ynmf2X"
      },
      "execution_count": 4,
      "outputs": []
    },
    {
      "cell_type": "code",
      "source": [
        "import pandas as pd\n",
        "\n",
        "class Discriminator(nn.Module):\n",
        "  def __init__(self):\n",
        "        # initialise parent pytorch class\n",
        "        super().__init__()\n",
        "        self.model = nn.Sequential(\n",
        "            nn.Linear(784,200),\n",
        "            nn.LeakyReLU(0.02),\n",
        "            nn.LayerNorm(200),\n",
        "            nn.Linear(200,1),\n",
        "            nn.Sigmoid()\n",
        "        )\n",
        "        self.loss_function = nn.BCELoss()\n",
        "        self.optimiser = torch.optim.Adam(self.parameters(),lr = 0.0001)\n",
        "        self.counter = 0\n",
        "        self.progress = []\n",
        "\n",
        "  def forward(self,inputs):\n",
        "    return self.model(inputs)\n",
        "\n",
        "  def train(self,inputs,target):\n",
        "    #calculate output of the network\n",
        "    output = self.forward(inputs)\n",
        "    #calculate loss\n",
        "    loss = self.loss_function(output,target)\n",
        "\n",
        "    # increase counter and accumulate error every 10\n",
        "    self.counter += 1;\n",
        "    if (self.counter % 10 == 0):\n",
        "        self.progress.append(loss.item())\n",
        "\n",
        "    if (self.counter % 10000 == 0):\n",
        "        print(\"counter = \", self.counter)\n",
        "    self.optimiser.zero_grad()\n",
        "    loss.backward()\n",
        "    self.optimiser.step()\n",
        "  def plot_progress(self):\n",
        "    df = pd.DataFrame(self.progress, columns=['loss'])\n",
        "    df.plot(ylim=(0), figsize=(16,8), alpha=0.1, marker='.', grid=True, yticks=(0, 0.25, 0.5, 1.0, 5.0))\n",
        "\n",
        "\n",
        ""
      ],
      "metadata": {
        "id": "BYyALpZ7gi9N"
      },
      "execution_count": 2,
      "outputs": []
    },
    {
      "cell_type": "code",
      "source": [
        "#test the discriminator\n",
        "def generate_random(size):\n",
        "  random_data = torch.rand(size)\n",
        "  return random_data\n",
        "print(generate_random(12))"
      ],
      "metadata": {
        "colab": {
          "base_uri": "https://localhost:8080/"
        },
        "id": "z4CHrw1XlkPu",
        "outputId": "6313897b-2d51-4e8d-fe08-477f5ef569be"
      },
      "execution_count": 3,
      "outputs": [
        {
          "output_type": "stream",
          "name": "stdout",
          "text": [
            "tensor([0.4764, 0.0084, 0.9515, 0.9792, 0.8272, 0.9724, 0.8115, 0.2133, 0.2193,\n",
            "        0.7311, 0.4387, 0.3241])\n"
          ]
        }
      ]
    },
    {
      "cell_type": "code",
      "source": [
        "%%time\n",
        "D = Discriminator()\n",
        "\n",
        "for label, image_data_tensor, target_tensor in fmnist_dataset:\n",
        "    # real data\n",
        "    D.train(image_data_tensor, torch.FloatTensor([1.0]))\n",
        "    # fake data\n",
        "    D.train(generate_random(784), torch.FloatTensor([0.0]))"
      ],
      "metadata": {
        "colab": {
          "base_uri": "https://localhost:8080/"
        },
        "id": "da1pUinPmK7M",
        "outputId": "c66489fc-b53b-49e7-949f-ff46e8bf5995"
      },
      "execution_count": 5,
      "outputs": [
        {
          "output_type": "stream",
          "name": "stdout",
          "text": [
            "counter =  10000\n",
            "counter =  20000\n",
            "counter =  30000\n",
            "counter =  40000\n",
            "counter =  50000\n",
            "counter =  60000\n",
            "counter =  70000\n",
            "counter =  80000\n",
            "counter =  90000\n",
            "counter =  100000\n",
            "counter =  110000\n",
            "counter =  120000\n",
            "CPU times: user 4min 47s, sys: 2.95 s, total: 4min 50s\n",
            "Wall time: 4min 53s\n"
          ]
        }
      ]
    },
    {
      "cell_type": "code",
      "source": [
        "# manually run discriminator to check it can tell real data from fake\n",
        "import random\n",
        "for i in range(4):\n",
        "  image_data_tensor = fmnist_dataset[random.randint(0,1000)][1]\n",
        "  print( D.forward( image_data_tensor ).item() )\n",
        "\n",
        "for i in range(4):\n",
        "\n",
        "  x =  D.forward( generate_random(784))\n",
        "  print(float(x[0]))"
      ],
      "metadata": {
        "colab": {
          "base_uri": "https://localhost:8080/"
        },
        "id": "0SKocIpqoUJ0",
        "outputId": "7f575016-f75d-41b2-bbc6-54f893cce735"
      },
      "execution_count": 6,
      "outputs": [
        {
          "output_type": "stream",
          "name": "stdout",
          "text": [
            "1.0\n",
            "1.0\n",
            "1.0\n",
            "1.0\n",
            "1.0391486560124008e-09\n",
            "3.845513907307918e-10\n",
            "2.842695523419536e-10\n",
            "5.945515746397234e-10\n"
          ]
        }
      ]
    },
    {
      "cell_type": "code",
      "source": [
        "# generator class\n",
        "class Generator(nn.Module):\n",
        "\n",
        "    def __init__(self):\n",
        "        # initialise parent pytorch class\n",
        "        super().__init__()\n",
        "\n",
        "        # define neural network layers\n",
        "        self.model = nn.Sequential(\n",
        "            nn.Linear(100, 200),\n",
        "            nn.LeakyReLU(0.02),\n",
        "\n",
        "            nn.LayerNorm(200),\n",
        "\n",
        "            nn.Linear(200, 784),\n",
        "            nn.Sigmoid()\n",
        "        )\n",
        "\n",
        "        # create optimiser, simple stochastic gradient descent\n",
        "        self.optimiser = torch.optim.Adam(self.parameters(), lr=0.0001)\n",
        "\n",
        "        # counter and accumulator for progress\n",
        "        self.counter = 0;\n",
        "        self.progress = []\n",
        "\n",
        "\n",
        "\n",
        "\n",
        "    def forward(self, inputs):\n",
        "        # simply run model\n",
        "        return self.model(inputs)\n",
        "\n",
        "\n",
        "    def train(self, D, inputs, targets):\n",
        "        # calculate the output of the network\n",
        "        g_output = self.forward(inputs)\n",
        "\n",
        "        # pass onto Discriminator\n",
        "        d_output = D.forward(g_output)\n",
        "\n",
        "        # calculate error\n",
        "        loss = D.loss_function(d_output, targets)\n",
        "\n",
        "        # increase counter and accumulate error every 10\n",
        "        self.counter += 1;\n",
        "        if (self.counter % 10 == 0):\n",
        "            self.progress.append(loss.item())\n",
        "\n",
        "\n",
        "        # zero gradients, perform a backward pass, update weights\n",
        "        self.optimiser.zero_grad()\n",
        "        loss.backward()\n",
        "        self.optimiser.step()\n",
        "\n",
        "\n",
        "\n",
        "\n",
        "    def plot_progress(self):\n",
        "        df = pandas.DataFrame(self.progress, columns=['loss'])\n",
        "        df.plot(ylim=(0), figsize=(16,8), alpha=0.1, marker='.', grid=True, yticks=(0, 0.25, 0.5, 1.0, 5.0))\n",
        "\n",
        "\n",
        ""
      ],
      "metadata": {
        "id": "eoN3fc7YoZ2C"
      },
      "execution_count": 12,
      "outputs": []
    },
    {
      "cell_type": "code",
      "source": [
        "G = Generator()\n",
        "output = G.forward(generate_random(100))\n",
        "img = output.detach().numpy().reshape(28,28)\n",
        "plt.imshow(img, interpolation='none', cmap='Blues')\n",
        "\n",
        "\n"
      ],
      "metadata": {
        "colab": {
          "base_uri": "https://localhost:8080/",
          "height": 447
        },
        "id": "xpmvQdgOqMIi",
        "outputId": "421bea2f-6976-446c-c768-b85fa52341bc"
      },
      "execution_count": 14,
      "outputs": [
        {
          "output_type": "execute_result",
          "data": {
            "text/plain": [
              "<matplotlib.image.AxesImage at 0x78e2ef689720>"
            ]
          },
          "metadata": {},
          "execution_count": 14
        },
        {
          "output_type": "display_data",
          "data": {
            "text/plain": [
              "<Figure size 640x480 with 1 Axes>"
            ],
            "image/png": "[encoded data removed]"
          },
          "metadata": {}
        }
      ]
    },
    {
      "cell_type": "code",
      "source": [
        "def generate_random_image(size):\n",
        "    random_data = torch.rand(size)\n",
        "    return random_data\n",
        "\n",
        "\n",
        "def generate_random_seed(size):\n",
        "    random_data = torch.randn(size)\n",
        "    return random_data"
      ],
      "metadata": {
        "id": "80sREU9OrHM5"
      },
      "execution_count": 15,
      "outputs": []
    },
    {
      "cell_type": "code",
      "source": [
        "# create Discriminator and Generator\n",
        "\n",
        "D = Discriminator()\n",
        "G = Generator()\n",
        "\n",
        "epochs = 4\n",
        "\n",
        "for epoch in range(epochs):\n",
        "  print (\"epoch = \", epoch + 1)\n",
        "  # train Discriminator and Generator\n",
        "  for label, image_data_tensor, target_tensor in fmnist_dataset:\n",
        "    # train discriminator on true\n",
        "    D.train(image_data_tensor, torch.FloatTensor([1.0]))\n",
        "\n",
        "    # train discriminator on false\n",
        "    # use detach() so gradients in G are not calculated\n",
        "    D.train(G.forward(generate_random_seed(100)).detach(), torch.FloatTensor([0.0]))\n",
        "\n",
        "    # train generator\n",
        "    G.train(D, generate_random_seed(100), torch.FloatTensor([1.0]))\n",
        "\n",
        "\n",
        "\n",
        "\n",
        "\n"
      ],
      "metadata": {
        "colab": {
          "base_uri": "https://localhost:8080/"
        },
        "id": "cAPWIDn0rQnX",
        "outputId": "ecbfb767-3a5b-415d-aa43-ab998f0f5add"
      },
      "execution_count": 16,
      "outputs": [
        {
          "output_type": "stream",
          "name": "stdout",
          "text": [
            "epoch =  1\n",
            "counter =  10000\n",
            "counter =  20000\n",
            "counter =  30000\n",
            "counter =  40000\n",
            "counter =  50000\n",
            "counter =  60000\n",
            "counter =  70000\n",
            "counter =  80000\n",
            "counter =  90000\n",
            "counter =  100000\n",
            "counter =  110000\n",
            "counter =  120000\n",
            "epoch =  2\n",
            "counter =  130000\n",
            "counter =  140000\n",
            "counter =  150000\n",
            "counter =  160000\n",
            "counter =  170000\n",
            "counter =  180000\n",
            "counter =  190000\n",
            "counter =  200000\n",
            "counter =  210000\n",
            "counter =  220000\n",
            "counter =  230000\n",
            "counter =  240000\n",
            "epoch =  3\n",
            "counter =  250000\n",
            "counter =  260000\n",
            "counter =  270000\n",
            "counter =  280000\n",
            "counter =  290000\n",
            "counter =  300000\n",
            "counter =  310000\n",
            "counter =  320000\n",
            "counter =  330000\n",
            "counter =  340000\n",
            "counter =  350000\n",
            "counter =  360000\n",
            "epoch =  4\n",
            "counter =  370000\n",
            "counter =  380000\n",
            "counter =  390000\n",
            "counter =  400000\n",
            "counter =  410000\n",
            "counter =  420000\n",
            "counter =  430000\n",
            "counter =  440000\n",
            "counter =  450000\n",
            "counter =  460000\n",
            "counter =  470000\n",
            "counter =  480000\n"
          ]
        }
      ]
    },
    {
      "cell_type": "code",
      "source": [
        "# plot several outputs from the trained generator\n",
        "# plot a 3 column, 2 row array of generated images\n",
        "f, axarr = plt.subplots(2,3, figsize=(16,8))\n",
        "for i in range(2):\n",
        "    for j in range(3):\n",
        "        output = G.forward(generate_random_seed(100))\n",
        "        img = output.detach().numpy().reshape(28,28)\n",
        "        axarr[i,j].imshow(img, interpolation='none', cmap='Blues')\n",
        "\n"
      ],
      "metadata": {
        "colab": {
          "base_uri": "https://localhost:8080/",
          "height": 487
        },
        "id": "aCwDqdPOraCP",
        "outputId": "17507ecc-dfab-46df-c0dc-2c856d792da0"
      },
      "execution_count": 17,
      "outputs": [
        {
          "output_type": "display_data",
          "data": {
            "text/plain": [
              "<Figure size 1600x800 with 6 Axes>"
            ],
            "image/png": "[encoded data removed]"
          },
          "metadata": {}
        }
      ]
    }
  ]
}