{
  "nbformat": 4,
  "nbformat_minor": 0,
  "metadata": {
    "colab": {
      "provenance": [],
      "collapsed_sections": [],
      "mount_file_id": "1pM6M0QEh17IyjN6OZkwR4gpMP1mK7G4U",
      "authorship_tag": "ABX9TyNkZ3Vqgn3dOnzRnGHV19aV",
      "include_colab_link": true
    },
    "kernelspec": {
      "name": "python3",
      "display_name": "Python 3"
    },
    "language_info": {
      "name": "python"
    }
  },
  "cells": [
    {
      "cell_type": "markdown",
      "metadata": {
        "id": "view-in-github",
        "colab_type": "text"
      },
      "source": [
        "<a href=\"https://colab.research.google.com/github/Uzmamushtaque/Projects-in-Machine-Learning-and-AI/blob/main/TimeSeriesForecasting.ipynb\" target=\"_parent\"><img src=\"https://colab.research.google.com/assets/colab-badge.svg\" alt=\"Open In Colab\"/></a>"
      ]
    },
    {
      "cell_type": "code",
      "execution_count": 17,
      "metadata": {
        "id": "GDYyEM-_yjqc"
      },
      "outputs": [],
      "source": [
        "import pandas as pd\n",
        "import seaborn as sns\n",
        "import numpy as np\n",
        "import matplotlib.pyplot as plt\n",
        "from statsmodels.tsa.arima.model import ARIMA\n",
        "from sklearn.model_selection import train_test_split\n",
        "from matplotlib import pyplot\n"
      ]
    },
    {
      "cell_type": "code",
      "source": [
        "data=pd.read_csv('/content/drive/MyDrive/tunnel.csv')"
      ],
      "metadata": {
        "id": "4OtRy0BwyrgW"
      },
      "execution_count": 2,
      "outputs": []
    },
    {
      "cell_type": "markdown",
      "source": [
        "# Implement and compare 3 models\n",
        "ARIMA\n",
        "\n",
        "Prophet\n",
        "\n",
        "LSTM\n",
        "\n",
        "Goal: To predict last 7 days of traffic volume."
      ],
      "metadata": {
        "id": "GwfbgiX-y8p8"
      }
    },
    {
      "cell_type": "code",
      "source": [
        "data.head()"
      ],
      "metadata": {
        "colab": {
          "base_uri": "https://localhost:8080/",
          "height": 206
        },
        "id": "BYVG2Kbvy6t1",
        "outputId": "38e53461-8bff-49b7-8925-a83864d9438a"
      },
      "execution_count": 3,
      "outputs": [
        {
          "output_type": "execute_result",
          "data": {
            "text/plain": [
              "          Day  NumVehicles\n",
              "0  2003-11-01       103536\n",
              "1  2003-11-02        92051\n",
              "2  2003-11-03       100795\n",
              "3  2003-11-04       102352\n",
              "4  2003-11-05       106569"
            ],
            "text/html": [
              "\n",
              "  <div id=\"df-e4d2f092-fe10-47e9-abf3-5ba07dcb8f9d\">\n",
              "    <div class=\"colab-df-container\">\n",
              "      <div>\n",
              "<style scoped>\n",
              "    .dataframe tbody tr th:only-of-type {\n",
              "        vertical-align: middle;\n",
              "    }\n",
              "\n",
              "    .dataframe tbody tr th {\n",
              "        vertical-align: top;\n",
              "    }\n",
              "\n",
              "    .dataframe thead th {\n",
              "        text-align: right;\n",
              "    }\n",
              "</style>\n",
              "<table border=\"1\" class=\"dataframe\">\n",
              "  <thead>\n",
              "    <tr style=\"text-align: right;\">\n",
              "      <th></th>\n",
              "      <th>Day</th>\n",
              "      <th>NumVehicles</th>\n",
              "    </tr>\n",
              "  </thead>\n",
              "  <tbody>\n",
              "    <tr>\n",
              "      <th>0</th>\n",
              "      <td>2003-11-01</td>\n",
              "      <td>103536</td>\n",
              "    </tr>\n",
              "    <tr>\n",
              "      <th>1</th>\n",
              "      <td>2003-11-02</td>\n",
              "      <td>92051</td>\n",
              "    </tr>\n",
              "    <tr>\n",
              "      <th>2</th>\n",
              "      <td>2003-11-03</td>\n",
              "      <td>100795</td>\n",
              "    </tr>\n",
              "    <tr>\n",
              "      <th>3</th>\n",
              "      <td>2003-11-04</td>\n",
              "      <td>102352</td>\n",
              "    </tr>\n",
              "    <tr>\n",
              "      <th>4</th>\n",
              "      <td>2003-11-05</td>\n",
              "      <td>106569</td>\n",
              "    </tr>\n",
              "  </tbody>\n",
              "</table>\n",
              "</div>\n",
              "      <button class=\"colab-df-convert\" onclick=\"convertToInteractive('df-e4d2f092-fe10-47e9-abf3-5ba07dcb8f9d')\"\n",
              "              title=\"Convert this dataframe to an interactive table.\"\n",
              "              style=\"display:none;\">\n",
              "        \n",
              "  <svg xmlns=\"http://www.w3.org/2000/svg\" height=\"24px\"viewBox=\"0 0 24 24\"\n",
              "       width=\"24px\">\n",
              "    <path d=\"M0 0h24v24H0V0z\" fill=\"none\"/>\n",
              "    <path d=\"M18.56 5.44l.94 2.06.94-2.06 2.06-.94-2.06-.94-.94-2.06-.94 2.06-2.06.94zm-11 1L8.5 8.5l.94-2.06 2.06-.94-2.06-.94L8.5 2.5l-.94 2.06-2.06.94zm10 10l.94 2.06.94-2.06 2.06-.94-2.06-.94-.94-2.06-.94 2.06-2.06.94z\"/><path d=\"M17.41 7.96l-1.37-1.37c-.4-.4-.92-.59-1.43-.59-.52 0-1.04.2-1.43.59L10.3 9.45l-7.72 7.72c-.78.78-.78 2.05 0 2.83L4 21.41c.39.39.9.59 1.41.59.51 0 1.02-.2 1.41-.59l7.78-7.78 2.81-2.81c.8-.78.8-2.07 0-2.86zM5.41 20L4 18.59l7.72-7.72 1.47 1.35L5.41 20z\"/>\n",
              "  </svg>\n",
              "      </button>\n",
              "      \n",
              "  <style>\n",
              "    .colab-df-container {\n",
              "      display:flex;\n",
              "      flex-wrap:wrap;\n",
              "      gap: 12px;\n",
              "    }\n",
              "\n",
              "    .colab-df-convert {\n",
              "      background-color: #E8F0FE;\n",
              "      border: none;\n",
              "      border-radius: 50%;\n",
              "      cursor: pointer;\n",
              "      display: none;\n",
              "      fill: #1967D2;\n",
              "      height: 32px;\n",
              "      padding: 0 0 0 0;\n",
              "      width: 32px;\n",
              "    }\n",
              "\n",
              "    .colab-df-convert:hover {\n",
              "      background-color: #E2EBFA;\n",
              "      box-shadow: 0px 1px 2px rgba(60, 64, 67, 0.3), 0px 1px 3px 1px rgba(60, 64, 67, 0.15);\n",
              "      fill: #174EA6;\n",
              "    }\n",
              "\n",
              "    [theme=dark] .colab-df-convert {\n",
              "      background-color: #3B4455;\n",
              "      fill: #D2E3FC;\n",
              "    }\n",
              "\n",
              "    [theme=dark] .colab-df-convert:hover {\n",
              "      background-color: #434B5C;\n",
              "      box-shadow: 0px 1px 3px 1px rgba(0, 0, 0, 0.15);\n",
              "      filter: drop-shadow(0px 1px 2px rgba(0, 0, 0, 0.3));\n",
              "      fill: #FFFFFF;\n",
              "    }\n",
              "  </style>\n",
              "\n",
              "      <script>\n",
              "        const buttonEl =\n",
              "          document.querySelector('#df-e4d2f092-fe10-47e9-abf3-5ba07dcb8f9d button.colab-df-convert');\n",
              "        buttonEl.style.display =\n",
              "          google.colab.kernel.accessAllowed ? 'block' : 'none';\n",
              "\n",
              "        async function convertToInteractive(key) {\n",
              "          const element = document.querySelector('#df-e4d2f092-fe10-47e9-abf3-5ba07dcb8f9d');\n",
              "          const dataTable =\n",
              "            await google.colab.kernel.invokeFunction('convertToInteractive',\n",
              "                                                     [key], {});\n",
              "          if (!dataTable) return;\n",
              "\n",
              "          const docLinkHtml = 'Like what you see? Visit the ' +\n",
              "            '<a target=\"_blank\" href=https://colab.research.google.com/notebooks/data_table.ipynb>data table notebook</a>'\n",
              "            + ' to learn more about interactive tables.';\n",
              "          element.innerHTML = '';\n",
              "          dataTable['output_type'] = 'display_data';\n",
              "          await google.colab.output.renderOutput(dataTable, element);\n",
              "          const docLink = document.createElement('div');\n",
              "          docLink.innerHTML = docLinkHtml;\n",
              "          element.appendChild(docLink);\n",
              "        }\n",
              "      </script>\n",
              "    </div>\n",
              "  </div>\n",
              "  "
            ]
          },
          "metadata": {},
          "execution_count": 3
        }
      ]
    },
    {
      "cell_type": "code",
      "source": [
        "figsize=(20,6)\n",
        "sns.lineplot(data=data['NumVehicles'])\n",
        "\n",
        "plt.show()"
      ],
      "metadata": {
        "colab": {
          "base_uri": "https://localhost:8080/",
          "height": 265
        },
        "id": "pw5tw9oWzl6c",
        "outputId": "7a166c88-c740-4f0f-9f01-3a8e11212f70"
      },
      "execution_count": 4,
      "outputs": [
        {
          "output_type": "display_data",
          "data": {
            "text/plain": [
              "<Figure size 432x288 with 1 Axes>"
            ],
            "image/png": "[encoded data removed]"
          },
          "metadata": {
            "needs_background": "light"
          }
        }
      ]
    },
    {
      "cell_type": "code",
      "source": [
        "data.describe()"
      ],
      "metadata": {
        "colab": {
          "base_uri": "https://localhost:8080/",
          "height": 300
        },
        "id": "fX6TJvAzKK9L",
        "outputId": "834cfab6-13c2-4a84-9b58-40d8be020ab8"
      },
      "execution_count": 5,
      "outputs": [
        {
          "output_type": "execute_result",
          "data": {
            "text/plain": [
              "        NumVehicles\n",
              "count     747.00000\n",
              "mean   106567.75502\n",
              "std     12456.35049\n",
              "min     53098.00000\n",
              "25%     98794.00000\n",
              "50%    108204.00000\n",
              "75%    115477.00000\n",
              "max    139840.00000"
            ],
            "text/html": [
              "\n",
              "  <div id=\"df-cebb1518-2cdb-4796-8b1c-104cc9bfaf24\">\n",
              "    <div class=\"colab-df-container\">\n",
              "      <div>\n",
              "<style scoped>\n",
              "    .dataframe tbody tr th:only-of-type {\n",
              "        vertical-align: middle;\n",
              "    }\n",
              "\n",
              "    .dataframe tbody tr th {\n",
              "        vertical-align: top;\n",
              "    }\n",
              "\n",
              "    .dataframe thead th {\n",
              "        text-align: right;\n",
              "    }\n",
              "</style>\n",
              "<table border=\"1\" class=\"dataframe\">\n",
              "  <thead>\n",
              "    <tr style=\"text-align: right;\">\n",
              "      <th></th>\n",
              "      <th>NumVehicles</th>\n",
              "    </tr>\n",
              "  </thead>\n",
              "  <tbody>\n",
              "    <tr>\n",
              "      <th>count</th>\n",
              "      <td>747.00000</td>\n",
              "    </tr>\n",
              "    <tr>\n",
              "      <th>mean</th>\n",
              "      <td>106567.75502</td>\n",
              "    </tr>\n",
              "    <tr>\n",
              "      <th>std</th>\n",
              "      <td>12456.35049</td>\n",
              "    </tr>\n",
              "    <tr>\n",
              "      <th>min</th>\n",
              "      <td>53098.00000</td>\n",
              "    </tr>\n",
              "    <tr>\n",
              "      <th>25%</th>\n",
              "      <td>98794.00000</td>\n",
              "    </tr>\n",
              "    <tr>\n",
              "      <th>50%</th>\n",
              "      <td>108204.00000</td>\n",
              "    </tr>\n",
              "    <tr>\n",
              "      <th>75%</th>\n",
              "      <td>115477.00000</td>\n",
              "    </tr>\n",
              "    <tr>\n",
              "      <th>max</th>\n",
              "      <td>139840.00000</td>\n",
              "    </tr>\n",
              "  </tbody>\n",
              "</table>\n",
              "</div>\n",
              "      <button class=\"colab-df-convert\" onclick=\"convertToInteractive('df-cebb1518-2cdb-4796-8b1c-104cc9bfaf24')\"\n",
              "              title=\"Convert this dataframe to an interactive table.\"\n",
              "              style=\"display:none;\">\n",
              "        \n",
              "  <svg xmlns=\"http://www.w3.org/2000/svg\" height=\"24px\"viewBox=\"0 0 24 24\"\n",
              "       width=\"24px\">\n",
              "    <path d=\"M0 0h24v24H0V0z\" fill=\"none\"/>\n",
              "    <path d=\"M18.56 5.44l.94 2.06.94-2.06 2.06-.94-2.06-.94-.94-2.06-.94 2.06-2.06.94zm-11 1L8.5 8.5l.94-2.06 2.06-.94-2.06-.94L8.5 2.5l-.94 2.06-2.06.94zm10 10l.94 2.06.94-2.06 2.06-.94-2.06-.94-.94-2.06-.94 2.06-2.06.94z\"/><path d=\"M17.41 7.96l-1.37-1.37c-.4-.4-.92-.59-1.43-.59-.52 0-1.04.2-1.43.59L10.3 9.45l-7.72 7.72c-.78.78-.78 2.05 0 2.83L4 21.41c.39.39.9.59 1.41.59.51 0 1.02-.2 1.41-.59l7.78-7.78 2.81-2.81c.8-.78.8-2.07 0-2.86zM5.41 20L4 18.59l7.72-7.72 1.47 1.35L5.41 20z\"/>\n",
              "  </svg>\n",
              "      </button>\n",
              "      \n",
              "  <style>\n",
              "    .colab-df-container {\n",
              "      display:flex;\n",
              "      flex-wrap:wrap;\n",
              "      gap: 12px;\n",
              "    }\n",
              "\n",
              "    .colab-df-convert {\n",
              "      background-color: #E8F0FE;\n",
              "      border: none;\n",
              "      border-radius: 50%;\n",
              "      cursor: pointer;\n",
              "      display: none;\n",
              "      fill: #1967D2;\n",
              "      height: 32px;\n",
              "      padding: 0 0 0 0;\n",
              "      width: 32px;\n",
              "    }\n",
              "\n",
              "    .colab-df-convert:hover {\n",
              "      background-color: #E2EBFA;\n",
              "      box-shadow: 0px 1px 2px rgba(60, 64, 67, 0.3), 0px 1px 3px 1px rgba(60, 64, 67, 0.15);\n",
              "      fill: #174EA6;\n",
              "    }\n",
              "\n",
              "    [theme=dark] .colab-df-convert {\n",
              "      background-color: #3B4455;\n",
              "      fill: #D2E3FC;\n",
              "    }\n",
              "\n",
              "    [theme=dark] .colab-df-convert:hover {\n",
              "      background-color: #434B5C;\n",
              "      box-shadow: 0px 1px 3px 1px rgba(0, 0, 0, 0.15);\n",
              "      filter: drop-shadow(0px 1px 2px rgba(0, 0, 0, 0.3));\n",
              "      fill: #FFFFFF;\n",
              "    }\n",
              "  </style>\n",
              "\n",
              "      <script>\n",
              "        const buttonEl =\n",
              "          document.querySelector('#df-cebb1518-2cdb-4796-8b1c-104cc9bfaf24 button.colab-df-convert');\n",
              "        buttonEl.style.display =\n",
              "          google.colab.kernel.accessAllowed ? 'block' : 'none';\n",
              "\n",
              "        async function convertToInteractive(key) {\n",
              "          const element = document.querySelector('#df-cebb1518-2cdb-4796-8b1c-104cc9bfaf24');\n",
              "          const dataTable =\n",
              "            await google.colab.kernel.invokeFunction('convertToInteractive',\n",
              "                                                     [key], {});\n",
              "          if (!dataTable) return;\n",
              "\n",
              "          const docLinkHtml = 'Like what you see? Visit the ' +\n",
              "            '<a target=\"_blank\" href=https://colab.research.google.com/notebooks/data_table.ipynb>data table notebook</a>'\n",
              "            + ' to learn more about interactive tables.';\n",
              "          element.innerHTML = '';\n",
              "          dataTable['output_type'] = 'display_data';\n",
              "          await google.colab.output.renderOutput(dataTable, element);\n",
              "          const docLink = document.createElement('div');\n",
              "          docLink.innerHTML = docLinkHtml;\n",
              "          element.appendChild(docLink);\n",
              "        }\n",
              "      </script>\n",
              "    </div>\n",
              "  </div>\n",
              "  "
            ]
          },
          "metadata": {},
          "execution_count": 5
        }
      ]
    },
    {
      "cell_type": "code",
      "source": [
        "data.isna().sum()"
      ],
      "metadata": {
        "colab": {
          "base_uri": "https://localhost:8080/"
        },
        "id": "cOTuNWi1JSe_",
        "outputId": "6c22aea9-3f49-4e65-b2e9-06ebdd2a4fdc"
      },
      "execution_count": 6,
      "outputs": [
        {
          "output_type": "execute_result",
          "data": {
            "text/plain": [
              "Day            0\n",
              "NumVehicles    0\n",
              "dtype: int64"
            ]
          },
          "metadata": {},
          "execution_count": 6
        }
      ]
    },
    {
      "cell_type": "code",
      "source": [
        "ts=data.copy()\n",
        "ts.set_index('Day',inplace=True)\n",
        "size=int(len(ts)-7)"
      ],
      "metadata": {
        "id": "5BNGa7jM_Ze0"
      },
      "execution_count": 7,
      "outputs": []
    },
    {
      "cell_type": "code",
      "source": [
        "ts.head()"
      ],
      "metadata": {
        "colab": {
          "base_uri": "https://localhost:8080/",
          "height": 238
        },
        "id": "EU4uhBNqAam2",
        "outputId": "34965b3c-1f23-43e1-d9de-132045a0dff4"
      },
      "execution_count": 8,
      "outputs": [
        {
          "output_type": "execute_result",
          "data": {
            "text/plain": [
              "            NumVehicles\n",
              "Day                    \n",
              "2003-11-01       103536\n",
              "2003-11-02        92051\n",
              "2003-11-03       100795\n",
              "2003-11-04       102352\n",
              "2003-11-05       106569"
            ],
            "text/html": [
              "\n",
              "  <div id=\"df-24fa4ea1-a507-4dd2-acee-5156a7a4b72f\">\n",
              "    <div class=\"colab-df-container\">\n",
              "      <div>\n",
              "<style scoped>\n",
              "    .dataframe tbody tr th:only-of-type {\n",
              "        vertical-align: middle;\n",
              "    }\n",
              "\n",
              "    .dataframe tbody tr th {\n",
              "        vertical-align: top;\n",
              "    }\n",
              "\n",
              "    .dataframe thead th {\n",
              "        text-align: right;\n",
              "    }\n",
              "</style>\n",
              "<table border=\"1\" class=\"dataframe\">\n",
              "  <thead>\n",
              "    <tr style=\"text-align: right;\">\n",
              "      <th></th>\n",
              "      <th>NumVehicles</th>\n",
              "    </tr>\n",
              "    <tr>\n",
              "      <th>Day</th>\n",
              "      <th></th>\n",
              "    </tr>\n",
              "  </thead>\n",
              "  <tbody>\n",
              "    <tr>\n",
              "      <th>2003-11-01</th>\n",
              "      <td>103536</td>\n",
              "    </tr>\n",
              "    <tr>\n",
              "      <th>2003-11-02</th>\n",
              "      <td>92051</td>\n",
              "    </tr>\n",
              "    <tr>\n",
              "      <th>2003-11-03</th>\n",
              "      <td>100795</td>\n",
              "    </tr>\n",
              "    <tr>\n",
              "      <th>2003-11-04</th>\n",
              "      <td>102352</td>\n",
              "    </tr>\n",
              "    <tr>\n",
              "      <th>2003-11-05</th>\n",
              "      <td>106569</td>\n",
              "    </tr>\n",
              "  </tbody>\n",
              "</table>\n",
              "</div>\n",
              "      <button class=\"colab-df-convert\" onclick=\"convertToInteractive('df-24fa4ea1-a507-4dd2-acee-5156a7a4b72f')\"\n",
              "              title=\"Convert this dataframe to an interactive table.\"\n",
              "              style=\"display:none;\">\n",
              "        \n",
              "  <svg xmlns=\"http://www.w3.org/2000/svg\" height=\"24px\"viewBox=\"0 0 24 24\"\n",
              "       width=\"24px\">\n",
              "    <path d=\"M0 0h24v24H0V0z\" fill=\"none\"/>\n",
              "    <path d=\"M18.56 5.44l.94 2.06.94-2.06 2.06-.94-2.06-.94-.94-2.06-.94 2.06-2.06.94zm-11 1L8.5 8.5l.94-2.06 2.06-.94-2.06-.94L8.5 2.5l-.94 2.06-2.06.94zm10 10l.94 2.06.94-2.06 2.06-.94-2.06-.94-.94-2.06-.94 2.06-2.06.94z\"/><path d=\"M17.41 7.96l-1.37-1.37c-.4-.4-.92-.59-1.43-.59-.52 0-1.04.2-1.43.59L10.3 9.45l-7.72 7.72c-.78.78-.78 2.05 0 2.83L4 21.41c.39.39.9.59 1.41.59.51 0 1.02-.2 1.41-.59l7.78-7.78 2.81-2.81c.8-.78.8-2.07 0-2.86zM5.41 20L4 18.59l7.72-7.72 1.47 1.35L5.41 20z\"/>\n",
              "  </svg>\n",
              "      </button>\n",
              "      \n",
              "  <style>\n",
              "    .colab-df-container {\n",
              "      display:flex;\n",
              "      flex-wrap:wrap;\n",
              "      gap: 12px;\n",
              "    }\n",
              "\n",
              "    .colab-df-convert {\n",
              "      background-color: #E8F0FE;\n",
              "      border: none;\n",
              "      border-radius: 50%;\n",
              "      cursor: pointer;\n",
              "      display: none;\n",
              "      fill: #1967D2;\n",
              "      height: 32px;\n",
              "      padding: 0 0 0 0;\n",
              "      width: 32px;\n",
              "    }\n",
              "\n",
              "    .colab-df-convert:hover {\n",
              "      background-color: #E2EBFA;\n",
              "      box-shadow: 0px 1px 2px rgba(60, 64, 67, 0.3), 0px 1px 3px 1px rgba(60, 64, 67, 0.15);\n",
              "      fill: #174EA6;\n",
              "    }\n",
              "\n",
              "    [theme=dark] .colab-df-convert {\n",
              "      background-color: #3B4455;\n",
              "      fill: #D2E3FC;\n",
              "    }\n",
              "\n",
              "    [theme=dark] .colab-df-convert:hover {\n",
              "      background-color: #434B5C;\n",
              "      box-shadow: 0px 1px 3px 1px rgba(0, 0, 0, 0.15);\n",
              "      filter: drop-shadow(0px 1px 2px rgba(0, 0, 0, 0.3));\n",
              "      fill: #FFFFFF;\n",
              "    }\n",
              "  </style>\n",
              "\n",
              "      <script>\n",
              "        const buttonEl =\n",
              "          document.querySelector('#df-24fa4ea1-a507-4dd2-acee-5156a7a4b72f button.colab-df-convert');\n",
              "        buttonEl.style.display =\n",
              "          google.colab.kernel.accessAllowed ? 'block' : 'none';\n",
              "\n",
              "        async function convertToInteractive(key) {\n",
              "          const element = document.querySelector('#df-24fa4ea1-a507-4dd2-acee-5156a7a4b72f');\n",
              "          const dataTable =\n",
              "            await google.colab.kernel.invokeFunction('convertToInteractive',\n",
              "                                                     [key], {});\n",
              "          if (!dataTable) return;\n",
              "\n",
              "          const docLinkHtml = 'Like what you see? Visit the ' +\n",
              "            '<a target=\"_blank\" href=https://colab.research.google.com/notebooks/data_table.ipynb>data table notebook</a>'\n",
              "            + ' to learn more about interactive tables.';\n",
              "          element.innerHTML = '';\n",
              "          dataTable['output_type'] = 'display_data';\n",
              "          await google.colab.output.renderOutput(dataTable, element);\n",
              "          const docLink = document.createElement('div');\n",
              "          docLink.innerHTML = docLinkHtml;\n",
              "          element.appendChild(docLink);\n",
              "        }\n",
              "      </script>\n",
              "    </div>\n",
              "  </div>\n",
              "  "
            ]
          },
          "metadata": {},
          "execution_count": 8
        }
      ]
    },
    {
      "cell_type": "code",
      "source": [
        "train=ts.iloc[:size,:].values\n",
        "test=ts.iloc[size:,:].values"
      ],
      "metadata": {
        "id": "PX72WiHb_ru3"
      },
      "execution_count": 13,
      "outputs": []
    },
    {
      "cell_type": "markdown",
      "source": [
        "# ARIMA"
      ],
      "metadata": {
        "id": "fK_ojCq7AKCo"
      }
    },
    {
      "cell_type": "code",
      "source": [
        "t=data.reset_index()\n",
        "t=t['NumVehicles']\n",
        "n=len(t)-1\n",
        "z=np.arange(n)\n",
        "for i in range(1,n+1):\n",
        "  z[i-1]=t[i]-t[i-1]\n",
        "\n"
      ],
      "metadata": {
        "id": "NoDkBD7FAM9b"
      },
      "execution_count": 10,
      "outputs": []
    },
    {
      "cell_type": "code",
      "source": [
        "from statsmodels.tsa.arima.model import ARIMA\n",
        "from statsmodels.graphics.tsaplots import plot_acf,plot_pacf\n",
        "plot_acf(z, lags=12)\n",
        "plot_pacf(z, lags=12)"
      ],
      "metadata": {
        "colab": {
          "base_uri": "https://localhost:8080/",
          "height": 809
        },
        "id": "Edc9Da0uClqv",
        "outputId": "a243ad01-c280-4d76-8eaa-8e430ffe00cd"
      },
      "execution_count": 11,
      "outputs": [
        {
          "output_type": "execute_result",
          "data": {
            "text/plain": [
              "<Figure size 432x288 with 1 Axes>"
            ],
            "image/png": "[encoded data removed]"
          },
          "metadata": {},
          "execution_count": 11
        },
        {
          "output_type": "display_data",
          "data": {
            "text/plain": [
              "<Figure size 432x288 with 1 Axes>"
            ],
            "image/png": "[encoded data removed]"
          },
          "metadata": {
            "needs_background": "light"
          }
        },
        {
          "output_type": "display_data",
          "data": {
            "text/plain": [
              "<Figure size 432x288 with 1 Axes>"
            ],
            "image/png": "[encoded data removed]"
          },
          "metadata": {
            "needs_background": "light"
          }
        }
      ]
    },
    {
      "cell_type": "code",
      "source": [
        "from sklearn.metrics import mean_squared_error\n",
        "history = [x for x in train]\n",
        "predictions = list()\n",
        "\n",
        "for t in range(len(test)):\n",
        "   \n",
        "    model = ARIMA(history, order=(7,1,2))\n",
        "    model_fit = model.fit()\n",
        "    output = model_fit.forecast()\n",
        "    yhat = output[0]\n",
        "    predictions.append(yhat)\n",
        "    obs = test[t]\n",
        "    history.append(obs)\n",
        "   \n",
        "    #print('predicted=%f, expected=%f' % (yhat, obs))\n",
        "error = mean_squared_error(test, predictions)\n",
        "rmse = mean_squared_error(test, predictions)**0.5\n",
        "print('Test MSE: %.3f' % rmse)"
      ],
      "metadata": {
        "colab": {
          "base_uri": "https://localhost:8080/"
        },
        "id": "92hr3KMLDAf1",
        "outputId": "bd6cfeb8-0657-4124-d341-4aef668f6a3f"
      },
      "execution_count": 15,
      "outputs": [
        {
          "output_type": "stream",
          "name": "stdout",
          "text": [
            "Test MSE: 4030.644\n"
          ]
        }
      ]
    },
    {
      "cell_type": "code",
      "source": [
        "pyplot.plot(test, color = 'blue', label='test')   \n",
        "pyplot.plot(predictions, color='red', label='pred')\n",
        "pyplot.show()"
      ],
      "metadata": {
        "colab": {
          "base_uri": "https://localhost:8080/",
          "height": 265
        },
        "id": "1nBpTqhCD8kO",
        "outputId": "0914190f-e81b-4650-94d7-22613a984b11"
      },
      "execution_count": 18,
      "outputs": [
        {
          "output_type": "display_data",
          "data": {
            "text/plain": [
              "<Figure size 432x288 with 1 Axes>"
            ],
            "image/png": "[encoded data removed]"
          },
          "metadata": {
            "needs_background": "light"
          }
        }
      ]
    },
    {
      "cell_type": "code",
      "source": [
        "ts = data.reset_index()\n",
        "ts.rename(columns={'Day':'ds', 'NumVehicles':'y'}, inplace=True)\n",
        "\n",
        "df_train = ts.iloc[:size]\n",
        "df_predict = ts['ds'].to_frame() "
      ],
      "metadata": {
        "id": "wFZ8QQksEb_B"
      },
      "execution_count": 19,
      "outputs": []
    },
    {
      "cell_type": "code",
      "source": [
        "from prophet import Prophet"
      ],
      "metadata": {
        "id": "zgCgJWSJEp1T"
      },
      "execution_count": 22,
      "outputs": []
    },
    {
      "cell_type": "code",
      "source": [
        "\n",
        "model = Prophet()\n",
        "model.fit(df_train)\n",
        "predictions = model.predict(df_predict[size:])\n",
        "\n",
        "error = mean_squared_error(test, predictions.yhat)\n",
        "rmse = mean_squared_error(test, predictions.yhat)**0.5\n",
        "print('Test MSE: %.3f' % rmse)"
      ],
      "metadata": {
        "colab": {
          "base_uri": "https://localhost:8080/"
        },
        "id": "ekADmC5LEktA",
        "outputId": "b301e78b-ce35-4704-90d8-8df403349530"
      },
      "execution_count": 23,
      "outputs": [
        {
          "output_type": "stream",
          "name": "stderr",
          "text": [
            "INFO:prophet:Disabling daily seasonality. Run prophet with daily_seasonality=True to override this.\n"
          ]
        },
        {
          "output_type": "stream",
          "name": "stdout",
          "text": [
            "Test MSE: 2397.906\n"
          ]
        }
      ]
    },
    {
      "cell_type": "code",
      "source": [],
      "metadata": {
        "id": "RyXPp59-FMyF"
      },
      "execution_count": null,
      "outputs": []
    },
    {
      "cell_type": "code",
      "execution_count": 24,
      "metadata": {
        "id": "VUptCjQrDYBt",
        "outputId": "835914f2-0763-4433-83dc-fb3c5c6947f7",
        "colab": {
          "base_uri": "https://localhost:8080/",
          "height": 265
        }
      },
      "outputs": [
        {
          "output_type": "display_data",
          "data": {
            "text/plain": [
              "<Figure size 432x288 with 1 Axes>"
            ],
            "image/png": "[encoded data removed]"
          },
          "metadata": {
            "needs_background": "light"
          }
        }
      ],
      "source": [
        "pyplot.plot(test, color = 'blue', label='test')   \n",
        "pyplot.plot(predictions.yhat, color='red', label='pred')\n",
        "pyplot.show()"
      ]
    },
    {
      "cell_type": "code",
      "source": [
        "fig2 = model.plot_components(predictions)"
      ],
      "metadata": {
        "colab": {
          "base_uri": "https://localhost:8080/",
          "height": 657
        },
        "id": "xyC5d5YsFRzh",
        "outputId": "62cd93c4-5b0a-40a2-c10c-ce7b5dc5b3d1"
      },
      "execution_count": 25,
      "outputs": [
        {
          "output_type": "display_data",
          "data": {
            "text/plain": [
              "<Figure size 648x648 with 3 Axes>"
            ],
            "image/png": "[encoded data removed]"
          },
          "metadata": {}
        }
      ]
    },
    {
      "cell_type": "markdown",
      "source": [
        "# LSTM"
      ],
      "metadata": {
        "id": "QU2oJCAgFY3b"
      }
    },
    {
      "cell_type": "code",
      "source": [
        "from tensorflow.keras.models import Sequential\n",
        "from tensorflow.keras.layers import LSTM\n",
        "from tensorflow.keras.layers import Dense, Dropout\n",
        "from matplotlib import pyplot as plt\n",
        "from sklearn.preprocessing import StandardScaler\n",
        "import seaborn as sns"
      ],
      "metadata": {
        "id": "eD8cil5tFb9m"
      },
      "execution_count": 26,
      "outputs": []
    },
    {
      "cell_type": "code",
      "source": [
        "data.head()"
      ],
      "metadata": {
        "colab": {
          "base_uri": "https://localhost:8080/",
          "height": 206
        },
        "id": "koNRUem_Ftpi",
        "outputId": "a96f5b26-5b12-4bcf-94fd-90a5f2aac9bd"
      },
      "execution_count": 30,
      "outputs": [
        {
          "output_type": "execute_result",
          "data": {
            "text/plain": [
              "          Day  NumVehicles\n",
              "0  2003-11-01       103536\n",
              "1  2003-11-02        92051\n",
              "2  2003-11-03       100795\n",
              "3  2003-11-04       102352\n",
              "4  2003-11-05       106569"
            ],
            "text/html": [
              "\n",
              "  <div id=\"df-231ae95b-c376-4fad-9e94-27cb0bdc347c\">\n",
              "    <div class=\"colab-df-container\">\n",
              "      <div>\n",
              "<style scoped>\n",
              "    .dataframe tbody tr th:only-of-type {\n",
              "        vertical-align: middle;\n",
              "    }\n",
              "\n",
              "    .dataframe tbody tr th {\n",
              "        vertical-align: top;\n",
              "    }\n",
              "\n",
              "    .dataframe thead th {\n",
              "        text-align: right;\n",
              "    }\n",
              "</style>\n",
              "<table border=\"1\" class=\"dataframe\">\n",
              "  <thead>\n",
              "    <tr style=\"text-align: right;\">\n",
              "      <th></th>\n",
              "      <th>Day</th>\n",
              "      <th>NumVehicles</th>\n",
              "    </tr>\n",
              "  </thead>\n",
              "  <tbody>\n",
              "    <tr>\n",
              "      <th>0</th>\n",
              "      <td>2003-11-01</td>\n",
              "      <td>103536</td>\n",
              "    </tr>\n",
              "    <tr>\n",
              "      <th>1</th>\n",
              "      <td>2003-11-02</td>\n",
              "      <td>92051</td>\n",
              "    </tr>\n",
              "    <tr>\n",
              "      <th>2</th>\n",
              "      <td>2003-11-03</td>\n",
              "      <td>100795</td>\n",
              "    </tr>\n",
              "    <tr>\n",
              "      <th>3</th>\n",
              "      <td>2003-11-04</td>\n",
              "      <td>102352</td>\n",
              "    </tr>\n",
              "    <tr>\n",
              "      <th>4</th>\n",
              "      <td>2003-11-05</td>\n",
              "      <td>106569</td>\n",
              "    </tr>\n",
              "  </tbody>\n",
              "</table>\n",
              "</div>\n",
              "      <button class=\"colab-df-convert\" onclick=\"convertToInteractive('df-231ae95b-c376-4fad-9e94-27cb0bdc347c')\"\n",
              "              title=\"Convert this dataframe to an interactive table.\"\n",
              "              style=\"display:none;\">\n",
              "        \n",
              "  <svg xmlns=\"http://www.w3.org/2000/svg\" height=\"24px\"viewBox=\"0 0 24 24\"\n",
              "       width=\"24px\">\n",
              "    <path d=\"M0 0h24v24H0V0z\" fill=\"none\"/>\n",
              "    <path d=\"M18.56 5.44l.94 2.06.94-2.06 2.06-.94-2.06-.94-.94-2.06-.94 2.06-2.06.94zm-11 1L8.5 8.5l.94-2.06 2.06-.94-2.06-.94L8.5 2.5l-.94 2.06-2.06.94zm10 10l.94 2.06.94-2.06 2.06-.94-2.06-.94-.94-2.06-.94 2.06-2.06.94z\"/><path d=\"M17.41 7.96l-1.37-1.37c-.4-.4-.92-.59-1.43-.59-.52 0-1.04.2-1.43.59L10.3 9.45l-7.72 7.72c-.78.78-.78 2.05 0 2.83L4 21.41c.39.39.9.59 1.41.59.51 0 1.02-.2 1.41-.59l7.78-7.78 2.81-2.81c.8-.78.8-2.07 0-2.86zM5.41 20L4 18.59l7.72-7.72 1.47 1.35L5.41 20z\"/>\n",
              "  </svg>\n",
              "      </button>\n",
              "      \n",
              "  <style>\n",
              "    .colab-df-container {\n",
              "      display:flex;\n",
              "      flex-wrap:wrap;\n",
              "      gap: 12px;\n",
              "    }\n",
              "\n",
              "    .colab-df-convert {\n",
              "      background-color: #E8F0FE;\n",
              "      border: none;\n",
              "      border-radius: 50%;\n",
              "      cursor: pointer;\n",
              "      display: none;\n",
              "      fill: #1967D2;\n",
              "      height: 32px;\n",
              "      padding: 0 0 0 0;\n",
              "      width: 32px;\n",
              "    }\n",
              "\n",
              "    .colab-df-convert:hover {\n",
              "      background-color: #E2EBFA;\n",
              "      box-shadow: 0px 1px 2px rgba(60, 64, 67, 0.3), 0px 1px 3px 1px rgba(60, 64, 67, 0.15);\n",
              "      fill: #174EA6;\n",
              "    }\n",
              "\n",
              "    [theme=dark] .colab-df-convert {\n",
              "      background-color: #3B4455;\n",
              "      fill: #D2E3FC;\n",
              "    }\n",
              "\n",
              "    [theme=dark] .colab-df-convert:hover {\n",
              "      background-color: #434B5C;\n",
              "      box-shadow: 0px 1px 3px 1px rgba(0, 0, 0, 0.15);\n",
              "      filter: drop-shadow(0px 1px 2px rgba(0, 0, 0, 0.3));\n",
              "      fill: #FFFFFF;\n",
              "    }\n",
              "  </style>\n",
              "\n",
              "      <script>\n",
              "        const buttonEl =\n",
              "          document.querySelector('#df-231ae95b-c376-4fad-9e94-27cb0bdc347c button.colab-df-convert');\n",
              "        buttonEl.style.display =\n",
              "          google.colab.kernel.accessAllowed ? 'block' : 'none';\n",
              "\n",
              "        async function convertToInteractive(key) {\n",
              "          const element = document.querySelector('#df-231ae95b-c376-4fad-9e94-27cb0bdc347c');\n",
              "          const dataTable =\n",
              "            await google.colab.kernel.invokeFunction('convertToInteractive',\n",
              "                                                     [key], {});\n",
              "          if (!dataTable) return;\n",
              "\n",
              "          const docLinkHtml = 'Like what you see? Visit the ' +\n",
              "            '<a target=\"_blank\" href=https://colab.research.google.com/notebooks/data_table.ipynb>data table notebook</a>'\n",
              "            + ' to learn more about interactive tables.';\n",
              "          element.innerHTML = '';\n",
              "          dataTable['output_type'] = 'display_data';\n",
              "          await google.colab.output.renderOutput(dataTable, element);\n",
              "          const docLink = document.createElement('div');\n",
              "          docLink.innerHTML = docLinkHtml;\n",
              "          element.appendChild(docLink);\n",
              "        }\n",
              "      </script>\n",
              "    </div>\n",
              "  </div>\n",
              "  "
            ]
          },
          "metadata": {},
          "execution_count": 30
        }
      ]
    },
    {
      "cell_type": "code",
      "source": [
        "tunnel = pd.read_csv('/content/drive/MyDrive/tunnel.csv', parse_dates=[\"Day\"])\n"
      ],
      "metadata": {
        "id": "ZWUlt0TZGFDu"
      },
      "execution_count": 32,
      "outputs": []
    },
    {
      "cell_type": "code",
      "source": [
        "tunnel = tunnel.set_index(\"Day\").to_period()\n",
        "df_for_training = tunnel[['NumVehicles']].astype(float)\n",
        "scaler = StandardScaler()\n",
        "scaler = scaler.fit(tunnel)\n",
        "df_for_training_scaled = scaler.transform(tunnel)"
      ],
      "metadata": {
        "id": "WYwxT9AyMSoW"
      },
      "execution_count": 34,
      "outputs": []
    },
    {
      "cell_type": "code",
      "source": [
        "#Empty lists to be populated using formatted training data\n",
        "trainX = []\n",
        "trainY = []\n",
        "\n",
        "n_past = 14  # Number of past days we want to use to predict the future.\n",
        "n_future=7\n",
        "#Reformat input data into a shape: (n_samples x timesteps x n_features)\n",
        "\n",
        "for i in range(n_past, len(df_for_training_scaled) - n_future+1):\n",
        "    trainX.append(df_for_training_scaled[i - n_past:i])\n",
        "    trainY.append(df_for_training_scaled[i:i + n_future])\n",
        "trainX, trainY = np.array(trainX), np.array(trainY)\n",
        "\n",
        "print('trainX shape == {}.'.format(trainX.shape))\n",
        "print('trainY shape == {}.'.format(trainY.shape))"
      ],
      "metadata": {
        "colab": {
          "base_uri": "https://localhost:8080/"
        },
        "id": "OdCSzqXfMgeW",
        "outputId": "889fe91e-b686-438f-d944-f886477e9a0a"
      },
      "execution_count": 36,
      "outputs": [
        {
          "output_type": "stream",
          "name": "stdout",
          "text": [
            "trainX shape == (727, 14, 1).\n",
            "trainY shape == (727, 7, 1).\n"
          ]
        }
      ]
    },
    {
      "cell_type": "code",
      "source": [
        "model = Sequential()\n",
        "model.add(LSTM(128, activation='relu', input_shape=(trainX.shape[1], trainX.shape[2]), return_sequences=True))\n",
        "model.add(LSTM(32, activation='relu', return_sequences=False))\n",
        "model.add(Dropout(0.2))\n",
        "model.add(Dense(trainY.shape[1]))\n",
        "\n",
        "model.compile(optimizer='adam', loss='mse')\n",
        "model.summary()"
      ],
      "metadata": {
        "colab": {
          "base_uri": "https://localhost:8080/"
        },
        "id": "LYbN2yMWNIip",
        "outputId": "56aa42a1-b0e8-4a31-c3fa-61a46af6c655"
      },
      "execution_count": 37,
      "outputs": [
        {
          "output_type": "stream",
          "name": "stdout",
          "text": [
            "Model: \"sequential\"\n",
            "_________________________________________________________________\n",
            " Layer (type)                Output Shape              Param #   \n",
            "=================================================================\n",
            " lstm (LSTM)                 (None, 14, 128)           66560     \n",
            "                                                                 \n",
            " lstm_1 (LSTM)               (None, 32)                20608     \n",
            "                                                                 \n",
            " dropout (Dropout)           (None, 32)                0         \n",
            "                                                                 \n",
            " dense (Dense)               (None, 7)                 231       \n",
            "                                                                 \n",
            "=================================================================\n",
            "Total params: 87,399\n",
            "Trainable params: 87,399\n",
            "Non-trainable params: 0\n",
            "_________________________________________________________________\n"
          ]
        }
      ]
    },
    {
      "cell_type": "code",
      "source": [
        "history = model.fit(trainX[:-n_future,:], trainY[:-n_future,:], epochs=50, batch_size=14, validation_split=0.2, verbose=1)\n",
        "\n",
        "plt.plot(history.history['loss'], label='Training loss')\n",
        "plt.plot(history.history['val_loss'], label='Validation loss')\n",
        "plt.legend()\n"
      ],
      "metadata": {
        "colab": {
          "base_uri": "https://localhost:8080/",
          "height": 1000
        },
        "id": "UpfMdTuuNdtH",
        "outputId": "3d17a50f-a9a5-483b-e138-db4e3c90e935"
      },
      "execution_count": 38,
      "outputs": [
        {
          "output_type": "stream",
          "name": "stdout",
          "text": [
            "Epoch 1/50\n",
            "42/42 [==============================] - 5s 33ms/step - loss: 0.9464 - val_loss: 0.8751\n",
            "Epoch 2/50\n",
            "42/42 [==============================] - 1s 22ms/step - loss: 0.8658 - val_loss: 0.7858\n",
            "Epoch 3/50\n",
            "42/42 [==============================] - 1s 22ms/step - loss: 0.8245 - val_loss: 0.7600\n",
            "Epoch 4/50\n",
            "42/42 [==============================] - 1s 22ms/step - loss: 0.8109 - val_loss: 0.8209\n",
            "Epoch 5/50\n",
            "42/42 [==============================] - 1s 23ms/step - loss: 0.8027 - val_loss: 0.6923\n",
            "Epoch 6/50\n",
            "42/42 [==============================] - 1s 22ms/step - loss: 0.7597 - val_loss: 0.6108\n",
            "Epoch 7/50\n",
            "42/42 [==============================] - 1s 22ms/step - loss: 0.6937 - val_loss: 0.5362\n",
            "Epoch 8/50\n",
            "42/42 [==============================] - 1s 23ms/step - loss: 0.6342 - val_loss: 0.4614\n",
            "Epoch 9/50\n",
            "42/42 [==============================] - 1s 24ms/step - loss: 0.6268 - val_loss: 0.4391\n",
            "Epoch 10/50\n",
            "42/42 [==============================] - 1s 23ms/step - loss: 0.5899 - val_loss: 0.4023\n",
            "Epoch 11/50\n",
            "42/42 [==============================] - 1s 22ms/step - loss: 0.5610 - val_loss: 0.4105\n",
            "Epoch 12/50\n",
            "42/42 [==============================] - 1s 22ms/step - loss: 0.5501 - val_loss: 0.4408\n",
            "Epoch 13/50\n",
            "42/42 [==============================] - 1s 23ms/step - loss: 0.5228 - val_loss: 0.3474\n",
            "Epoch 14/50\n",
            "42/42 [==============================] - 1s 22ms/step - loss: 0.5175 - val_loss: 0.3842\n",
            "Epoch 15/50\n",
            "42/42 [==============================] - 1s 26ms/step - loss: 0.5170 - val_loss: 0.3597\n",
            "Epoch 16/50\n",
            "42/42 [==============================] - 1s 34ms/step - loss: 0.4935 - val_loss: 0.3510\n",
            "Epoch 17/50\n",
            "42/42 [==============================] - 1s 35ms/step - loss: 0.5020 - val_loss: 0.3357\n",
            "Epoch 18/50\n",
            "42/42 [==============================] - 1s 34ms/step - loss: 0.4734 - val_loss: 0.3184\n",
            "Epoch 19/50\n",
            "42/42 [==============================] - 1s 22ms/step - loss: 0.4705 - val_loss: 0.3164\n",
            "Epoch 20/50\n",
            "42/42 [==============================] - 1s 22ms/step - loss: 0.4545 - val_loss: 0.2880\n",
            "Epoch 21/50\n",
            "42/42 [==============================] - 1s 23ms/step - loss: 0.4619 - val_loss: 0.3320\n",
            "Epoch 22/50\n",
            "42/42 [==============================] - 1s 22ms/step - loss: 0.4413 - val_loss: 0.2994\n",
            "Epoch 23/50\n",
            "42/42 [==============================] - 1s 23ms/step - loss: 0.4262 - val_loss: 0.3205\n",
            "Epoch 24/50\n",
            "42/42 [==============================] - 1s 22ms/step - loss: 0.4581 - val_loss: 0.3534\n",
            "Epoch 25/50\n",
            "42/42 [==============================] - 1s 23ms/step - loss: 0.4247 - val_loss: 0.2839\n",
            "Epoch 26/50\n",
            "42/42 [==============================] - 1s 22ms/step - loss: 0.4259 - val_loss: 0.2952\n",
            "Epoch 27/50\n",
            "42/42 [==============================] - 1s 23ms/step - loss: 0.4082 - val_loss: 0.2640\n",
            "Epoch 28/50\n",
            "42/42 [==============================] - 1s 22ms/step - loss: 0.4200 - val_loss: 0.2943\n",
            "Epoch 29/50\n",
            "42/42 [==============================] - 1s 22ms/step - loss: 0.3923 - val_loss: 0.2781\n",
            "Epoch 30/50\n",
            "42/42 [==============================] - 1s 22ms/step - loss: 0.4122 - val_loss: 0.2508\n",
            "Epoch 31/50\n",
            "42/42 [==============================] - 1s 22ms/step - loss: 0.3861 - val_loss: 0.2451\n",
            "Epoch 32/50\n",
            "42/42 [==============================] - 2s 40ms/step - loss: 0.3855 - val_loss: 0.2812\n",
            "Epoch 33/50\n",
            "42/42 [==============================] - 2s 39ms/step - loss: 0.3781 - val_loss: 0.2678\n",
            "Epoch 34/50\n",
            "42/42 [==============================] - 1s 29ms/step - loss: 0.3829 - val_loss: 0.2544\n",
            "Epoch 35/50\n",
            "42/42 [==============================] - 1s 22ms/step - loss: 0.3731 - val_loss: 0.2806\n",
            "Epoch 36/50\n",
            "42/42 [==============================] - 1s 23ms/step - loss: 0.3814 - val_loss: 0.2879\n",
            "Epoch 37/50\n",
            "42/42 [==============================] - 1s 23ms/step - loss: 0.3608 - val_loss: 0.2406\n",
            "Epoch 38/50\n",
            "42/42 [==============================] - 1s 23ms/step - loss: 0.3609 - val_loss: 0.2800\n",
            "Epoch 39/50\n",
            "42/42 [==============================] - 1s 25ms/step - loss: 0.3592 - val_loss: 0.2710\n",
            "Epoch 40/50\n",
            "42/42 [==============================] - 1s 24ms/step - loss: 0.3548 - val_loss: 0.2708\n",
            "Epoch 41/50\n",
            "42/42 [==============================] - 1s 22ms/step - loss: 0.3374 - val_loss: 0.2882\n",
            "Epoch 42/50\n",
            "42/42 [==============================] - 1s 22ms/step - loss: 0.3584 - val_loss: 0.2460\n",
            "Epoch 43/50\n",
            "42/42 [==============================] - 1s 22ms/step - loss: 0.3265 - val_loss: 0.2619\n",
            "Epoch 44/50\n",
            "42/42 [==============================] - 1s 22ms/step - loss: 0.3315 - val_loss: 0.2510\n",
            "Epoch 45/50\n",
            "42/42 [==============================] - 1s 23ms/step - loss: 0.3182 - val_loss: 0.2755\n",
            "Epoch 46/50\n",
            "42/42 [==============================] - 1s 23ms/step - loss: 0.3343 - val_loss: 0.2532\n",
            "Epoch 47/50\n",
            "42/42 [==============================] - 1s 24ms/step - loss: 0.3360 - val_loss: 0.2968\n",
            "Epoch 48/50\n",
            "42/42 [==============================] - 1s 24ms/step - loss: 0.3215 - val_loss: 0.2825\n",
            "Epoch 49/50\n",
            "42/42 [==============================] - 1s 22ms/step - loss: 0.3368 - val_loss: 0.3105\n",
            "Epoch 50/50\n",
            "42/42 [==============================] - 1s 22ms/step - loss: 0.3204 - val_loss: 0.2802\n"
          ]
        },
        {
          "output_type": "execute_result",
          "data": {
            "text/plain": [
              "<matplotlib.legend.Legend at 0x7f5a0756db90>"
            ]
          },
          "metadata": {},
          "execution_count": 38
        },
        {
          "output_type": "display_data",
          "data": {
            "text/plain": [
              "<Figure size 432x288 with 1 Axes>"
            ],
            "image/png": "[encoded data removed]"
          },
          "metadata": {
            "needs_background": "light"
          }
        }
      ]
    },
    {
      "cell_type": "code",
      "source": [
        "#predict_period_dates = pd.date_range(list(train_dates)[0], periods=len(train_dates))\n",
        "train_dates = tunnel.index.to_timestamp()\n",
        "prediction = model.predict(trainX)\n",
        "y_pred_future = scaler.inverse_transform(prediction)[-1]\n",
        "\n",
        "error = mean_squared_error(test,y_pred_future)\n",
        "rmse = mean_squared_error(test, y_pred_future)**0.5\n",
        "print('Test MSE: %.3f' % rmse)"
      ],
      "metadata": {
        "colab": {
          "base_uri": "https://localhost:8080/"
        },
        "id": "oPiPKsJmNzmf",
        "outputId": "da88e2cd-7b97-4c68-f145-9acfe9b29920"
      },
      "execution_count": 39,
      "outputs": [
        {
          "output_type": "stream",
          "name": "stdout",
          "text": [
            "23/23 [==============================] - 1s 17ms/step\n",
            "Test MSE: 2345.925\n"
          ]
        }
      ]
    },
    {
      "cell_type": "code",
      "source": [
        "pyplot.plot(test, color = 'blue', label='test')   \n",
        "pyplot.plot(y_pred_future, color='red', label='pred')\n",
        "pyplot.show()"
      ],
      "metadata": {
        "colab": {
          "base_uri": "https://localhost:8080/",
          "height": 265
        },
        "id": "bRb9RVDeN32q",
        "outputId": "dd3c70b4-da6e-4018-c018-20dbd6bc7398"
      },
      "execution_count": 40,
      "outputs": [
        {
          "output_type": "display_data",
          "data": {
            "text/plain": [
              "<Figure size 432x288 with 1 Axes>"
            ],
            "image/png": "[encoded data removed]"
          },
          "metadata": {
            "needs_background": "light"
          }
        }
      ]
    }
  ]
}